{
 "cells": [
  {
   "cell_type": "markdown",
   "id": "46b17f3a-fc40-43d2-b026-798f26014493",
   "metadata": {},
   "source": [
    "# <center> News Classification with NLP and Neural Networks</center>"
   ]
  },
  {
   "cell_type": "markdown",
   "id": "fcb09f44-33f4-4938-aaa4-65c3df93b527",
   "metadata": {},
   "source": [
    "### Imports"
   ]
  },
  {
   "cell_type": "code",
   "execution_count": 2,
   "id": "a2a1634b-c53c-4c99-8e6e-f7759bd2856f",
   "metadata": {},
   "outputs": [],
   "source": [
    "import warnings\n",
    "import numpy as np\n",
    "import pandas as pd\n",
    "import plotly.express as px\n",
    "import tensorflow as tf\n",
    "from sklearn import preprocessing\n",
    "import plotly.graph_objects as go\n",
    "from nltk.tokenize import word_tokenize\n",
    "from sklearn.feature_extraction.text import TfidfVectorizer\n",
    "from nltk.stem import PorterStemmer\n",
    "from nltk.stem import WordNetLemmatizer\n",
    "import nltk\n",
    "import string\n",
    "from keras.utils.np_utils import to_categorical\n",
    "from nltk.corpus import stopwords\n",
    "from nltk.tokenize import RegexpTokenizer\n",
    "from nltk import word_tokenize, FreqDist\n",
    "from sklearn.feature_extraction.text import TfidfVectorizer\n",
    "from sklearn.naive_bayes import MultinomialNB\n",
    "from sklearn.model_selection import train_test_split\n",
    "from keras import models\n",
    "from keras import layers\n",
    "from keras import optimizers\n",
    "from keras.utils.np_utils import to_categorical\n",
    "from sklearn.feature_extraction.text import CountVectorizer\n",
    "from sklearn.metrics import accuracy_score, f1_score, precision_score, recall_score, classification_report\n",
    "warnings.filterwarnings('ignore')"
   ]
  },
  {
   "cell_type": "markdown",
   "id": "e3a02e18-a47b-4179-9c28-fb2bb93cc5d6",
   "metadata": {},
   "source": [
    "### Data\n",
    "- Import JSON file\n",
    "- Inspect"
   ]
  },
  {
   "cell_type": "code",
   "execution_count": 3,
   "id": "14ebb1ae-25d6-43d9-9510-54dd2e864b10",
   "metadata": {},
   "outputs": [
    {
     "name": "stdout",
     "output_type": "stream",
     "text": [
      "(200853, 6)\n"
     ]
    },
    {
     "data": {
      "text/html": [
       "<div>\n",
       "<style scoped>\n",
       "    .dataframe tbody tr th:only-of-type {\n",
       "        vertical-align: middle;\n",
       "    }\n",
       "\n",
       "    .dataframe tbody tr th {\n",
       "        vertical-align: top;\n",
       "    }\n",
       "\n",
       "    .dataframe thead th {\n",
       "        text-align: right;\n",
       "    }\n",
       "</style>\n",
       "<table border=\"1\" class=\"dataframe\">\n",
       "  <thead>\n",
       "    <tr style=\"text-align: right;\">\n",
       "      <th></th>\n",
       "      <th>category</th>\n",
       "      <th>headline</th>\n",
       "      <th>authors</th>\n",
       "      <th>link</th>\n",
       "      <th>short_description</th>\n",
       "      <th>date</th>\n",
       "    </tr>\n",
       "  </thead>\n",
       "  <tbody>\n",
       "    <tr>\n",
       "      <th>73681</th>\n",
       "      <td>BLACK VOICES</td>\n",
       "      <td>Misty Copeland Is Helping To Bring Dance Lesso...</td>\n",
       "      <td>Rahel Gebreyes</td>\n",
       "      <td>https://www.huffingtonpost.com/entry/misty-cop...</td>\n",
       "      <td>The dancer just returned from Kigali, Rwanda, ...</td>\n",
       "      <td>2015-11-26</td>\n",
       "    </tr>\n",
       "    <tr>\n",
       "      <th>184183</th>\n",
       "      <td>WELLNESS</td>\n",
       "      <td>A Life Well-Spent</td>\n",
       "      <td>Frank A. Weil, Contributor\\nContributor</td>\n",
       "      <td>https://www.huffingtonpost.com/entry/life-well...</td>\n",
       "      <td>The more people ultimately know about their op...</td>\n",
       "      <td>2012-07-25</td>\n",
       "    </tr>\n",
       "    <tr>\n",
       "      <th>62173</th>\n",
       "      <td>POLITICS</td>\n",
       "      <td>House Republicans Say Oil Spill Prevention Rul...</td>\n",
       "      <td></td>\n",
       "      <td>https://www.huffingtonpost.comhttp://thinkprog...</td>\n",
       "      <td>Almost five years after the 2010 Deepwater Hor...</td>\n",
       "      <td>2016-04-05</td>\n",
       "    </tr>\n",
       "    <tr>\n",
       "      <th>131697</th>\n",
       "      <td>PARENTING</td>\n",
       "      <td>Who Will Define Our Children?</td>\n",
       "      <td>Rosemary Strembicki, Contributor\\nParenting Co...</td>\n",
       "      <td>https://www.huffingtonpost.com/entry/who-will-...</td>\n",
       "      <td>Do we want them to be like us, or totally diff...</td>\n",
       "      <td>2014-02-04</td>\n",
       "    </tr>\n",
       "    <tr>\n",
       "      <th>165687</th>\n",
       "      <td>WELLNESS</td>\n",
       "      <td>Five Tips to Maintain Lifelong Friends</td>\n",
       "      <td>Lisa Firestone, Contributor\\nPsychology expert...</td>\n",
       "      <td>https://www.huffingtonpost.com/entry/friendshi...</td>\n",
       "      <td>Holding yourself to these five standards will ...</td>\n",
       "      <td>2013-02-09</td>\n",
       "    </tr>\n",
       "  </tbody>\n",
       "</table>\n",
       "</div>"
      ],
      "text/plain": [
       "            category                                           headline  \\\n",
       "73681   BLACK VOICES  Misty Copeland Is Helping To Bring Dance Lesso...   \n",
       "184183      WELLNESS                                  A Life Well-Spent   \n",
       "62173       POLITICS  House Republicans Say Oil Spill Prevention Rul...   \n",
       "131697     PARENTING                      Who Will Define Our Children?   \n",
       "165687      WELLNESS             Five Tips to Maintain Lifelong Friends   \n",
       "\n",
       "                                                  authors  \\\n",
       "73681                                      Rahel Gebreyes   \n",
       "184183            Frank A. Weil, Contributor\\nContributor   \n",
       "62173                                                       \n",
       "131697  Rosemary Strembicki, Contributor\\nParenting Co...   \n",
       "165687  Lisa Firestone, Contributor\\nPsychology expert...   \n",
       "\n",
       "                                                     link  \\\n",
       "73681   https://www.huffingtonpost.com/entry/misty-cop...   \n",
       "184183  https://www.huffingtonpost.com/entry/life-well...   \n",
       "62173   https://www.huffingtonpost.comhttp://thinkprog...   \n",
       "131697  https://www.huffingtonpost.com/entry/who-will-...   \n",
       "165687  https://www.huffingtonpost.com/entry/friendshi...   \n",
       "\n",
       "                                        short_description       date  \n",
       "73681   The dancer just returned from Kigali, Rwanda, ... 2015-11-26  \n",
       "184183  The more people ultimately know about their op... 2012-07-25  \n",
       "62173   Almost five years after the 2010 Deepwater Hor... 2016-04-05  \n",
       "131697  Do we want them to be like us, or totally diff... 2014-02-04  \n",
       "165687  Holding yourself to these five standards will ... 2013-02-09  "
      ]
     },
     "execution_count": 3,
     "metadata": {},
     "output_type": "execute_result"
    }
   ],
   "source": [
    "# Read in json file to DataFrame\n",
    "df = pd.read_json('News_Category_Dataset_v2.json', lines=True)\n",
    "\n",
    "# View Results\n",
    "print(df.shape)\n",
    "df.sample(5)"
   ]
  },
  {
   "cell_type": "markdown",
   "id": "8dd82dfc-6153-4f97-ad75-9007960b828b",
   "metadata": {},
   "source": [
    "# Cleaning"
   ]
  },
  {
   "cell_type": "markdown",
   "id": "601100b7-6574-403b-9df5-b7009c95b3af",
   "metadata": {},
   "source": [
    "#### Handle Duplicates"
   ]
  },
  {
   "cell_type": "code",
   "execution_count": 4,
   "id": "9ee4a10b-d5c2-4811-b945-5ebd596a25c2",
   "metadata": {},
   "outputs": [
    {
     "name": "stdout",
     "output_type": "stream",
     "text": [
      "There are 13 duplicated rows\n",
      "After dropping, there are now 0 duplicated rows\n"
     ]
    }
   ],
   "source": [
    "print(f\"There are {df.duplicated().sum()} duplicated rows\")\n",
    "\n",
    "# Drop duplicates\n",
    "df = df.drop_duplicates()\n",
    "\n",
    "print(f\"After dropping, there are now {df.duplicated().sum()} duplicated rows\")"
   ]
  },
  {
   "cell_type": "markdown",
   "id": "113bb9ac-6a5a-4abc-ae61-82cc5e5282f2",
   "metadata": {},
   "source": [
    "### Dates\n",
    "- Cast Dates to years, unlikely day/month will be meaningful"
   ]
  },
  {
   "cell_type": "code",
   "execution_count": 5,
   "id": "0922624b-8ddb-44c4-8648-00f0e807c4f2",
   "metadata": {},
   "outputs": [],
   "source": [
    "df['date'] = df['date'].dt.year"
   ]
  },
  {
   "cell_type": "markdown",
   "id": "91ba9ece-1396-4aaf-b4fe-248728420b19",
   "metadata": {},
   "source": [
    "#### Authors \n",
    "- The `authors` field is a list containing:\n",
    "    - Name(s)\n",
    "    - Titles\n",
    "    - Organizations\n",
    "    - Misc comments\n",
    "- It also contains many NaNs in the form of empty strings\n",
    "- Approach:\n",
    "    - Replace NaNs with 'unknown'\n",
    "    - Extract author names from the field, create new field named `author_names` to be used as a bigram"
   ]
  },
  {
   "cell_type": "markdown",
   "id": "d546711d-3f03-4745-b91c-4eb5ca22438b",
   "metadata": {},
   "source": [
    "### Author Names\n",
    "- Replace missing with NaN\n",
    "- Remove unnecessary characters\n",
    "- Fix common formatting issues\n",
    "- Stripe whitespace"
   ]
  },
  {
   "cell_type": "code",
   "execution_count": 6,
   "id": "b4f923fa-b7e9-41ea-99b3-1fa83c25f0a6",
   "metadata": {},
   "outputs": [],
   "source": [
    "# Replace missing authors with 'unknown'\n",
    "df['authors'] = df['authors'].apply(lambda x: x.replace('','unknown') if x == '' else x.replace('By','').replace('\\n','').replace('Contributor','Contributor ').strip())"
   ]
  },
  {
   "cell_type": "markdown",
   "id": "85739996-443e-4d95-8cbc-5eb9ff0cc15c",
   "metadata": {},
   "source": [
    "### Links\n",
    "- The links are not helpful in their current form, need to extract keyworks from them"
   ]
  },
  {
   "cell_type": "code",
   "execution_count": 7,
   "id": "9e8dd769-3f83-488f-a04e-8b86eab29beb",
   "metadata": {},
   "outputs": [],
   "source": [
    "# Replace charaters we want to split on with commas, then split, only get the relevant entries from the resulting list\n",
    "df['link_keywords'] = df['link'].apply(lambda x: x.replace('-',',').replace(\"_\",',').replace(\"entry/\",',').split(',')[1:-2])\n",
    "\n",
    "# Typecast from list to string\n",
    "df['link_keywords'] = df['link_keywords'].apply(lambda x: ' '.join(x))"
   ]
  },
  {
   "cell_type": "markdown",
   "id": "5d1ff202-4315-4e44-bd04-707dd47962df",
   "metadata": {},
   "source": [
    "### Join all text columns"
   ]
  },
  {
   "cell_type": "code",
   "execution_count": 8,
   "id": "77df868d-a8fb-49d2-962d-3ff44d3c11d9",
   "metadata": {},
   "outputs": [],
   "source": [
    "df['text'] = df['headline'] + ' ' + df['short_description'] + ' ' + df['link_keywords'] + ' ' + df['authors'] + ' ' + df['date'].astype(str)"
   ]
  },
  {
   "cell_type": "markdown",
   "id": "13c6ea61-e042-41bd-8c32-79609de50c10",
   "metadata": {},
   "source": [
    "### Drop unwanted features"
   ]
  },
  {
   "cell_type": "code",
   "execution_count": 9,
   "id": "02ba9bb9-a3b4-4265-b6ed-8871b2cbfbc9",
   "metadata": {},
   "outputs": [
    {
     "data": {
      "text/html": [
       "<div>\n",
       "<style scoped>\n",
       "    .dataframe tbody tr th:only-of-type {\n",
       "        vertical-align: middle;\n",
       "    }\n",
       "\n",
       "    .dataframe tbody tr th {\n",
       "        vertical-align: top;\n",
       "    }\n",
       "\n",
       "    .dataframe thead th {\n",
       "        text-align: right;\n",
       "    }\n",
       "</style>\n",
       "<table border=\"1\" class=\"dataframe\">\n",
       "  <thead>\n",
       "    <tr style=\"text-align: right;\">\n",
       "      <th></th>\n",
       "      <th>category</th>\n",
       "      <th>text</th>\n",
       "    </tr>\n",
       "  </thead>\n",
       "  <tbody>\n",
       "    <tr>\n",
       "      <th>156357</th>\n",
       "      <td>BUSINESS</td>\n",
       "      <td>Restaurants Fear Sales Hit From Proposed Stric...</td>\n",
       "    </tr>\n",
       "    <tr>\n",
       "      <th>53956</th>\n",
       "      <td>CRIME</td>\n",
       "      <td>Former NYPD Detective Gets Emotional Over Dall...</td>\n",
       "    </tr>\n",
       "    <tr>\n",
       "      <th>91670</th>\n",
       "      <td>SPORTS</td>\n",
       "      <td>The Ring's the Thing Back in 1977, I was in th...</td>\n",
       "    </tr>\n",
       "    <tr>\n",
       "      <th>61289</th>\n",
       "      <td>POLITICS</td>\n",
       "      <td>Trey Gowdy Injects Benghazi Into The 2016 camp...</td>\n",
       "    </tr>\n",
       "    <tr>\n",
       "      <th>4033</th>\n",
       "      <td>BLACK VOICES</td>\n",
       "      <td>Chloe x Halle On The Importance Of Showing Bla...</td>\n",
       "    </tr>\n",
       "  </tbody>\n",
       "</table>\n",
       "</div>"
      ],
      "text/plain": [
       "            category                                               text\n",
       "156357      BUSINESS  Restaurants Fear Sales Hit From Proposed Stric...\n",
       "53956          CRIME  Former NYPD Detective Gets Emotional Over Dall...\n",
       "91670         SPORTS  The Ring's the Thing Back in 1977, I was in th...\n",
       "61289       POLITICS  Trey Gowdy Injects Benghazi Into The 2016 camp...\n",
       "4033    BLACK VOICES  Chloe x Halle On The Importance Of Showing Bla..."
      ]
     },
     "execution_count": 9,
     "metadata": {},
     "output_type": "execute_result"
    }
   ],
   "source": [
    "# Drop the feature if it appear in the colums (done this way so the cell can be re-run)\n",
    "df = df.drop(columns=[col for col in df.columns if col in ['link','authors','headline','short_description','date','link_keywords','author_notes']])\n",
    "\n",
    "# View Sample\n",
    "df.sample(5)"
   ]
  },
  {
   "cell_type": "markdown",
   "id": "1cb007b6-d2dc-4d7c-b402-c82261924282",
   "metadata": {},
   "source": [
    "# <center> -------------------------------------------------------------------- </center>"
   ]
  },
  {
   "cell_type": "markdown",
   "id": "75d018a1-5899-4858-b61e-56ff7e756afc",
   "metadata": {},
   "source": [
    "# EDA"
   ]
  },
  {
   "cell_type": "markdown",
   "id": "35588a6b-0952-47df-b267-6ab855ff1680",
   "metadata": {},
   "source": [
    "#### View categories"
   ]
  },
  {
   "cell_type": "raw",
   "id": "acd14fa2-3565-44d1-b590-85e574852758",
   "metadata": {},
   "source": [
    "print(f\"There are {len(df['category'].value_counts())} unique categories including the following:\")\n",
    "px.bar(df['category'].value_counts(), \n",
    "       title='Unique Categories', \n",
    "       labels = {\"value\": \"Number of Articles\",\"index\": \"Category\"},\n",
    "       width = 800, height = 450)"
   ]
  },
  {
   "cell_type": "markdown",
   "id": "48964ff3-f943-4a77-863b-88da25e93045",
   "metadata": {},
   "source": [
    "#### View length of texts"
   ]
  },
  {
   "cell_type": "raw",
   "id": "0c5f8b6c-a7ea-43ed-9541-9b10e105ea44",
   "metadata": {},
   "source": [
    "headline_lengths = df['text'].apply(lambda x: len(x))\n",
    "px.histogram(df, \n",
    "             x = headline_lengths, \n",
    "             marginal = 'box', \n",
    "             title = 'Text Lengths',\n",
    "             labels = {'x':'Number of Characters'},\n",
    "             height = 500, width = 800)"
   ]
  },
  {
   "cell_type": "markdown",
   "id": "f8d3d672-056b-40c1-9f58-b733d77a8714",
   "metadata": {},
   "source": [
    "#### Author Activity"
   ]
  },
  {
   "cell_type": "raw",
   "id": "aa6e5bae-55c9-46d3-85bf-39aca9858abc",
   "metadata": {},
   "source": [
    "unique_authors_vc = df['author_names'].explode().value_counts()\n",
    "\n",
    "print(f\"There are {len(unique_authors_vc)} unique authors, {unique_authors_vc[0]} ({round(unique_authors_vc[0]/len(unique_authors_vc),2)}%) are unknown.\" )\n",
    "\n",
    "px.bar(unique_authors_vc[1:25], \n",
    "       title='Unique Authors', \n",
    "       labels = {\"value\": \"Number of Articles Written\",\"index\": \"Author\"},\n",
    "       width = 1200, height = 600)"
   ]
  },
  {
   "cell_type": "markdown",
   "id": "2d035764-c71a-4511-8f74-c5fce047a9bb",
   "metadata": {},
   "source": [
    "#### Word Frequency Dictionary - All Categories\n",
    "- Loop through each text, count the number of times the word appears"
   ]
  },
  {
   "cell_type": "code",
   "execution_count": 10,
   "id": "7fd57161-2913-4c2e-a03c-a32e79fe4a5c",
   "metadata": {
    "tags": []
   },
   "outputs": [],
   "source": [
    "# Get count of all unique words\n",
    "word_dict = {}\n",
    "\n",
    "for text in df['text']:\n",
    "    for word in text.split():\n",
    "        if word not in word_dict:\n",
    "            word_dict[word] = 1\n",
    "        else:\n",
    "            word_dict[word] += 1\n",
    "            \n",
    "word_dict_sorted = dict(sorted(word_dict.items(), key=lambda item: item[1], reverse= True))"
   ]
  },
  {
   "cell_type": "markdown",
   "id": "a4aca595-de6c-4535-8b03-9212b059bef0",
   "metadata": {},
   "source": [
    "#### Plot the number of appearances for top words"
   ]
  },
  {
   "cell_type": "raw",
   "id": "df228662-61ed-4e4d-9ee6-aa9cc5bf1e7c",
   "metadata": {},
   "source": [
    "px.bar(x = list(word_dict_sorted.keys())[:20], \n",
    "       y = list(word_dict_sorted.values())[:20],\n",
    "       labels={'x':'word','y':'number of appearances'},\n",
    "       height= 400,\n",
    "       width= 1000)"
   ]
  },
  {
   "cell_type": "markdown",
   "id": "9a14a04a-4093-424c-b69b-38166c6f2ffe",
   "metadata": {},
   "source": [
    "### Takeaway:\n",
    "- None of these appear to be meaningful words, and will most likely not be helpful in classifying the texts\n",
    "- Next, lets look at the word counts broken out by category, instead of across all of them"
   ]
  },
  {
   "cell_type": "markdown",
   "id": "0ab0aae4-a909-4767-a7dc-65ddac487086",
   "metadata": {},
   "source": [
    "#### Word Frequency Dictionary - By Category\n",
    "- Loop through each text, count the number of times the word appears within each category"
   ]
  },
  {
   "cell_type": "raw",
   "id": "3f77b4a9-3efb-457a-aa30-84f0e10b512d",
   "metadata": {
    "tags": []
   },
   "source": [
    "# Get count of all unique words\n",
    "word_dict_by_label = {}\n",
    "\n",
    "for idx in df.index:\n",
    "    label = df.loc[idx,'category'] \n",
    "    if label not in word_dict_by_label:\n",
    "        word_dict_by_label[label] = {}\n",
    "    for word in df.loc[idx,'text'].split():\n",
    "        if word not in word_dict_by_label[label]:\n",
    "            word_dict_by_label[label][word] = 1\n",
    "        else:\n",
    "            word_dict_by_label[label][word] += 1\n",
    "            \n",
    "# Sort\n",
    "word_dict_by_label_sorted = {key : dict(sorted(val.items(), key = lambda ele: ele[1],reverse=True))for key, val in word_dict_by_label.items()}"
   ]
  },
  {
   "cell_type": "markdown",
   "id": "b0108e71-1578-4b74-93ff-a285af8682c4",
   "metadata": {},
   "source": [
    "#### View top words from the 1st 5 categories"
   ]
  },
  {
   "cell_type": "raw",
   "id": "1f2e1d32-cc85-4c06-b04c-55f03f0d1557",
   "metadata": {},
   "source": [
    "for label, values in list(word_dict_by_label_sorted.items())[:5]:\n",
    "    print(f\"Category: {label}\")\n",
    "    print(list(values.keys())[:5])"
   ]
  },
  {
   "cell_type": "markdown",
   "id": "bbcbd968-c328-425a-8113-94db2d63cb68",
   "metadata": {},
   "source": [
    "### Takeaway:\n",
    "- None of these appear to be meaningful words either\n",
    "- Need to recreate these views after removing stop words"
   ]
  },
  {
   "cell_type": "markdown",
   "id": "23d17d54-13d9-48d7-85c6-a45df5510091",
   "metadata": {},
   "source": [
    "# <center> -------------------------------------------------------------------- </center>"
   ]
  },
  {
   "cell_type": "markdown",
   "id": "28573ff1-d3fe-4385-872c-13d429c28972",
   "metadata": {},
   "source": [
    "# Preprocessing Text Data\n",
    "- Need to represent our texts in a way models can understand\n",
    "    - Vectorize text (strings --> tokens --> vectors)\n",
    "- Preprocessing Decisions:\n",
    "    - How to vectorize:\n",
    "        - Count vectorizaiton (binary / counts)\n",
    "        - Term Frequency / Inverse Document Frequency\n",
    "    - Stop words:\n",
    "        - Do we remove them, if so which ones?      \n",
    "    - Stemming / Lemmatization\n",
    "    - n-grams\n",
    "- Modelling:\n",
    "    - Naive Bayes \n",
    "    - Neural Network"
   ]
  },
  {
   "cell_type": "code",
   "execution_count": 11,
   "id": "6398762f-048f-4ab5-9c84-bc154d993339",
   "metadata": {},
   "outputs": [],
   "source": [
    "# Get a list of all words that only appear once throughout all texts\n",
    "single_count_words = [word for word,count in word_dict.items() if count < 2]"
   ]
  },
  {
   "cell_type": "markdown",
   "id": "8f9110fd-62f2-4cf2-bd1f-f94b340d7c44",
   "metadata": {},
   "source": [
    "### Get Stopwords"
   ]
  },
  {
   "cell_type": "code",
   "execution_count": 12,
   "id": "b9b2c0ec-0a53-4e02-8378-89ba5039472c",
   "metadata": {},
   "outputs": [],
   "source": [
    "stopwords_list = stopwords.words('english') + list(string.punctuation) + [\"''\", '\"\"', '...', '``'] "
   ]
  },
  {
   "cell_type": "markdown",
   "id": "8c61bb42-eb7b-46c6-a310-d44f96b94738",
   "metadata": {},
   "source": [
    "### Encode Target Variable\n",
    "- Assign a unique value to each categories"
   ]
  },
  {
   "cell_type": "code",
   "execution_count": 13,
   "id": "3b7788c7-8872-4c7f-9894-07bddc823cb4",
   "metadata": {},
   "outputs": [],
   "source": [
    "# Instantiate label encoder \n",
    "le = preprocessing.LabelEncoder()\n",
    "\n",
    "# Label Encode categories\n",
    "df['class_label'] = le.fit_transform(df['category'])\n",
    "\n",
    "# Create dictionary to map labels to categories\n",
    "label_to_category = dict(df.groupby('class_label')['category'].first())"
   ]
  },
  {
   "cell_type": "markdown",
   "id": "9fcdf2a8-ec1a-4f52-b2a9-3b2a738e28ff",
   "metadata": {},
   "source": [
    "### Create Stemmer and Lemmatizer"
   ]
  },
  {
   "cell_type": "code",
   "execution_count": 14,
   "id": "aa06e47f-2aa2-405b-b1e5-377387958820",
   "metadata": {},
   "outputs": [],
   "source": [
    "ps = PorterStemmer()\n",
    "lm = WordNetLemmatizer()\n",
    "\n",
    "def tokenize_and_stem(text):\n",
    "    tokens = word_tokenize(text)\n",
    "    return [ps.stem(word) for word in tokens]\n",
    "\n",
    "def tokenize_and_lemmatize(text):\n",
    "    tokens = word_tokenize(text)\n",
    "    return [lm.lemmatize(word) for word in tokens]"
   ]
  },
  {
   "cell_type": "code",
   "execution_count": 15,
   "id": "a794794b-42b7-47b8-8531-716317e95eb0",
   "metadata": {},
   "outputs": [],
   "source": [
    "# Define dependent and independent variables\n",
    "X = df[\"text\"]\n",
    "y = df[\"class_label\"]\n",
    "\n",
    "# Test Train Validation Split\n",
    "X_train, X_test, y_train, y_test = train_test_split(X, y, test_size=0.2, random_state=8)\n",
    "X_train, X_val, y_train, y_val = train_test_split(X_train, y_train, test_size=0.2, random_state=8)"
   ]
  },
  {
   "cell_type": "markdown",
   "id": "ff962385-1c10-4bdc-a80b-e78f1586f3a0",
   "metadata": {},
   "source": [
    "### Define function to tokenize text given several arguments\n",
    "- Create function to perform all variants of vectorizing we want to do"
   ]
  },
  {
   "cell_type": "code",
   "execution_count": 16,
   "id": "55b268c2-1fd9-4938-b419-62e1e9efca0d",
   "metadata": {},
   "outputs": [],
   "source": [
    "def tokenize_and_vectorize(X, X_train, X_test, X_val, sw, tf_idf = False, binary_count = False, ngrams = 1, stem = False, lemmatize = False, max_df = 1.0, min_df = 1, max_features = None):\n",
    "    \n",
    "    tk = None\n",
    "    \n",
    "    if stem == True:\n",
    "        tk = tokenize_and_stem\n",
    "    if lemmatize == True:\n",
    "        tk = tokenize_and_lemmatize\n",
    "        \n",
    "    if tf_idf == False:\n",
    "        vect = CountVectorizer\n",
    "    else:\n",
    "        vect = TfidfVectorizer\n",
    "                \n",
    "    vectorizer = vect( stop_words= sw,\n",
    "                       tokenizer = tk,\n",
    "                       binary = binary_count,\n",
    "                       strip_accents = 'unicode',\n",
    "                       ngram_range= (1,ngrams),\n",
    "                       max_df = max_df,\n",
    "                       min_df = min_df)\n",
    "\n",
    "    # Fit the tokenizer on the training data\n",
    "    vectorizer.fit(X_train)\n",
    "\n",
    "    # Apply the tokenizer to the training and testing data\n",
    "    X_counts = vectorizer.transform(X)\n",
    "    X_train_counts = vectorizer.transform(X_train)\n",
    "    X_test_counts = vectorizer.transform(X_test)\n",
    "    X_val_counts = vectorizer.transform(X_val)\n",
    "    \n",
    "    return X_counts, X_train_counts, X_test_counts, X_val_counts, vectorizer"
   ]
  },
  {
   "cell_type": "code",
   "execution_count": 18,
   "id": "d43ceda8-b649-4a55-9529-ea425cd7a698",
   "metadata": {},
   "outputs": [],
   "source": [
    "# Tokenize and Vectorize\n",
    "X_counts, X_train_counts, X_test_counts, X_val_counts, count_cv = tokenize_and_vectorize(X, X_train, X_test, X_val, sw = stopwords_list)"
   ]
  },
  {
   "cell_type": "markdown",
   "id": "d8da444e-a534-4bd7-b150-29cae8831b32",
   "metadata": {},
   "source": [
    "#### Cast to DataFrame and Inspect"
   ]
  },
  {
   "cell_type": "raw",
   "id": "0cd94a5a-06ea-4c25-9932-60a3a6dc6db1",
   "metadata": {},
   "source": [
    "X_tokenized_df = pd.DataFrame(data = cv.inverse_transform(X_counts))\n",
    "X_tokenized_df['tokens'] = X_tokenized_df.values.tolist()\n",
    "X_tokenized_df['category'] = df['category']\n",
    "X_tokenized_df = X_tokenized_df[['category','tokens']]\n",
    "X_tokenized_df.head()"
   ]
  },
  {
   "cell_type": "markdown",
   "id": "80f2b0d6-6262-40ab-9f26-38190d40a49c",
   "metadata": {},
   "source": [
    "#### Word Frequency Dictionary - All Categories\n",
    "- Loop through each text, count the number of times the word appears"
   ]
  },
  {
   "cell_type": "raw",
   "id": "e733fd03-fa8e-483a-8d8e-e327582a1115",
   "metadata": {
    "tags": []
   },
   "source": [
    "# Get count of all unique words\n",
    "word_dict_no_sw = {}\n",
    "\n",
    "for idx in X_tokenized_df.index:\n",
    "    for word in X_tokenized_df.loc[idx,'tokens']:\n",
    "        if word != None and word not in word_dict_no_sw:\n",
    "            word_dict_no_sw[word] = 1\n",
    "        elif word != None:\n",
    "            word_dict_no_sw[word] += 1\n",
    "            \n",
    "word_dict_no_sw_sorted = dict(sorted(word_dict_no_sw.items(), key=lambda item: item[1], reverse= True))"
   ]
  },
  {
   "cell_type": "markdown",
   "id": "93537c0b-8d39-4dbe-bf55-d55b6a6e47c6",
   "metadata": {},
   "source": [
    "#### Plot the number of appearances for top words"
   ]
  },
  {
   "cell_type": "raw",
   "id": "851ce516-71ae-4b15-bbbd-679e02602f6b",
   "metadata": {},
   "source": [
    "px.bar(x = list(word_dict_no_sw_sorted.keys())[:20], \n",
    "       y = list(word_dict_no_sw_sorted.values())[:20],\n",
    "       labels={'x':'word','y':'number of appearances'},\n",
    "       height= 400,\n",
    "       width= 1000)"
   ]
  },
  {
   "cell_type": "markdown",
   "id": "c67d7457-eb8e-4b4c-81c2-e23c28279b78",
   "metadata": {},
   "source": [
    "#### Word Frequency Dictionary - By Category\n",
    "- Loop through each text, count the number of times the word appears within each category"
   ]
  },
  {
   "cell_type": "raw",
   "id": "9eee3e7f-73ae-4b6c-8da2-1f10505c07c6",
   "metadata": {
    "tags": []
   },
   "source": [
    "# Get count of all unique words\n",
    "word_dict_by_label_no_sw = {}\n",
    "\n",
    "for idx in X_tokenized_df.index:\n",
    "    label = X_tokenized_df.loc[idx,'category'] \n",
    "    if label not in word_dict_by_label_no_sw:\n",
    "        word_dict_by_label_no_sw[label] = {}\n",
    "    for word in X_tokenized_df.loc[idx,'tokens']:\n",
    "        if word != None and word not in word_dict_by_label_no_sw[label]:\n",
    "            word_dict_by_label_no_sw[label][word] = 1\n",
    "        elif word != None:\n",
    "            word_dict_by_label_no_sw[label][word] += 1\n",
    "            \n",
    "# Sort\n",
    "word_dict_by_label_no_sw_sorted = {key : dict(sorted(val.items(), key = lambda ele: ele[1],reverse=True))for key, val in word_dict_by_label_no_sw.items()}"
   ]
  },
  {
   "cell_type": "markdown",
   "id": "211c6c21-03d5-46df-8838-dc3d4888142b",
   "metadata": {},
   "source": [
    "#### View top words from the 1st 5 categories"
   ]
  },
  {
   "cell_type": "raw",
   "id": "0e3af501-2b54-4ece-8bc5-8e3be90315af",
   "metadata": {},
   "source": [
    "for label, values in list(word_dict_by_label_no_sw_sorted.items())[::5]:\n",
    "    print(f\"Category: {label}\")\n",
    "    print(list(values.keys())[:10])"
   ]
  },
  {
   "cell_type": "markdown",
   "id": "67fcaee0-b9fb-4b5b-b66a-282f636928b6",
   "metadata": {},
   "source": [
    "# <center> -------------------------------------------------------------------- </center>"
   ]
  },
  {
   "cell_type": "markdown",
   "id": "2aeb0370-57f3-4dd8-8fa6-f6513458070e",
   "metadata": {},
   "source": [
    "# <center> Modelling </center>"
   ]
  },
  {
   "cell_type": "markdown",
   "id": "c7ff4f0c-ae5a-4a66-8f1f-8776c1f30b5a",
   "metadata": {},
   "source": [
    "## Multinomial Naive Bayes\n",
    "- Build models for\n",
    "    - Simple counts\n",
    "    - Bigrams\n",
    "    - Stemmed\n",
    "    - Lemmatized\n",
    "    - Extra Stop Words"
   ]
  },
  {
   "cell_type": "code",
   "execution_count": 17,
   "id": "24fdd8d1-522b-48de-b2e4-397b7d66090e",
   "metadata": {},
   "outputs": [],
   "source": [
    "# Define function to evaluate the model\n",
    "\n",
    "def nb_evaluation(actuals, predictions):\n",
    "    ''' \n",
    "    Accepts predictions & actuals\n",
    "    Returns precision, recall, f1, and accuracy (weighted)\n",
    "    '''\n",
    "    precision = round(precision_score(actuals, predictions, average='weighted'),3)\n",
    "    recall = round(recall_score(actuals, predictions, average='weighted'),3)\n",
    "    f1 = round(f1_score(actuals, predictions, average='weighted'),3)\n",
    "    accuracy = round(accuracy_score(actuals, predictions),3)\n",
    "    print(f\"Accuracy = {accuracy} \\nPrecision = {precision} \\nRecall = {recall} \\nf1 = {f1}\")"
   ]
  },
  {
   "cell_type": "markdown",
   "id": "1b74a1dd-ac66-4bed-9dcd-af0c746518ad",
   "metadata": {},
   "source": [
    "#### 1) Simple Counts Model"
   ]
  },
  {
   "cell_type": "code",
   "execution_count": 21,
   "id": "2090c116-3099-4859-8dd9-9e4069ce49a7",
   "metadata": {},
   "outputs": [
    {
     "name": "stdout",
     "output_type": "stream",
     "text": [
      "Accuracy = 0.722 \n",
      "Precision = 0.726 \n",
      "Recall = 0.722 \n",
      "f1 = 0.722\n"
     ]
    }
   ],
   "source": [
    "# Create Model\n",
    "nb_count_model = MultinomialNB(alpha = 0.05)\n",
    "\n",
    "# Fit to Training Data\n",
    "nb_count_model.fit(X_train_counts, y_train)\n",
    "\n",
    "# Get Predictions\n",
    "y_pred = nb_count_model.predict(X_test_counts)\n",
    "\n",
    "nb_evaluation(y_test, y_pred)"
   ]
  },
  {
   "cell_type": "markdown",
   "id": "0da92f25-458c-4002-837d-333dd87d79fa",
   "metadata": {},
   "source": [
    "#### 2) Binary Counts Model"
   ]
  },
  {
   "cell_type": "code",
   "execution_count": 22,
   "id": "81f4ecdf-79b7-44e9-b1d0-bbe329c4ab22",
   "metadata": {},
   "outputs": [],
   "source": [
    "# Vectorize\n",
    "X_binary, X_train_binary, X_test_binary, X_val_binary, binary_cv = tokenize_and_vectorize(X, X_train, X_test, X_val, \n",
    "                                                                                   sw = stopwords_list, binary_count = True)"
   ]
  },
  {
   "cell_type": "code",
   "execution_count": 23,
   "id": "8a69cbc8-7141-4e83-aeac-b3ea92a96c48",
   "metadata": {},
   "outputs": [
    {
     "name": "stdout",
     "output_type": "stream",
     "text": [
      "Accuracy = 0.733 \n",
      "Precision = 0.736 \n",
      "Recall = 0.733 \n",
      "f1 = 0.728\n"
     ]
    }
   ],
   "source": [
    "# Create Model\n",
    "nb_binary_model = MultinomialNB(alpha = 0.15)\n",
    "\n",
    "# Fit to Training Data\n",
    "nb_binary_model.fit(X_train_binary, y_train)\n",
    "\n",
    "# Get Predictions\n",
    "y_pred = nb_binary_model.predict(X_test_binary)\n",
    "\n",
    "nb_evaluation(y_test, y_pred)"
   ]
  },
  {
   "cell_type": "markdown",
   "id": "a713618c-d536-45c5-937c-3b103b98f3e8",
   "metadata": {},
   "source": [
    "#### 3) Bigrams Model"
   ]
  },
  {
   "cell_type": "code",
   "execution_count": 18,
   "id": "e60b5386-1823-40f8-8520-d5758c94a14f",
   "metadata": {},
   "outputs": [],
   "source": [
    "# Vectorize\n",
    "X_bigram, X_train_bigram, X_test_bigram, X_val_bigram, bigram_cv = tokenize_and_vectorize(X, X_train, X_test, X_val,\n",
    "                                                                                   sw = stopwords_list, ngrams = 2)"
   ]
  },
  {
   "cell_type": "code",
   "execution_count": 19,
   "id": "ca57bd66-9a31-471c-84ac-35262828e2b2",
   "metadata": {},
   "outputs": [
    {
     "name": "stdout",
     "output_type": "stream",
     "text": [
      "Accuracy = 0.76 \n",
      "Precision = 0.76 \n",
      "Recall = 0.76 \n",
      "f1 = 0.756\n"
     ]
    }
   ],
   "source": [
    "# Create Model\n",
    "nb_bigram_model = MultinomialNB(alpha = 0.025)\n",
    "\n",
    "# Fit to Training Data\n",
    "nb_bigram_model.fit(X_train_bigram, y_train)\n",
    "\n",
    "# Get Predictions\n",
    "y_pred = nb_bigram_model.predict(X_test_bigram)\n",
    "\n",
    "nb_evaluation(y_test, y_pred)"
   ]
  },
  {
   "cell_type": "markdown",
   "id": "46b69720-2869-4292-8af9-46995d8a55aa",
   "metadata": {},
   "source": [
    "#### 4) Stemmed Model"
   ]
  },
  {
   "cell_type": "code",
   "execution_count": 28,
   "id": "46f60b1c-1ccb-497e-a8bd-c1df017fbf5e",
   "metadata": {},
   "outputs": [],
   "source": [
    "# Vectorize\n",
    "X_stem, X_train_stem, X_test_stem, X_val_stem, stemmed_cv = tokenize_and_vectorize(X, X_train, X_test, X_val, \n",
    "                                                                           sw = stopwords_list, stem = True)"
   ]
  },
  {
   "cell_type": "code",
   "execution_count": 29,
   "id": "e39be77f-c231-496a-90e0-7c42b660bfd3",
   "metadata": {},
   "outputs": [
    {
     "name": "stdout",
     "output_type": "stream",
     "text": [
      "Accuracy = 0.729 \n",
      "Precision = 0.732 \n",
      "Recall = 0.729 \n",
      "f1 = 0.723\n"
     ]
    }
   ],
   "source": [
    "# Create Model\n",
    "nb_stem_model = MultinomialNB(alpha = 0.2)\n",
    "\n",
    "# Fit to Training Data\n",
    "nb_stem_model.fit(X_train_stem, y_train)\n",
    "\n",
    "# Get Predictions\n",
    "y_pred = nb_stem_model.predict(X_test_stem)\n",
    "\n",
    "nb_evaluation(y_test, y_pred)"
   ]
  },
  {
   "cell_type": "markdown",
   "id": "0e31a5fc-f901-4bf0-af7c-495249502c56",
   "metadata": {},
   "source": [
    "#### 5) Lemmatized Model"
   ]
  },
  {
   "cell_type": "code",
   "execution_count": 30,
   "id": "f74fa88d-c1b3-40b3-9da1-b725cdd72e11",
   "metadata": {},
   "outputs": [],
   "source": [
    "# Vectorize\n",
    "X_lemma, X_train_lemma, X_test_lemma, X_val_lemma, lemmatized_cv = tokenize_and_vectorize(X, X_train, X_test, X_val,\n",
    "                                                                               sw = stopwords_list, lemmatize = True)"
   ]
  },
  {
   "cell_type": "code",
   "execution_count": 31,
   "id": "816ae218-3fc5-45d6-94da-fd311d25e4e8",
   "metadata": {},
   "outputs": [
    {
     "name": "stdout",
     "output_type": "stream",
     "text": [
      "Accuracy = 0.731 \n",
      "Precision = 0.733 \n",
      "Recall = 0.731 \n",
      "f1 = 0.727\n"
     ]
    }
   ],
   "source": [
    "# Create Model\n",
    "nb_lemma_model = MultinomialNB(alpha = 0.15)\n",
    "\n",
    "# Fit to Training Data\n",
    "nb_lemma_model.fit(X_train_lemma, y_train)\n",
    "\n",
    "# Get Predictions\n",
    "y_pred = nb_lemma_model.predict(X_test_lemma)\n",
    "\n",
    "nb_evaluation(y_test, y_pred)"
   ]
  },
  {
   "cell_type": "markdown",
   "id": "910da815-4ffe-47f1-85ed-e2ac0fcea7c0",
   "metadata": {},
   "source": [
    "#### 6) TF / IDF Model"
   ]
  },
  {
   "cell_type": "code",
   "execution_count": 32,
   "id": "58b03597-0cdd-4b3c-be2a-c0a9c9a6ac4a",
   "metadata": {},
   "outputs": [],
   "source": [
    "# Vectorize\n",
    "X_tfidf, X_train_tfidf, X_test_tfidf, X_val_tfidf, tfidf_cv = tokenize_and_vectorize(X, X_train, X_test, X_val, \n",
    "                                                                               sw = stopwords_list, tf_idf= True)"
   ]
  },
  {
   "cell_type": "code",
   "execution_count": 33,
   "id": "57cecba1-6a21-4656-8ff2-0ac5b18d343b",
   "metadata": {},
   "outputs": [
    {
     "name": "stdout",
     "output_type": "stream",
     "text": [
      "Accuracy = 0.682 \n",
      "Precision = 0.693 \n",
      "Recall = 0.682 \n",
      "f1 = 0.662\n"
     ]
    }
   ],
   "source": [
    "# Create Model\n",
    "nb_tfidf_model = MultinomialNB(alpha = 0.02)\n",
    "\n",
    "# Fit to Training Data\n",
    "nb_tfidf_model.fit(X_train_tfidf, y_train)\n",
    "\n",
    "# Get Predictions\n",
    "y_pred = nb_tfidf_model.predict(X_test_tfidf)\n",
    "\n",
    "nb_evaluation(y_test, y_pred)"
   ]
  },
  {
   "cell_type": "markdown",
   "id": "6a0b185e-ab54-4ee1-93f6-a88e1d102255",
   "metadata": {},
   "source": [
    "#### 7) TF / IDF Model + Bigrams"
   ]
  },
  {
   "cell_type": "code",
   "execution_count": 34,
   "id": "40d786e6-4475-4d2b-90b8-f408685799c1",
   "metadata": {},
   "outputs": [],
   "source": [
    "# Vectorize\n",
    "X_tfidf, X_train_tfidf, X_test_tfidf, X_val_tfidf, tfidf_bigram_cv = tokenize_and_vectorize(X, X_train, X_test, X_val, \n",
    "                                                                               sw = stopwords_list, tf_idf= True, ngrams=2)"
   ]
  },
  {
   "cell_type": "code",
   "execution_count": 35,
   "id": "50d20b3b-ba36-4d54-ad96-2f793f9e6bd9",
   "metadata": {},
   "outputs": [
    {
     "name": "stdout",
     "output_type": "stream",
     "text": [
      "Accuracy = 0.733 \n",
      "Precision = 0.73 \n",
      "Recall = 0.733 \n",
      "f1 = 0.725\n"
     ]
    }
   ],
   "source": [
    "# Create Model\n",
    "nb_tfidf_model = MultinomialNB(alpha = 0.001)\n",
    "\n",
    "# Fit to Training Data\n",
    "nb_tfidf_model.fit(X_train_tfidf, y_train)\n",
    "\n",
    "# Get Predictions\n",
    "y_pred = nb_tfidf_model.predict(X_test_tfidf)\n",
    "\n",
    "nb_evaluation(y_test, y_pred)"
   ]
  },
  {
   "cell_type": "markdown",
   "id": "3067ed20-8599-420b-8f51-a3143af34a07",
   "metadata": {},
   "source": [
    "## Inspect Best Model"
   ]
  },
  {
   "cell_type": "code",
   "execution_count": 40,
   "id": "ed9e37ad-25ec-4f17-839a-abdd301be7d8",
   "metadata": {},
   "outputs": [
    {
     "name": "stdout",
     "output_type": "stream",
     "text": [
      "ARTS: \n",
      "['based', 'author', 'theatre', 'first', 'san', 'frank 2014', 'artist', 'world', 'one', 'critic', 'arts', 'priscilla', 'priscilla frank', 'writer', 'frank', 'new', '2015', 'art', '2014', 'contributor']\n",
      "\n",
      "ARTS & CULTURE: \n",
      "['brooks', 'katherine brooks', 'fallon', 'claire', 'claire fallon', 'artist', 'women', 'new', 'trump', '2015', 'crum', 'maddie', 'maddie crum', 'book', 'priscilla', 'priscilla frank', 'frank', 'art', '2017', '2016']\n",
      "\n",
      "BLACK VOICES: \n",
      "['finley', 'taryn finley', 'taryn', '2013', '2012', 'women', 'unknown 2016', 'people', 'williams', '2018', 'white', '2014', 'police', 'new', '2015', 'contributor', '2017', 'unknown', '2016', 'black']\n",
      "\n",
      "BUSINESS: \n",
      "['world', 'one', 'work', 'people', 'time', 'wall', 'author', 'ceo', 'founder', 'women', '2012', 'new', 'reuters', '2013', 'unknown', '2016', 'business', '2014', '2015', 'contributor']\n",
      "\n",
      "COLLEGE: \n",
      "['one', 'sexual assault', 'assault', 'education', 'new', 'colleges', 'president', 'sexual', '2016', 'campus', 'kingkade', 'tyler kingkade', 'tyler', 'student', 'students', '2014', 'university', '2015', 'contributor', 'college']\n",
      "\n",
      "COMEDY: \n",
      "['snl', '2014', 'unknown', 'jimmy', 'colbert', 'moran', 'lee moran', 'bill', 'lee', '2015', 'contributor', 'andy mcdonald', 'mcdonald', 'video', 'andy', '2016', 'donald trump', '2017', 'donald', 'trump']\n",
      "\n"
     ]
    }
   ],
   "source": [
    "for label in range(0,6):\n",
    "    class_name = label_to_category[label]\n",
    "    class_probs_sorted = nb_bigram_model.feature_log_prob_[label, :].argsort()\n",
    "    important_words = list(np.take(bigram_cv.get_feature_names(), class_probs_sorted[-20:]))\n",
    "    print(f'{class_name}: \\n{important_words}\\n')"
   ]
  },
  {
   "cell_type": "markdown",
   "id": "f35b4bae-c9f1-4c00-90fe-870a271f38ef",
   "metadata": {},
   "source": [
    "# <center> -------------------------------------------------------------------- </center>"
   ]
  },
  {
   "cell_type": "markdown",
   "id": "23067729-838a-46e0-8927-533142ff8157",
   "metadata": {},
   "source": [
    "#### Simple Neural Network\n",
    "- Fully connected (dense) layer network with relu activation\n",
    "- 1 hidden layer with 50 units\n",
    "- Softmax classifier for multiclass problem"
   ]
  },
  {
   "cell_type": "markdown",
   "id": "bd5fddfb-75b7-4caf-bafa-1800123646e0",
   "metadata": {},
   "source": [
    "#### OHE target"
   ]
  },
  {
   "cell_type": "code",
   "execution_count": 78,
   "id": "5ae8be63-3b8b-4be5-8b51-7f2fcd6b830c",
   "metadata": {},
   "outputs": [],
   "source": [
    "# OHE for netural network\n",
    "y_ohe = to_categorical(y)\n",
    "y_train_ohe = to_categorical(y_train)\n",
    "y_test_ohe = to_categorical(y_test)\n",
    "y_val_ohe = to_categorical(y_val)"
   ]
  },
  {
   "cell_type": "markdown",
   "id": "14ce4c68-51b1-4000-9549-56ea91d8da05",
   "metadata": {},
   "source": [
    "#### Build Model "
   ]
  },
  {
   "cell_type": "code",
   "execution_count": 79,
   "id": "167d0525-ac0a-4242-946c-d970618aad90",
   "metadata": {},
   "outputs": [],
   "source": [
    "# Initialize a sequential model\n",
    "model = models.Sequential()\n",
    "\n",
    "# Two layers with relu activation\n",
    "model.add(layers.Dense(50, activation='relu'))\n",
    "\n",
    "# One layer with softmax activation \n",
    "model.add(layers.Dense(41, activation='softmax'))"
   ]
  },
  {
   "cell_type": "markdown",
   "id": "4d315a6b-bb33-4caf-ac75-ab889cab5673",
   "metadata": {},
   "source": [
    "#### Compile\n",
    "- Loss function = categorical crossentropy\n",
    "- Optimizer = stochastic gradient descent"
   ]
  },
  {
   "cell_type": "code",
   "execution_count": 80,
   "id": "cf285352-5a66-4d9e-a7bb-6b36af673c60",
   "metadata": {},
   "outputs": [],
   "source": [
    "model.compile(optimizer='SGD',\n",
    "              loss='categorical_crossentropy',\n",
    "              metrics=['acc'])"
   ]
  },
  {
   "cell_type": "code",
   "execution_count": 81,
   "id": "1ef68727-0ba3-4ca0-bf57-144eee96cadb",
   "metadata": {
    "tags": []
   },
   "outputs": [
    {
     "name": "stdout",
     "output_type": "stream",
     "text": [
      "Epoch 1/30\n",
      "4017/4017 [==============================] - 10s 2ms/step - loss: 2.7383 - acc: 0.3295 - val_loss: 2.2280 - val_acc: 0.4531\n",
      "Epoch 2/30\n",
      "4017/4017 [==============================] - 7s 2ms/step - loss: 1.9201 - acc: 0.5273 - val_loss: 1.7156 - val_acc: 0.5706\n",
      "Epoch 3/30\n",
      "4017/4017 [==============================] - 11s 3ms/step - loss: 1.5059 - acc: 0.6238 - val_loss: 1.4284 - val_acc: 0.6358\n",
      "Epoch 4/30\n",
      "4017/4017 [==============================] - 8s 2ms/step - loss: 1.2370 - acc: 0.6901 - val_loss: 1.2402 - val_acc: 0.6813\n",
      "Epoch 5/30\n",
      "4017/4017 [==============================] - 9s 2ms/step - loss: 1.0419 - acc: 0.7396 - val_loss: 1.1126 - val_acc: 0.7099\n",
      "Epoch 6/30\n",
      "4017/4017 [==============================] - 10s 2ms/step - loss: 0.8945 - acc: 0.7770 - val_loss: 1.0263 - val_acc: 0.7247\n",
      "Epoch 7/30\n",
      "4017/4017 [==============================] - 8s 2ms/step - loss: 0.7789 - acc: 0.8051 - val_loss: 0.9628 - val_acc: 0.7406\n",
      "Epoch 8/30\n",
      "4017/4017 [==============================] - 8s 2ms/step - loss: 0.6846 - acc: 0.8301 - val_loss: 0.9188 - val_acc: 0.7475\n",
      "Epoch 9/30\n",
      "4017/4017 [==============================] - 8s 2ms/step - loss: 0.6053 - acc: 0.8518 - val_loss: 0.8841 - val_acc: 0.7555\n",
      "Epoch 10/30\n",
      "4017/4017 [==============================] - 8s 2ms/step - loss: 0.5368 - acc: 0.8705 - val_loss: 0.8581 - val_acc: 0.7598\n",
      "Epoch 11/30\n",
      "4017/4017 [==============================] - 8s 2ms/step - loss: 0.4769 - acc: 0.8882 - val_loss: 0.8388 - val_acc: 0.7654\n",
      "Epoch 12/30\n",
      "4017/4017 [==============================] - 8s 2ms/step - loss: 0.4243 - acc: 0.9037 - val_loss: 0.8237 - val_acc: 0.7677\n",
      "Epoch 13/30\n",
      "4017/4017 [==============================] - 8s 2ms/step - loss: 0.3778 - acc: 0.9180 - val_loss: 0.8102 - val_acc: 0.7717\n",
      "Epoch 14/30\n",
      "4017/4017 [==============================] - 7s 2ms/step - loss: 0.3367 - acc: 0.9310 - val_loss: 0.8015 - val_acc: 0.7726\n",
      "Epoch 15/30\n",
      "4017/4017 [==============================] - 7s 2ms/step - loss: 0.3003 - acc: 0.9422 - val_loss: 0.7939 - val_acc: 0.7754\n",
      "Epoch 16/30\n",
      "4017/4017 [==============================] - 8s 2ms/step - loss: 0.2682 - acc: 0.9520 - val_loss: 0.7884 - val_acc: 0.7765\n",
      "Epoch 17/30\n",
      "4017/4017 [==============================] - 8s 2ms/step - loss: 0.2399 - acc: 0.9601 - val_loss: 0.7851 - val_acc: 0.7778\n",
      "Epoch 18/30\n",
      "4017/4017 [==============================] - 7s 2ms/step - loss: 0.2152 - acc: 0.9667 - val_loss: 0.7816 - val_acc: 0.7793\n",
      "Epoch 19/30\n",
      "4017/4017 [==============================] - 7s 2ms/step - loss: 0.1933 - acc: 0.9725 - val_loss: 0.7792 - val_acc: 0.7792\n",
      "Epoch 20/30\n",
      "4017/4017 [==============================] - 8s 2ms/step - loss: 0.1740 - acc: 0.9774 - val_loss: 0.7787 - val_acc: 0.7806\n",
      "Epoch 21/30\n",
      "4017/4017 [==============================] - 8s 2ms/step - loss: 0.1572 - acc: 0.9815 - val_loss: 0.7778 - val_acc: 0.7812\n",
      "Epoch 22/30\n",
      "4017/4017 [==============================] - 8s 2ms/step - loss: 0.1423 - acc: 0.9848 - val_loss: 0.7781 - val_acc: 0.7810\n",
      "Epoch 23/30\n",
      "4017/4017 [==============================] - 8s 2ms/step - loss: 0.1293 - acc: 0.9875 - val_loss: 0.7788 - val_acc: 0.7819\n",
      "Epoch 24/30\n",
      "4017/4017 [==============================] - 8s 2ms/step - loss: 0.1178 - acc: 0.9898 - val_loss: 0.7798 - val_acc: 0.7818\n",
      "Epoch 25/30\n",
      "4017/4017 [==============================] - 8s 2ms/step - loss: 0.1076 - acc: 0.9916 - val_loss: 0.7809 - val_acc: 0.7824\n",
      "Epoch 26/30\n",
      "4017/4017 [==============================] - 8s 2ms/step - loss: 0.0987 - acc: 0.9931 - val_loss: 0.7821 - val_acc: 0.7822\n",
      "Epoch 27/30\n",
      "4017/4017 [==============================] - 8s 2ms/step - loss: 0.0907 - acc: 0.9942 - val_loss: 0.7839 - val_acc: 0.7829\n",
      "Epoch 28/30\n",
      "4017/4017 [==============================] - 8s 2ms/step - loss: 0.0836 - acc: 0.9952 - val_loss: 0.7851 - val_acc: 0.7828\n",
      "Epoch 29/30\n",
      "4017/4017 [==============================] - 8s 2ms/step - loss: 0.0773 - acc: 0.9959 - val_loss: 0.7868 - val_acc: 0.7834\n",
      "Epoch 30/30\n",
      "4017/4017 [==============================] - 8s 2ms/step - loss: 0.0717 - acc: 0.9966 - val_loss: 0.7888 - val_acc: 0.7833\n"
     ]
    }
   ],
   "source": [
    "# Train the model \n",
    "n_epochs = 30 \n",
    "history = model.fit(X_train_bigram, y_train_ohe, \n",
    "                    epochs= n_epochs, \n",
    "                    validation_data = (X_val_bigram, y_val_ohe))"
   ]
  },
  {
   "cell_type": "markdown",
   "id": "c9ca0c7c-9b25-41e3-bcac-3cf7c61aca01",
   "metadata": {},
   "source": [
    "### Evaluation"
   ]
  },
  {
   "cell_type": "code",
   "execution_count": 55,
   "id": "99933323-5e79-4b08-b536-84da04aa0b9c",
   "metadata": {
    "tags": []
   },
   "outputs": [],
   "source": [
    "def get_model_metrics(actuals, predictions, full_report = False, plot = False):  \n",
    "\n",
    "    predictions_bool = np.argmax(predictions, axis=1)\n",
    "    \n",
    "    precision = round(precision_score(actuals, predictions_bool, average='weighted'),3)\n",
    "    recall = round(recall_score(actuals, predictions_bool, average='weighted'),3)\n",
    "    f1 = round(f1_score(actuals, predictions_bool, average='weighted'),3)\n",
    "    accuracy = round(accuracy_score(actuals, predictions_bool),3)\n",
    "    \n",
    "    if full_report == False:\n",
    "        print(f\"Accuracy = {accuracy} \\nPrecision = {precision} \\nRecall = {recall} \\nf1 = {f1}\")\n",
    "    else:\n",
    "        print(classification_report(actuals, predictions_bool))\n",
    "    if plot == True:\n",
    "        fig = go.Figure()\n",
    "\n",
    "        fig.add_trace(go.Scatter(x=[i for i in range(n_epochs)], y=history.history['acc'],\n",
    "                            mode='lines+markers', name='Train Accuracy'))\n",
    "        fig.add_trace(go.Scatter(x=[i for i in range(n_epochs)], y=history.history['val_acc'],\n",
    "                            mode='lines+markers', name='Validation Accuracy'))\n",
    "\n",
    "        fig.update_layout(height= 500, width= 700)\n",
    "\n",
    "        fig.show()"
   ]
  },
  {
   "cell_type": "code",
   "execution_count": 76,
   "id": "1a342fc8-3e01-402f-9e72-dcb1a2f0e635",
   "metadata": {},
   "outputs": [
    {
     "name": "stdout",
     "output_type": "stream",
     "text": [
      "Accuracy = 0.786 \n",
      "Precision = 0.786 \n",
      "Recall = 0.786 \n",
      "f1 = 0.785\n"
     ]
    },
    {
     "data": {
      "application/vnd.plotly.v1+json": {
       "config": {
        "plotlyServerURL": "https://plot.ly"
       },
       "data": [
        {
         "mode": "lines+markers",
         "name": "Train Accuracy",
         "type": "scatter",
         "x": [
          0,
          1,
          2,
          3,
          4,
          5,
          6,
          7,
          8,
          9,
          10,
          11,
          12,
          13,
          14,
          15,
          16,
          17,
          18,
          19,
          20,
          21,
          22,
          23,
          24,
          25,
          26,
          27,
          28,
          29,
          30,
          31,
          32,
          33,
          34,
          35,
          36,
          37,
          38,
          39,
          40,
          41,
          42,
          43,
          44,
          45,
          46,
          47,
          48,
          49
         ],
         "y": [
          0.32017239928245544,
          0.5290772318840027,
          0.6252518892288208,
          0.6919642090797424,
          0.739639163017273,
          0.7761967182159424,
          0.8056357502937317,
          0.8305546045303345,
          0.852159321308136,
          0.8711732625961304,
          0.8884601593017578,
          0.9043310284614563,
          0.919011652469635,
          0.9313271641731262,
          0.9421178102493286,
          0.9521071910858154,
          0.9601515531539917,
          0.9668577909469604,
          0.9729494452476501,
          0.9774306416511536,
          0.9816239476203918,
          0.9849615097045898,
          0.9873888492584229,
          0.9897305965423584,
          0.9917300343513489,
          0.9930447936058044,
          0.9941962361335754,
          0.995090901851654,
          0.9959388971328735,
          0.99663907289505,
          0.9971136450767517,
          0.9976115822792053,
          0.9979227781295776,
          0.9982962012290955,
          0.9984829425811768,
          0.9987319111824036,
          0.9989730715751648,
          0.9991831183433533,
          0.9992998242378235,
          0.9993931651115417,
          0.9994553923606873,
          0.9995020627975464,
          0.9995487928390503,
          0.9996032118797302,
          0.9996032118797302,
          0.9996888041496277,
          0.9997588396072388,
          0.999782145023346,
          0.9998132586479187,
          0.9998366236686707
         ]
        },
        {
         "mode": "lines+markers",
         "name": "Validation Accuracy",
         "type": "scatter",
         "x": [
          0,
          1,
          2,
          3,
          4,
          5,
          6,
          7,
          8,
          9,
          10,
          11,
          12,
          13,
          14,
          15,
          16,
          17,
          18,
          19,
          20,
          21,
          22,
          23,
          24,
          25,
          26,
          27,
          28,
          29,
          30,
          31,
          32,
          33,
          34,
          35,
          36,
          37,
          38,
          39,
          40,
          41,
          42,
          43,
          44,
          45,
          46,
          47,
          48,
          49
         ],
         "y": [
          0.4575696289539337,
          0.5693792104721069,
          0.6386805772781372,
          0.677298903465271,
          0.7072973251342773,
          0.7293294072151184,
          0.7394430041313171,
          0.7509257793426514,
          0.7569628357887268,
          0.7634665966033936,
          0.7673564553260803,
          0.7686634659767151,
          0.7723665833473206,
          0.7742648124694824,
          0.7760074734687805,
          0.7775633931159973,
          0.7795550227165222,
          0.7806130647659302,
          0.7807375192642212,
          0.7817022204399109,
          0.782293438911438,
          0.7833825945854187,
          0.7837871313095093,
          0.7840983271598816,
          0.7842539548873901,
          0.7842539548873901,
          0.7841294407844543,
          0.784627377986908,
          0.7851563692092896,
          0.7850008010864258,
          0.7850630283355713,
          0.7856542468070984,
          0.7855920195579529,
          0.784969687461853,
          0.7850008010864258,
          0.785094141960144,
          0.7852497100830078,
          0.7860276699066162,
          0.7857476472854614,
          0.7859032154083252,
          0.7860899567604065,
          0.7860276699066162,
          0.7860899567604065,
          0.786276638507843,
          0.7864322662353516,
          0.7864322662353516,
          0.7864322662353516,
          0.7865256071090698,
          0.7868368029594421,
          0.7864944934844971
         ]
        }
       ],
       "layout": {
        "height": 500,
        "template": {
         "data": {
          "bar": [
           {
            "error_x": {
             "color": "#2a3f5f"
            },
            "error_y": {
             "color": "#2a3f5f"
            },
            "marker": {
             "line": {
              "color": "#E5ECF6",
              "width": 0.5
             },
             "pattern": {
              "fillmode": "overlay",
              "size": 10,
              "solidity": 0.2
             }
            },
            "type": "bar"
           }
          ],
          "barpolar": [
           {
            "marker": {
             "line": {
              "color": "#E5ECF6",
              "width": 0.5
             },
             "pattern": {
              "fillmode": "overlay",
              "size": 10,
              "solidity": 0.2
             }
            },
            "type": "barpolar"
           }
          ],
          "carpet": [
           {
            "aaxis": {
             "endlinecolor": "#2a3f5f",
             "gridcolor": "white",
             "linecolor": "white",
             "minorgridcolor": "white",
             "startlinecolor": "#2a3f5f"
            },
            "baxis": {
             "endlinecolor": "#2a3f5f",
             "gridcolor": "white",
             "linecolor": "white",
             "minorgridcolor": "white",
             "startlinecolor": "#2a3f5f"
            },
            "type": "carpet"
           }
          ],
          "choropleth": [
           {
            "colorbar": {
             "outlinewidth": 0,
             "ticks": ""
            },
            "type": "choropleth"
           }
          ],
          "contour": [
           {
            "colorbar": {
             "outlinewidth": 0,
             "ticks": ""
            },
            "colorscale": [
             [
              0,
              "#0d0887"
             ],
             [
              0.1111111111111111,
              "#46039f"
             ],
             [
              0.2222222222222222,
              "#7201a8"
             ],
             [
              0.3333333333333333,
              "#9c179e"
             ],
             [
              0.4444444444444444,
              "#bd3786"
             ],
             [
              0.5555555555555556,
              "#d8576b"
             ],
             [
              0.6666666666666666,
              "#ed7953"
             ],
             [
              0.7777777777777778,
              "#fb9f3a"
             ],
             [
              0.8888888888888888,
              "#fdca26"
             ],
             [
              1,
              "#f0f921"
             ]
            ],
            "type": "contour"
           }
          ],
          "contourcarpet": [
           {
            "colorbar": {
             "outlinewidth": 0,
             "ticks": ""
            },
            "type": "contourcarpet"
           }
          ],
          "heatmap": [
           {
            "colorbar": {
             "outlinewidth": 0,
             "ticks": ""
            },
            "colorscale": [
             [
              0,
              "#0d0887"
             ],
             [
              0.1111111111111111,
              "#46039f"
             ],
             [
              0.2222222222222222,
              "#7201a8"
             ],
             [
              0.3333333333333333,
              "#9c179e"
             ],
             [
              0.4444444444444444,
              "#bd3786"
             ],
             [
              0.5555555555555556,
              "#d8576b"
             ],
             [
              0.6666666666666666,
              "#ed7953"
             ],
             [
              0.7777777777777778,
              "#fb9f3a"
             ],
             [
              0.8888888888888888,
              "#fdca26"
             ],
             [
              1,
              "#f0f921"
             ]
            ],
            "type": "heatmap"
           }
          ],
          "heatmapgl": [
           {
            "colorbar": {
             "outlinewidth": 0,
             "ticks": ""
            },
            "colorscale": [
             [
              0,
              "#0d0887"
             ],
             [
              0.1111111111111111,
              "#46039f"
             ],
             [
              0.2222222222222222,
              "#7201a8"
             ],
             [
              0.3333333333333333,
              "#9c179e"
             ],
             [
              0.4444444444444444,
              "#bd3786"
             ],
             [
              0.5555555555555556,
              "#d8576b"
             ],
             [
              0.6666666666666666,
              "#ed7953"
             ],
             [
              0.7777777777777778,
              "#fb9f3a"
             ],
             [
              0.8888888888888888,
              "#fdca26"
             ],
             [
              1,
              "#f0f921"
             ]
            ],
            "type": "heatmapgl"
           }
          ],
          "histogram": [
           {
            "marker": {
             "pattern": {
              "fillmode": "overlay",
              "size": 10,
              "solidity": 0.2
             }
            },
            "type": "histogram"
           }
          ],
          "histogram2d": [
           {
            "colorbar": {
             "outlinewidth": 0,
             "ticks": ""
            },
            "colorscale": [
             [
              0,
              "#0d0887"
             ],
             [
              0.1111111111111111,
              "#46039f"
             ],
             [
              0.2222222222222222,
              "#7201a8"
             ],
             [
              0.3333333333333333,
              "#9c179e"
             ],
             [
              0.4444444444444444,
              "#bd3786"
             ],
             [
              0.5555555555555556,
              "#d8576b"
             ],
             [
              0.6666666666666666,
              "#ed7953"
             ],
             [
              0.7777777777777778,
              "#fb9f3a"
             ],
             [
              0.8888888888888888,
              "#fdca26"
             ],
             [
              1,
              "#f0f921"
             ]
            ],
            "type": "histogram2d"
           }
          ],
          "histogram2dcontour": [
           {
            "colorbar": {
             "outlinewidth": 0,
             "ticks": ""
            },
            "colorscale": [
             [
              0,
              "#0d0887"
             ],
             [
              0.1111111111111111,
              "#46039f"
             ],
             [
              0.2222222222222222,
              "#7201a8"
             ],
             [
              0.3333333333333333,
              "#9c179e"
             ],
             [
              0.4444444444444444,
              "#bd3786"
             ],
             [
              0.5555555555555556,
              "#d8576b"
             ],
             [
              0.6666666666666666,
              "#ed7953"
             ],
             [
              0.7777777777777778,
              "#fb9f3a"
             ],
             [
              0.8888888888888888,
              "#fdca26"
             ],
             [
              1,
              "#f0f921"
             ]
            ],
            "type": "histogram2dcontour"
           }
          ],
          "mesh3d": [
           {
            "colorbar": {
             "outlinewidth": 0,
             "ticks": ""
            },
            "type": "mesh3d"
           }
          ],
          "parcoords": [
           {
            "line": {
             "colorbar": {
              "outlinewidth": 0,
              "ticks": ""
             }
            },
            "type": "parcoords"
           }
          ],
          "pie": [
           {
            "automargin": true,
            "type": "pie"
           }
          ],
          "scatter": [
           {
            "marker": {
             "colorbar": {
              "outlinewidth": 0,
              "ticks": ""
             }
            },
            "type": "scatter"
           }
          ],
          "scatter3d": [
           {
            "line": {
             "colorbar": {
              "outlinewidth": 0,
              "ticks": ""
             }
            },
            "marker": {
             "colorbar": {
              "outlinewidth": 0,
              "ticks": ""
             }
            },
            "type": "scatter3d"
           }
          ],
          "scattercarpet": [
           {
            "marker": {
             "colorbar": {
              "outlinewidth": 0,
              "ticks": ""
             }
            },
            "type": "scattercarpet"
           }
          ],
          "scattergeo": [
           {
            "marker": {
             "colorbar": {
              "outlinewidth": 0,
              "ticks": ""
             }
            },
            "type": "scattergeo"
           }
          ],
          "scattergl": [
           {
            "marker": {
             "colorbar": {
              "outlinewidth": 0,
              "ticks": ""
             }
            },
            "type": "scattergl"
           }
          ],
          "scattermapbox": [
           {
            "marker": {
             "colorbar": {
              "outlinewidth": 0,
              "ticks": ""
             }
            },
            "type": "scattermapbox"
           }
          ],
          "scatterpolar": [
           {
            "marker": {
             "colorbar": {
              "outlinewidth": 0,
              "ticks": ""
             }
            },
            "type": "scatterpolar"
           }
          ],
          "scatterpolargl": [
           {
            "marker": {
             "colorbar": {
              "outlinewidth": 0,
              "ticks": ""
             }
            },
            "type": "scatterpolargl"
           }
          ],
          "scatterternary": [
           {
            "marker": {
             "colorbar": {
              "outlinewidth": 0,
              "ticks": ""
             }
            },
            "type": "scatterternary"
           }
          ],
          "surface": [
           {
            "colorbar": {
             "outlinewidth": 0,
             "ticks": ""
            },
            "colorscale": [
             [
              0,
              "#0d0887"
             ],
             [
              0.1111111111111111,
              "#46039f"
             ],
             [
              0.2222222222222222,
              "#7201a8"
             ],
             [
              0.3333333333333333,
              "#9c179e"
             ],
             [
              0.4444444444444444,
              "#bd3786"
             ],
             [
              0.5555555555555556,
              "#d8576b"
             ],
             [
              0.6666666666666666,
              "#ed7953"
             ],
             [
              0.7777777777777778,
              "#fb9f3a"
             ],
             [
              0.8888888888888888,
              "#fdca26"
             ],
             [
              1,
              "#f0f921"
             ]
            ],
            "type": "surface"
           }
          ],
          "table": [
           {
            "cells": {
             "fill": {
              "color": "#EBF0F8"
             },
             "line": {
              "color": "white"
             }
            },
            "header": {
             "fill": {
              "color": "#C8D4E3"
             },
             "line": {
              "color": "white"
             }
            },
            "type": "table"
           }
          ]
         },
         "layout": {
          "annotationdefaults": {
           "arrowcolor": "#2a3f5f",
           "arrowhead": 0,
           "arrowwidth": 1
          },
          "autotypenumbers": "strict",
          "coloraxis": {
           "colorbar": {
            "outlinewidth": 0,
            "ticks": ""
           }
          },
          "colorscale": {
           "diverging": [
            [
             0,
             "#8e0152"
            ],
            [
             0.1,
             "#c51b7d"
            ],
            [
             0.2,
             "#de77ae"
            ],
            [
             0.3,
             "#f1b6da"
            ],
            [
             0.4,
             "#fde0ef"
            ],
            [
             0.5,
             "#f7f7f7"
            ],
            [
             0.6,
             "#e6f5d0"
            ],
            [
             0.7,
             "#b8e186"
            ],
            [
             0.8,
             "#7fbc41"
            ],
            [
             0.9,
             "#4d9221"
            ],
            [
             1,
             "#276419"
            ]
           ],
           "sequential": [
            [
             0,
             "#0d0887"
            ],
            [
             0.1111111111111111,
             "#46039f"
            ],
            [
             0.2222222222222222,
             "#7201a8"
            ],
            [
             0.3333333333333333,
             "#9c179e"
            ],
            [
             0.4444444444444444,
             "#bd3786"
            ],
            [
             0.5555555555555556,
             "#d8576b"
            ],
            [
             0.6666666666666666,
             "#ed7953"
            ],
            [
             0.7777777777777778,
             "#fb9f3a"
            ],
            [
             0.8888888888888888,
             "#fdca26"
            ],
            [
             1,
             "#f0f921"
            ]
           ],
           "sequentialminus": [
            [
             0,
             "#0d0887"
            ],
            [
             0.1111111111111111,
             "#46039f"
            ],
            [
             0.2222222222222222,
             "#7201a8"
            ],
            [
             0.3333333333333333,
             "#9c179e"
            ],
            [
             0.4444444444444444,
             "#bd3786"
            ],
            [
             0.5555555555555556,
             "#d8576b"
            ],
            [
             0.6666666666666666,
             "#ed7953"
            ],
            [
             0.7777777777777778,
             "#fb9f3a"
            ],
            [
             0.8888888888888888,
             "#fdca26"
            ],
            [
             1,
             "#f0f921"
            ]
           ]
          },
          "colorway": [
           "#636efa",
           "#EF553B",
           "#00cc96",
           "#ab63fa",
           "#FFA15A",
           "#19d3f3",
           "#FF6692",
           "#B6E880",
           "#FF97FF",
           "#FECB52"
          ],
          "font": {
           "color": "#2a3f5f"
          },
          "geo": {
           "bgcolor": "white",
           "lakecolor": "white",
           "landcolor": "#E5ECF6",
           "showlakes": true,
           "showland": true,
           "subunitcolor": "white"
          },
          "hoverlabel": {
           "align": "left"
          },
          "hovermode": "closest",
          "mapbox": {
           "style": "light"
          },
          "paper_bgcolor": "white",
          "plot_bgcolor": "#E5ECF6",
          "polar": {
           "angularaxis": {
            "gridcolor": "white",
            "linecolor": "white",
            "ticks": ""
           },
           "bgcolor": "#E5ECF6",
           "radialaxis": {
            "gridcolor": "white",
            "linecolor": "white",
            "ticks": ""
           }
          },
          "scene": {
           "xaxis": {
            "backgroundcolor": "#E5ECF6",
            "gridcolor": "white",
            "gridwidth": 2,
            "linecolor": "white",
            "showbackground": true,
            "ticks": "",
            "zerolinecolor": "white"
           },
           "yaxis": {
            "backgroundcolor": "#E5ECF6",
            "gridcolor": "white",
            "gridwidth": 2,
            "linecolor": "white",
            "showbackground": true,
            "ticks": "",
            "zerolinecolor": "white"
           },
           "zaxis": {
            "backgroundcolor": "#E5ECF6",
            "gridcolor": "white",
            "gridwidth": 2,
            "linecolor": "white",
            "showbackground": true,
            "ticks": "",
            "zerolinecolor": "white"
           }
          },
          "shapedefaults": {
           "line": {
            "color": "#2a3f5f"
           }
          },
          "ternary": {
           "aaxis": {
            "gridcolor": "white",
            "linecolor": "white",
            "ticks": ""
           },
           "baxis": {
            "gridcolor": "white",
            "linecolor": "white",
            "ticks": ""
           },
           "bgcolor": "#E5ECF6",
           "caxis": {
            "gridcolor": "white",
            "linecolor": "white",
            "ticks": ""
           }
          },
          "title": {
           "x": 0.05
          },
          "xaxis": {
           "automargin": true,
           "gridcolor": "white",
           "linecolor": "white",
           "ticks": "",
           "title": {
            "standoff": 15
           },
           "zerolinecolor": "white",
           "zerolinewidth": 2
          },
          "yaxis": {
           "automargin": true,
           "gridcolor": "white",
           "linecolor": "white",
           "ticks": "",
           "title": {
            "standoff": 15
           },
           "zerolinecolor": "white",
           "zerolinewidth": 2
          }
         }
        },
        "width": 700,
        "xaxis": {
         "autorange": true,
         "range": [
          -3.251425609123899,
          52.2514256091239
         ],
         "type": "linear"
        },
        "yaxis": {
         "autorange": true,
         "range": [
          0.27231725335864887,
          1.0476917695924772
         ],
         "type": "linear"
        }
       }
      },
      "image/png": "[encoded data removed]",
      "text/html": [
       "<div>                            <div id=\"359c82e1-d7c5-4c3f-b1b1-bb58c9c5b5d8\" class=\"plotly-graph-div\" style=\"height:500px; width:700px;\"></div>            <script type=\"text/javascript\">                require([\"plotly\"], function(Plotly) {                    window.PLOTLYENV=window.PLOTLYENV || {};                                    if (document.getElementById(\"359c82e1-d7c5-4c3f-b1b1-bb58c9c5b5d8\")) {                    Plotly.newPlot(                        \"359c82e1-d7c5-4c3f-b1b1-bb58c9c5b5d8\",                        [{\"mode\":\"lines+markers\",\"name\":\"Train Accuracy\",\"type\":\"scatter\",\"x\":[0,1,2,3,4,5,6,7,8,9,10,11,12,13,14,15,16,17,18,19,20,21,22,23,24,25,26,27,28,29,30,31,32,33,34,35,36,37,38,39,40,41,42,43,44,45,46,47,48,49],\"y\":[0.32017239928245544,0.5290772318840027,0.6252518892288208,0.6919642090797424,0.739639163017273,0.7761967182159424,0.8056357502937317,0.8305546045303345,0.852159321308136,0.8711732625961304,0.8884601593017578,0.9043310284614563,0.919011652469635,0.9313271641731262,0.9421178102493286,0.9521071910858154,0.9601515531539917,0.9668577909469604,0.9729494452476501,0.9774306416511536,0.9816239476203918,0.9849615097045898,0.9873888492584229,0.9897305965423584,0.9917300343513489,0.9930447936058044,0.9941962361335754,0.995090901851654,0.9959388971328735,0.99663907289505,0.9971136450767517,0.9976115822792053,0.9979227781295776,0.9982962012290955,0.9984829425811768,0.9987319111824036,0.9989730715751648,0.9991831183433533,0.9992998242378235,0.9993931651115417,0.9994553923606873,0.9995020627975464,0.9995487928390503,0.9996032118797302,0.9996032118797302,0.9996888041496277,0.9997588396072388,0.999782145023346,0.9998132586479187,0.9998366236686707]},{\"mode\":\"lines+markers\",\"name\":\"Validation Accuracy\",\"type\":\"scatter\",\"x\":[0,1,2,3,4,5,6,7,8,9,10,11,12,13,14,15,16,17,18,19,20,21,22,23,24,25,26,27,28,29,30,31,32,33,34,35,36,37,38,39,40,41,42,43,44,45,46,47,48,49],\"y\":[0.4575696289539337,0.5693792104721069,0.6386805772781372,0.677298903465271,0.7072973251342773,0.7293294072151184,0.7394430041313171,0.7509257793426514,0.7569628357887268,0.7634665966033936,0.7673564553260803,0.7686634659767151,0.7723665833473206,0.7742648124694824,0.7760074734687805,0.7775633931159973,0.7795550227165222,0.7806130647659302,0.7807375192642212,0.7817022204399109,0.782293438911438,0.7833825945854187,0.7837871313095093,0.7840983271598816,0.7842539548873901,0.7842539548873901,0.7841294407844543,0.784627377986908,0.7851563692092896,0.7850008010864258,0.7850630283355713,0.7856542468070984,0.7855920195579529,0.784969687461853,0.7850008010864258,0.785094141960144,0.7852497100830078,0.7860276699066162,0.7857476472854614,0.7859032154083252,0.7860899567604065,0.7860276699066162,0.7860899567604065,0.786276638507843,0.7864322662353516,0.7864322662353516,0.7864322662353516,0.7865256071090698,0.7868368029594421,0.7864944934844971]}],                        {\"height\":500,\"template\":{\"data\":{\"bar\":[{\"error_x\":{\"color\":\"#2a3f5f\"},\"error_y\":{\"color\":\"#2a3f5f\"},\"marker\":{\"line\":{\"color\":\"#E5ECF6\",\"width\":0.5},\"pattern\":{\"fillmode\":\"overlay\",\"size\":10,\"solidity\":0.2}},\"type\":\"bar\"}],\"barpolar\":[{\"marker\":{\"line\":{\"color\":\"#E5ECF6\",\"width\":0.5},\"pattern\":{\"fillmode\":\"overlay\",\"size\":10,\"solidity\":0.2}},\"type\":\"barpolar\"}],\"carpet\":[{\"aaxis\":{\"endlinecolor\":\"#2a3f5f\",\"gridcolor\":\"white\",\"linecolor\":\"white\",\"minorgridcolor\":\"white\",\"startlinecolor\":\"#2a3f5f\"},\"baxis\":{\"endlinecolor\":\"#2a3f5f\",\"gridcolor\":\"white\",\"linecolor\":\"white\",\"minorgridcolor\":\"white\",\"startlinecolor\":\"#2a3f5f\"},\"type\":\"carpet\"}],\"choropleth\":[{\"colorbar\":{\"outlinewidth\":0,\"ticks\":\"\"},\"type\":\"choropleth\"}],\"contour\":[{\"colorbar\":{\"outlinewidth\":0,\"ticks\":\"\"},\"colorscale\":[[0.0,\"#0d0887\"],[0.1111111111111111,\"#46039f\"],[0.2222222222222222,\"#7201a8\"],[0.3333333333333333,\"#9c179e\"],[0.4444444444444444,\"#bd3786\"],[0.5555555555555556,\"#d8576b\"],[0.6666666666666666,\"#ed7953\"],[0.7777777777777778,\"#fb9f3a\"],[0.8888888888888888,\"#fdca26\"],[1.0,\"#f0f921\"]],\"type\":\"contour\"}],\"contourcarpet\":[{\"colorbar\":{\"outlinewidth\":0,\"ticks\":\"\"},\"type\":\"contourcarpet\"}],\"heatmap\":[{\"colorbar\":{\"outlinewidth\":0,\"ticks\":\"\"},\"colorscale\":[[0.0,\"#0d0887\"],[0.1111111111111111,\"#46039f\"],[0.2222222222222222,\"#7201a8\"],[0.3333333333333333,\"#9c179e\"],[0.4444444444444444,\"#bd3786\"],[0.5555555555555556,\"#d8576b\"],[0.6666666666666666,\"#ed7953\"],[0.7777777777777778,\"#fb9f3a\"],[0.8888888888888888,\"#fdca26\"],[1.0,\"#f0f921\"]],\"type\":\"heatmap\"}],\"heatmapgl\":[{\"colorbar\":{\"outlinewidth\":0,\"ticks\":\"\"},\"colorscale\":[[0.0,\"#0d0887\"],[0.1111111111111111,\"#46039f\"],[0.2222222222222222,\"#7201a8\"],[0.3333333333333333,\"#9c179e\"],[0.4444444444444444,\"#bd3786\"],[0.5555555555555556,\"#d8576b\"],[0.6666666666666666,\"#ed7953\"],[0.7777777777777778,\"#fb9f3a\"],[0.8888888888888888,\"#fdca26\"],[1.0,\"#f0f921\"]],\"type\":\"heatmapgl\"}],\"histogram\":[{\"marker\":{\"pattern\":{\"fillmode\":\"overlay\",\"size\":10,\"solidity\":0.2}},\"type\":\"histogram\"}],\"histogram2d\":[{\"colorbar\":{\"outlinewidth\":0,\"ticks\":\"\"},\"colorscale\":[[0.0,\"#0d0887\"],[0.1111111111111111,\"#46039f\"],[0.2222222222222222,\"#7201a8\"],[0.3333333333333333,\"#9c179e\"],[0.4444444444444444,\"#bd3786\"],[0.5555555555555556,\"#d8576b\"],[0.6666666666666666,\"#ed7953\"],[0.7777777777777778,\"#fb9f3a\"],[0.8888888888888888,\"#fdca26\"],[1.0,\"#f0f921\"]],\"type\":\"histogram2d\"}],\"histogram2dcontour\":[{\"colorbar\":{\"outlinewidth\":0,\"ticks\":\"\"},\"colorscale\":[[0.0,\"#0d0887\"],[0.1111111111111111,\"#46039f\"],[0.2222222222222222,\"#7201a8\"],[0.3333333333333333,\"#9c179e\"],[0.4444444444444444,\"#bd3786\"],[0.5555555555555556,\"#d8576b\"],[0.6666666666666666,\"#ed7953\"],[0.7777777777777778,\"#fb9f3a\"],[0.8888888888888888,\"#fdca26\"],[1.0,\"#f0f921\"]],\"type\":\"histogram2dcontour\"}],\"mesh3d\":[{\"colorbar\":{\"outlinewidth\":0,\"ticks\":\"\"},\"type\":\"mesh3d\"}],\"parcoords\":[{\"line\":{\"colorbar\":{\"outlinewidth\":0,\"ticks\":\"\"}},\"type\":\"parcoords\"}],\"pie\":[{\"automargin\":true,\"type\":\"pie\"}],\"scatter\":[{\"marker\":{\"colorbar\":{\"outlinewidth\":0,\"ticks\":\"\"}},\"type\":\"scatter\"}],\"scatter3d\":[{\"line\":{\"colorbar\":{\"outlinewidth\":0,\"ticks\":\"\"}},\"marker\":{\"colorbar\":{\"outlinewidth\":0,\"ticks\":\"\"}},\"type\":\"scatter3d\"}],\"scattercarpet\":[{\"marker\":{\"colorbar\":{\"outlinewidth\":0,\"ticks\":\"\"}},\"type\":\"scattercarpet\"}],\"scattergeo\":[{\"marker\":{\"colorbar\":{\"outlinewidth\":0,\"ticks\":\"\"}},\"type\":\"scattergeo\"}],\"scattergl\":[{\"marker\":{\"colorbar\":{\"outlinewidth\":0,\"ticks\":\"\"}},\"type\":\"scattergl\"}],\"scattermapbox\":[{\"marker\":{\"colorbar\":{\"outlinewidth\":0,\"ticks\":\"\"}},\"type\":\"scattermapbox\"}],\"scatterpolar\":[{\"marker\":{\"colorbar\":{\"outlinewidth\":0,\"ticks\":\"\"}},\"type\":\"scatterpolar\"}],\"scatterpolargl\":[{\"marker\":{\"colorbar\":{\"outlinewidth\":0,\"ticks\":\"\"}},\"type\":\"scatterpolargl\"}],\"scatterternary\":[{\"marker\":{\"colorbar\":{\"outlinewidth\":0,\"ticks\":\"\"}},\"type\":\"scatterternary\"}],\"surface\":[{\"colorbar\":{\"outlinewidth\":0,\"ticks\":\"\"},\"colorscale\":[[0.0,\"#0d0887\"],[0.1111111111111111,\"#46039f\"],[0.2222222222222222,\"#7201a8\"],[0.3333333333333333,\"#9c179e\"],[0.4444444444444444,\"#bd3786\"],[0.5555555555555556,\"#d8576b\"],[0.6666666666666666,\"#ed7953\"],[0.7777777777777778,\"#fb9f3a\"],[0.8888888888888888,\"#fdca26\"],[1.0,\"#f0f921\"]],\"type\":\"surface\"}],\"table\":[{\"cells\":{\"fill\":{\"color\":\"#EBF0F8\"},\"line\":{\"color\":\"white\"}},\"header\":{\"fill\":{\"color\":\"#C8D4E3\"},\"line\":{\"color\":\"white\"}},\"type\":\"table\"}]},\"layout\":{\"annotationdefaults\":{\"arrowcolor\":\"#2a3f5f\",\"arrowhead\":0,\"arrowwidth\":1},\"autotypenumbers\":\"strict\",\"coloraxis\":{\"colorbar\":{\"outlinewidth\":0,\"ticks\":\"\"}},\"colorscale\":{\"diverging\":[[0,\"#8e0152\"],[0.1,\"#c51b7d\"],[0.2,\"#de77ae\"],[0.3,\"#f1b6da\"],[0.4,\"#fde0ef\"],[0.5,\"#f7f7f7\"],[0.6,\"#e6f5d0\"],[0.7,\"#b8e186\"],[0.8,\"#7fbc41\"],[0.9,\"#4d9221\"],[1,\"#276419\"]],\"sequential\":[[0.0,\"#0d0887\"],[0.1111111111111111,\"#46039f\"],[0.2222222222222222,\"#7201a8\"],[0.3333333333333333,\"#9c179e\"],[0.4444444444444444,\"#bd3786\"],[0.5555555555555556,\"#d8576b\"],[0.6666666666666666,\"#ed7953\"],[0.7777777777777778,\"#fb9f3a\"],[0.8888888888888888,\"#fdca26\"],[1.0,\"#f0f921\"]],\"sequentialminus\":[[0.0,\"#0d0887\"],[0.1111111111111111,\"#46039f\"],[0.2222222222222222,\"#7201a8\"],[0.3333333333333333,\"#9c179e\"],[0.4444444444444444,\"#bd3786\"],[0.5555555555555556,\"#d8576b\"],[0.6666666666666666,\"#ed7953\"],[0.7777777777777778,\"#fb9f3a\"],[0.8888888888888888,\"#fdca26\"],[1.0,\"#f0f921\"]]},\"colorway\":[\"#636efa\",\"#EF553B\",\"#00cc96\",\"#ab63fa\",\"#FFA15A\",\"#19d3f3\",\"#FF6692\",\"#B6E880\",\"#FF97FF\",\"#FECB52\"],\"font\":{\"color\":\"#2a3f5f\"},\"geo\":{\"bgcolor\":\"white\",\"lakecolor\":\"white\",\"landcolor\":\"#E5ECF6\",\"showlakes\":true,\"showland\":true,\"subunitcolor\":\"white\"},\"hoverlabel\":{\"align\":\"left\"},\"hovermode\":\"closest\",\"mapbox\":{\"style\":\"light\"},\"paper_bgcolor\":\"white\",\"plot_bgcolor\":\"#E5ECF6\",\"polar\":{\"angularaxis\":{\"gridcolor\":\"white\",\"linecolor\":\"white\",\"ticks\":\"\"},\"bgcolor\":\"#E5ECF6\",\"radialaxis\":{\"gridcolor\":\"white\",\"linecolor\":\"white\",\"ticks\":\"\"}},\"scene\":{\"xaxis\":{\"backgroundcolor\":\"#E5ECF6\",\"gridcolor\":\"white\",\"gridwidth\":2,\"linecolor\":\"white\",\"showbackground\":true,\"ticks\":\"\",\"zerolinecolor\":\"white\"},\"yaxis\":{\"backgroundcolor\":\"#E5ECF6\",\"gridcolor\":\"white\",\"gridwidth\":2,\"linecolor\":\"white\",\"showbackground\":true,\"ticks\":\"\",\"zerolinecolor\":\"white\"},\"zaxis\":{\"backgroundcolor\":\"#E5ECF6\",\"gridcolor\":\"white\",\"gridwidth\":2,\"linecolor\":\"white\",\"showbackground\":true,\"ticks\":\"\",\"zerolinecolor\":\"white\"}},\"shapedefaults\":{\"line\":{\"color\":\"#2a3f5f\"}},\"ternary\":{\"aaxis\":{\"gridcolor\":\"white\",\"linecolor\":\"white\",\"ticks\":\"\"},\"baxis\":{\"gridcolor\":\"white\",\"linecolor\":\"white\",\"ticks\":\"\"},\"bgcolor\":\"#E5ECF6\",\"caxis\":{\"gridcolor\":\"white\",\"linecolor\":\"white\",\"ticks\":\"\"}},\"title\":{\"x\":0.05},\"xaxis\":{\"automargin\":true,\"gridcolor\":\"white\",\"linecolor\":\"white\",\"ticks\":\"\",\"title\":{\"standoff\":15},\"zerolinecolor\":\"white\",\"zerolinewidth\":2},\"yaxis\":{\"automargin\":true,\"gridcolor\":\"white\",\"linecolor\":\"white\",\"ticks\":\"\",\"title\":{\"standoff\":15},\"zerolinecolor\":\"white\",\"zerolinewidth\":2}}},\"width\":700},                        {\"responsive\": true}                    ).then(function(){\n",
       "                            \n",
       "var gd = document.getElementById('359c82e1-d7c5-4c3f-b1b1-bb58c9c5b5d8');\n",
       "var x = new MutationObserver(function (mutations, observer) {{\n",
       "        var display = window.getComputedStyle(gd).display;\n",
       "        if (!display || display === 'none') {{\n",
       "            console.log([gd, 'removed!']);\n",
       "            Plotly.purge(gd);\n",
       "            observer.disconnect();\n",
       "        }}\n",
       "}});\n",
       "\n",
       "// Listen for the removal of the full notebook cells\n",
       "var notebookContainer = gd.closest('#notebook-container');\n",
       "if (notebookContainer) {{\n",
       "    x.observe(notebookContainer, {childList: true});\n",
       "}}\n",
       "\n",
       "// Listen for the clearing of the current output cell\n",
       "var outputEl = gd.closest('.output');\n",
       "if (outputEl) {{\n",
       "    x.observe(outputEl, {childList: true});\n",
       "}}\n",
       "\n",
       "                        })                };                });            </script>        </div>"
      ]
     },
     "metadata": {},
     "output_type": "display_data"
    }
   ],
   "source": [
    "get_model_metrics(y_val, model.predict(X_val_bigram), full_report = 0, plot = 1)"
   ]
  }
 ],
 "metadata": {
  "kernelspec": {
   "display_name": "Python 3",
   "language": "python",
   "name": "python3"
  },
  "language_info": {
   "codemirror_mode": {
    "name": "ipython",
    "version": 3
   },
   "file_extension": ".py",
   "mimetype": "text/x-python",
   "name": "python",
   "nbconvert_exporter": "python",
   "pygments_lexer": "ipython3",
   "version": "3.8.8"
  }
 },
 "nbformat": 4,
 "nbformat_minor": 5
}
