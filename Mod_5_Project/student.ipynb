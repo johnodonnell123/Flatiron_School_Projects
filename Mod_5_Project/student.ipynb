{
 "cells": [
  {
   "cell_type": "markdown",
   "id": "46b17f3a-fc40-43d2-b026-798f26014493",
   "metadata": {},
   "source": [
    "# <center> News Classification with NLP and Neural Networks</center>"
   ]
  },
  {
   "cell_type": "markdown",
   "id": "fcb09f44-33f4-4938-aaa4-65c3df93b527",
   "metadata": {},
   "source": [
    "### Imports"
   ]
  },
  {
   "cell_type": "code",
   "execution_count": 1,
   "id": "a2a1634b-c53c-4c99-8e6e-f7759bd2856f",
   "metadata": {},
   "outputs": [],
   "source": [
    "import warnings\n",
    "import numpy as np\n",
    "import pandas as pd\n",
    "import plotly.express as px\n",
    "import tensorflow as tf\n",
    "from sklearn import preprocessing\n",
    "import plotly.graph_objects as go\n",
    "\n",
    "from keras import models\n",
    "from keras import layers\n",
    "from keras import optimizers\n",
    "from keras.utils.np_utils import to_categorical\n",
    "from sklearn.feature_extraction.text import CountVectorizer\n",
    "\n",
    "\n",
    "warnings.filterwarnings('ignore')"
   ]
  },
  {
   "cell_type": "markdown",
   "id": "e3a02e18-a47b-4179-9c28-fb2bb93cc5d6",
   "metadata": {},
   "source": [
    "### Data\n",
    "- Import JSON file\n",
    "- Limit to top categories"
   ]
  },
  {
   "cell_type": "code",
   "execution_count": 2,
   "id": "14ebb1ae-25d6-43d9-9510-54dd2e864b10",
   "metadata": {},
   "outputs": [
    {
     "name": "stdout",
     "output_type": "stream",
     "text": [
      "(200853, 6)\n"
     ]
    },
    {
     "data": {
      "text/html": [
       "<div>\n",
       "<style scoped>\n",
       "    .dataframe tbody tr th:only-of-type {\n",
       "        vertical-align: middle;\n",
       "    }\n",
       "\n",
       "    .dataframe tbody tr th {\n",
       "        vertical-align: top;\n",
       "    }\n",
       "\n",
       "    .dataframe thead th {\n",
       "        text-align: right;\n",
       "    }\n",
       "</style>\n",
       "<table border=\"1\" class=\"dataframe\">\n",
       "  <thead>\n",
       "    <tr style=\"text-align: right;\">\n",
       "      <th></th>\n",
       "      <th>category</th>\n",
       "      <th>headline</th>\n",
       "      <th>authors</th>\n",
       "      <th>link</th>\n",
       "      <th>short_description</th>\n",
       "      <th>date</th>\n",
       "    </tr>\n",
       "  </thead>\n",
       "  <tbody>\n",
       "    <tr>\n",
       "      <th>187091</th>\n",
       "      <td>SCIENCE</td>\n",
       "      <td>Northern Lights: Sweden's Night Sky Swirls Wit...</td>\n",
       "      <td></td>\n",
       "      <td>https://www.huffingtonpost.com/entry/northern-...</td>\n",
       "      <td>April Auroras: Dazzling Photos of Northern Lig...</td>\n",
       "      <td>2012-06-24</td>\n",
       "    </tr>\n",
       "    <tr>\n",
       "      <th>23745</th>\n",
       "      <td>WORLD NEWS</td>\n",
       "      <td>Russia's Military Says It May Have Killed ISIS...</td>\n",
       "      <td>Dmitry Solovyov and Ahmed Rasheed, Reuters</td>\n",
       "      <td>https://www.huffingtonpost.com/entry/airstrike...</td>\n",
       "      <td>The airstrike targeted a meeting of ISIS leade...</td>\n",
       "      <td>2017-06-16</td>\n",
       "    </tr>\n",
       "    <tr>\n",
       "      <th>71050</th>\n",
       "      <td>ENTERTAINMENT</td>\n",
       "      <td>7 'Star Wars' Theories That'll Change How You ...</td>\n",
       "      <td>Bill Bradley</td>\n",
       "      <td>https://www.huffingtonpost.com/entry/star-wars...</td>\n",
       "      <td>These are the theories you're looking for.</td>\n",
       "      <td>2015-12-26</td>\n",
       "    </tr>\n",
       "    <tr>\n",
       "      <th>179532</th>\n",
       "      <td>MONEY</td>\n",
       "      <td>Free Money Day: On Lehman Brothers' Death Anni...</td>\n",
       "      <td>Catherine New</td>\n",
       "      <td>https://www.huffingtonpost.com/entry/free-mone...</td>\n",
       "      <td>For Wall Street, Saturday is a gloomy annivers...</td>\n",
       "      <td>2012-09-14</td>\n",
       "    </tr>\n",
       "    <tr>\n",
       "      <th>103657</th>\n",
       "      <td>SPORTS</td>\n",
       "      <td>Here's How A Former NBA Prospect Found Out His...</td>\n",
       "      <td>Chris Branch</td>\n",
       "      <td>https://www.huffingtonpost.com/entry/isaiah-au...</td>\n",
       "      <td></td>\n",
       "      <td>2014-12-19</td>\n",
       "    </tr>\n",
       "  </tbody>\n",
       "</table>\n",
       "</div>"
      ],
      "text/plain": [
       "             category                                           headline  \\\n",
       "187091        SCIENCE  Northern Lights: Sweden's Night Sky Swirls Wit...   \n",
       "23745      WORLD NEWS  Russia's Military Says It May Have Killed ISIS...   \n",
       "71050   ENTERTAINMENT  7 'Star Wars' Theories That'll Change How You ...   \n",
       "179532          MONEY  Free Money Day: On Lehman Brothers' Death Anni...   \n",
       "103657         SPORTS  Here's How A Former NBA Prospect Found Out His...   \n",
       "\n",
       "                                           authors  \\\n",
       "187091                                               \n",
       "23745   Dmitry Solovyov and Ahmed Rasheed, Reuters   \n",
       "71050                                 Bill Bradley   \n",
       "179532                               Catherine New   \n",
       "103657                                Chris Branch   \n",
       "\n",
       "                                                     link  \\\n",
       "187091  https://www.huffingtonpost.com/entry/northern-...   \n",
       "23745   https://www.huffingtonpost.com/entry/airstrike...   \n",
       "71050   https://www.huffingtonpost.com/entry/star-wars...   \n",
       "179532  https://www.huffingtonpost.com/entry/free-mone...   \n",
       "103657  https://www.huffingtonpost.com/entry/isaiah-au...   \n",
       "\n",
       "                                        short_description       date  \n",
       "187091  April Auroras: Dazzling Photos of Northern Lig... 2012-06-24  \n",
       "23745   The airstrike targeted a meeting of ISIS leade... 2017-06-16  \n",
       "71050          These are the theories you're looking for. 2015-12-26  \n",
       "179532  For Wall Street, Saturday is a gloomy annivers... 2012-09-14  \n",
       "103657                                                    2014-12-19  "
      ]
     },
     "execution_count": 2,
     "metadata": {},
     "output_type": "execute_result"
    }
   ],
   "source": [
    "# Read in json file to DataFrame\n",
    "df = pd.read_json('News_Category_Dataset_v2.json', lines=True)\n",
    "\n",
    "# View Results\n",
    "print(df.shape)\n",
    "df.sample(5)"
   ]
  },
  {
   "cell_type": "markdown",
   "id": "8dd82dfc-6153-4f97-ad75-9007960b828b",
   "metadata": {},
   "source": [
    "# Cleaning"
   ]
  },
  {
   "cell_type": "markdown",
   "id": "68ca86a7-4e67-4e77-839e-0a2ffbc6920f",
   "metadata": {},
   "source": [
    "#### Check data types"
   ]
  },
  {
   "cell_type": "raw",
   "id": "6e41005e-96ba-4cc5-b7e5-78f99bceae05",
   "metadata": {},
   "source": [
    "df.info()"
   ]
  },
  {
   "cell_type": "markdown",
   "id": "314368a0-6cfb-4d84-8e6a-53b17873c0f8",
   "metadata": {},
   "source": [
    "#### Check NaNs "
   ]
  },
  {
   "cell_type": "raw",
   "id": "5a6edbf1-c01f-4b57-a18d-5e58be8a9fb7",
   "metadata": {},
   "source": [
    "df.isna().sum()"
   ]
  },
  {
   "cell_type": "markdown",
   "id": "601100b7-6574-403b-9df5-b7009c95b3af",
   "metadata": {},
   "source": [
    "#### Check Duplicates"
   ]
  },
  {
   "cell_type": "code",
   "execution_count": 3,
   "id": "9ee4a10b-d5c2-4811-b945-5ebd596a25c2",
   "metadata": {},
   "outputs": [
    {
     "name": "stdout",
     "output_type": "stream",
     "text": [
      "There are 13 duplicated rows\n",
      "There are now 0 duplicated rows\n"
     ]
    }
   ],
   "source": [
    "print(f\"There are {df.duplicated().sum()} duplicated rows\")\n",
    "\n",
    "# Drop duplicates\n",
    "df = df.drop_duplicates()\n",
    "\n",
    "print(f\"There are now {df.duplicated().sum()} duplicated rows\")"
   ]
  },
  {
   "cell_type": "markdown",
   "id": "113bb9ac-6a5a-4abc-ae61-82cc5e5282f2",
   "metadata": {},
   "source": [
    "### Dates"
   ]
  },
  {
   "cell_type": "code",
   "execution_count": 4,
   "id": "0922624b-8ddb-44c4-8648-00f0e807c4f2",
   "metadata": {},
   "outputs": [],
   "source": [
    "df['date'] = df['date'].dt.year"
   ]
  },
  {
   "cell_type": "markdown",
   "id": "91ba9ece-1396-4aaf-b4fe-248728420b19",
   "metadata": {},
   "source": [
    "#### Authors \n",
    "- The `authors` field is a list containing:\n",
    "    - Name(s)\n",
    "    - Titles\n",
    "    - Organizations\n",
    "    - Misc comments\n",
    "- It also contains many NaNs in the form of empty strings\n",
    "- Approach:\n",
    "    - Replace NaNs with 'unknown'\n",
    "    - Extract author names from the field, create new field named `author_names` to be used as a bigram\n",
    "    - Leave the rest of the information in a new field named `author_notes`"
   ]
  },
  {
   "cell_type": "markdown",
   "id": "d546711d-3f03-4745-b91c-4eb5ca22438b",
   "metadata": {},
   "source": [
    "### Author Names\n",
    "- Replace missing\n",
    "- Get Names\n",
    "- Clean non-name details\n",
    "- Cast as strings"
   ]
  },
  {
   "cell_type": "code",
   "execution_count": 5,
   "id": "b4f923fa-b7e9-41ea-99b3-1fa83c25f0a6",
   "metadata": {},
   "outputs": [],
   "source": [
    "# Replace missing authors with 'unknown'\n",
    "df['authors'] = df['authors'].apply(lambda x: x.replace('','unknown') if x == '' else x)"
   ]
  },
  {
   "cell_type": "code",
   "execution_count": 6,
   "id": "b5277caf-7482-47ad-a150-8f78b701fb21",
   "metadata": {},
   "outputs": [],
   "source": [
    "# Get author names from list\n",
    "df['author_names'] = df['authors'].apply(lambda x: x.replace('By','').strip().split(',')[0].lower().split(' And '))"
   ]
  },
  {
   "cell_type": "code",
   "execution_count": 7,
   "id": "cfeb2e53-c1e0-4d56-a942-4ae27986b680",
   "metadata": {},
   "outputs": [],
   "source": [
    "# Clean up common formatting issues\n",
    "df['authors'] = df['authors'].apply(lambda x: x.replace('By','').replace('\\n','').replace('Contributor','Contributor ').strip())"
   ]
  },
  {
   "cell_type": "markdown",
   "id": "85739996-443e-4d95-8cbc-5eb9ff0cc15c",
   "metadata": {},
   "source": [
    "### Links\n",
    "- The links are not helpful in their current form, need to extract keyworks from them"
   ]
  },
  {
   "cell_type": "code",
   "execution_count": 8,
   "id": "9e8dd769-3f83-488f-a04e-8b86eab29beb",
   "metadata": {},
   "outputs": [],
   "source": [
    "# Replace charaters we want to split on with commas, then split, only get the relevant entries from the resulting list\n",
    "df['link_keywords'] = df['link'].apply(lambda x: x.replace('-',',').replace(\"_\",',').replace(\"entry/\",',').split(',')[1:-2])\n",
    "\n",
    "# Typecast from list to string\n",
    "df['link_keywords'] = df['link_keywords'].apply(lambda x: ' '.join(x))"
   ]
  },
  {
   "cell_type": "markdown",
   "id": "5d1ff202-4315-4e44-bd04-707dd47962df",
   "metadata": {},
   "source": [
    "### Join all text columns"
   ]
  },
  {
   "cell_type": "code",
   "execution_count": 9,
   "id": "77df868d-a8fb-49d2-962d-3ff44d3c11d9",
   "metadata": {},
   "outputs": [],
   "source": [
    "df['text'] = df['headline'] + ' ' + df['short_description'] + ' ' + df['link_keywords'] + ' ' + df['authors'] + ' ' + df['date'].astype(str)"
   ]
  },
  {
   "cell_type": "markdown",
   "id": "13c6ea61-e042-41bd-8c32-79609de50c10",
   "metadata": {},
   "source": [
    "### Drop unwanted features"
   ]
  },
  {
   "cell_type": "code",
   "execution_count": 10,
   "id": "02ba9bb9-a3b4-4265-b6ed-8871b2cbfbc9",
   "metadata": {},
   "outputs": [
    {
     "data": {
      "text/html": [
       "<div>\n",
       "<style scoped>\n",
       "    .dataframe tbody tr th:only-of-type {\n",
       "        vertical-align: middle;\n",
       "    }\n",
       "\n",
       "    .dataframe tbody tr th {\n",
       "        vertical-align: top;\n",
       "    }\n",
       "\n",
       "    .dataframe thead th {\n",
       "        text-align: right;\n",
       "    }\n",
       "</style>\n",
       "<table border=\"1\" class=\"dataframe\">\n",
       "  <thead>\n",
       "    <tr style=\"text-align: right;\">\n",
       "      <th></th>\n",
       "      <th>category</th>\n",
       "      <th>text</th>\n",
       "    </tr>\n",
       "  </thead>\n",
       "  <tbody>\n",
       "    <tr>\n",
       "      <th>100774</th>\n",
       "      <td>TRAVEL</td>\n",
       "      <td>How To Work When You're On The Road For the pa...</td>\n",
       "    </tr>\n",
       "    <tr>\n",
       "      <th>98059</th>\n",
       "      <td>CRIME</td>\n",
       "      <td>Officials Investigate Suspicious Death Of Inma...</td>\n",
       "    </tr>\n",
       "    <tr>\n",
       "      <th>140895</th>\n",
       "      <td>WELLNESS</td>\n",
       "      <td>Running Form: Distilled (Part 4) But, since ch...</td>\n",
       "    </tr>\n",
       "    <tr>\n",
       "      <th>9454</th>\n",
       "      <td>POLITICS</td>\n",
       "      <td>Republicans Are Voting To Give A Huge Tax Cut ...</td>\n",
       "    </tr>\n",
       "    <tr>\n",
       "      <th>100551</th>\n",
       "      <td>BUSINESS</td>\n",
       "      <td>Women in Business Q&amp;A: Kimberly Gordon, CEO &amp; ...</td>\n",
       "    </tr>\n",
       "  </tbody>\n",
       "</table>\n",
       "</div>"
      ],
      "text/plain": [
       "        category                                               text\n",
       "100774    TRAVEL  How To Work When You're On The Road For the pa...\n",
       "98059      CRIME  Officials Investigate Suspicious Death Of Inma...\n",
       "140895  WELLNESS  Running Form: Distilled (Part 4) But, since ch...\n",
       "9454    POLITICS  Republicans Are Voting To Give A Huge Tax Cut ...\n",
       "100551  BUSINESS  Women in Business Q&A: Kimberly Gordon, CEO & ..."
      ]
     },
     "execution_count": 10,
     "metadata": {},
     "output_type": "execute_result"
    }
   ],
   "source": [
    "# Drop the feature if it appear in the colums (done this way so the cell can be re-run)\n",
    "df = df.drop(columns=[col for col in df.columns if col in ['link','authors','headline','short_description','date','link_keywords','author_notes','author_names']])\n",
    "\n",
    "# View Sample\n",
    "df.sample(5)"
   ]
  },
  {
   "cell_type": "markdown",
   "id": "1cb007b6-d2dc-4d7c-b402-c82261924282",
   "metadata": {},
   "source": [
    "# <center> -------------------------------------------------------------------- </center>"
   ]
  },
  {
   "cell_type": "markdown",
   "id": "75d018a1-5899-4858-b61e-56ff7e756afc",
   "metadata": {},
   "source": [
    "# EDA"
   ]
  },
  {
   "cell_type": "markdown",
   "id": "18ba73be-a3c7-4dd0-9743-1053b30d65e2",
   "metadata": {},
   "source": [
    "#### View categories"
   ]
  },
  {
   "cell_type": "raw",
   "id": "cbe5b261-a6fc-45e6-a74b-9aa23c4f4f7d",
   "metadata": {},
   "source": [
    "print(f\"There are {len(df['category'].value_counts())} unique categories including the following:\")\n",
    "px.bar(df['category'].value_counts(), \n",
    "       title='Unique New Categories', \n",
    "       labels = {\"value\": \"Number of Articles\",\"index\": \"Category\"},\n",
    "       width = 800, height = 450)"
   ]
  },
  {
   "cell_type": "markdown",
   "id": "20d18038-8d52-4e38-8b50-0985920ea7a2",
   "metadata": {},
   "source": [
    "#### View length of texts"
   ]
  },
  {
   "cell_type": "raw",
   "id": "f41dda5d-1cf5-4053-82bd-af4c69d0a770",
   "metadata": {},
   "source": [
    "headline_lengths = df['text'].apply(lambda x: len(x))\n",
    "px.histogram(df, \n",
    "             x = headline_lengths, \n",
    "             marginal = 'box', \n",
    "             title = 'Text Lengths',\n",
    "             labels = {'x':'Number of Characters'},\n",
    "             color = 'category',\n",
    "             height = 500, width = 800)"
   ]
  },
  {
   "cell_type": "markdown",
   "id": "72c27f96-acfd-433d-b758-6c0159e2e48f",
   "metadata": {},
   "source": [
    "### Author Activity"
   ]
  },
  {
   "cell_type": "raw",
   "id": "fff23eef-0738-4aed-9562-6795cc5908c9",
   "metadata": {},
   "source": [
    "unique_authors_vc = df['author_names'].explode().value_counts()\n",
    "\n",
    "print(f\"There are {len(unique_authors_vc)} unique authors, {unique_authors_vc[0]} ({round(unique_authors_vc[0]/len(unique_authors_vc),2)}%) are unknown.\" )\n",
    "\n",
    "px.bar(unique_authors_vc[1:25], \n",
    "       title='Unique Authors', \n",
    "       labels = {\"value\": \"Number of Articles Written\",\"index\": \"Author\"},\n",
    "       width = 1200, height = 600)"
   ]
  },
  {
   "cell_type": "markdown",
   "id": "23d17d54-13d9-48d7-85c6-a45df5510091",
   "metadata": {},
   "source": [
    "# <center> -------------------------------------------------------------------- </center>"
   ]
  },
  {
   "cell_type": "markdown",
   "id": "28573ff1-d3fe-4385-872c-13d429c28972",
   "metadata": {},
   "source": [
    "# Preprocessing Text Data\n",
    "- Remove all words that only appear once throughout all texts (lead to overfitting)\n",
    "- Stop words\n",
    "- Stem / Lemmatize text\n",
    "- Tokenization\n",
    "- Use all words or just most frequent?\n",
    "- Use bigrams, POS taggins, Mutual information Scores?\n",
    "- What sort of vectorization? (Boolean / Count / TF-IDF / Word2Vec)"
   ]
  },
  {
   "cell_type": "code",
   "execution_count": 11,
   "id": "8b91f933-f93a-4ef4-a082-88f205593c3c",
   "metadata": {
    "tags": []
   },
   "outputs": [],
   "source": [
    "# Get count of all unique words\n",
    "word_dict = {}\n",
    "\n",
    "for text in df['text']:\n",
    "    for word in text.split():\n",
    "        if word not in word_dict:\n",
    "            word_dict[word] = 1\n",
    "        else:\n",
    "            word_dict[word] += 1"
   ]
  },
  {
   "cell_type": "code",
   "execution_count": 12,
   "id": "6398762f-048f-4ab5-9c84-bc154d993339",
   "metadata": {},
   "outputs": [],
   "source": [
    "words_that_dont_appear_more_than_once = [word for word,count in word_dict.items() if count < 2]"
   ]
  },
  {
   "cell_type": "code",
   "execution_count": 13,
   "id": "71728c1f-5d52-4f52-87c6-a34dd89b5b5a",
   "metadata": {},
   "outputs": [],
   "source": [
    "import nltk\n",
    "import string\n",
    "from nltk.corpus import stopwords\n",
    "from nltk.tokenize import RegexpTokenizer\n",
    "from nltk import word_tokenize, FreqDist\n",
    "from sklearn.feature_extraction.text import TfidfVectorizer"
   ]
  },
  {
   "cell_type": "markdown",
   "id": "8c61bb42-eb7b-46c6-a310-d44f96b94738",
   "metadata": {},
   "source": [
    "### Encode Target Variable\n",
    "- Assign a unique value to each categories"
   ]
  },
  {
   "cell_type": "code",
   "execution_count": 14,
   "id": "3b7788c7-8872-4c7f-9894-07bddc823cb4",
   "metadata": {},
   "outputs": [],
   "source": [
    "# Instantiate label encoder \n",
    "le = preprocessing.LabelEncoder()\n",
    "\n",
    "# Label Encode categories\n",
    "df['class_label'] = le.fit_transform(df['category'])\n",
    "\n",
    "# Create dictionary to map labels to categories\n",
    "label_to_category = dict(df.groupby('class_label')['category'].first())"
   ]
  },
  {
   "cell_type": "markdown",
   "id": "c7c14a8a-2002-41f9-93c7-c58d2ce6b7e9",
   "metadata": {},
   "source": [
    "### Test Train Split"
   ]
  },
  {
   "cell_type": "code",
   "execution_count": 15,
   "id": "755edad4-1701-46ef-bbbf-335613479515",
   "metadata": {},
   "outputs": [],
   "source": [
    "from sklearn.model_selection import train_test_split\n",
    "\n",
    "# Define dependent and independent variables\n",
    "X = df[\"text\"]\n",
    "y = df[\"class_label\"]\n",
    "\n",
    "# Perform Test Train Split\n",
    "X_train, X_test, y_train, y_test = train_test_split(X, y, test_size=0.2, random_state=8)\n",
    "\n",
    "X_train, X_val, y_train, y_val = train_test_split(X_train, y_train, test_size=0.2, random_state=8)"
   ]
  },
  {
   "cell_type": "markdown",
   "id": "6f333256-39d7-470a-8e27-7ba35151f19a",
   "metadata": {},
   "source": [
    "#### OHE target"
   ]
  },
  {
   "cell_type": "code",
   "execution_count": 16,
   "id": "cf1164e5-684c-44e0-98b6-dd064ff52aa3",
   "metadata": {},
   "outputs": [],
   "source": [
    "from keras.utils.np_utils import to_categorical\n",
    "\n",
    "# OHE for netural network\n",
    "y_train_ohe = to_categorical(y_train)\n",
    "y_test_ohe = to_categorical(y_test)\n",
    "y_val_ohe = to_categorical(y_val)"
   ]
  },
  {
   "cell_type": "markdown",
   "id": "e8def016-e2ec-4835-ae6e-2320bd051b35",
   "metadata": {},
   "source": [
    "### Get Stopwords"
   ]
  },
  {
   "cell_type": "code",
   "execution_count": 17,
   "id": "a7c31304-040c-4970-9482-818a2a8fb304",
   "metadata": {},
   "outputs": [],
   "source": [
    "stopwords_list = stopwords.words('english') + list(string.punctuation) + [\"''\", '\"\"', '...', '``'] + words_that_dont_appear_more_than_once"
   ]
  },
  {
   "cell_type": "markdown",
   "id": "26da3b01-4919-411b-b7fa-4cb5671c3f9a",
   "metadata": {},
   "source": [
    "### Count Vectorization"
   ]
  },
  {
   "cell_type": "code",
   "execution_count": 18,
   "id": "142bc60a-0200-43f2-a6ab-93f0822b6741",
   "metadata": {},
   "outputs": [],
   "source": [
    "from nltk.stem import PorterStemmer\n",
    "\n",
    "ps = PorterStemmer()\n",
    "analyzer = CountVectorizer().build_analyzer()\n",
    "\n",
    "def stemmed_words(doc):\n",
    "    return (ps.stem(word) for word in analyzer(doc))"
   ]
  },
  {
   "cell_type": "code",
   "execution_count": 19,
   "id": "fd1c25d8-5546-40d3-87a9-80812c967086",
   "metadata": {},
   "outputs": [
    {
     "name": "stdout",
     "output_type": "stream",
     "text": [
      "There are 128537 observations and 68200 features\n"
     ]
    }
   ],
   "source": [
    "# Instantiate CountVectorizer with custom list of stop words\n",
    "count_vectorizer = CountVectorizer(stop_words= stopwords_list, analyzer=stemmed_words)\n",
    "\n",
    "# Fit the tokenizer on the training data\n",
    "count_vectorizer.fit(X_train)\n",
    "\n",
    "# Apply the tokenizer to the training and testing data\n",
    "X_train_counts = count_vectorizer.transform(X_train)\n",
    "X_test_counts = count_vectorizer.transform(X_test)\n",
    "X_val_counts = count_vectorizer.transform(X_val)\n",
    "\n",
    "# View Results\n",
    "print(f'There are {X_train_counts.shape[0]} observations and {X_train_counts.shape[1]} features')"
   ]
  },
  {
   "cell_type": "markdown",
   "id": "2aeb0370-57f3-4dd8-8fa6-f6513458070e",
   "metadata": {},
   "source": [
    "## Model: Neural Network"
   ]
  },
  {
   "cell_type": "markdown",
   "id": "23067729-838a-46e0-8927-533142ff8157",
   "metadata": {},
   "source": [
    "#### Create model\n",
    "- Fully connected (dense) layer network with relu activation\n",
    "- 2 hidden layers with 50 units in 1st and 25 in second\n",
    "- Softmax classifier for nulticlass problem"
   ]
  },
  {
   "cell_type": "code",
   "execution_count": 20,
   "id": "167d0525-ac0a-4242-946c-d970618aad90",
   "metadata": {},
   "outputs": [],
   "source": [
    "# Initialize a sequential model\n",
    "model = models.Sequential()\n",
    "\n",
    "# Two layers with relu activation\n",
    "model.add(layers.Dense(50, activation='relu'))\n",
    "\n",
    "# One layer with softmax activation \n",
    "model.add(layers.Dense(41, activation='softmax'))"
   ]
  },
  {
   "cell_type": "markdown",
   "id": "4d315a6b-bb33-4caf-ac75-ab889cab5673",
   "metadata": {},
   "source": [
    "#### Compile\n",
    "- Loss function = categorical crossentropy\n",
    "- Optimizer = stochastic gradient descent"
   ]
  },
  {
   "cell_type": "code",
   "execution_count": 21,
   "id": "cf285352-5a66-4d9e-a7bb-6b36af673c60",
   "metadata": {},
   "outputs": [],
   "source": [
    "model.compile(optimizer='SGD',\n",
    "              loss='categorical_crossentropy',\n",
    "              metrics=['acc'])"
   ]
  },
  {
   "cell_type": "code",
   "execution_count": 26,
   "id": "1ef68727-0ba3-4ca0-bf57-144eee96cadb",
   "metadata": {
    "tags": []
   },
   "outputs": [
    {
     "name": "stdout",
     "output_type": "stream",
     "text": [
      "Epoch 1/100\n",
      "4017/4017 [==============================] - 6s 1ms/step - loss: 0.4879 - acc: 0.8632 - val_loss: 0.8540 - val_acc: 0.7550\n",
      "Epoch 2/100\n",
      "4017/4017 [==============================] - 6s 1ms/step - loss: 0.4701 - acc: 0.8683 - val_loss: 0.8546 - val_acc: 0.7562\n",
      "Epoch 3/100\n",
      "4017/4017 [==============================] - 6s 1ms/step - loss: 0.4532 - acc: 0.8730 - val_loss: 0.8544 - val_acc: 0.7573\n",
      "Epoch 4/100\n",
      "4017/4017 [==============================] - 6s 1ms/step - loss: 0.4367 - acc: 0.8782 - val_loss: 0.8533 - val_acc: 0.7577\n",
      "Epoch 5/100\n",
      "4017/4017 [==============================] - 5s 1ms/step - loss: 0.4209 - acc: 0.8840 - val_loss: 0.8599 - val_acc: 0.7557\n",
      "Epoch 6/100\n",
      "4017/4017 [==============================] - 6s 1ms/step - loss: 0.4064 - acc: 0.8881 - val_loss: 0.8618 - val_acc: 0.7554\n",
      "Epoch 7/100\n",
      "4017/4017 [==============================] - 6s 1ms/step - loss: 0.3921 - acc: 0.8933 - val_loss: 0.8625 - val_acc: 0.7571\n",
      "Epoch 8/100\n",
      "4017/4017 [==============================] - 10s 2ms/step - loss: 0.3783 - acc: 0.8970 - val_loss: 0.8638 - val_acc: 0.7575\n",
      "Epoch 9/100\n",
      "4017/4017 [==============================] - 7s 2ms/step - loss: 0.3652 - acc: 0.9019 - val_loss: 0.8615 - val_acc: 0.7590\n",
      "Epoch 10/100\n",
      "4017/4017 [==============================] - 6s 2ms/step - loss: 0.3526 - acc: 0.9056 - val_loss: 0.8673 - val_acc: 0.7571\n",
      "Epoch 11/100\n",
      "4017/4017 [==============================] - 6s 1ms/step - loss: 0.3404 - acc: 0.9102 - val_loss: 0.8697 - val_acc: 0.7577\n",
      "Epoch 12/100\n",
      "4017/4017 [==============================] - 6s 1ms/step - loss: 0.3288 - acc: 0.9140 - val_loss: 0.8728 - val_acc: 0.7575\n",
      "Epoch 13/100\n",
      "4017/4017 [==============================] - 6s 1ms/step - loss: 0.3177 - acc: 0.9176 - val_loss: 0.8747 - val_acc: 0.7581\n",
      "Epoch 14/100\n",
      "4017/4017 [==============================] - 6s 1ms/step - loss: 0.3068 - acc: 0.9215 - val_loss: 0.8785 - val_acc: 0.7572\n",
      "Epoch 15/100\n",
      "4017/4017 [==============================] - 6s 1ms/step - loss: 0.2967 - acc: 0.9250 - val_loss: 0.8794 - val_acc: 0.7578\n",
      "Epoch 16/100\n",
      "4017/4017 [==============================] - 6s 1ms/step - loss: 0.2867 - acc: 0.9278 - val_loss: 0.8851 - val_acc: 0.7573\n",
      "Epoch 17/100\n",
      "4017/4017 [==============================] - 9s 2ms/step - loss: 0.2768 - acc: 0.9313 - val_loss: 0.8912 - val_acc: 0.7553\n",
      "Epoch 18/100\n",
      "4017/4017 [==============================] - 6s 1ms/step - loss: 0.2679 - acc: 0.9347 - val_loss: 0.8941 - val_acc: 0.7564\n",
      "Epoch 19/100\n",
      "4017/4017 [==============================] - 6s 1ms/step - loss: 0.2588 - acc: 0.9383 - val_loss: 0.8996 - val_acc: 0.7553\n",
      "Epoch 20/100\n",
      "4017/4017 [==============================] - 6s 1ms/step - loss: 0.2503 - acc: 0.9407 - val_loss: 0.9021 - val_acc: 0.7557\n",
      "Epoch 21/100\n",
      "4017/4017 [==============================] - 6s 1ms/step - loss: 0.2421 - acc: 0.9437 - val_loss: 0.9123 - val_acc: 0.7565\n",
      "Epoch 22/100\n",
      "4017/4017 [==============================] - 6s 1ms/step - loss: 0.2339 - acc: 0.9469 - val_loss: 0.9133 - val_acc: 0.7552\n",
      "Epoch 23/100\n",
      "4017/4017 [==============================] - 6s 2ms/step - loss: 0.2265 - acc: 0.9490 - val_loss: 0.9190 - val_acc: 0.7548\n",
      "Epoch 24/100\n",
      "4017/4017 [==============================] - 6s 1ms/step - loss: 0.2190 - acc: 0.9514 - val_loss: 0.9277 - val_acc: 0.7553\n",
      "Epoch 25/100\n",
      "4017/4017 [==============================] - 6s 1ms/step - loss: 0.2119 - acc: 0.9542 - val_loss: 0.9266 - val_acc: 0.7557\n",
      "Epoch 26/100\n",
      "4017/4017 [==============================] - 6s 1ms/step - loss: 0.2051 - acc: 0.9568 - val_loss: 0.9341 - val_acc: 0.7554\n",
      "Epoch 27/100\n",
      "4017/4017 [==============================] - 9s 2ms/step - loss: 0.1985 - acc: 0.9585 - val_loss: 0.9388 - val_acc: 0.7540\n",
      "Epoch 28/100\n",
      "4017/4017 [==============================] - 6s 1ms/step - loss: 0.1921 - acc: 0.9611 - val_loss: 0.9478 - val_acc: 0.7537\n",
      "Epoch 29/100\n",
      "4017/4017 [==============================] - 6s 1ms/step - loss: 0.1860 - acc: 0.9625 - val_loss: 0.9500 - val_acc: 0.7540\n",
      "Epoch 30/100\n",
      "4017/4017 [==============================] - 6s 1ms/step - loss: 0.1803 - acc: 0.9647 - val_loss: 0.9535 - val_acc: 0.7546\n",
      "Epoch 31/100\n",
      "4017/4017 [==============================] - 6s 1ms/step - loss: 0.1744 - acc: 0.9669 - val_loss: 0.9677 - val_acc: 0.7523\n",
      "Epoch 32/100\n",
      "4017/4017 [==============================] - 6s 1ms/step - loss: 0.1689 - acc: 0.9688 - val_loss: 0.9649 - val_acc: 0.7526\n",
      "Epoch 33/100\n",
      "4017/4017 [==============================] - 6s 1ms/step - loss: 0.1637 - acc: 0.9700 - val_loss: 0.9710 - val_acc: 0.7533\n",
      "Epoch 34/100\n",
      "4017/4017 [==============================] - 6s 1ms/step - loss: 0.1586 - acc: 0.9715 - val_loss: 0.9769 - val_acc: 0.7523\n",
      "Epoch 35/100\n",
      "4017/4017 [==============================] - 6s 1ms/step - loss: 0.1537 - acc: 0.9733 - val_loss: 0.9844 - val_acc: 0.7515\n",
      "Epoch 36/100\n",
      "4017/4017 [==============================] - 9s 2ms/step - loss: 0.1490 - acc: 0.9745 - val_loss: 0.9883 - val_acc: 0.7516\n",
      "Epoch 37/100\n",
      "4017/4017 [==============================] - 7s 2ms/step - loss: 0.1446 - acc: 0.9760 - val_loss: 0.9916 - val_acc: 0.7518\n",
      "Epoch 38/100\n",
      "4017/4017 [==============================] - 6s 2ms/step - loss: 0.1401 - acc: 0.9775 - val_loss: 0.9994 - val_acc: 0.7505\n",
      "Epoch 39/100\n",
      "4017/4017 [==============================] - 6s 1ms/step - loss: 0.1360 - acc: 0.9788 - val_loss: 1.0076 - val_acc: 0.7511\n",
      "Epoch 40/100\n",
      "4017/4017 [==============================] - 6s 2ms/step - loss: 0.1320 - acc: 0.9800 - val_loss: 1.0097 - val_acc: 0.7505\n",
      "Epoch 41/100\n",
      "4017/4017 [==============================] - 6s 1ms/step - loss: 0.1279 - acc: 0.9812 - val_loss: 1.0127 - val_acc: 0.7514\n",
      "Epoch 42/100\n",
      "4017/4017 [==============================] - 6s 1ms/step - loss: 0.1242 - acc: 0.9824 - val_loss: 1.0189 - val_acc: 0.7500\n",
      "Epoch 43/100\n",
      "4017/4017 [==============================] - 6s 1ms/step - loss: 0.1206 - acc: 0.9835 - val_loss: 1.0246 - val_acc: 0.7495\n",
      "Epoch 44/100\n",
      "4017/4017 [==============================] - 6s 1ms/step - loss: 0.1172 - acc: 0.9841 - val_loss: 1.0314 - val_acc: 0.7492\n",
      "Epoch 45/100\n",
      "4017/4017 [==============================] - 6s 1ms/step - loss: 0.1139 - acc: 0.9851 - val_loss: 1.0366 - val_acc: 0.7498\n",
      "Epoch 46/100\n",
      "4017/4017 [==============================] - 9s 2ms/step - loss: 0.1106 - acc: 0.9858 - val_loss: 1.0413 - val_acc: 0.7498\n",
      "Epoch 47/100\n",
      "4017/4017 [==============================] - 6s 2ms/step - loss: 0.1075 - acc: 0.9866 - val_loss: 1.0470 - val_acc: 0.7487\n",
      "Epoch 48/100\n",
      "4017/4017 [==============================] - 6s 1ms/step - loss: 0.1045 - acc: 0.9874 - val_loss: 1.0546 - val_acc: 0.7496\n",
      "Epoch 49/100\n",
      "4017/4017 [==============================] - 6s 1ms/step - loss: 0.1016 - acc: 0.9882 - val_loss: 1.0593 - val_acc: 0.7486\n",
      "Epoch 50/100\n",
      "4017/4017 [==============================] - 6s 1ms/step - loss: 0.0988 - acc: 0.9887 - val_loss: 1.0645 - val_acc: 0.7494\n",
      "Epoch 51/100\n",
      "4017/4017 [==============================] - 6s 1ms/step - loss: 0.0961 - acc: 0.9894 - val_loss: 1.0696 - val_acc: 0.7486\n",
      "Epoch 52/100\n",
      "4017/4017 [==============================] - 6s 1ms/step - loss: 0.0935 - acc: 0.9901 - val_loss: 1.0738 - val_acc: 0.7485\n",
      "Epoch 53/100\n",
      "4017/4017 [==============================] - 6s 1ms/step - loss: 0.0910 - acc: 0.9906 - val_loss: 1.0806 - val_acc: 0.7475\n",
      "Epoch 54/100\n",
      "4017/4017 [==============================] - 6s 1ms/step - loss: 0.0887 - acc: 0.9909 - val_loss: 1.0851 - val_acc: 0.7478\n",
      "Epoch 55/100\n",
      "4017/4017 [==============================] - 9s 2ms/step - loss: 0.0862 - acc: 0.9916 - val_loss: 1.0906 - val_acc: 0.7483\n",
      "Epoch 56/100\n",
      "4017/4017 [==============================] - 6s 1ms/step - loss: 0.0840 - acc: 0.9918 - val_loss: 1.0977 - val_acc: 0.7471\n",
      "Epoch 57/100\n",
      "4017/4017 [==============================] - 6s 1ms/step - loss: 0.0819 - acc: 0.9925 - val_loss: 1.0992 - val_acc: 0.7477\n",
      "Epoch 58/100\n",
      "4017/4017 [==============================] - 6s 1ms/step - loss: 0.0798 - acc: 0.9928 - val_loss: 1.1060 - val_acc: 0.7473\n",
      "Epoch 59/100\n",
      "4017/4017 [==============================] - 6s 1ms/step - loss: 0.0778 - acc: 0.9932 - val_loss: 1.1146 - val_acc: 0.7476\n",
      "Epoch 60/100\n",
      "4017/4017 [==============================] - 6s 1ms/step - loss: 0.0759 - acc: 0.9936 - val_loss: 1.1168 - val_acc: 0.7469\n",
      "Epoch 61/100\n",
      "4017/4017 [==============================] - 6s 1ms/step - loss: 0.0739 - acc: 0.9939 - val_loss: 1.1199 - val_acc: 0.7470\n",
      "Epoch 62/100\n",
      "4017/4017 [==============================] - 6s 1ms/step - loss: 0.0721 - acc: 0.9943 - val_loss: 1.1258 - val_acc: 0.7468\n",
      "Epoch 63/100\n",
      "4017/4017 [==============================] - 6s 1ms/step - loss: 0.0704 - acc: 0.9945 - val_loss: 1.1318 - val_acc: 0.7471\n",
      "Epoch 64/100\n",
      "4017/4017 [==============================] - 6s 1ms/step - loss: 0.0688 - acc: 0.9950 - val_loss: 1.1360 - val_acc: 0.7470\n",
      "Epoch 65/100\n",
      "4017/4017 [==============================] - 9s 2ms/step - loss: 0.0671 - acc: 0.9952 - val_loss: 1.1419 - val_acc: 0.7467\n",
      "Epoch 66/100\n",
      "4017/4017 [==============================] - 7s 2ms/step - loss: 0.0655 - acc: 0.9956 - val_loss: 1.1452 - val_acc: 0.7468\n",
      "Epoch 67/100\n",
      "4017/4017 [==============================] - 6s 2ms/step - loss: 0.0639 - acc: 0.9958 - val_loss: 1.1507 - val_acc: 0.7467\n",
      "Epoch 68/100\n",
      "4017/4017 [==============================] - 6s 1ms/step - loss: 0.0625 - acc: 0.9959 - val_loss: 1.1555 - val_acc: 0.7464\n",
      "Epoch 69/100\n",
      "4017/4017 [==============================] - 6s 1ms/step - loss: 0.0611 - acc: 0.9961 - val_loss: 1.1618 - val_acc: 0.7458\n",
      "Epoch 70/100\n",
      "4017/4017 [==============================] - 6s 1ms/step - loss: 0.0597 - acc: 0.9964 - val_loss: 1.1651 - val_acc: 0.7463\n",
      "Epoch 71/100\n",
      "4017/4017 [==============================] - 6s 1ms/step - loss: 0.0584 - acc: 0.9965 - val_loss: 1.1684 - val_acc: 0.7462\n",
      "Epoch 72/100\n",
      "4017/4017 [==============================] - 6s 1ms/step - loss: 0.0571 - acc: 0.9968 - val_loss: 1.1755 - val_acc: 0.7459\n",
      "Epoch 73/100\n",
      "4017/4017 [==============================] - 6s 1ms/step - loss: 0.0558 - acc: 0.9970 - val_loss: 1.1792 - val_acc: 0.7466\n",
      "Epoch 74/100\n",
      "4017/4017 [==============================] - 6s 1ms/step - loss: 0.0546 - acc: 0.9970 - val_loss: 1.1833 - val_acc: 0.7450\n",
      "Epoch 75/100\n",
      "4017/4017 [==============================] - 9s 2ms/step - loss: 0.0534 - acc: 0.9974 - val_loss: 1.1888 - val_acc: 0.7460\n",
      "Epoch 76/100\n",
      "4017/4017 [==============================] - 7s 2ms/step - loss: 0.0523 - acc: 0.9975 - val_loss: 1.1932 - val_acc: 0.7453\n",
      "Epoch 77/100\n",
      "4017/4017 [==============================] - 6s 1ms/step - loss: 0.0513 - acc: 0.9975 - val_loss: 1.1972 - val_acc: 0.7460\n",
      "Epoch 78/100\n",
      "4017/4017 [==============================] - 6s 1ms/step - loss: 0.0502 - acc: 0.9977 - val_loss: 1.2034 - val_acc: 0.7453\n",
      "Epoch 79/100\n",
      "4017/4017 [==============================] - 6s 1ms/step - loss: 0.0491 - acc: 0.9978 - val_loss: 1.2069 - val_acc: 0.7450\n",
      "Epoch 80/100\n",
      "4017/4017 [==============================] - 6s 1ms/step - loss: 0.0481 - acc: 0.9980 - val_loss: 1.2103 - val_acc: 0.7452\n",
      "Epoch 81/100\n",
      "4017/4017 [==============================] - 6s 1ms/step - loss: 0.0472 - acc: 0.9981 - val_loss: 1.2145 - val_acc: 0.7448\n",
      "Epoch 82/100\n",
      "4017/4017 [==============================] - 6s 1ms/step - loss: 0.0463 - acc: 0.9981 - val_loss: 1.2211 - val_acc: 0.7446\n",
      "Epoch 83/100\n",
      "4017/4017 [==============================] - 6s 1ms/step - loss: 0.0454 - acc: 0.9984 - val_loss: 1.2228 - val_acc: 0.7449\n",
      "Epoch 84/100\n",
      "4017/4017 [==============================] - 6s 1ms/step - loss: 0.0445 - acc: 0.9984 - val_loss: 1.2295 - val_acc: 0.7445\n",
      "Epoch 85/100\n",
      "4017/4017 [==============================] - 9s 2ms/step - loss: 0.0436 - acc: 0.9985 - val_loss: 1.2312 - val_acc: 0.7438\n",
      "Epoch 86/100\n",
      "4017/4017 [==============================] - 6s 2ms/step - loss: 0.0427 - acc: 0.9986 - val_loss: 1.2359 - val_acc: 0.7445\n",
      "Epoch 87/100\n",
      "4017/4017 [==============================] - 6s 1ms/step - loss: 0.0420 - acc: 0.9986 - val_loss: 1.2390 - val_acc: 0.7442\n",
      "Epoch 88/100\n",
      "4017/4017 [==============================] - 6s 1ms/step - loss: 0.0412 - acc: 0.9987 - val_loss: 1.2439 - val_acc: 0.7447\n",
      "Epoch 89/100\n",
      "4017/4017 [==============================] - 6s 1ms/step - loss: 0.0404 - acc: 0.9987 - val_loss: 1.2463 - val_acc: 0.7440\n",
      "Epoch 90/100\n",
      "4017/4017 [==============================] - 6s 1ms/step - loss: 0.0397 - acc: 0.9988 - val_loss: 1.2564 - val_acc: 0.7454\n",
      "Epoch 91/100\n",
      "4017/4017 [==============================] - 6s 1ms/step - loss: 0.0390 - acc: 0.9989 - val_loss: 1.2575 - val_acc: 0.7442\n",
      "Epoch 92/100\n",
      "4017/4017 [==============================] - 6s 1ms/step - loss: 0.0383 - acc: 0.9989 - val_loss: 1.2604 - val_acc: 0.7447\n",
      "Epoch 93/100\n",
      "4017/4017 [==============================] - 6s 1ms/step - loss: 0.0376 - acc: 0.9989 - val_loss: 1.2633 - val_acc: 0.7440\n",
      "Epoch 94/100\n",
      "4017/4017 [==============================] - 9s 2ms/step - loss: 0.0370 - acc: 0.9990 - val_loss: 1.2654 - val_acc: 0.7433\n",
      "Epoch 95/100\n",
      "4017/4017 [==============================] - 7s 2ms/step - loss: 0.0363 - acc: 0.9991 - val_loss: 1.2742 - val_acc: 0.7440\n",
      "Epoch 96/100\n",
      "4017/4017 [==============================] - 6s 1ms/step - loss: 0.0357 - acc: 0.9991 - val_loss: 1.2752 - val_acc: 0.7439\n",
      "Epoch 97/100\n",
      "4017/4017 [==============================] - 6s 1ms/step - loss: 0.0351 - acc: 0.9991 - val_loss: 1.2786 - val_acc: 0.7431\n",
      "Epoch 98/100\n",
      "4017/4017 [==============================] - 7s 2ms/step - loss: 0.0345 - acc: 0.9992 - val_loss: 1.2810 - val_acc: 0.7434\n",
      "Epoch 99/100\n",
      "4017/4017 [==============================] - 7s 2ms/step - loss: 0.0339 - acc: 0.9992 - val_loss: 1.2883 - val_acc: 0.7436\n",
      "Epoch 100/100\n",
      "4017/4017 [==============================] - 7s 2ms/step - loss: 0.0333 - acc: 0.9993 - val_loss: 1.2876 - val_acc: 0.7431\n"
     ]
    }
   ],
   "source": [
    "# Train the model \n",
    "n_epochs = 100\n",
    "history = model.fit(X_train_counts, y_train_ohe, epochs= n_epochs, validation_data = (X_val_counts, y_val_ohe))"
   ]
  },
  {
   "cell_type": "markdown",
   "id": "c9ca0c7c-9b25-41e3-bcac-3cf7c61aca01",
   "metadata": {},
   "source": [
    "### Evaluation"
   ]
  },
  {
   "cell_type": "code",
   "execution_count": 27,
   "id": "99933323-5e79-4b08-b536-84da04aa0b9c",
   "metadata": {
    "tags": []
   },
   "outputs": [],
   "source": [
    "from sklearn.metrics import accuracy_score, f1_score, precision_score, recall_score, classification_report\n",
    "\n",
    "def get_model_metrics(actuals, predictions, full_report = False, plot = False):  \n",
    "\n",
    "    predictions_bool = np.argmax(predictions, axis=1)\n",
    "    \n",
    "    precision = round(precision_score(actuals, predictions_bool, average='weighted'),3)\n",
    "    recall = round(recall_score(actuals, predictions_bool, average='weighted'),3)\n",
    "    f1 = round(f1_score(actuals, predictions_bool, average='weighted'),3)\n",
    "    accuracy = round(accuracy_score(actuals, predictions_bool),3)\n",
    "    \n",
    "    if full_report == False:\n",
    "        print(f\"Accuracy = {accuracy} \\nPrecision = {precision} \\nRecall = {recall} \\nf1 = {f1}\")\n",
    "    else:\n",
    "        print(classification_report(actuals, predictions_bool))\n",
    "    if plot == True:\n",
    "        fig = go.Figure()\n",
    "\n",
    "        fig.add_trace(go.Scatter(x=[i for i in range(n_epochs)], y=history.history['acc'],\n",
    "                            mode='lines+markers', name='Train Accuracy'))\n",
    "        fig.add_trace(go.Scatter(x=[i for i in range(n_epochs)], y=history.history['val_acc'],\n",
    "                            mode='lines+markers', name='Validation Accuracy'))\n",
    "\n",
    "        fig.update_layout(height= 500, width= 700)\n",
    "\n",
    "        fig.show()"
   ]
  },
  {
   "cell_type": "code",
   "execution_count": 28,
   "id": "1a342fc8-3e01-402f-9e72-dcb1a2f0e635",
   "metadata": {},
   "outputs": [
    {
     "name": "stdout",
     "output_type": "stream",
     "text": [
      "Accuracy = 0.743 \n",
      "Precision = 0.742 \n",
      "Recall = 0.743 \n",
      "f1 = 0.742\n"
     ]
    },
    {
     "data": {
      "application/vnd.plotly.v1+json": {
       "config": {
        "plotlyServerURL": "https://plot.ly"
       },
       "data": [
        {
         "mode": "lines+markers",
         "name": "Train Accuracy",
         "type": "scatter",
         "visible": true,
         "x": [
          0,
          1,
          2,
          3,
          4,
          5,
          6,
          7,
          8,
          9,
          10,
          11,
          12,
          13,
          14,
          15,
          16,
          17,
          18,
          19,
          20,
          21,
          22,
          23,
          24,
          25,
          26,
          27,
          28,
          29,
          30,
          31,
          32,
          33,
          34,
          35,
          36,
          37,
          38,
          39,
          40,
          41,
          42,
          43,
          44,
          45,
          46,
          47,
          48,
          49,
          50,
          51,
          52,
          53,
          54,
          55,
          56,
          57,
          58,
          59,
          60,
          61,
          62,
          63,
          64,
          65,
          66,
          67,
          68,
          69,
          70,
          71,
          72,
          73,
          74,
          75,
          76,
          77,
          78,
          79,
          80,
          81,
          82,
          83,
          84,
          85,
          86,
          87,
          88,
          89,
          90,
          91,
          92,
          93,
          94,
          95,
          96,
          97,
          98,
          99
         ],
         "y": [
          0.8632456064224243,
          0.8682714104652405,
          0.8729626536369324,
          0.8782140612602234,
          0.8839711546897888,
          0.888063371181488,
          0.8932603001594543,
          0.8969868421554565,
          0.9018570780754089,
          0.9056069254875183,
          0.9102048277854919,
          0.9139625430107117,
          0.9175956845283508,
          0.9215089678764343,
          0.9249787926673889,
          0.9278340339660645,
          0.9312649369239807,
          0.9346802830696106,
          0.9383134841918945,
          0.9406940937042236,
          0.9437438249588013,
          0.9468790888786316,
          0.948956310749054,
          0.9513913989067078,
          0.9542155265808105,
          0.956759512424469,
          0.9585177898406982,
          0.9610773324966431,
          0.9625399708747864,
          0.964710533618927,
          0.9669122695922852,
          0.9687638282775879,
          0.9700008630752563,
          0.9715023636817932,
          0.9733073115348816,
          0.9745442867279053,
          0.9759758114814758,
          0.9775239825248718,
          0.9788076877593994,
          0.9800291061401367,
          0.9812194108963013,
          0.9823864102363586,
          0.9834911227226257,
          0.9840512871742249,
          0.9850626587867737,
          0.9857628345489502,
          0.9866186380386353,
          0.9874433279037476,
          0.9882368445396423,
          0.9887269735336304,
          0.9893960356712341,
          0.9900729060173035,
          0.9905630350112915,
          0.9908742308616638,
          0.9915822148323059,
          0.9917922616004944,
          0.9924613237380981,
          0.992834746837616,
          0.9932470917701721,
          0.9935504794120789,
          0.9938772320747375,
          0.994328498840332,
          0.9945074319839478,
          0.9950286746025085,
          0.9952076077461243,
          0.995604395866394,
          0.9957833290100098,
          0.9959311485290527,
          0.9961256384849548,
          0.9963590502738953,
          0.9964679479598999,
          0.9967947006225586,
          0.9969736337661743,
          0.9969814419746399,
          0.997424840927124,
          0.9974871277809143,
          0.9975337982177734,
          0.9977127313613892,
          0.9977749586105347,
          0.9980316758155823,
          0.9981095194816589,
          0.9981406331062317,
          0.9983817934989929,
          0.9983895421028137,
          0.9984984993934631,
          0.9985685348510742,
          0.9985685348510742,
          0.9986618757247925,
          0.998700737953186,
          0.9988252520561218,
          0.998871922492981,
          0.9989341497421265,
          0.9988952875137329,
          0.9990430474281311,
          0.9990742206573486,
          0.9991053342819214,
          0.9991208910942078,
          0.9991831183433533,
          0.9992297887802124,
          0.9992609024047852
         ]
        },
        {
         "mode": "lines+markers",
         "name": "Validation Accuracy",
         "type": "scatter",
         "x": [
          0,
          1,
          2,
          3,
          4,
          5,
          6,
          7,
          8,
          9,
          10,
          11,
          12,
          13,
          14,
          15,
          16,
          17,
          18,
          19,
          20,
          21,
          22,
          23,
          24,
          25,
          26,
          27,
          28,
          29,
          30,
          31,
          32,
          33,
          34,
          35,
          36,
          37,
          38,
          39,
          40,
          41,
          42,
          43,
          44,
          45,
          46,
          47,
          48,
          49,
          50,
          51,
          52,
          53,
          54,
          55,
          56,
          57,
          58,
          59,
          60,
          61,
          62,
          63,
          64,
          65,
          66,
          67,
          68,
          69,
          70,
          71,
          72,
          73,
          74,
          75,
          76,
          77,
          78,
          79,
          80,
          81,
          82,
          83,
          84,
          85,
          86,
          87,
          88,
          89,
          90,
          91,
          92,
          93,
          94,
          95,
          96,
          97,
          98,
          99
         ],
         "y": [
          0.7550334334373474,
          0.7561848163604736,
          0.7573362588882446,
          0.7576785683631897,
          0.7557491660118103,
          0.755437970161438,
          0.7570561766624451,
          0.7575229406356812,
          0.7590166330337524,
          0.7571184039115906,
          0.7577096819877625,
          0.7574918270111084,
          0.7581453323364258,
          0.7571806311607361,
          0.7578030228614807,
          0.7572739720344543,
          0.7552824020385742,
          0.7563715577125549,
          0.755313515663147,
          0.7557180523872375,
          0.7564648985862732,
          0.7552201747894287,
          0.7548467516899109,
          0.7552824020385742,
          0.755655825138092,
          0.7554068565368652,
          0.7540376782417297,
          0.7537264823913574,
          0.7540376782417297,
          0.7545666694641113,
          0.7522950172424316,
          0.752606213092804,
          0.7532596588134766,
          0.7522639036178589,
          0.751548171043396,
          0.7516415119171143,
          0.751797080039978,
          0.7504590153694153,
          0.7510502338409424,
          0.7505212426185608,
          0.7513925433158875,
          0.7499921917915344,
          0.7494943141937256,
          0.749214231967926,
          0.7498366236686707,
          0.7497743964195251,
          0.7487474679946899,
          0.7495876550674438,
          0.7485918998718262,
          0.7494320869445801,
          0.7486230134963989,
          0.7484673857688904,
          0.7474716305732727,
          0.747813880443573,
          0.7482807040214539,
          0.7471293210983276,
          0.7477205395698547,
          0.7472537755966187,
          0.7476271986961365,
          0.7469114661216736,
          0.7470359206199646,
          0.7467870116233826,
          0.7470982074737549,
          0.7470048069953918,
          0.7466624975204468,
          0.7468181252479553,
          0.7467247843742371,
          0.7464447021484375,
          0.7457600831985474,
          0.746289074420929,
          0.7461957335472107,
          0.7458534240722656,
          0.7466002702713013,
          0.7450132369995117,
          0.7459778785705566,
          0.745324432849884,
          0.7460401654243469,
          0.7452621459960938,
          0.744982123374939,
          0.7451999187469482,
          0.7447642683982849,
          0.7445775866508484,
          0.7449198961257935,
          0.7444530725479126,
          0.7437995672225952,
          0.7444530725479126,
          0.744172990322113,
          0.7447331547737122,
          0.7440174221992493,
          0.7453555464744568,
          0.7442041635513306,
          0.7447331547737122,
          0.744048535823822,
          0.7433328032493591,
          0.7439863085746765,
          0.7438618540763855,
          0.7431150078773499,
          0.7433950304985046,
          0.7435506582260132,
          0.7431461215019226
         ]
        }
       ],
       "layout": {
        "height": 500,
        "template": {
         "data": {
          "bar": [
           {
            "error_x": {
             "color": "#2a3f5f"
            },
            "error_y": {
             "color": "#2a3f5f"
            },
            "marker": {
             "line": {
              "color": "#E5ECF6",
              "width": 0.5
             },
             "pattern": {
              "fillmode": "overlay",
              "size": 10,
              "solidity": 0.2
             }
            },
            "type": "bar"
           }
          ],
          "barpolar": [
           {
            "marker": {
             "line": {
              "color": "#E5ECF6",
              "width": 0.5
             },
             "pattern": {
              "fillmode": "overlay",
              "size": 10,
              "solidity": 0.2
             }
            },
            "type": "barpolar"
           }
          ],
          "carpet": [
           {
            "aaxis": {
             "endlinecolor": "#2a3f5f",
             "gridcolor": "white",
             "linecolor": "white",
             "minorgridcolor": "white",
             "startlinecolor": "#2a3f5f"
            },
            "baxis": {
             "endlinecolor": "#2a3f5f",
             "gridcolor": "white",
             "linecolor": "white",
             "minorgridcolor": "white",
             "startlinecolor": "#2a3f5f"
            },
            "type": "carpet"
           }
          ],
          "choropleth": [
           {
            "colorbar": {
             "outlinewidth": 0,
             "ticks": ""
            },
            "type": "choropleth"
           }
          ],
          "contour": [
           {
            "colorbar": {
             "outlinewidth": 0,
             "ticks": ""
            },
            "colorscale": [
             [
              0,
              "#0d0887"
             ],
             [
              0.1111111111111111,
              "#46039f"
             ],
             [
              0.2222222222222222,
              "#7201a8"
             ],
             [
              0.3333333333333333,
              "#9c179e"
             ],
             [
              0.4444444444444444,
              "#bd3786"
             ],
             [
              0.5555555555555556,
              "#d8576b"
             ],
             [
              0.6666666666666666,
              "#ed7953"
             ],
             [
              0.7777777777777778,
              "#fb9f3a"
             ],
             [
              0.8888888888888888,
              "#fdca26"
             ],
             [
              1,
              "#f0f921"
             ]
            ],
            "type": "contour"
           }
          ],
          "contourcarpet": [
           {
            "colorbar": {
             "outlinewidth": 0,
             "ticks": ""
            },
            "type": "contourcarpet"
           }
          ],
          "heatmap": [
           {
            "colorbar": {
             "outlinewidth": 0,
             "ticks": ""
            },
            "colorscale": [
             [
              0,
              "#0d0887"
             ],
             [
              0.1111111111111111,
              "#46039f"
             ],
             [
              0.2222222222222222,
              "#7201a8"
             ],
             [
              0.3333333333333333,
              "#9c179e"
             ],
             [
              0.4444444444444444,
              "#bd3786"
             ],
             [
              0.5555555555555556,
              "#d8576b"
             ],
             [
              0.6666666666666666,
              "#ed7953"
             ],
             [
              0.7777777777777778,
              "#fb9f3a"
             ],
             [
              0.8888888888888888,
              "#fdca26"
             ],
             [
              1,
              "#f0f921"
             ]
            ],
            "type": "heatmap"
           }
          ],
          "heatmapgl": [
           {
            "colorbar": {
             "outlinewidth": 0,
             "ticks": ""
            },
            "colorscale": [
             [
              0,
              "#0d0887"
             ],
             [
              0.1111111111111111,
              "#46039f"
             ],
             [
              0.2222222222222222,
              "#7201a8"
             ],
             [
              0.3333333333333333,
              "#9c179e"
             ],
             [
              0.4444444444444444,
              "#bd3786"
             ],
             [
              0.5555555555555556,
              "#d8576b"
             ],
             [
              0.6666666666666666,
              "#ed7953"
             ],
             [
              0.7777777777777778,
              "#fb9f3a"
             ],
             [
              0.8888888888888888,
              "#fdca26"
             ],
             [
              1,
              "#f0f921"
             ]
            ],
            "type": "heatmapgl"
           }
          ],
          "histogram": [
           {
            "marker": {
             "pattern": {
              "fillmode": "overlay",
              "size": 10,
              "solidity": 0.2
             }
            },
            "type": "histogram"
           }
          ],
          "histogram2d": [
           {
            "colorbar": {
             "outlinewidth": 0,
             "ticks": ""
            },
            "colorscale": [
             [
              0,
              "#0d0887"
             ],
             [
              0.1111111111111111,
              "#46039f"
             ],
             [
              0.2222222222222222,
              "#7201a8"
             ],
             [
              0.3333333333333333,
              "#9c179e"
             ],
             [
              0.4444444444444444,
              "#bd3786"
             ],
             [
              0.5555555555555556,
              "#d8576b"
             ],
             [
              0.6666666666666666,
              "#ed7953"
             ],
             [
              0.7777777777777778,
              "#fb9f3a"
             ],
             [
              0.8888888888888888,
              "#fdca26"
             ],
             [
              1,
              "#f0f921"
             ]
            ],
            "type": "histogram2d"
           }
          ],
          "histogram2dcontour": [
           {
            "colorbar": {
             "outlinewidth": 0,
             "ticks": ""
            },
            "colorscale": [
             [
              0,
              "#0d0887"
             ],
             [
              0.1111111111111111,
              "#46039f"
             ],
             [
              0.2222222222222222,
              "#7201a8"
             ],
             [
              0.3333333333333333,
              "#9c179e"
             ],
             [
              0.4444444444444444,
              "#bd3786"
             ],
             [
              0.5555555555555556,
              "#d8576b"
             ],
             [
              0.6666666666666666,
              "#ed7953"
             ],
             [
              0.7777777777777778,
              "#fb9f3a"
             ],
             [
              0.8888888888888888,
              "#fdca26"
             ],
             [
              1,
              "#f0f921"
             ]
            ],
            "type": "histogram2dcontour"
           }
          ],
          "mesh3d": [
           {
            "colorbar": {
             "outlinewidth": 0,
             "ticks": ""
            },
            "type": "mesh3d"
           }
          ],
          "parcoords": [
           {
            "line": {
             "colorbar": {
              "outlinewidth": 0,
              "ticks": ""
             }
            },
            "type": "parcoords"
           }
          ],
          "pie": [
           {
            "automargin": true,
            "type": "pie"
           }
          ],
          "scatter": [
           {
            "marker": {
             "colorbar": {
              "outlinewidth": 0,
              "ticks": ""
             }
            },
            "type": "scatter"
           }
          ],
          "scatter3d": [
           {
            "line": {
             "colorbar": {
              "outlinewidth": 0,
              "ticks": ""
             }
            },
            "marker": {
             "colorbar": {
              "outlinewidth": 0,
              "ticks": ""
             }
            },
            "type": "scatter3d"
           }
          ],
          "scattercarpet": [
           {
            "marker": {
             "colorbar": {
              "outlinewidth": 0,
              "ticks": ""
             }
            },
            "type": "scattercarpet"
           }
          ],
          "scattergeo": [
           {
            "marker": {
             "colorbar": {
              "outlinewidth": 0,
              "ticks": ""
             }
            },
            "type": "scattergeo"
           }
          ],
          "scattergl": [
           {
            "marker": {
             "colorbar": {
              "outlinewidth": 0,
              "ticks": ""
             }
            },
            "type": "scattergl"
           }
          ],
          "scattermapbox": [
           {
            "marker": {
             "colorbar": {
              "outlinewidth": 0,
              "ticks": ""
             }
            },
            "type": "scattermapbox"
           }
          ],
          "scatterpolar": [
           {
            "marker": {
             "colorbar": {
              "outlinewidth": 0,
              "ticks": ""
             }
            },
            "type": "scatterpolar"
           }
          ],
          "scatterpolargl": [
           {
            "marker": {
             "colorbar": {
              "outlinewidth": 0,
              "ticks": ""
             }
            },
            "type": "scatterpolargl"
           }
          ],
          "scatterternary": [
           {
            "marker": {
             "colorbar": {
              "outlinewidth": 0,
              "ticks": ""
             }
            },
            "type": "scatterternary"
           }
          ],
          "surface": [
           {
            "colorbar": {
             "outlinewidth": 0,
             "ticks": ""
            },
            "colorscale": [
             [
              0,
              "#0d0887"
             ],
             [
              0.1111111111111111,
              "#46039f"
             ],
             [
              0.2222222222222222,
              "#7201a8"
             ],
             [
              0.3333333333333333,
              "#9c179e"
             ],
             [
              0.4444444444444444,
              "#bd3786"
             ],
             [
              0.5555555555555556,
              "#d8576b"
             ],
             [
              0.6666666666666666,
              "#ed7953"
             ],
             [
              0.7777777777777778,
              "#fb9f3a"
             ],
             [
              0.8888888888888888,
              "#fdca26"
             ],
             [
              1,
              "#f0f921"
             ]
            ],
            "type": "surface"
           }
          ],
          "table": [
           {
            "cells": {
             "fill": {
              "color": "#EBF0F8"
             },
             "line": {
              "color": "white"
             }
            },
            "header": {
             "fill": {
              "color": "#C8D4E3"
             },
             "line": {
              "color": "white"
             }
            },
            "type": "table"
           }
          ]
         },
         "layout": {
          "annotationdefaults": {
           "arrowcolor": "#2a3f5f",
           "arrowhead": 0,
           "arrowwidth": 1
          },
          "autotypenumbers": "strict",
          "coloraxis": {
           "colorbar": {
            "outlinewidth": 0,
            "ticks": ""
           }
          },
          "colorscale": {
           "diverging": [
            [
             0,
             "#8e0152"
            ],
            [
             0.1,
             "#c51b7d"
            ],
            [
             0.2,
             "#de77ae"
            ],
            [
             0.3,
             "#f1b6da"
            ],
            [
             0.4,
             "#fde0ef"
            ],
            [
             0.5,
             "#f7f7f7"
            ],
            [
             0.6,
             "#e6f5d0"
            ],
            [
             0.7,
             "#b8e186"
            ],
            [
             0.8,
             "#7fbc41"
            ],
            [
             0.9,
             "#4d9221"
            ],
            [
             1,
             "#276419"
            ]
           ],
           "sequential": [
            [
             0,
             "#0d0887"
            ],
            [
             0.1111111111111111,
             "#46039f"
            ],
            [
             0.2222222222222222,
             "#7201a8"
            ],
            [
             0.3333333333333333,
             "#9c179e"
            ],
            [
             0.4444444444444444,
             "#bd3786"
            ],
            [
             0.5555555555555556,
             "#d8576b"
            ],
            [
             0.6666666666666666,
             "#ed7953"
            ],
            [
             0.7777777777777778,
             "#fb9f3a"
            ],
            [
             0.8888888888888888,
             "#fdca26"
            ],
            [
             1,
             "#f0f921"
            ]
           ],
           "sequentialminus": [
            [
             0,
             "#0d0887"
            ],
            [
             0.1111111111111111,
             "#46039f"
            ],
            [
             0.2222222222222222,
             "#7201a8"
            ],
            [
             0.3333333333333333,
             "#9c179e"
            ],
            [
             0.4444444444444444,
             "#bd3786"
            ],
            [
             0.5555555555555556,
             "#d8576b"
            ],
            [
             0.6666666666666666,
             "#ed7953"
            ],
            [
             0.7777777777777778,
             "#fb9f3a"
            ],
            [
             0.8888888888888888,
             "#fdca26"
            ],
            [
             1,
             "#f0f921"
            ]
           ]
          },
          "colorway": [
           "#636efa",
           "#EF553B",
           "#00cc96",
           "#ab63fa",
           "#FFA15A",
           "#19d3f3",
           "#FF6692",
           "#B6E880",
           "#FF97FF",
           "#FECB52"
          ],
          "font": {
           "color": "#2a3f5f"
          },
          "geo": {
           "bgcolor": "white",
           "lakecolor": "white",
           "landcolor": "#E5ECF6",
           "showlakes": true,
           "showland": true,
           "subunitcolor": "white"
          },
          "hoverlabel": {
           "align": "left"
          },
          "hovermode": "closest",
          "mapbox": {
           "style": "light"
          },
          "paper_bgcolor": "white",
          "plot_bgcolor": "#E5ECF6",
          "polar": {
           "angularaxis": {
            "gridcolor": "white",
            "linecolor": "white",
            "ticks": ""
           },
           "bgcolor": "#E5ECF6",
           "radialaxis": {
            "gridcolor": "white",
            "linecolor": "white",
            "ticks": ""
           }
          },
          "scene": {
           "xaxis": {
            "backgroundcolor": "#E5ECF6",
            "gridcolor": "white",
            "gridwidth": 2,
            "linecolor": "white",
            "showbackground": true,
            "ticks": "",
            "zerolinecolor": "white"
           },
           "yaxis": {
            "backgroundcolor": "#E5ECF6",
            "gridcolor": "white",
            "gridwidth": 2,
            "linecolor": "white",
            "showbackground": true,
            "ticks": "",
            "zerolinecolor": "white"
           },
           "zaxis": {
            "backgroundcolor": "#E5ECF6",
            "gridcolor": "white",
            "gridwidth": 2,
            "linecolor": "white",
            "showbackground": true,
            "ticks": "",
            "zerolinecolor": "white"
           }
          },
          "shapedefaults": {
           "line": {
            "color": "#2a3f5f"
           }
          },
          "ternary": {
           "aaxis": {
            "gridcolor": "white",
            "linecolor": "white",
            "ticks": ""
           },
           "baxis": {
            "gridcolor": "white",
            "linecolor": "white",
            "ticks": ""
           },
           "bgcolor": "#E5ECF6",
           "caxis": {
            "gridcolor": "white",
            "linecolor": "white",
            "ticks": ""
           }
          },
          "title": {
           "x": 0.05
          },
          "xaxis": {
           "automargin": true,
           "gridcolor": "white",
           "linecolor": "white",
           "ticks": "",
           "title": {
            "standoff": 15
           },
           "zerolinecolor": "white",
           "zerolinewidth": 2
          },
          "yaxis": {
           "automargin": true,
           "gridcolor": "white",
           "linecolor": "white",
           "ticks": "",
           "title": {
            "standoff": 15
           },
           "zerolinecolor": "white",
           "zerolinewidth": 2
          }
         }
        },
        "width": 700,
        "xaxis": {
         "autorange": false,
         "range": [
          -6.569206842923795,
          107.66036607249671
         ],
         "type": "linear"
        },
        "yaxis": {
         "autorange": true,
         "range": [
          0.7250797800095536,
          1.0172961302725814
         ],
         "type": "linear"
        }
       }
      },
      "image/png": "[encoded data removed]",
      "text/html": [
       "<div>                            <div id=\"a82b6485-dec0-49cd-a225-cf4ea77ee8cb\" class=\"plotly-graph-div\" style=\"height:500px; width:700px;\"></div>            <script type=\"text/javascript\">                require([\"plotly\"], function(Plotly) {                    window.PLOTLYENV=window.PLOTLYENV || {};                                    if (document.getElementById(\"a82b6485-dec0-49cd-a225-cf4ea77ee8cb\")) {                    Plotly.newPlot(                        \"a82b6485-dec0-49cd-a225-cf4ea77ee8cb\",                        [{\"mode\":\"lines+markers\",\"name\":\"Train Accuracy\",\"type\":\"scatter\",\"x\":[0,1,2,3,4,5,6,7,8,9,10,11,12,13,14,15,16,17,18,19,20,21,22,23,24,25,26,27,28,29,30,31,32,33,34,35,36,37,38,39,40,41,42,43,44,45,46,47,48,49,50,51,52,53,54,55,56,57,58,59,60,61,62,63,64,65,66,67,68,69,70,71,72,73,74,75,76,77,78,79,80,81,82,83,84,85,86,87,88,89,90,91,92,93,94,95,96,97,98,99],\"y\":[0.8632456064224243,0.8682714104652405,0.8729626536369324,0.8782140612602234,0.8839711546897888,0.888063371181488,0.8932603001594543,0.8969868421554565,0.9018570780754089,0.9056069254875183,0.9102048277854919,0.9139625430107117,0.9175956845283508,0.9215089678764343,0.9249787926673889,0.9278340339660645,0.9312649369239807,0.9346802830696106,0.9383134841918945,0.9406940937042236,0.9437438249588013,0.9468790888786316,0.948956310749054,0.9513913989067078,0.9542155265808105,0.956759512424469,0.9585177898406982,0.9610773324966431,0.9625399708747864,0.964710533618927,0.9669122695922852,0.9687638282775879,0.9700008630752563,0.9715023636817932,0.9733073115348816,0.9745442867279053,0.9759758114814758,0.9775239825248718,0.9788076877593994,0.9800291061401367,0.9812194108963013,0.9823864102363586,0.9834911227226257,0.9840512871742249,0.9850626587867737,0.9857628345489502,0.9866186380386353,0.9874433279037476,0.9882368445396423,0.9887269735336304,0.9893960356712341,0.9900729060173035,0.9905630350112915,0.9908742308616638,0.9915822148323059,0.9917922616004944,0.9924613237380981,0.992834746837616,0.9932470917701721,0.9935504794120789,0.9938772320747375,0.994328498840332,0.9945074319839478,0.9950286746025085,0.9952076077461243,0.995604395866394,0.9957833290100098,0.9959311485290527,0.9961256384849548,0.9963590502738953,0.9964679479598999,0.9967947006225586,0.9969736337661743,0.9969814419746399,0.997424840927124,0.9974871277809143,0.9975337982177734,0.9977127313613892,0.9977749586105347,0.9980316758155823,0.9981095194816589,0.9981406331062317,0.9983817934989929,0.9983895421028137,0.9984984993934631,0.9985685348510742,0.9985685348510742,0.9986618757247925,0.998700737953186,0.9988252520561218,0.998871922492981,0.9989341497421265,0.9988952875137329,0.9990430474281311,0.9990742206573486,0.9991053342819214,0.9991208910942078,0.9991831183433533,0.9992297887802124,0.9992609024047852]},{\"mode\":\"lines+markers\",\"name\":\"Validation Accuracy\",\"type\":\"scatter\",\"x\":[0,1,2,3,4,5,6,7,8,9,10,11,12,13,14,15,16,17,18,19,20,21,22,23,24,25,26,27,28,29,30,31,32,33,34,35,36,37,38,39,40,41,42,43,44,45,46,47,48,49,50,51,52,53,54,55,56,57,58,59,60,61,62,63,64,65,66,67,68,69,70,71,72,73,74,75,76,77,78,79,80,81,82,83,84,85,86,87,88,89,90,91,92,93,94,95,96,97,98,99],\"y\":[0.7550334334373474,0.7561848163604736,0.7573362588882446,0.7576785683631897,0.7557491660118103,0.755437970161438,0.7570561766624451,0.7575229406356812,0.7590166330337524,0.7571184039115906,0.7577096819877625,0.7574918270111084,0.7581453323364258,0.7571806311607361,0.7578030228614807,0.7572739720344543,0.7552824020385742,0.7563715577125549,0.755313515663147,0.7557180523872375,0.7564648985862732,0.7552201747894287,0.7548467516899109,0.7552824020385742,0.755655825138092,0.7554068565368652,0.7540376782417297,0.7537264823913574,0.7540376782417297,0.7545666694641113,0.7522950172424316,0.752606213092804,0.7532596588134766,0.7522639036178589,0.751548171043396,0.7516415119171143,0.751797080039978,0.7504590153694153,0.7510502338409424,0.7505212426185608,0.7513925433158875,0.7499921917915344,0.7494943141937256,0.749214231967926,0.7498366236686707,0.7497743964195251,0.7487474679946899,0.7495876550674438,0.7485918998718262,0.7494320869445801,0.7486230134963989,0.7484673857688904,0.7474716305732727,0.747813880443573,0.7482807040214539,0.7471293210983276,0.7477205395698547,0.7472537755966187,0.7476271986961365,0.7469114661216736,0.7470359206199646,0.7467870116233826,0.7470982074737549,0.7470048069953918,0.7466624975204468,0.7468181252479553,0.7467247843742371,0.7464447021484375,0.7457600831985474,0.746289074420929,0.7461957335472107,0.7458534240722656,0.7466002702713013,0.7450132369995117,0.7459778785705566,0.745324432849884,0.7460401654243469,0.7452621459960938,0.744982123374939,0.7451999187469482,0.7447642683982849,0.7445775866508484,0.7449198961257935,0.7444530725479126,0.7437995672225952,0.7444530725479126,0.744172990322113,0.7447331547737122,0.7440174221992493,0.7453555464744568,0.7442041635513306,0.7447331547737122,0.744048535823822,0.7433328032493591,0.7439863085746765,0.7438618540763855,0.7431150078773499,0.7433950304985046,0.7435506582260132,0.7431461215019226]}],                        {\"height\":500,\"template\":{\"data\":{\"bar\":[{\"error_x\":{\"color\":\"#2a3f5f\"},\"error_y\":{\"color\":\"#2a3f5f\"},\"marker\":{\"line\":{\"color\":\"#E5ECF6\",\"width\":0.5},\"pattern\":{\"fillmode\":\"overlay\",\"size\":10,\"solidity\":0.2}},\"type\":\"bar\"}],\"barpolar\":[{\"marker\":{\"line\":{\"color\":\"#E5ECF6\",\"width\":0.5},\"pattern\":{\"fillmode\":\"overlay\",\"size\":10,\"solidity\":0.2}},\"type\":\"barpolar\"}],\"carpet\":[{\"aaxis\":{\"endlinecolor\":\"#2a3f5f\",\"gridcolor\":\"white\",\"linecolor\":\"white\",\"minorgridcolor\":\"white\",\"startlinecolor\":\"#2a3f5f\"},\"baxis\":{\"endlinecolor\":\"#2a3f5f\",\"gridcolor\":\"white\",\"linecolor\":\"white\",\"minorgridcolor\":\"white\",\"startlinecolor\":\"#2a3f5f\"},\"type\":\"carpet\"}],\"choropleth\":[{\"colorbar\":{\"outlinewidth\":0,\"ticks\":\"\"},\"type\":\"choropleth\"}],\"contour\":[{\"colorbar\":{\"outlinewidth\":0,\"ticks\":\"\"},\"colorscale\":[[0.0,\"#0d0887\"],[0.1111111111111111,\"#46039f\"],[0.2222222222222222,\"#7201a8\"],[0.3333333333333333,\"#9c179e\"],[0.4444444444444444,\"#bd3786\"],[0.5555555555555556,\"#d8576b\"],[0.6666666666666666,\"#ed7953\"],[0.7777777777777778,\"#fb9f3a\"],[0.8888888888888888,\"#fdca26\"],[1.0,\"#f0f921\"]],\"type\":\"contour\"}],\"contourcarpet\":[{\"colorbar\":{\"outlinewidth\":0,\"ticks\":\"\"},\"type\":\"contourcarpet\"}],\"heatmap\":[{\"colorbar\":{\"outlinewidth\":0,\"ticks\":\"\"},\"colorscale\":[[0.0,\"#0d0887\"],[0.1111111111111111,\"#46039f\"],[0.2222222222222222,\"#7201a8\"],[0.3333333333333333,\"#9c179e\"],[0.4444444444444444,\"#bd3786\"],[0.5555555555555556,\"#d8576b\"],[0.6666666666666666,\"#ed7953\"],[0.7777777777777778,\"#fb9f3a\"],[0.8888888888888888,\"#fdca26\"],[1.0,\"#f0f921\"]],\"type\":\"heatmap\"}],\"heatmapgl\":[{\"colorbar\":{\"outlinewidth\":0,\"ticks\":\"\"},\"colorscale\":[[0.0,\"#0d0887\"],[0.1111111111111111,\"#46039f\"],[0.2222222222222222,\"#7201a8\"],[0.3333333333333333,\"#9c179e\"],[0.4444444444444444,\"#bd3786\"],[0.5555555555555556,\"#d8576b\"],[0.6666666666666666,\"#ed7953\"],[0.7777777777777778,\"#fb9f3a\"],[0.8888888888888888,\"#fdca26\"],[1.0,\"#f0f921\"]],\"type\":\"heatmapgl\"}],\"histogram\":[{\"marker\":{\"pattern\":{\"fillmode\":\"overlay\",\"size\":10,\"solidity\":0.2}},\"type\":\"histogram\"}],\"histogram2d\":[{\"colorbar\":{\"outlinewidth\":0,\"ticks\":\"\"},\"colorscale\":[[0.0,\"#0d0887\"],[0.1111111111111111,\"#46039f\"],[0.2222222222222222,\"#7201a8\"],[0.3333333333333333,\"#9c179e\"],[0.4444444444444444,\"#bd3786\"],[0.5555555555555556,\"#d8576b\"],[0.6666666666666666,\"#ed7953\"],[0.7777777777777778,\"#fb9f3a\"],[0.8888888888888888,\"#fdca26\"],[1.0,\"#f0f921\"]],\"type\":\"histogram2d\"}],\"histogram2dcontour\":[{\"colorbar\":{\"outlinewidth\":0,\"ticks\":\"\"},\"colorscale\":[[0.0,\"#0d0887\"],[0.1111111111111111,\"#46039f\"],[0.2222222222222222,\"#7201a8\"],[0.3333333333333333,\"#9c179e\"],[0.4444444444444444,\"#bd3786\"],[0.5555555555555556,\"#d8576b\"],[0.6666666666666666,\"#ed7953\"],[0.7777777777777778,\"#fb9f3a\"],[0.8888888888888888,\"#fdca26\"],[1.0,\"#f0f921\"]],\"type\":\"histogram2dcontour\"}],\"mesh3d\":[{\"colorbar\":{\"outlinewidth\":0,\"ticks\":\"\"},\"type\":\"mesh3d\"}],\"parcoords\":[{\"line\":{\"colorbar\":{\"outlinewidth\":0,\"ticks\":\"\"}},\"type\":\"parcoords\"}],\"pie\":[{\"automargin\":true,\"type\":\"pie\"}],\"scatter\":[{\"marker\":{\"colorbar\":{\"outlinewidth\":0,\"ticks\":\"\"}},\"type\":\"scatter\"}],\"scatter3d\":[{\"line\":{\"colorbar\":{\"outlinewidth\":0,\"ticks\":\"\"}},\"marker\":{\"colorbar\":{\"outlinewidth\":0,\"ticks\":\"\"}},\"type\":\"scatter3d\"}],\"scattercarpet\":[{\"marker\":{\"colorbar\":{\"outlinewidth\":0,\"ticks\":\"\"}},\"type\":\"scattercarpet\"}],\"scattergeo\":[{\"marker\":{\"colorbar\":{\"outlinewidth\":0,\"ticks\":\"\"}},\"type\":\"scattergeo\"}],\"scattergl\":[{\"marker\":{\"colorbar\":{\"outlinewidth\":0,\"ticks\":\"\"}},\"type\":\"scattergl\"}],\"scattermapbox\":[{\"marker\":{\"colorbar\":{\"outlinewidth\":0,\"ticks\":\"\"}},\"type\":\"scattermapbox\"}],\"scatterpolar\":[{\"marker\":{\"colorbar\":{\"outlinewidth\":0,\"ticks\":\"\"}},\"type\":\"scatterpolar\"}],\"scatterpolargl\":[{\"marker\":{\"colorbar\":{\"outlinewidth\":0,\"ticks\":\"\"}},\"type\":\"scatterpolargl\"}],\"scatterternary\":[{\"marker\":{\"colorbar\":{\"outlinewidth\":0,\"ticks\":\"\"}},\"type\":\"scatterternary\"}],\"surface\":[{\"colorbar\":{\"outlinewidth\":0,\"ticks\":\"\"},\"colorscale\":[[0.0,\"#0d0887\"],[0.1111111111111111,\"#46039f\"],[0.2222222222222222,\"#7201a8\"],[0.3333333333333333,\"#9c179e\"],[0.4444444444444444,\"#bd3786\"],[0.5555555555555556,\"#d8576b\"],[0.6666666666666666,\"#ed7953\"],[0.7777777777777778,\"#fb9f3a\"],[0.8888888888888888,\"#fdca26\"],[1.0,\"#f0f921\"]],\"type\":\"surface\"}],\"table\":[{\"cells\":{\"fill\":{\"color\":\"#EBF0F8\"},\"line\":{\"color\":\"white\"}},\"header\":{\"fill\":{\"color\":\"#C8D4E3\"},\"line\":{\"color\":\"white\"}},\"type\":\"table\"}]},\"layout\":{\"annotationdefaults\":{\"arrowcolor\":\"#2a3f5f\",\"arrowhead\":0,\"arrowwidth\":1},\"autotypenumbers\":\"strict\",\"coloraxis\":{\"colorbar\":{\"outlinewidth\":0,\"ticks\":\"\"}},\"colorscale\":{\"diverging\":[[0,\"#8e0152\"],[0.1,\"#c51b7d\"],[0.2,\"#de77ae\"],[0.3,\"#f1b6da\"],[0.4,\"#fde0ef\"],[0.5,\"#f7f7f7\"],[0.6,\"#e6f5d0\"],[0.7,\"#b8e186\"],[0.8,\"#7fbc41\"],[0.9,\"#4d9221\"],[1,\"#276419\"]],\"sequential\":[[0.0,\"#0d0887\"],[0.1111111111111111,\"#46039f\"],[0.2222222222222222,\"#7201a8\"],[0.3333333333333333,\"#9c179e\"],[0.4444444444444444,\"#bd3786\"],[0.5555555555555556,\"#d8576b\"],[0.6666666666666666,\"#ed7953\"],[0.7777777777777778,\"#fb9f3a\"],[0.8888888888888888,\"#fdca26\"],[1.0,\"#f0f921\"]],\"sequentialminus\":[[0.0,\"#0d0887\"],[0.1111111111111111,\"#46039f\"],[0.2222222222222222,\"#7201a8\"],[0.3333333333333333,\"#9c179e\"],[0.4444444444444444,\"#bd3786\"],[0.5555555555555556,\"#d8576b\"],[0.6666666666666666,\"#ed7953\"],[0.7777777777777778,\"#fb9f3a\"],[0.8888888888888888,\"#fdca26\"],[1.0,\"#f0f921\"]]},\"colorway\":[\"#636efa\",\"#EF553B\",\"#00cc96\",\"#ab63fa\",\"#FFA15A\",\"#19d3f3\",\"#FF6692\",\"#B6E880\",\"#FF97FF\",\"#FECB52\"],\"font\":{\"color\":\"#2a3f5f\"},\"geo\":{\"bgcolor\":\"white\",\"lakecolor\":\"white\",\"landcolor\":\"#E5ECF6\",\"showlakes\":true,\"showland\":true,\"subunitcolor\":\"white\"},\"hoverlabel\":{\"align\":\"left\"},\"hovermode\":\"closest\",\"mapbox\":{\"style\":\"light\"},\"paper_bgcolor\":\"white\",\"plot_bgcolor\":\"#E5ECF6\",\"polar\":{\"angularaxis\":{\"gridcolor\":\"white\",\"linecolor\":\"white\",\"ticks\":\"\"},\"bgcolor\":\"#E5ECF6\",\"radialaxis\":{\"gridcolor\":\"white\",\"linecolor\":\"white\",\"ticks\":\"\"}},\"scene\":{\"xaxis\":{\"backgroundcolor\":\"#E5ECF6\",\"gridcolor\":\"white\",\"gridwidth\":2,\"linecolor\":\"white\",\"showbackground\":true,\"ticks\":\"\",\"zerolinecolor\":\"white\"},\"yaxis\":{\"backgroundcolor\":\"#E5ECF6\",\"gridcolor\":\"white\",\"gridwidth\":2,\"linecolor\":\"white\",\"showbackground\":true,\"ticks\":\"\",\"zerolinecolor\":\"white\"},\"zaxis\":{\"backgroundcolor\":\"#E5ECF6\",\"gridcolor\":\"white\",\"gridwidth\":2,\"linecolor\":\"white\",\"showbackground\":true,\"ticks\":\"\",\"zerolinecolor\":\"white\"}},\"shapedefaults\":{\"line\":{\"color\":\"#2a3f5f\"}},\"ternary\":{\"aaxis\":{\"gridcolor\":\"white\",\"linecolor\":\"white\",\"ticks\":\"\"},\"baxis\":{\"gridcolor\":\"white\",\"linecolor\":\"white\",\"ticks\":\"\"},\"bgcolor\":\"#E5ECF6\",\"caxis\":{\"gridcolor\":\"white\",\"linecolor\":\"white\",\"ticks\":\"\"}},\"title\":{\"x\":0.05},\"xaxis\":{\"automargin\":true,\"gridcolor\":\"white\",\"linecolor\":\"white\",\"ticks\":\"\",\"title\":{\"standoff\":15},\"zerolinecolor\":\"white\",\"zerolinewidth\":2},\"yaxis\":{\"automargin\":true,\"gridcolor\":\"white\",\"linecolor\":\"white\",\"ticks\":\"\",\"title\":{\"standoff\":15},\"zerolinecolor\":\"white\",\"zerolinewidth\":2}}},\"width\":700},                        {\"responsive\": true}                    ).then(function(){\n",
       "                            \n",
       "var gd = document.getElementById('a82b6485-dec0-49cd-a225-cf4ea77ee8cb');\n",
       "var x = new MutationObserver(function (mutations, observer) {{\n",
       "        var display = window.getComputedStyle(gd).display;\n",
       "        if (!display || display === 'none') {{\n",
       "            console.log([gd, 'removed!']);\n",
       "            Plotly.purge(gd);\n",
       "            observer.disconnect();\n",
       "        }}\n",
       "}});\n",
       "\n",
       "// Listen for the removal of the full notebook cells\n",
       "var notebookContainer = gd.closest('#notebook-container');\n",
       "if (notebookContainer) {{\n",
       "    x.observe(notebookContainer, {childList: true});\n",
       "}}\n",
       "\n",
       "// Listen for the clearing of the current output cell\n",
       "var outputEl = gd.closest('.output');\n",
       "if (outputEl) {{\n",
       "    x.observe(outputEl, {childList: true});\n",
       "}}\n",
       "\n",
       "                        })                };                });            </script>        </div>"
      ]
     },
     "metadata": {},
     "output_type": "display_data"
    }
   ],
   "source": [
    "get_model_metrics(y_val, model.predict(X_val_counts), full_report = 0, plot = 1)"
   ]
  },
  {
   "cell_type": "markdown",
   "id": "e3c6b64b-5067-4147-b38f-136cae831efe",
   "metadata": {},
   "source": [
    "### TFIDF Vectorization\n",
    "- Weigh words by how frequently they appear in the dataset, discount words that are too common (noise)"
   ]
  },
  {
   "cell_type": "code",
   "execution_count": 23,
   "id": "28931bc4-0982-49eb-94af-aafc6d0e0ac1",
   "metadata": {},
   "outputs": [
    {
     "name": "stdout",
     "output_type": "stream",
     "text": [
      "There are 128537 observations and 93540 features\n"
     ]
    }
   ],
   "source": [
    "from sklearn.feature_extraction.text import TfidfVectorizer\n",
    "\n",
    "# Instantiate CountVectorizer with custom list of stop words\n",
    "tf_idf_vectorizer = TfidfVectorizer(stop_words= stopwords_list)\n",
    "\n",
    "# Fit the tokenizer on the training data\n",
    "tf_idf_vectorizer.fit(X_train)\n",
    "\n",
    "# Apply the tokenizer to the training and testing data\n",
    "X_train_tf_idf = tf_idf_vectorizer.transform(X_train)\n",
    "X_test_tf_idf = tf_idf_vectorizer.transform(X_test)\n",
    "X_val_tf_idf = tf_idf_vectorizer.transform(X_val)\n",
    "\n",
    "# View Results\n",
    "print(f'There are {X_train_counts.shape[0]} observations and {X_train_counts.shape[1]} features')"
   ]
  },
  {
   "cell_type": "markdown",
   "id": "1f78d076-3a20-41f1-a7ef-35ac6296f914",
   "metadata": {},
   "source": [
    "## Model: Neural Network"
   ]
  },
  {
   "cell_type": "markdown",
   "id": "f668851a-87e8-4b5f-a157-58c269e4d987",
   "metadata": {},
   "source": [
    "#### Create model"
   ]
  },
  {
   "cell_type": "code",
   "execution_count": 24,
   "id": "07cd8061-13f0-49d0-b32d-6ca02fc14862",
   "metadata": {},
   "outputs": [],
   "source": [
    "# Initialize a sequential model\n",
    "model_tf_idf = models.Sequential()\n",
    "\n",
    "# Two layers with relu activation\n",
    "model_tf_idf.add(layers.Dense(50, activation='relu'))\n",
    "\n",
    "# One layer with softmax activation \n",
    "model_tf_idf.add(layers.Dense(41, activation='softmax'))"
   ]
  },
  {
   "cell_type": "markdown",
   "id": "c1305a55-0204-4e42-a70a-cc9e4cb13ab7",
   "metadata": {},
   "source": [
    "#### Compile\n",
    "- Loss function = categorical crossentropy\n",
    "- Optimizer = stochastic gradient descent"
   ]
  },
  {
   "cell_type": "code",
   "execution_count": 25,
   "id": "3220df07-b323-478e-8a12-ce1a71b77fec",
   "metadata": {},
   "outputs": [],
   "source": [
    "model_tf_idf.compile(optimizer='SGD',\n",
    "              loss='categorical_crossentropy',\n",
    "              metrics=['acc'])"
   ]
  },
  {
   "cell_type": "markdown",
   "id": "fc8a9710-4f2a-4db7-afaf-ddd60f090421",
   "metadata": {},
   "source": [
    "#### Format DataTypes"
   ]
  },
  {
   "cell_type": "code",
   "execution_count": 26,
   "id": "6389bd55-2e32-4c12-b83e-8dc209815948",
   "metadata": {},
   "outputs": [],
   "source": [
    "# Define function to turn sparse matrix to sparse tensor\n",
    "def to_sparse_tensor(X):\n",
    "    coo = X.tocoo()\n",
    "    indices = np.mat([coo.row, coo.col]).transpose()\n",
    "    return tf.SparseTensor(indices, coo.data, coo.shape)\n",
    "\n",
    "# Apply function to matricies\n",
    "X_train_tf_idf_tensor = tf.sparse.reorder(to_sparse_tensor(X_train_tf_idf))\n",
    "X_val_tf_idf_tensor = tf.sparse.reorder(to_sparse_tensor(X_val_tf_idf))"
   ]
  },
  {
   "cell_type": "code",
   "execution_count": 27,
   "id": "9ec4cf0e-be9a-4baa-bc46-533e48686868",
   "metadata": {
    "tags": []
   },
   "outputs": [
    {
     "name": "stdout",
     "output_type": "stream",
     "text": [
      "Epoch 1/200\n",
      "4017/4017 [==============================] - 6s 1ms/step - loss: 3.3443 - acc: 0.1637 - val_loss: 3.2708 - val_acc: 0.1633\n",
      "Epoch 2/200\n",
      "4017/4017 [==============================] - 5s 1ms/step - loss: 3.2556 - acc: 0.1638 - val_loss: 3.2432 - val_acc: 0.1633\n",
      "Epoch 3/200\n",
      "4017/4017 [==============================] - 5s 1ms/step - loss: 3.2179 - acc: 0.1638 - val_loss: 3.1927 - val_acc: 0.1636\n",
      "Epoch 4/200\n",
      "4017/4017 [==============================] - 6s 1ms/step - loss: 3.1535 - acc: 0.1806 - val_loss: 3.1167 - val_acc: 0.2168\n",
      "Epoch 5/200\n",
      "4017/4017 [==============================] - 6s 1ms/step - loss: 3.0740 - acc: 0.2376 - val_loss: 3.0365 - val_acc: 0.2637\n",
      "Epoch 6/200\n",
      "4017/4017 [==============================] - 5s 1ms/step - loss: 2.9948 - acc: 0.2736 - val_loss: 2.9577 - val_acc: 0.2806\n",
      "Epoch 7/200\n",
      "4017/4017 [==============================] - 5s 1ms/step - loss: 2.9143 - acc: 0.3077 - val_loss: 2.8755 - val_acc: 0.3241\n",
      "Epoch 8/200\n",
      "4017/4017 [==============================] - 6s 1ms/step - loss: 2.8295 - acc: 0.3314 - val_loss: 2.7886 - val_acc: 0.3411\n",
      "Epoch 9/200\n",
      "4017/4017 [==============================] - 6s 1ms/step - loss: 2.7412 - acc: 0.3462 - val_loss: 2.7006 - val_acc: 0.3538\n",
      "Epoch 10/200\n",
      "4017/4017 [==============================] - 5s 1ms/step - loss: 2.6526 - acc: 0.3619 - val_loss: 2.6146 - val_acc: 0.3671\n",
      "Epoch 11/200\n",
      "4017/4017 [==============================] - 5s 1ms/step - loss: 2.5659 - acc: 0.3813 - val_loss: 2.5297 - val_acc: 0.3896\n",
      "Epoch 12/200\n",
      "4017/4017 [==============================] - 6s 1ms/step - loss: 2.4821 - acc: 0.4024 - val_loss: 2.4486 - val_acc: 0.4110\n",
      "Epoch 13/200\n",
      "4017/4017 [==============================] - 7s 2ms/step - loss: 2.4014 - acc: 0.4224 - val_loss: 2.3713 - val_acc: 0.4312\n",
      "Epoch 14/200\n",
      "4017/4017 [==============================] - 7s 2ms/step - loss: 2.3238 - acc: 0.4417 - val_loss: 2.2970 - val_acc: 0.4495\n",
      "Epoch 15/200\n",
      "4017/4017 [==============================] - 6s 1ms/step - loss: 2.2493 - acc: 0.4597 - val_loss: 2.2264 - val_acc: 0.4655\n",
      "Epoch 16/200\n",
      "4017/4017 [==============================] - 6s 1ms/step - loss: 2.1784 - acc: 0.4751 - val_loss: 2.1597 - val_acc: 0.4770\n",
      "Epoch 17/200\n",
      "4017/4017 [==============================] - 6s 2ms/step - loss: 2.1112 - acc: 0.4883 - val_loss: 2.0959 - val_acc: 0.4902\n",
      "Epoch 18/200\n",
      "4017/4017 [==============================] - 6s 1ms/step - loss: 2.0482 - acc: 0.5003 - val_loss: 2.0375 - val_acc: 0.4998\n",
      "Epoch 19/200\n",
      "4017/4017 [==============================] - 5s 1ms/step - loss: 1.9891 - acc: 0.5127 - val_loss: 1.9825 - val_acc: 0.5102\n",
      "Epoch 20/200\n",
      "4017/4017 [==============================] - 5s 1ms/step - loss: 1.9338 - acc: 0.5249 - val_loss: 1.9314 - val_acc: 0.5202\n",
      "Epoch 21/200\n",
      "4017/4017 [==============================] - 5s 1ms/step - loss: 1.8822 - acc: 0.5372 - val_loss: 1.8842 - val_acc: 0.5343\n",
      "Epoch 22/200\n",
      "4017/4017 [==============================] - 6s 1ms/step - loss: 1.8337 - acc: 0.5495 - val_loss: 1.8404 - val_acc: 0.5493\n",
      "Epoch 23/200\n",
      "4017/4017 [==============================] - 6s 1ms/step - loss: 1.7880 - acc: 0.5601 - val_loss: 1.7993 - val_acc: 0.5558\n",
      "Epoch 24/200\n",
      "4017/4017 [==============================] - 6s 1ms/step - loss: 1.7444 - acc: 0.5709 - val_loss: 1.7588 - val_acc: 0.5638\n",
      "Epoch 25/200\n",
      "4017/4017 [==============================] - 6s 1ms/step - loss: 1.7030 - acc: 0.5814 - val_loss: 1.7218 - val_acc: 0.5737\n",
      "Epoch 26/200\n",
      "4017/4017 [==============================] - 6s 1ms/step - loss: 1.6634 - acc: 0.5910 - val_loss: 1.6855 - val_acc: 0.5839\n",
      "Epoch 27/200\n",
      "4017/4017 [==============================] - 6s 1ms/step - loss: 1.6252 - acc: 0.6006 - val_loss: 1.6529 - val_acc: 0.5919\n",
      "Epoch 28/200\n",
      "4017/4017 [==============================] - 6s 1ms/step - loss: 1.5881 - acc: 0.6101 - val_loss: 1.6187 - val_acc: 0.5989\n",
      "Epoch 29/200\n",
      "4017/4017 [==============================] - 5s 1ms/step - loss: 1.5525 - acc: 0.6179 - val_loss: 1.5867 - val_acc: 0.6046\n",
      "Epoch 30/200\n",
      "4017/4017 [==============================] - 5s 1ms/step - loss: 1.5181 - acc: 0.6252 - val_loss: 1.5577 - val_acc: 0.6127\n",
      "Epoch 31/200\n",
      "4017/4017 [==============================] - 5s 1ms/step - loss: 1.4847 - acc: 0.6323 - val_loss: 1.5276 - val_acc: 0.6159\n",
      "Epoch 32/200\n",
      "4017/4017 [==============================] - 5s 1ms/step - loss: 1.4525 - acc: 0.6400 - val_loss: 1.4987 - val_acc: 0.6219\n",
      "Epoch 33/200\n",
      "4017/4017 [==============================] - 6s 1ms/step - loss: 1.4214 - acc: 0.6459 - val_loss: 1.4722 - val_acc: 0.6290\n",
      "Epoch 34/200\n",
      "4017/4017 [==============================] - 5s 1ms/step - loss: 1.3913 - acc: 0.6526 - val_loss: 1.4470 - val_acc: 0.6309\n",
      "Epoch 35/200\n",
      "4017/4017 [==============================] - 5s 1ms/step - loss: 1.3623 - acc: 0.6587 - val_loss: 1.4224 - val_acc: 0.6355\n",
      "Epoch 36/200\n",
      "4017/4017 [==============================] - 5s 1ms/step - loss: 1.3345 - acc: 0.6649 - val_loss: 1.3981 - val_acc: 0.6447\n",
      "Epoch 37/200\n",
      "4017/4017 [==============================] - 5s 1ms/step - loss: 1.3075 - acc: 0.6708 - val_loss: 1.3749 - val_acc: 0.6497\n",
      "Epoch 38/200\n",
      "4017/4017 [==============================] - 5s 1ms/step - loss: 1.2816 - acc: 0.6766 - val_loss: 1.3538 - val_acc: 0.6489\n",
      "Epoch 39/200\n",
      "4017/4017 [==============================] - 7s 2ms/step - loss: 1.2567 - acc: 0.6820 - val_loss: 1.3326 - val_acc: 0.6541\n",
      "Epoch 40/200\n",
      "4017/4017 [==============================] - 7s 2ms/step - loss: 1.2326 - acc: 0.6872 - val_loss: 1.3136 - val_acc: 0.6594\n",
      "Epoch 41/200\n",
      "4017/4017 [==============================] - 8s 2ms/step - loss: 1.2092 - acc: 0.6923 - val_loss: 1.2961 - val_acc: 0.6661\n",
      "Epoch 42/200\n",
      "4017/4017 [==============================] - 6s 1ms/step - loss: 1.1866 - acc: 0.6968 - val_loss: 1.2752 - val_acc: 0.6681\n",
      "Epoch 43/200\n",
      "4017/4017 [==============================] - 7s 2ms/step - loss: 1.1648 - acc: 0.7021 - val_loss: 1.2577 - val_acc: 0.6720\n",
      "Epoch 44/200\n",
      "4017/4017 [==============================] - 7s 2ms/step - loss: 1.1437 - acc: 0.7067 - val_loss: 1.2415 - val_acc: 0.6724\n",
      "Epoch 45/200\n",
      "4017/4017 [==============================] - 6s 1ms/step - loss: 1.1232 - acc: 0.7111 - val_loss: 1.2250 - val_acc: 0.6770\n",
      "Epoch 46/200\n",
      "4017/4017 [==============================] - 5s 1ms/step - loss: 1.1032 - acc: 0.7156 - val_loss: 1.2094 - val_acc: 0.6787\n",
      "Epoch 47/200\n",
      "4017/4017 [==============================] - 5s 1ms/step - loss: 1.0838 - acc: 0.7198 - val_loss: 1.1948 - val_acc: 0.6834\n",
      "Epoch 48/200\n",
      "4017/4017 [==============================] - 5s 1ms/step - loss: 1.0651 - acc: 0.7244 - val_loss: 1.1793 - val_acc: 0.6868\n",
      "Epoch 49/200\n",
      "4017/4017 [==============================] - 6s 1ms/step - loss: 1.0469 - acc: 0.7282 - val_loss: 1.1656 - val_acc: 0.6890\n",
      "Epoch 50/200\n",
      "4017/4017 [==============================] - 5s 1ms/step - loss: 1.0290 - acc: 0.7324 - val_loss: 1.1517 - val_acc: 0.6929\n",
      "Epoch 51/200\n",
      "4017/4017 [==============================] - 5s 1ms/step - loss: 1.0116 - acc: 0.7369 - val_loss: 1.1391 - val_acc: 0.6961\n",
      "Epoch 52/200\n",
      "4017/4017 [==============================] - 5s 1ms/step - loss: 0.9948 - acc: 0.7410 - val_loss: 1.1258 - val_acc: 0.6995\n",
      "Epoch 53/200\n",
      "4017/4017 [==============================] - 6s 1ms/step - loss: 0.9784 - acc: 0.7445 - val_loss: 1.1149 - val_acc: 0.6989\n",
      "Epoch 54/200\n",
      "4017/4017 [==============================] - 6s 1ms/step - loss: 0.9622 - acc: 0.7485 - val_loss: 1.1041 - val_acc: 0.7033\n",
      "Epoch 55/200\n",
      "4017/4017 [==============================] - 8s 2ms/step - loss: 0.9466 - acc: 0.7528 - val_loss: 1.0914 - val_acc: 0.7061\n",
      "Epoch 56/200\n",
      "4017/4017 [==============================] - 6s 1ms/step - loss: 0.9314 - acc: 0.7564 - val_loss: 1.0817 - val_acc: 0.7100\n",
      "Epoch 57/200\n",
      "4017/4017 [==============================] - 5s 1ms/step - loss: 0.9167 - acc: 0.7600 - val_loss: 1.0697 - val_acc: 0.7113\n",
      "Epoch 58/200\n",
      "4017/4017 [==============================] - 5s 1ms/step - loss: 0.9023 - acc: 0.7636 - val_loss: 1.0599 - val_acc: 0.7160\n",
      "Epoch 59/200\n",
      "4017/4017 [==============================] - 5s 1ms/step - loss: 0.8882 - acc: 0.7678 - val_loss: 1.0496 - val_acc: 0.7154\n",
      "Epoch 60/200\n",
      "4017/4017 [==============================] - 5s 1ms/step - loss: 0.8745 - acc: 0.7716 - val_loss: 1.0402 - val_acc: 0.7184\n",
      "Epoch 61/200\n",
      "4017/4017 [==============================] - 5s 1ms/step - loss: 0.8611 - acc: 0.7746 - val_loss: 1.0317 - val_acc: 0.7227\n",
      "Epoch 62/200\n",
      "4017/4017 [==============================] - 5s 1ms/step - loss: 0.8481 - acc: 0.7781 - val_loss: 1.0233 - val_acc: 0.7214\n",
      "Epoch 63/200\n",
      "4017/4017 [==============================] - 5s 1ms/step - loss: 0.8354 - acc: 0.7815 - val_loss: 1.0140 - val_acc: 0.7240\n",
      "Epoch 64/200\n",
      "4017/4017 [==============================] - 5s 1ms/step - loss: 0.8230 - acc: 0.7843 - val_loss: 1.0063 - val_acc: 0.7267\n",
      "Epoch 65/200\n",
      "4017/4017 [==============================] - 5s 1ms/step - loss: 0.8110 - acc: 0.7871 - val_loss: 0.9992 - val_acc: 0.7275\n",
      "Epoch 66/200\n",
      "4017/4017 [==============================] - 5s 1ms/step - loss: 0.7992 - acc: 0.7907 - val_loss: 0.9908 - val_acc: 0.7278\n",
      "Epoch 67/200\n",
      "4017/4017 [==============================] - 5s 1ms/step - loss: 0.7877 - acc: 0.7935 - val_loss: 0.9843 - val_acc: 0.7310\n",
      "Epoch 68/200\n",
      "4017/4017 [==============================] - 5s 1ms/step - loss: 0.7765 - acc: 0.7958 - val_loss: 0.9769 - val_acc: 0.7312\n",
      "Epoch 69/200\n",
      "4017/4017 [==============================] - 5s 1ms/step - loss: 0.7655 - acc: 0.7990 - val_loss: 0.9710 - val_acc: 0.7341\n",
      "Epoch 70/200\n",
      "4017/4017 [==============================] - 5s 1ms/step - loss: 0.7549 - acc: 0.8012 - val_loss: 0.9647 - val_acc: 0.7336\n",
      "Epoch 71/200\n",
      "4017/4017 [==============================] - 5s 1ms/step - loss: 0.7445 - acc: 0.8043 - val_loss: 0.9574 - val_acc: 0.7356\n",
      "Epoch 72/200\n",
      "4017/4017 [==============================] - 5s 1ms/step - loss: 0.7343 - acc: 0.8067 - val_loss: 0.9521 - val_acc: 0.7361\n",
      "Epoch 73/200\n",
      "4017/4017 [==============================] - 5s 1ms/step - loss: 0.7244 - acc: 0.8098 - val_loss: 0.9463 - val_acc: 0.7375\n",
      "Epoch 74/200\n",
      "4017/4017 [==============================] - 6s 1ms/step - loss: 0.7148 - acc: 0.8124 - val_loss: 0.9415 - val_acc: 0.7373\n",
      "Epoch 75/200\n",
      "4017/4017 [==============================] - 5s 1ms/step - loss: 0.7053 - acc: 0.8143 - val_loss: 0.9372 - val_acc: 0.7399\n",
      "Epoch 76/200\n",
      "4017/4017 [==============================] - 9s 2ms/step - loss: 0.6962 - acc: 0.8166 - val_loss: 0.9309 - val_acc: 0.7407\n",
      "Epoch 77/200\n",
      "4017/4017 [==============================] - 5s 1ms/step - loss: 0.6871 - acc: 0.8187 - val_loss: 0.9256 - val_acc: 0.7410\n",
      "Epoch 78/200\n",
      "4017/4017 [==============================] - 5s 1ms/step - loss: 0.6782 - acc: 0.8210 - val_loss: 0.9219 - val_acc: 0.7423\n",
      "Epoch 79/200\n",
      "4017/4017 [==============================] - 6s 1ms/step - loss: 0.6695 - acc: 0.8233 - val_loss: 0.9185 - val_acc: 0.7438\n",
      "Epoch 80/200\n",
      "4017/4017 [==============================] - 5s 1ms/step - loss: 0.6611 - acc: 0.8257 - val_loss: 0.9122 - val_acc: 0.7437\n",
      "Epoch 81/200\n",
      "4017/4017 [==============================] - 6s 1ms/step - loss: 0.6526 - acc: 0.8277 - val_loss: 0.9086 - val_acc: 0.7454\n",
      "Epoch 82/200\n",
      "4017/4017 [==============================] - 5s 1ms/step - loss: 0.6446 - acc: 0.8300 - val_loss: 0.9052 - val_acc: 0.7445\n",
      "Epoch 83/200\n",
      "4017/4017 [==============================] - 5s 1ms/step - loss: 0.6366 - acc: 0.8319 - val_loss: 0.9010 - val_acc: 0.7459\n",
      "Epoch 84/200\n",
      "4017/4017 [==============================] - 5s 1ms/step - loss: 0.6288 - acc: 0.8335 - val_loss: 0.8975 - val_acc: 0.7472\n",
      "Epoch 85/200\n",
      "4017/4017 [==============================] - 5s 1ms/step - loss: 0.6213 - acc: 0.8360 - val_loss: 0.8948 - val_acc: 0.7474\n",
      "Epoch 86/200\n",
      "4017/4017 [==============================] - 5s 1ms/step - loss: 0.6137 - acc: 0.8380 - val_loss: 0.8910 - val_acc: 0.7472\n",
      "Epoch 87/200\n",
      "4017/4017 [==============================] - 5s 1ms/step - loss: 0.6063 - acc: 0.8395 - val_loss: 0.8876 - val_acc: 0.7501\n",
      "Epoch 88/200\n",
      "4017/4017 [==============================] - 5s 1ms/step - loss: 0.5993 - acc: 0.8418 - val_loss: 0.8839 - val_acc: 0.7510\n",
      "Epoch 89/200\n",
      "4017/4017 [==============================] - 5s 1ms/step - loss: 0.5920 - acc: 0.8441 - val_loss: 0.8810 - val_acc: 0.7512\n",
      "Epoch 90/200\n",
      "4017/4017 [==============================] - 5s 1ms/step - loss: 0.5851 - acc: 0.8458 - val_loss: 0.8787 - val_acc: 0.7517\n",
      "Epoch 91/200\n",
      "4017/4017 [==============================] - 5s 1ms/step - loss: 0.5782 - acc: 0.8481 - val_loss: 0.8747 - val_acc: 0.7523\n",
      "Epoch 92/200\n",
      "4017/4017 [==============================] - 5s 1ms/step - loss: 0.5715 - acc: 0.8498 - val_loss: 0.8734 - val_acc: 0.7529\n",
      "Epoch 93/200\n",
      "4017/4017 [==============================] - 5s 1ms/step - loss: 0.5648 - acc: 0.8518 - val_loss: 0.8699 - val_acc: 0.7535\n",
      "Epoch 94/200\n",
      "4017/4017 [==============================] - 5s 1ms/step - loss: 0.5584 - acc: 0.8532 - val_loss: 0.8692 - val_acc: 0.7539\n",
      "Epoch 95/200\n",
      "4017/4017 [==============================] - 5s 1ms/step - loss: 0.5521 - acc: 0.8547 - val_loss: 0.8656 - val_acc: 0.7543\n",
      "Epoch 96/200\n",
      "4017/4017 [==============================] - 5s 1ms/step - loss: 0.5456 - acc: 0.8573 - val_loss: 0.8634 - val_acc: 0.7547\n",
      "Epoch 97/200\n",
      "4017/4017 [==============================] - 5s 1ms/step - loss: 0.5395 - acc: 0.8590 - val_loss: 0.8608 - val_acc: 0.7556\n",
      "Epoch 98/200\n",
      "4017/4017 [==============================] - 5s 1ms/step - loss: 0.5335 - acc: 0.8611 - val_loss: 0.8592 - val_acc: 0.7572\n",
      "Epoch 99/200\n",
      "4017/4017 [==============================] - 5s 1ms/step - loss: 0.5274 - acc: 0.8624 - val_loss: 0.8564 - val_acc: 0.7567\n",
      "Epoch 100/200\n",
      "4017/4017 [==============================] - 7s 2ms/step - loss: 0.5215 - acc: 0.8641 - val_loss: 0.8555 - val_acc: 0.7562\n",
      "Epoch 101/200\n",
      "4017/4017 [==============================] - 6s 1ms/step - loss: 0.5157 - acc: 0.8661 - val_loss: 0.8531 - val_acc: 0.7569\n",
      "Epoch 102/200\n",
      "4017/4017 [==============================] - 5s 1ms/step - loss: 0.5099 - acc: 0.8674 - val_loss: 0.8525 - val_acc: 0.7574\n",
      "Epoch 103/200\n",
      "4017/4017 [==============================] - 5s 1ms/step - loss: 0.5043 - acc: 0.8694 - val_loss: 0.8494 - val_acc: 0.7576\n",
      "Epoch 104/200\n",
      "4017/4017 [==============================] - 5s 1ms/step - loss: 0.4988 - acc: 0.8708 - val_loss: 0.8481 - val_acc: 0.7582\n",
      "Epoch 105/200\n",
      "4017/4017 [==============================] - 5s 1ms/step - loss: 0.4932 - acc: 0.8725 - val_loss: 0.8469 - val_acc: 0.7581\n",
      "Epoch 106/200\n",
      "4017/4017 [==============================] - 6s 1ms/step - loss: 0.4878 - acc: 0.8740 - val_loss: 0.8448 - val_acc: 0.7577\n",
      "Epoch 107/200\n",
      "4017/4017 [==============================] - 6s 1ms/step - loss: 0.4824 - acc: 0.8761 - val_loss: 0.8434 - val_acc: 0.7584\n",
      "Epoch 108/200\n",
      "4017/4017 [==============================] - 6s 1ms/step - loss: 0.4772 - acc: 0.8774 - val_loss: 0.8420 - val_acc: 0.7589\n",
      "Epoch 109/200\n",
      "4017/4017 [==============================] - 5s 1ms/step - loss: 0.4720 - acc: 0.8787 - val_loss: 0.8408 - val_acc: 0.7592\n",
      "Epoch 110/200\n",
      "4017/4017 [==============================] - 5s 1ms/step - loss: 0.4667 - acc: 0.8809 - val_loss: 0.8392 - val_acc: 0.7598\n",
      "Epoch 111/200\n",
      "4017/4017 [==============================] - 7s 2ms/step - loss: 0.4617 - acc: 0.8820 - val_loss: 0.8380 - val_acc: 0.7594\n",
      "Epoch 112/200\n",
      "4017/4017 [==============================] - 6s 1ms/step - loss: 0.4567 - acc: 0.8842 - val_loss: 0.8368 - val_acc: 0.7594\n",
      "Epoch 113/200\n",
      "4017/4017 [==============================] - 5s 1ms/step - loss: 0.4517 - acc: 0.8855 - val_loss: 0.8375 - val_acc: 0.7587\n",
      "Epoch 114/200\n",
      "4017/4017 [==============================] - 5s 1ms/step - loss: 0.4470 - acc: 0.8867 - val_loss: 0.8356 - val_acc: 0.7608\n",
      "Epoch 115/200\n",
      "4017/4017 [==============================] - 5s 1ms/step - loss: 0.4422 - acc: 0.8883 - val_loss: 0.8337 - val_acc: 0.7599\n",
      "Epoch 116/200\n",
      "4017/4017 [==============================] - 5s 1ms/step - loss: 0.4374 - acc: 0.8896 - val_loss: 0.8342 - val_acc: 0.7604\n",
      "Epoch 117/200\n",
      "4017/4017 [==============================] - 5s 1ms/step - loss: 0.4328 - acc: 0.8915 - val_loss: 0.8317 - val_acc: 0.7603\n",
      "Epoch 118/200\n",
      "4017/4017 [==============================] - 5s 1ms/step - loss: 0.4281 - acc: 0.8921 - val_loss: 0.8312 - val_acc: 0.7611\n",
      "Epoch 119/200\n",
      "4017/4017 [==============================] - 5s 1ms/step - loss: 0.4235 - acc: 0.8940 - val_loss: 0.8316 - val_acc: 0.7610\n",
      "Epoch 120/200\n",
      "4017/4017 [==============================] - 5s 1ms/step - loss: 0.4190 - acc: 0.8951 - val_loss: 0.8286 - val_acc: 0.7612\n",
      "Epoch 121/200\n",
      "4017/4017 [==============================] - 5s 1ms/step - loss: 0.4145 - acc: 0.8968 - val_loss: 0.8286 - val_acc: 0.7616\n",
      "Epoch 122/200\n",
      "4017/4017 [==============================] - 5s 1ms/step - loss: 0.4102 - acc: 0.8984 - val_loss: 0.8281 - val_acc: 0.7622\n",
      "Epoch 123/200\n",
      "4017/4017 [==============================] - 5s 1ms/step - loss: 0.4058 - acc: 0.8993 - val_loss: 0.8274 - val_acc: 0.7627\n",
      "Epoch 124/200\n",
      "4017/4017 [==============================] - 5s 1ms/step - loss: 0.4015 - acc: 0.9006 - val_loss: 0.8267 - val_acc: 0.7618\n",
      "Epoch 125/200\n",
      "4017/4017 [==============================] - 5s 1ms/step - loss: 0.3972 - acc: 0.9022 - val_loss: 0.8259 - val_acc: 0.7630\n",
      "Epoch 126/200\n",
      "4017/4017 [==============================] - 6s 1ms/step - loss: 0.3930 - acc: 0.9034 - val_loss: 0.8268 - val_acc: 0.7618\n",
      "Epoch 127/200\n",
      "4017/4017 [==============================] - 6s 1ms/step - loss: 0.3888 - acc: 0.9051 - val_loss: 0.8251 - val_acc: 0.7628\n",
      "Epoch 128/200\n",
      "4017/4017 [==============================] - 5s 1ms/step - loss: 0.3847 - acc: 0.9060 - val_loss: 0.8241 - val_acc: 0.7631\n",
      "Epoch 129/200\n",
      "4017/4017 [==============================] - 5s 1ms/step - loss: 0.3807 - acc: 0.9074 - val_loss: 0.8236 - val_acc: 0.7640\n",
      "Epoch 130/200\n",
      "2624/4017 [==================>...........] - ETA: 1s - loss: 0.3773 - acc: 0.9088"
     ]
    },
    {
     "ename": "KeyboardInterrupt",
     "evalue": "",
     "output_type": "error",
     "traceback": [
      "\u001b[0;31m---------------------------------------------------------------------------\u001b[0m",
      "\u001b[0;31mKeyboardInterrupt\u001b[0m                         Traceback (most recent call last)",
      "\u001b[0;32m<ipython-input-27-4da3f70db809>\u001b[0m in \u001b[0;36m<module>\u001b[0;34m\u001b[0m\n\u001b[1;32m      2\u001b[0m \u001b[0;31m## 50 not enough\u001b[0m\u001b[0;34m\u001b[0m\u001b[0;34m\u001b[0m\u001b[0;34m\u001b[0m\u001b[0m\n\u001b[1;32m      3\u001b[0m \u001b[0mn_epochs\u001b[0m \u001b[0;34m=\u001b[0m \u001b[0;36m200\u001b[0m\u001b[0;34m\u001b[0m\u001b[0;34m\u001b[0m\u001b[0m\n\u001b[0;32m----> 4\u001b[0;31m \u001b[0mhistory\u001b[0m \u001b[0;34m=\u001b[0m \u001b[0mmodel_tf_idf\u001b[0m\u001b[0;34m.\u001b[0m\u001b[0mfit\u001b[0m\u001b[0;34m(\u001b[0m\u001b[0mX_train_tf_idf_tensor\u001b[0m\u001b[0;34m,\u001b[0m \u001b[0my_train_ohe\u001b[0m\u001b[0;34m,\u001b[0m \u001b[0mepochs\u001b[0m\u001b[0;34m=\u001b[0m \u001b[0mn_epochs\u001b[0m\u001b[0;34m,\u001b[0m \u001b[0mvalidation_data\u001b[0m \u001b[0;34m=\u001b[0m \u001b[0;34m(\u001b[0m\u001b[0mX_val_tf_idf_tensor\u001b[0m\u001b[0;34m,\u001b[0m \u001b[0my_val_ohe\u001b[0m\u001b[0;34m)\u001b[0m\u001b[0;34m)\u001b[0m\u001b[0;34m\u001b[0m\u001b[0;34m\u001b[0m\u001b[0m\n\u001b[0m",
      "\u001b[0;32m/opt/anaconda3/lib/python3.8/site-packages/keras/engine/training.py\u001b[0m in \u001b[0;36mfit\u001b[0;34m(self, x, y, batch_size, epochs, verbose, callbacks, validation_split, validation_data, shuffle, class_weight, sample_weight, initial_epoch, steps_per_epoch, validation_steps, validation_batch_size, validation_freq, max_queue_size, workers, use_multiprocessing)\u001b[0m\n\u001b[1;32m   1187\u001b[0m               \u001b[0mlogs\u001b[0m \u001b[0;34m=\u001b[0m \u001b[0mtmp_logs\u001b[0m  \u001b[0;31m# No error, now safe to assign to logs.\u001b[0m\u001b[0;34m\u001b[0m\u001b[0;34m\u001b[0m\u001b[0m\n\u001b[1;32m   1188\u001b[0m               \u001b[0mend_step\u001b[0m \u001b[0;34m=\u001b[0m \u001b[0mstep\u001b[0m \u001b[0;34m+\u001b[0m \u001b[0mdata_handler\u001b[0m\u001b[0;34m.\u001b[0m\u001b[0mstep_increment\u001b[0m\u001b[0;34m\u001b[0m\u001b[0;34m\u001b[0m\u001b[0m\n\u001b[0;32m-> 1189\u001b[0;31m               \u001b[0mcallbacks\u001b[0m\u001b[0;34m.\u001b[0m\u001b[0mon_train_batch_end\u001b[0m\u001b[0;34m(\u001b[0m\u001b[0mend_step\u001b[0m\u001b[0;34m,\u001b[0m \u001b[0mlogs\u001b[0m\u001b[0;34m)\u001b[0m\u001b[0;34m\u001b[0m\u001b[0;34m\u001b[0m\u001b[0m\n\u001b[0m\u001b[1;32m   1190\u001b[0m               \u001b[0;32mif\u001b[0m \u001b[0mself\u001b[0m\u001b[0;34m.\u001b[0m\u001b[0mstop_training\u001b[0m\u001b[0;34m:\u001b[0m\u001b[0;34m\u001b[0m\u001b[0;34m\u001b[0m\u001b[0m\n\u001b[1;32m   1191\u001b[0m                 \u001b[0;32mbreak\u001b[0m\u001b[0;34m\u001b[0m\u001b[0;34m\u001b[0m\u001b[0m\n",
      "\u001b[0;32m/opt/anaconda3/lib/python3.8/site-packages/keras/callbacks.py\u001b[0m in \u001b[0;36mon_train_batch_end\u001b[0;34m(self, batch, logs)\u001b[0m\n\u001b[1;32m    433\u001b[0m     \"\"\"\n\u001b[1;32m    434\u001b[0m     \u001b[0;32mif\u001b[0m \u001b[0mself\u001b[0m\u001b[0;34m.\u001b[0m\u001b[0m_should_call_train_batch_hooks\u001b[0m\u001b[0;34m:\u001b[0m\u001b[0;34m\u001b[0m\u001b[0;34m\u001b[0m\u001b[0m\n\u001b[0;32m--> 435\u001b[0;31m       \u001b[0mself\u001b[0m\u001b[0;34m.\u001b[0m\u001b[0m_call_batch_hook\u001b[0m\u001b[0;34m(\u001b[0m\u001b[0mModeKeys\u001b[0m\u001b[0;34m.\u001b[0m\u001b[0mTRAIN\u001b[0m\u001b[0;34m,\u001b[0m \u001b[0;34m'end'\u001b[0m\u001b[0;34m,\u001b[0m \u001b[0mbatch\u001b[0m\u001b[0;34m,\u001b[0m \u001b[0mlogs\u001b[0m\u001b[0;34m=\u001b[0m\u001b[0mlogs\u001b[0m\u001b[0;34m)\u001b[0m\u001b[0;34m\u001b[0m\u001b[0;34m\u001b[0m\u001b[0m\n\u001b[0m\u001b[1;32m    436\u001b[0m \u001b[0;34m\u001b[0m\u001b[0m\n\u001b[1;32m    437\u001b[0m   \u001b[0;32mdef\u001b[0m \u001b[0mon_test_batch_begin\u001b[0m\u001b[0;34m(\u001b[0m\u001b[0mself\u001b[0m\u001b[0;34m,\u001b[0m \u001b[0mbatch\u001b[0m\u001b[0;34m,\u001b[0m \u001b[0mlogs\u001b[0m\u001b[0;34m=\u001b[0m\u001b[0;32mNone\u001b[0m\u001b[0;34m)\u001b[0m\u001b[0;34m:\u001b[0m\u001b[0;34m\u001b[0m\u001b[0;34m\u001b[0m\u001b[0m\n",
      "\u001b[0;32m/opt/anaconda3/lib/python3.8/site-packages/keras/callbacks.py\u001b[0m in \u001b[0;36m_call_batch_hook\u001b[0;34m(self, mode, hook, batch, logs)\u001b[0m\n\u001b[1;32m    293\u001b[0m       \u001b[0mself\u001b[0m\u001b[0;34m.\u001b[0m\u001b[0m_call_batch_begin_hook\u001b[0m\u001b[0;34m(\u001b[0m\u001b[0mmode\u001b[0m\u001b[0;34m,\u001b[0m \u001b[0mbatch\u001b[0m\u001b[0;34m,\u001b[0m \u001b[0mlogs\u001b[0m\u001b[0;34m)\u001b[0m\u001b[0;34m\u001b[0m\u001b[0;34m\u001b[0m\u001b[0m\n\u001b[1;32m    294\u001b[0m     \u001b[0;32melif\u001b[0m \u001b[0mhook\u001b[0m \u001b[0;34m==\u001b[0m \u001b[0;34m'end'\u001b[0m\u001b[0;34m:\u001b[0m\u001b[0;34m\u001b[0m\u001b[0;34m\u001b[0m\u001b[0m\n\u001b[0;32m--> 295\u001b[0;31m       \u001b[0mself\u001b[0m\u001b[0;34m.\u001b[0m\u001b[0m_call_batch_end_hook\u001b[0m\u001b[0;34m(\u001b[0m\u001b[0mmode\u001b[0m\u001b[0;34m,\u001b[0m \u001b[0mbatch\u001b[0m\u001b[0;34m,\u001b[0m \u001b[0mlogs\u001b[0m\u001b[0;34m)\u001b[0m\u001b[0;34m\u001b[0m\u001b[0;34m\u001b[0m\u001b[0m\n\u001b[0m\u001b[1;32m    296\u001b[0m     \u001b[0;32melse\u001b[0m\u001b[0;34m:\u001b[0m\u001b[0;34m\u001b[0m\u001b[0;34m\u001b[0m\u001b[0m\n\u001b[1;32m    297\u001b[0m       \u001b[0;32mraise\u001b[0m \u001b[0mValueError\u001b[0m\u001b[0;34m(\u001b[0m\u001b[0;34m'Unrecognized hook: {}'\u001b[0m\u001b[0;34m.\u001b[0m\u001b[0mformat\u001b[0m\u001b[0;34m(\u001b[0m\u001b[0mhook\u001b[0m\u001b[0;34m)\u001b[0m\u001b[0;34m)\u001b[0m\u001b[0;34m\u001b[0m\u001b[0;34m\u001b[0m\u001b[0m\n",
      "\u001b[0;32m/opt/anaconda3/lib/python3.8/site-packages/keras/callbacks.py\u001b[0m in \u001b[0;36m_call_batch_end_hook\u001b[0;34m(self, mode, batch, logs)\u001b[0m\n\u001b[1;32m    313\u001b[0m       \u001b[0mself\u001b[0m\u001b[0;34m.\u001b[0m\u001b[0m_batch_times\u001b[0m\u001b[0;34m.\u001b[0m\u001b[0mappend\u001b[0m\u001b[0;34m(\u001b[0m\u001b[0mbatch_time\u001b[0m\u001b[0;34m)\u001b[0m\u001b[0;34m\u001b[0m\u001b[0;34m\u001b[0m\u001b[0m\n\u001b[1;32m    314\u001b[0m \u001b[0;34m\u001b[0m\u001b[0m\n\u001b[0;32m--> 315\u001b[0;31m     \u001b[0mself\u001b[0m\u001b[0;34m.\u001b[0m\u001b[0m_call_batch_hook_helper\u001b[0m\u001b[0;34m(\u001b[0m\u001b[0mhook_name\u001b[0m\u001b[0;34m,\u001b[0m \u001b[0mbatch\u001b[0m\u001b[0;34m,\u001b[0m \u001b[0mlogs\u001b[0m\u001b[0;34m)\u001b[0m\u001b[0;34m\u001b[0m\u001b[0;34m\u001b[0m\u001b[0m\n\u001b[0m\u001b[1;32m    316\u001b[0m \u001b[0;34m\u001b[0m\u001b[0m\n\u001b[1;32m    317\u001b[0m     \u001b[0;32mif\u001b[0m \u001b[0mlen\u001b[0m\u001b[0;34m(\u001b[0m\u001b[0mself\u001b[0m\u001b[0;34m.\u001b[0m\u001b[0m_batch_times\u001b[0m\u001b[0;34m)\u001b[0m \u001b[0;34m>=\u001b[0m \u001b[0mself\u001b[0m\u001b[0;34m.\u001b[0m\u001b[0m_num_batches_for_timing_check\u001b[0m\u001b[0;34m:\u001b[0m\u001b[0;34m\u001b[0m\u001b[0;34m\u001b[0m\u001b[0m\n",
      "\u001b[0;32m/opt/anaconda3/lib/python3.8/site-packages/keras/callbacks.py\u001b[0m in \u001b[0;36m_call_batch_hook_helper\u001b[0;34m(self, hook_name, batch, logs)\u001b[0m\n\u001b[1;32m    351\u001b[0m     \u001b[0;32mfor\u001b[0m \u001b[0mcallback\u001b[0m \u001b[0;32min\u001b[0m \u001b[0mself\u001b[0m\u001b[0;34m.\u001b[0m\u001b[0mcallbacks\u001b[0m\u001b[0;34m:\u001b[0m\u001b[0;34m\u001b[0m\u001b[0;34m\u001b[0m\u001b[0m\n\u001b[1;32m    352\u001b[0m       \u001b[0mhook\u001b[0m \u001b[0;34m=\u001b[0m \u001b[0mgetattr\u001b[0m\u001b[0;34m(\u001b[0m\u001b[0mcallback\u001b[0m\u001b[0;34m,\u001b[0m \u001b[0mhook_name\u001b[0m\u001b[0;34m)\u001b[0m\u001b[0;34m\u001b[0m\u001b[0;34m\u001b[0m\u001b[0m\n\u001b[0;32m--> 353\u001b[0;31m       \u001b[0mhook\u001b[0m\u001b[0;34m(\u001b[0m\u001b[0mbatch\u001b[0m\u001b[0;34m,\u001b[0m \u001b[0mlogs\u001b[0m\u001b[0;34m)\u001b[0m\u001b[0;34m\u001b[0m\u001b[0;34m\u001b[0m\u001b[0m\n\u001b[0m\u001b[1;32m    354\u001b[0m \u001b[0;34m\u001b[0m\u001b[0m\n\u001b[1;32m    355\u001b[0m     \u001b[0;32mif\u001b[0m \u001b[0mself\u001b[0m\u001b[0;34m.\u001b[0m\u001b[0m_check_timing\u001b[0m\u001b[0;34m:\u001b[0m\u001b[0;34m\u001b[0m\u001b[0;34m\u001b[0m\u001b[0m\n",
      "\u001b[0;32m/opt/anaconda3/lib/python3.8/site-packages/keras/callbacks.py\u001b[0m in \u001b[0;36mon_train_batch_end\u001b[0;34m(self, batch, logs)\u001b[0m\n\u001b[1;32m   1026\u001b[0m \u001b[0;34m\u001b[0m\u001b[0m\n\u001b[1;32m   1027\u001b[0m   \u001b[0;32mdef\u001b[0m \u001b[0mon_train_batch_end\u001b[0m\u001b[0;34m(\u001b[0m\u001b[0mself\u001b[0m\u001b[0;34m,\u001b[0m \u001b[0mbatch\u001b[0m\u001b[0;34m,\u001b[0m \u001b[0mlogs\u001b[0m\u001b[0;34m=\u001b[0m\u001b[0;32mNone\u001b[0m\u001b[0;34m)\u001b[0m\u001b[0;34m:\u001b[0m\u001b[0;34m\u001b[0m\u001b[0;34m\u001b[0m\u001b[0m\n\u001b[0;32m-> 1028\u001b[0;31m     \u001b[0mself\u001b[0m\u001b[0;34m.\u001b[0m\u001b[0m_batch_update_progbar\u001b[0m\u001b[0;34m(\u001b[0m\u001b[0mbatch\u001b[0m\u001b[0;34m,\u001b[0m \u001b[0mlogs\u001b[0m\u001b[0;34m)\u001b[0m\u001b[0;34m\u001b[0m\u001b[0;34m\u001b[0m\u001b[0m\n\u001b[0m\u001b[1;32m   1029\u001b[0m \u001b[0;34m\u001b[0m\u001b[0m\n\u001b[1;32m   1030\u001b[0m   \u001b[0;32mdef\u001b[0m \u001b[0mon_test_batch_end\u001b[0m\u001b[0;34m(\u001b[0m\u001b[0mself\u001b[0m\u001b[0;34m,\u001b[0m \u001b[0mbatch\u001b[0m\u001b[0;34m,\u001b[0m \u001b[0mlogs\u001b[0m\u001b[0;34m=\u001b[0m\u001b[0;32mNone\u001b[0m\u001b[0;34m)\u001b[0m\u001b[0;34m:\u001b[0m\u001b[0;34m\u001b[0m\u001b[0;34m\u001b[0m\u001b[0m\n",
      "\u001b[0;32m/opt/anaconda3/lib/python3.8/site-packages/keras/callbacks.py\u001b[0m in \u001b[0;36m_batch_update_progbar\u001b[0;34m(self, batch, logs)\u001b[0m\n\u001b[1;32m   1098\u001b[0m     \u001b[0;32mif\u001b[0m \u001b[0mself\u001b[0m\u001b[0;34m.\u001b[0m\u001b[0mverbose\u001b[0m \u001b[0;34m==\u001b[0m \u001b[0;36m1\u001b[0m\u001b[0;34m:\u001b[0m\u001b[0;34m\u001b[0m\u001b[0;34m\u001b[0m\u001b[0m\n\u001b[1;32m   1099\u001b[0m       \u001b[0;31m# Only block async when verbose = 1.\u001b[0m\u001b[0;34m\u001b[0m\u001b[0;34m\u001b[0m\u001b[0;34m\u001b[0m\u001b[0m\n\u001b[0;32m-> 1100\u001b[0;31m       \u001b[0mlogs\u001b[0m \u001b[0;34m=\u001b[0m \u001b[0mtf_utils\u001b[0m\u001b[0;34m.\u001b[0m\u001b[0msync_to_numpy_or_python_type\u001b[0m\u001b[0;34m(\u001b[0m\u001b[0mlogs\u001b[0m\u001b[0;34m)\u001b[0m\u001b[0;34m\u001b[0m\u001b[0;34m\u001b[0m\u001b[0m\n\u001b[0m\u001b[1;32m   1101\u001b[0m       \u001b[0mself\u001b[0m\u001b[0;34m.\u001b[0m\u001b[0mprogbar\u001b[0m\u001b[0;34m.\u001b[0m\u001b[0mupdate\u001b[0m\u001b[0;34m(\u001b[0m\u001b[0mself\u001b[0m\u001b[0;34m.\u001b[0m\u001b[0mseen\u001b[0m\u001b[0;34m,\u001b[0m \u001b[0mlist\u001b[0m\u001b[0;34m(\u001b[0m\u001b[0mlogs\u001b[0m\u001b[0;34m.\u001b[0m\u001b[0mitems\u001b[0m\u001b[0;34m(\u001b[0m\u001b[0;34m)\u001b[0m\u001b[0;34m)\u001b[0m\u001b[0;34m,\u001b[0m \u001b[0mfinalize\u001b[0m\u001b[0;34m=\u001b[0m\u001b[0;32mFalse\u001b[0m\u001b[0;34m)\u001b[0m\u001b[0;34m\u001b[0m\u001b[0;34m\u001b[0m\u001b[0m\n\u001b[1;32m   1102\u001b[0m \u001b[0;34m\u001b[0m\u001b[0m\n",
      "\u001b[0;32m/opt/anaconda3/lib/python3.8/site-packages/keras/utils/tf_utils.py\u001b[0m in \u001b[0;36msync_to_numpy_or_python_type\u001b[0;34m(tensors)\u001b[0m\n\u001b[1;32m    514\u001b[0m     \u001b[0;32mreturn\u001b[0m \u001b[0mt\u001b[0m  \u001b[0;31m# Don't turn ragged or sparse tensors to NumPy.\u001b[0m\u001b[0;34m\u001b[0m\u001b[0;34m\u001b[0m\u001b[0m\n\u001b[1;32m    515\u001b[0m \u001b[0;34m\u001b[0m\u001b[0m\n\u001b[0;32m--> 516\u001b[0;31m   \u001b[0;32mreturn\u001b[0m \u001b[0mtf\u001b[0m\u001b[0;34m.\u001b[0m\u001b[0mnest\u001b[0m\u001b[0;34m.\u001b[0m\u001b[0mmap_structure\u001b[0m\u001b[0;34m(\u001b[0m\u001b[0m_to_single_numpy_or_python_type\u001b[0m\u001b[0;34m,\u001b[0m \u001b[0mtensors\u001b[0m\u001b[0;34m)\u001b[0m\u001b[0;34m\u001b[0m\u001b[0;34m\u001b[0m\u001b[0m\n\u001b[0m\u001b[1;32m    517\u001b[0m \u001b[0;34m\u001b[0m\u001b[0m\n\u001b[1;32m    518\u001b[0m \u001b[0;34m\u001b[0m\u001b[0m\n",
      "\u001b[0;32m/opt/anaconda3/lib/python3.8/site-packages/tensorflow/python/util/nest.py\u001b[0m in \u001b[0;36mmap_structure\u001b[0;34m(func, *structure, **kwargs)\u001b[0m\n\u001b[1;32m    866\u001b[0m   \u001b[0mentries\u001b[0m \u001b[0;34m=\u001b[0m \u001b[0mzip\u001b[0m\u001b[0;34m(\u001b[0m\u001b[0;34m*\u001b[0m\u001b[0mflat_structure\u001b[0m\u001b[0;34m)\u001b[0m\u001b[0;34m\u001b[0m\u001b[0;34m\u001b[0m\u001b[0m\n\u001b[1;32m    867\u001b[0m \u001b[0;34m\u001b[0m\u001b[0m\n\u001b[0;32m--> 868\u001b[0;31m   return pack_sequence_as(\n\u001b[0m\u001b[1;32m    869\u001b[0m       \u001b[0mstructure\u001b[0m\u001b[0;34m[\u001b[0m\u001b[0;36m0\u001b[0m\u001b[0;34m]\u001b[0m\u001b[0;34m,\u001b[0m \u001b[0;34m[\u001b[0m\u001b[0mfunc\u001b[0m\u001b[0;34m(\u001b[0m\u001b[0;34m*\u001b[0m\u001b[0mx\u001b[0m\u001b[0;34m)\u001b[0m \u001b[0;32mfor\u001b[0m \u001b[0mx\u001b[0m \u001b[0;32min\u001b[0m \u001b[0mentries\u001b[0m\u001b[0;34m]\u001b[0m\u001b[0;34m,\u001b[0m\u001b[0;34m\u001b[0m\u001b[0;34m\u001b[0m\u001b[0m\n\u001b[1;32m    870\u001b[0m       expand_composites=expand_composites)\n",
      "\u001b[0;32m/opt/anaconda3/lib/python3.8/site-packages/tensorflow/python/util/nest.py\u001b[0m in \u001b[0;36mpack_sequence_as\u001b[0;34m(structure, flat_sequence, expand_composites)\u001b[0m\n\u001b[1;32m    755\u001b[0m     \u001b[0mTypeError\u001b[0m\u001b[0;34m:\u001b[0m\u001b[0;31m \u001b[0m\u001b[0;31m`\u001b[0m\u001b[0mstructure\u001b[0m\u001b[0;31m`\u001b[0m \u001b[0;32mis\u001b[0m \u001b[0;32mor\u001b[0m \u001b[0mcontains\u001b[0m \u001b[0ma\u001b[0m \u001b[0mdict\u001b[0m \u001b[0;32mwith\u001b[0m \u001b[0mnon\u001b[0m\u001b[0;34m-\u001b[0m\u001b[0msortable\u001b[0m \u001b[0mkeys\u001b[0m\u001b[0;34m.\u001b[0m\u001b[0;34m\u001b[0m\u001b[0;34m\u001b[0m\u001b[0m\n\u001b[1;32m    756\u001b[0m   \"\"\"\n\u001b[0;32m--> 757\u001b[0;31m   \u001b[0;32mreturn\u001b[0m \u001b[0m_pack_sequence_as\u001b[0m\u001b[0;34m(\u001b[0m\u001b[0mstructure\u001b[0m\u001b[0;34m,\u001b[0m \u001b[0mflat_sequence\u001b[0m\u001b[0;34m,\u001b[0m \u001b[0mexpand_composites\u001b[0m\u001b[0;34m)\u001b[0m\u001b[0;34m\u001b[0m\u001b[0;34m\u001b[0m\u001b[0m\n\u001b[0m\u001b[1;32m    758\u001b[0m \u001b[0;34m\u001b[0m\u001b[0m\n\u001b[1;32m    759\u001b[0m \u001b[0;34m\u001b[0m\u001b[0m\n",
      "\u001b[0;32m/opt/anaconda3/lib/python3.8/site-packages/tensorflow/python/util/nest.py\u001b[0m in \u001b[0;36m_pack_sequence_as\u001b[0;34m(structure, flat_sequence, expand_composites, sequence_fn)\u001b[0m\n\u001b[1;32m    630\u001b[0m \u001b[0;34m\u001b[0m\u001b[0m\n\u001b[1;32m    631\u001b[0m   \u001b[0;32mtry\u001b[0m\u001b[0;34m:\u001b[0m\u001b[0;34m\u001b[0m\u001b[0;34m\u001b[0m\u001b[0m\n\u001b[0;32m--> 632\u001b[0;31m     final_index, packed = _packed_nest_with_indices(structure, flat_sequence,\n\u001b[0m\u001b[1;32m    633\u001b[0m                                                     0, is_seq, sequence_fn)\n\u001b[1;32m    634\u001b[0m     \u001b[0;32mif\u001b[0m \u001b[0mfinal_index\u001b[0m \u001b[0;34m<\u001b[0m \u001b[0mlen\u001b[0m\u001b[0;34m(\u001b[0m\u001b[0mflat_sequence\u001b[0m\u001b[0;34m)\u001b[0m\u001b[0;34m:\u001b[0m\u001b[0;34m\u001b[0m\u001b[0;34m\u001b[0m\u001b[0m\n",
      "\u001b[0;32m/opt/anaconda3/lib/python3.8/site-packages/tensorflow/python/util/nest.py\u001b[0m in \u001b[0;36m_packed_nest_with_indices\u001b[0;34m(structure, flat, index, is_seq, sequence_fn)\u001b[0m\n\u001b[1;32m    591\u001b[0m   \"\"\"\n\u001b[1;32m    592\u001b[0m   \u001b[0mpacked\u001b[0m \u001b[0;34m=\u001b[0m \u001b[0;34m[\u001b[0m\u001b[0;34m]\u001b[0m\u001b[0;34m\u001b[0m\u001b[0;34m\u001b[0m\u001b[0m\n\u001b[0;32m--> 593\u001b[0;31m   \u001b[0msequence_fn\u001b[0m \u001b[0;34m=\u001b[0m \u001b[0msequence_fn\u001b[0m \u001b[0;32mor\u001b[0m \u001b[0m_sequence_like\u001b[0m\u001b[0;34m\u001b[0m\u001b[0;34m\u001b[0m\u001b[0m\n\u001b[0m\u001b[1;32m    594\u001b[0m   \u001b[0;32mfor\u001b[0m \u001b[0ms\u001b[0m \u001b[0;32min\u001b[0m \u001b[0m_yield_value\u001b[0m\u001b[0;34m(\u001b[0m\u001b[0mstructure\u001b[0m\u001b[0;34m)\u001b[0m\u001b[0;34m:\u001b[0m\u001b[0;34m\u001b[0m\u001b[0;34m\u001b[0m\u001b[0m\n\u001b[1;32m    595\u001b[0m     \u001b[0;32mif\u001b[0m \u001b[0mis_seq\u001b[0m\u001b[0;34m(\u001b[0m\u001b[0ms\u001b[0m\u001b[0;34m)\u001b[0m\u001b[0;34m:\u001b[0m\u001b[0;34m\u001b[0m\u001b[0;34m\u001b[0m\u001b[0m\n",
      "\u001b[0;31mKeyboardInterrupt\u001b[0m: "
     ]
    }
   ],
   "source": [
    "# Train the model \n",
    "## 50 not enough\n",
    "n_epochs = 200\n",
    "history = model_tf_idf.fit(X_train_tf_idf_tensor, y_train_ohe, epochs= n_epochs, validation_data = (X_val_tf_idf_tensor, y_val_ohe))"
   ]
  },
  {
   "cell_type": "markdown",
   "id": "302a7b92-ef3d-44bd-a43a-872c07e20402",
   "metadata": {},
   "source": [
    "### Evaluation"
   ]
  },
  {
   "cell_type": "code",
   "execution_count": 28,
   "id": "ff6cbb08-b7b3-4aee-9869-e99b125d3e71",
   "metadata": {},
   "outputs": [
    {
     "name": "stdout",
     "output_type": "stream",
     "text": [
      "Accuracy = 0.762 \n",
      "Precision = 0.76 \n",
      "Recall = 0.762 \n",
      "f1 = 0.759\n"
     ]
    },
    {
     "data": {
      "application/vnd.plotly.v1+json": {
       "config": {
        "plotlyServerURL": "https://plot.ly"
       },
       "data": [
        {
         "mode": "lines+markers",
         "name": "Train Accuracy",
         "type": "scatter",
         "x": [
          0,
          1,
          2,
          3,
          4,
          5,
          6,
          7,
          8,
          9,
          10,
          11,
          12,
          13,
          14,
          15,
          16,
          17,
          18,
          19,
          20,
          21,
          22,
          23,
          24,
          25,
          26,
          27,
          28,
          29,
          30,
          31,
          32,
          33,
          34,
          35,
          36,
          37,
          38,
          39,
          40,
          41,
          42,
          43,
          44,
          45,
          46,
          47,
          48,
          49,
          50,
          51,
          52,
          53,
          54,
          55,
          56,
          57,
          58,
          59,
          60,
          61,
          62,
          63,
          64,
          65,
          66,
          67,
          68,
          69,
          70,
          71,
          72,
          73,
          74,
          75,
          76,
          77,
          78,
          79,
          80,
          81,
          82,
          83,
          84,
          85,
          86,
          87,
          88,
          89,
          90,
          91,
          92,
          93,
          94,
          95,
          96,
          97,
          98,
          99,
          100,
          101,
          102,
          103,
          104,
          105,
          106,
          107,
          108,
          109,
          110,
          111,
          112,
          113,
          114,
          115,
          116,
          117,
          118,
          119,
          120,
          121,
          122,
          123,
          124,
          125,
          126,
          127,
          128,
          129,
          130,
          131,
          132,
          133,
          134,
          135,
          136,
          137,
          138,
          139,
          140,
          141,
          142,
          143,
          144,
          145,
          146,
          147,
          148,
          149,
          150,
          151,
          152,
          153,
          154,
          155,
          156,
          157,
          158,
          159,
          160,
          161,
          162,
          163,
          164,
          165,
          166,
          167,
          168,
          169,
          170,
          171,
          172,
          173,
          174,
          175,
          176,
          177,
          178,
          179,
          180,
          181,
          182,
          183,
          184,
          185,
          186,
          187,
          188,
          189,
          190,
          191,
          192,
          193,
          194,
          195,
          196,
          197,
          198,
          199
         ],
         "y": [
          0.30835479497909546,
          0.4936477541923523,
          0.5817157626152039,
          0.6420252323150635,
          0.6825894713401794,
          0.7134677171707153,
          0.7377331256866455,
          0.7571438550949097,
          0.7731159329414368,
          0.7865672707557678,
          0.7991395592689514,
          0.8099068999290466,
          0.8201451897621155,
          0.8293409943580627,
          0.8381944298744202,
          0.846518874168396,
          0.8549367189407349,
          0.8619230389595032,
          0.8691582679748535,
          0.8761212825775146
         ]
        },
        {
         "mode": "lines+markers",
         "name": "Validation Accuracy",
         "type": "scatter",
         "x": [
          0,
          1,
          2,
          3,
          4,
          5,
          6,
          7,
          8,
          9,
          10,
          11,
          12,
          13,
          14,
          15,
          16,
          17,
          18,
          19,
          20,
          21,
          22,
          23,
          24,
          25,
          26,
          27,
          28,
          29,
          30,
          31,
          32,
          33,
          34,
          35,
          36,
          37,
          38,
          39,
          40,
          41,
          42,
          43,
          44,
          45,
          46,
          47,
          48,
          49,
          50,
          51,
          52,
          53,
          54,
          55,
          56,
          57,
          58,
          59,
          60,
          61,
          62,
          63,
          64,
          65,
          66,
          67,
          68,
          69,
          70,
          71,
          72,
          73,
          74,
          75,
          76,
          77,
          78,
          79,
          80,
          81,
          82,
          83,
          84,
          85,
          86,
          87,
          88,
          89,
          90,
          91,
          92,
          93,
          94,
          95,
          96,
          97,
          98,
          99,
          100,
          101,
          102,
          103,
          104,
          105,
          106,
          107,
          108,
          109,
          110,
          111,
          112,
          113,
          114,
          115,
          116,
          117,
          118,
          119,
          120,
          121,
          122,
          123,
          124,
          125,
          126,
          127,
          128,
          129,
          130,
          131,
          132,
          133,
          134,
          135,
          136,
          137,
          138,
          139,
          140,
          141,
          142,
          143,
          144,
          145,
          146,
          147,
          148,
          149,
          150,
          151,
          152,
          153,
          154,
          155,
          156,
          157,
          158,
          159,
          160,
          161,
          162,
          163,
          164,
          165,
          166,
          167,
          168,
          169,
          170,
          171,
          172,
          173,
          174,
          175,
          176,
          177,
          178,
          179,
          180,
          181,
          182,
          183,
          184,
          185,
          186,
          187,
          188,
          189,
          190,
          191,
          192,
          193,
          194,
          195,
          196,
          197,
          198,
          199
         ],
         "y": [
          0.4378714859485626,
          0.5395051836967468,
          0.6039520502090454,
          0.6457133889198303,
          0.6757429838180542,
          0.6978994607925415,
          0.7115294933319092,
          0.7220787405967712,
          0.7290182113647461,
          0.737482488155365,
          0.7407810688018799,
          0.7447953820228577,
          0.747813880443573,
          0.7493387460708618,
          0.7521082758903503,
          0.7549712061882019,
          0.7561225891113281,
          0.7548156380653381,
          0.7578652501106262,
          0.7581453323364258
         ]
        }
       ],
       "layout": {
        "height": 500,
        "template": {
         "data": {
          "bar": [
           {
            "error_x": {
             "color": "#2a3f5f"
            },
            "error_y": {
             "color": "#2a3f5f"
            },
            "marker": {
             "line": {
              "color": "#E5ECF6",
              "width": 0.5
             },
             "pattern": {
              "fillmode": "overlay",
              "size": 10,
              "solidity": 0.2
             }
            },
            "type": "bar"
           }
          ],
          "barpolar": [
           {
            "marker": {
             "line": {
              "color": "#E5ECF6",
              "width": 0.5
             },
             "pattern": {
              "fillmode": "overlay",
              "size": 10,
              "solidity": 0.2
             }
            },
            "type": "barpolar"
           }
          ],
          "carpet": [
           {
            "aaxis": {
             "endlinecolor": "#2a3f5f",
             "gridcolor": "white",
             "linecolor": "white",
             "minorgridcolor": "white",
             "startlinecolor": "#2a3f5f"
            },
            "baxis": {
             "endlinecolor": "#2a3f5f",
             "gridcolor": "white",
             "linecolor": "white",
             "minorgridcolor": "white",
             "startlinecolor": "#2a3f5f"
            },
            "type": "carpet"
           }
          ],
          "choropleth": [
           {
            "colorbar": {
             "outlinewidth": 0,
             "ticks": ""
            },
            "type": "choropleth"
           }
          ],
          "contour": [
           {
            "colorbar": {
             "outlinewidth": 0,
             "ticks": ""
            },
            "colorscale": [
             [
              0,
              "#0d0887"
             ],
             [
              0.1111111111111111,
              "#46039f"
             ],
             [
              0.2222222222222222,
              "#7201a8"
             ],
             [
              0.3333333333333333,
              "#9c179e"
             ],
             [
              0.4444444444444444,
              "#bd3786"
             ],
             [
              0.5555555555555556,
              "#d8576b"
             ],
             [
              0.6666666666666666,
              "#ed7953"
             ],
             [
              0.7777777777777778,
              "#fb9f3a"
             ],
             [
              0.8888888888888888,
              "#fdca26"
             ],
             [
              1,
              "#f0f921"
             ]
            ],
            "type": "contour"
           }
          ],
          "contourcarpet": [
           {
            "colorbar": {
             "outlinewidth": 0,
             "ticks": ""
            },
            "type": "contourcarpet"
           }
          ],
          "heatmap": [
           {
            "colorbar": {
             "outlinewidth": 0,
             "ticks": ""
            },
            "colorscale": [
             [
              0,
              "#0d0887"
             ],
             [
              0.1111111111111111,
              "#46039f"
             ],
             [
              0.2222222222222222,
              "#7201a8"
             ],
             [
              0.3333333333333333,
              "#9c179e"
             ],
             [
              0.4444444444444444,
              "#bd3786"
             ],
             [
              0.5555555555555556,
              "#d8576b"
             ],
             [
              0.6666666666666666,
              "#ed7953"
             ],
             [
              0.7777777777777778,
              "#fb9f3a"
             ],
             [
              0.8888888888888888,
              "#fdca26"
             ],
             [
              1,
              "#f0f921"
             ]
            ],
            "type": "heatmap"
           }
          ],
          "heatmapgl": [
           {
            "colorbar": {
             "outlinewidth": 0,
             "ticks": ""
            },
            "colorscale": [
             [
              0,
              "#0d0887"
             ],
             [
              0.1111111111111111,
              "#46039f"
             ],
             [
              0.2222222222222222,
              "#7201a8"
             ],
             [
              0.3333333333333333,
              "#9c179e"
             ],
             [
              0.4444444444444444,
              "#bd3786"
             ],
             [
              0.5555555555555556,
              "#d8576b"
             ],
             [
              0.6666666666666666,
              "#ed7953"
             ],
             [
              0.7777777777777778,
              "#fb9f3a"
             ],
             [
              0.8888888888888888,
              "#fdca26"
             ],
             [
              1,
              "#f0f921"
             ]
            ],
            "type": "heatmapgl"
           }
          ],
          "histogram": [
           {
            "marker": {
             "pattern": {
              "fillmode": "overlay",
              "size": 10,
              "solidity": 0.2
             }
            },
            "type": "histogram"
           }
          ],
          "histogram2d": [
           {
            "colorbar": {
             "outlinewidth": 0,
             "ticks": ""
            },
            "colorscale": [
             [
              0,
              "#0d0887"
             ],
             [
              0.1111111111111111,
              "#46039f"
             ],
             [
              0.2222222222222222,
              "#7201a8"
             ],
             [
              0.3333333333333333,
              "#9c179e"
             ],
             [
              0.4444444444444444,
              "#bd3786"
             ],
             [
              0.5555555555555556,
              "#d8576b"
             ],
             [
              0.6666666666666666,
              "#ed7953"
             ],
             [
              0.7777777777777778,
              "#fb9f3a"
             ],
             [
              0.8888888888888888,
              "#fdca26"
             ],
             [
              1,
              "#f0f921"
             ]
            ],
            "type": "histogram2d"
           }
          ],
          "histogram2dcontour": [
           {
            "colorbar": {
             "outlinewidth": 0,
             "ticks": ""
            },
            "colorscale": [
             [
              0,
              "#0d0887"
             ],
             [
              0.1111111111111111,
              "#46039f"
             ],
             [
              0.2222222222222222,
              "#7201a8"
             ],
             [
              0.3333333333333333,
              "#9c179e"
             ],
             [
              0.4444444444444444,
              "#bd3786"
             ],
             [
              0.5555555555555556,
              "#d8576b"
             ],
             [
              0.6666666666666666,
              "#ed7953"
             ],
             [
              0.7777777777777778,
              "#fb9f3a"
             ],
             [
              0.8888888888888888,
              "#fdca26"
             ],
             [
              1,
              "#f0f921"
             ]
            ],
            "type": "histogram2dcontour"
           }
          ],
          "mesh3d": [
           {
            "colorbar": {
             "outlinewidth": 0,
             "ticks": ""
            },
            "type": "mesh3d"
           }
          ],
          "parcoords": [
           {
            "line": {
             "colorbar": {
              "outlinewidth": 0,
              "ticks": ""
             }
            },
            "type": "parcoords"
           }
          ],
          "pie": [
           {
            "automargin": true,
            "type": "pie"
           }
          ],
          "scatter": [
           {
            "marker": {
             "colorbar": {
              "outlinewidth": 0,
              "ticks": ""
             }
            },
            "type": "scatter"
           }
          ],
          "scatter3d": [
           {
            "line": {
             "colorbar": {
              "outlinewidth": 0,
              "ticks": ""
             }
            },
            "marker": {
             "colorbar": {
              "outlinewidth": 0,
              "ticks": ""
             }
            },
            "type": "scatter3d"
           }
          ],
          "scattercarpet": [
           {
            "marker": {
             "colorbar": {
              "outlinewidth": 0,
              "ticks": ""
             }
            },
            "type": "scattercarpet"
           }
          ],
          "scattergeo": [
           {
            "marker": {
             "colorbar": {
              "outlinewidth": 0,
              "ticks": ""
             }
            },
            "type": "scattergeo"
           }
          ],
          "scattergl": [
           {
            "marker": {
             "colorbar": {
              "outlinewidth": 0,
              "ticks": ""
             }
            },
            "type": "scattergl"
           }
          ],
          "scattermapbox": [
           {
            "marker": {
             "colorbar": {
              "outlinewidth": 0,
              "ticks": ""
             }
            },
            "type": "scattermapbox"
           }
          ],
          "scatterpolar": [
           {
            "marker": {
             "colorbar": {
              "outlinewidth": 0,
              "ticks": ""
             }
            },
            "type": "scatterpolar"
           }
          ],
          "scatterpolargl": [
           {
            "marker": {
             "colorbar": {
              "outlinewidth": 0,
              "ticks": ""
             }
            },
            "type": "scatterpolargl"
           }
          ],
          "scatterternary": [
           {
            "marker": {
             "colorbar": {
              "outlinewidth": 0,
              "ticks": ""
             }
            },
            "type": "scatterternary"
           }
          ],
          "surface": [
           {
            "colorbar": {
             "outlinewidth": 0,
             "ticks": ""
            },
            "colorscale": [
             [
              0,
              "#0d0887"
             ],
             [
              0.1111111111111111,
              "#46039f"
             ],
             [
              0.2222222222222222,
              "#7201a8"
             ],
             [
              0.3333333333333333,
              "#9c179e"
             ],
             [
              0.4444444444444444,
              "#bd3786"
             ],
             [
              0.5555555555555556,
              "#d8576b"
             ],
             [
              0.6666666666666666,
              "#ed7953"
             ],
             [
              0.7777777777777778,
              "#fb9f3a"
             ],
             [
              0.8888888888888888,
              "#fdca26"
             ],
             [
              1,
              "#f0f921"
             ]
            ],
            "type": "surface"
           }
          ],
          "table": [
           {
            "cells": {
             "fill": {
              "color": "#EBF0F8"
             },
             "line": {
              "color": "white"
             }
            },
            "header": {
             "fill": {
              "color": "#C8D4E3"
             },
             "line": {
              "color": "white"
             }
            },
            "type": "table"
           }
          ]
         },
         "layout": {
          "annotationdefaults": {
           "arrowcolor": "#2a3f5f",
           "arrowhead": 0,
           "arrowwidth": 1
          },
          "autotypenumbers": "strict",
          "coloraxis": {
           "colorbar": {
            "outlinewidth": 0,
            "ticks": ""
           }
          },
          "colorscale": {
           "diverging": [
            [
             0,
             "#8e0152"
            ],
            [
             0.1,
             "#c51b7d"
            ],
            [
             0.2,
             "#de77ae"
            ],
            [
             0.3,
             "#f1b6da"
            ],
            [
             0.4,
             "#fde0ef"
            ],
            [
             0.5,
             "#f7f7f7"
            ],
            [
             0.6,
             "#e6f5d0"
            ],
            [
             0.7,
             "#b8e186"
            ],
            [
             0.8,
             "#7fbc41"
            ],
            [
             0.9,
             "#4d9221"
            ],
            [
             1,
             "#276419"
            ]
           ],
           "sequential": [
            [
             0,
             "#0d0887"
            ],
            [
             0.1111111111111111,
             "#46039f"
            ],
            [
             0.2222222222222222,
             "#7201a8"
            ],
            [
             0.3333333333333333,
             "#9c179e"
            ],
            [
             0.4444444444444444,
             "#bd3786"
            ],
            [
             0.5555555555555556,
             "#d8576b"
            ],
            [
             0.6666666666666666,
             "#ed7953"
            ],
            [
             0.7777777777777778,
             "#fb9f3a"
            ],
            [
             0.8888888888888888,
             "#fdca26"
            ],
            [
             1,
             "#f0f921"
            ]
           ],
           "sequentialminus": [
            [
             0,
             "#0d0887"
            ],
            [
             0.1111111111111111,
             "#46039f"
            ],
            [
             0.2222222222222222,
             "#7201a8"
            ],
            [
             0.3333333333333333,
             "#9c179e"
            ],
            [
             0.4444444444444444,
             "#bd3786"
            ],
            [
             0.5555555555555556,
             "#d8576b"
            ],
            [
             0.6666666666666666,
             "#ed7953"
            ],
            [
             0.7777777777777778,
             "#fb9f3a"
            ],
            [
             0.8888888888888888,
             "#fdca26"
            ],
            [
             1,
             "#f0f921"
            ]
           ]
          },
          "colorway": [
           "#636efa",
           "#EF553B",
           "#00cc96",
           "#ab63fa",
           "#FFA15A",
           "#19d3f3",
           "#FF6692",
           "#B6E880",
           "#FF97FF",
           "#FECB52"
          ],
          "font": {
           "color": "#2a3f5f"
          },
          "geo": {
           "bgcolor": "white",
           "lakecolor": "white",
           "landcolor": "#E5ECF6",
           "showlakes": true,
           "showland": true,
           "subunitcolor": "white"
          },
          "hoverlabel": {
           "align": "left"
          },
          "hovermode": "closest",
          "mapbox": {
           "style": "light"
          },
          "paper_bgcolor": "white",
          "plot_bgcolor": "#E5ECF6",
          "polar": {
           "angularaxis": {
            "gridcolor": "white",
            "linecolor": "white",
            "ticks": ""
           },
           "bgcolor": "#E5ECF6",
           "radialaxis": {
            "gridcolor": "white",
            "linecolor": "white",
            "ticks": ""
           }
          },
          "scene": {
           "xaxis": {
            "backgroundcolor": "#E5ECF6",
            "gridcolor": "white",
            "gridwidth": 2,
            "linecolor": "white",
            "showbackground": true,
            "ticks": "",
            "zerolinecolor": "white"
           },
           "yaxis": {
            "backgroundcolor": "#E5ECF6",
            "gridcolor": "white",
            "gridwidth": 2,
            "linecolor": "white",
            "showbackground": true,
            "ticks": "",
            "zerolinecolor": "white"
           },
           "zaxis": {
            "backgroundcolor": "#E5ECF6",
            "gridcolor": "white",
            "gridwidth": 2,
            "linecolor": "white",
            "showbackground": true,
            "ticks": "",
            "zerolinecolor": "white"
           }
          },
          "shapedefaults": {
           "line": {
            "color": "#2a3f5f"
           }
          },
          "ternary": {
           "aaxis": {
            "gridcolor": "white",
            "linecolor": "white",
            "ticks": ""
           },
           "baxis": {
            "gridcolor": "white",
            "linecolor": "white",
            "ticks": ""
           },
           "bgcolor": "#E5ECF6",
           "caxis": {
            "gridcolor": "white",
            "linecolor": "white",
            "ticks": ""
           }
          },
          "title": {
           "x": 0.05
          },
          "xaxis": {
           "automargin": true,
           "gridcolor": "white",
           "linecolor": "white",
           "ticks": "",
           "title": {
            "standoff": 15
           },
           "zerolinecolor": "white",
           "zerolinewidth": 2
          },
          "yaxis": {
           "automargin": true,
           "gridcolor": "white",
           "linecolor": "white",
           "ticks": "",
           "title": {
            "standoff": 15
           },
           "zerolinecolor": "white",
           "zerolinewidth": 2
          }
         }
        },
        "width": 700,
        "xaxis": {
         "autorange": true,
         "range": [
          -1.260756868843961,
          20.260756868843963
         ],
         "type": "linear"
        },
        "yaxis": {
         "autorange": true,
         "range": [
          0.2683783667079055,
          0.9160977108487046
         ],
         "type": "linear"
        }
       }
      },
      "image/png": "[encoded data removed]",
      "text/html": [
       "<div>                            <div id=\"a289ab84-a3e8-42b5-a40f-e989b00bfa28\" class=\"plotly-graph-div\" style=\"height:500px; width:700px;\"></div>            <script type=\"text/javascript\">                require([\"plotly\"], function(Plotly) {                    window.PLOTLYENV=window.PLOTLYENV || {};                                    if (document.getElementById(\"a289ab84-a3e8-42b5-a40f-e989b00bfa28\")) {                    Plotly.newPlot(                        \"a289ab84-a3e8-42b5-a40f-e989b00bfa28\",                        [{\"mode\":\"lines+markers\",\"name\":\"Train Accuracy\",\"type\":\"scatter\",\"x\":[0,1,2,3,4,5,6,7,8,9,10,11,12,13,14,15,16,17,18,19,20,21,22,23,24,25,26,27,28,29,30,31,32,33,34,35,36,37,38,39,40,41,42,43,44,45,46,47,48,49,50,51,52,53,54,55,56,57,58,59,60,61,62,63,64,65,66,67,68,69,70,71,72,73,74,75,76,77,78,79,80,81,82,83,84,85,86,87,88,89,90,91,92,93,94,95,96,97,98,99,100,101,102,103,104,105,106,107,108,109,110,111,112,113,114,115,116,117,118,119,120,121,122,123,124,125,126,127,128,129,130,131,132,133,134,135,136,137,138,139,140,141,142,143,144,145,146,147,148,149,150,151,152,153,154,155,156,157,158,159,160,161,162,163,164,165,166,167,168,169,170,171,172,173,174,175,176,177,178,179,180,181,182,183,184,185,186,187,188,189,190,191,192,193,194,195,196,197,198,199],\"y\":[0.30835479497909546,0.4936477541923523,0.5817157626152039,0.6420252323150635,0.6825894713401794,0.7134677171707153,0.7377331256866455,0.7571438550949097,0.7731159329414368,0.7865672707557678,0.7991395592689514,0.8099068999290466,0.8201451897621155,0.8293409943580627,0.8381944298744202,0.846518874168396,0.8549367189407349,0.8619230389595032,0.8691582679748535,0.8761212825775146]},{\"mode\":\"lines+markers\",\"name\":\"Validation Accuracy\",\"type\":\"scatter\",\"x\":[0,1,2,3,4,5,6,7,8,9,10,11,12,13,14,15,16,17,18,19,20,21,22,23,24,25,26,27,28,29,30,31,32,33,34,35,36,37,38,39,40,41,42,43,44,45,46,47,48,49,50,51,52,53,54,55,56,57,58,59,60,61,62,63,64,65,66,67,68,69,70,71,72,73,74,75,76,77,78,79,80,81,82,83,84,85,86,87,88,89,90,91,92,93,94,95,96,97,98,99,100,101,102,103,104,105,106,107,108,109,110,111,112,113,114,115,116,117,118,119,120,121,122,123,124,125,126,127,128,129,130,131,132,133,134,135,136,137,138,139,140,141,142,143,144,145,146,147,148,149,150,151,152,153,154,155,156,157,158,159,160,161,162,163,164,165,166,167,168,169,170,171,172,173,174,175,176,177,178,179,180,181,182,183,184,185,186,187,188,189,190,191,192,193,194,195,196,197,198,199],\"y\":[0.4378714859485626,0.5395051836967468,0.6039520502090454,0.6457133889198303,0.6757429838180542,0.6978994607925415,0.7115294933319092,0.7220787405967712,0.7290182113647461,0.737482488155365,0.7407810688018799,0.7447953820228577,0.747813880443573,0.7493387460708618,0.7521082758903503,0.7549712061882019,0.7561225891113281,0.7548156380653381,0.7578652501106262,0.7581453323364258]}],                        {\"height\":500,\"template\":{\"data\":{\"bar\":[{\"error_x\":{\"color\":\"#2a3f5f\"},\"error_y\":{\"color\":\"#2a3f5f\"},\"marker\":{\"line\":{\"color\":\"#E5ECF6\",\"width\":0.5},\"pattern\":{\"fillmode\":\"overlay\",\"size\":10,\"solidity\":0.2}},\"type\":\"bar\"}],\"barpolar\":[{\"marker\":{\"line\":{\"color\":\"#E5ECF6\",\"width\":0.5},\"pattern\":{\"fillmode\":\"overlay\",\"size\":10,\"solidity\":0.2}},\"type\":\"barpolar\"}],\"carpet\":[{\"aaxis\":{\"endlinecolor\":\"#2a3f5f\",\"gridcolor\":\"white\",\"linecolor\":\"white\",\"minorgridcolor\":\"white\",\"startlinecolor\":\"#2a3f5f\"},\"baxis\":{\"endlinecolor\":\"#2a3f5f\",\"gridcolor\":\"white\",\"linecolor\":\"white\",\"minorgridcolor\":\"white\",\"startlinecolor\":\"#2a3f5f\"},\"type\":\"carpet\"}],\"choropleth\":[{\"colorbar\":{\"outlinewidth\":0,\"ticks\":\"\"},\"type\":\"choropleth\"}],\"contour\":[{\"colorbar\":{\"outlinewidth\":0,\"ticks\":\"\"},\"colorscale\":[[0.0,\"#0d0887\"],[0.1111111111111111,\"#46039f\"],[0.2222222222222222,\"#7201a8\"],[0.3333333333333333,\"#9c179e\"],[0.4444444444444444,\"#bd3786\"],[0.5555555555555556,\"#d8576b\"],[0.6666666666666666,\"#ed7953\"],[0.7777777777777778,\"#fb9f3a\"],[0.8888888888888888,\"#fdca26\"],[1.0,\"#f0f921\"]],\"type\":\"contour\"}],\"contourcarpet\":[{\"colorbar\":{\"outlinewidth\":0,\"ticks\":\"\"},\"type\":\"contourcarpet\"}],\"heatmap\":[{\"colorbar\":{\"outlinewidth\":0,\"ticks\":\"\"},\"colorscale\":[[0.0,\"#0d0887\"],[0.1111111111111111,\"#46039f\"],[0.2222222222222222,\"#7201a8\"],[0.3333333333333333,\"#9c179e\"],[0.4444444444444444,\"#bd3786\"],[0.5555555555555556,\"#d8576b\"],[0.6666666666666666,\"#ed7953\"],[0.7777777777777778,\"#fb9f3a\"],[0.8888888888888888,\"#fdca26\"],[1.0,\"#f0f921\"]],\"type\":\"heatmap\"}],\"heatmapgl\":[{\"colorbar\":{\"outlinewidth\":0,\"ticks\":\"\"},\"colorscale\":[[0.0,\"#0d0887\"],[0.1111111111111111,\"#46039f\"],[0.2222222222222222,\"#7201a8\"],[0.3333333333333333,\"#9c179e\"],[0.4444444444444444,\"#bd3786\"],[0.5555555555555556,\"#d8576b\"],[0.6666666666666666,\"#ed7953\"],[0.7777777777777778,\"#fb9f3a\"],[0.8888888888888888,\"#fdca26\"],[1.0,\"#f0f921\"]],\"type\":\"heatmapgl\"}],\"histogram\":[{\"marker\":{\"pattern\":{\"fillmode\":\"overlay\",\"size\":10,\"solidity\":0.2}},\"type\":\"histogram\"}],\"histogram2d\":[{\"colorbar\":{\"outlinewidth\":0,\"ticks\":\"\"},\"colorscale\":[[0.0,\"#0d0887\"],[0.1111111111111111,\"#46039f\"],[0.2222222222222222,\"#7201a8\"],[0.3333333333333333,\"#9c179e\"],[0.4444444444444444,\"#bd3786\"],[0.5555555555555556,\"#d8576b\"],[0.6666666666666666,\"#ed7953\"],[0.7777777777777778,\"#fb9f3a\"],[0.8888888888888888,\"#fdca26\"],[1.0,\"#f0f921\"]],\"type\":\"histogram2d\"}],\"histogram2dcontour\":[{\"colorbar\":{\"outlinewidth\":0,\"ticks\":\"\"},\"colorscale\":[[0.0,\"#0d0887\"],[0.1111111111111111,\"#46039f\"],[0.2222222222222222,\"#7201a8\"],[0.3333333333333333,\"#9c179e\"],[0.4444444444444444,\"#bd3786\"],[0.5555555555555556,\"#d8576b\"],[0.6666666666666666,\"#ed7953\"],[0.7777777777777778,\"#fb9f3a\"],[0.8888888888888888,\"#fdca26\"],[1.0,\"#f0f921\"]],\"type\":\"histogram2dcontour\"}],\"mesh3d\":[{\"colorbar\":{\"outlinewidth\":0,\"ticks\":\"\"},\"type\":\"mesh3d\"}],\"parcoords\":[{\"line\":{\"colorbar\":{\"outlinewidth\":0,\"ticks\":\"\"}},\"type\":\"parcoords\"}],\"pie\":[{\"automargin\":true,\"type\":\"pie\"}],\"scatter\":[{\"marker\":{\"colorbar\":{\"outlinewidth\":0,\"ticks\":\"\"}},\"type\":\"scatter\"}],\"scatter3d\":[{\"line\":{\"colorbar\":{\"outlinewidth\":0,\"ticks\":\"\"}},\"marker\":{\"colorbar\":{\"outlinewidth\":0,\"ticks\":\"\"}},\"type\":\"scatter3d\"}],\"scattercarpet\":[{\"marker\":{\"colorbar\":{\"outlinewidth\":0,\"ticks\":\"\"}},\"type\":\"scattercarpet\"}],\"scattergeo\":[{\"marker\":{\"colorbar\":{\"outlinewidth\":0,\"ticks\":\"\"}},\"type\":\"scattergeo\"}],\"scattergl\":[{\"marker\":{\"colorbar\":{\"outlinewidth\":0,\"ticks\":\"\"}},\"type\":\"scattergl\"}],\"scattermapbox\":[{\"marker\":{\"colorbar\":{\"outlinewidth\":0,\"ticks\":\"\"}},\"type\":\"scattermapbox\"}],\"scatterpolar\":[{\"marker\":{\"colorbar\":{\"outlinewidth\":0,\"ticks\":\"\"}},\"type\":\"scatterpolar\"}],\"scatterpolargl\":[{\"marker\":{\"colorbar\":{\"outlinewidth\":0,\"ticks\":\"\"}},\"type\":\"scatterpolargl\"}],\"scatterternary\":[{\"marker\":{\"colorbar\":{\"outlinewidth\":0,\"ticks\":\"\"}},\"type\":\"scatterternary\"}],\"surface\":[{\"colorbar\":{\"outlinewidth\":0,\"ticks\":\"\"},\"colorscale\":[[0.0,\"#0d0887\"],[0.1111111111111111,\"#46039f\"],[0.2222222222222222,\"#7201a8\"],[0.3333333333333333,\"#9c179e\"],[0.4444444444444444,\"#bd3786\"],[0.5555555555555556,\"#d8576b\"],[0.6666666666666666,\"#ed7953\"],[0.7777777777777778,\"#fb9f3a\"],[0.8888888888888888,\"#fdca26\"],[1.0,\"#f0f921\"]],\"type\":\"surface\"}],\"table\":[{\"cells\":{\"fill\":{\"color\":\"#EBF0F8\"},\"line\":{\"color\":\"white\"}},\"header\":{\"fill\":{\"color\":\"#C8D4E3\"},\"line\":{\"color\":\"white\"}},\"type\":\"table\"}]},\"layout\":{\"annotationdefaults\":{\"arrowcolor\":\"#2a3f5f\",\"arrowhead\":0,\"arrowwidth\":1},\"autotypenumbers\":\"strict\",\"coloraxis\":{\"colorbar\":{\"outlinewidth\":0,\"ticks\":\"\"}},\"colorscale\":{\"diverging\":[[0,\"#8e0152\"],[0.1,\"#c51b7d\"],[0.2,\"#de77ae\"],[0.3,\"#f1b6da\"],[0.4,\"#fde0ef\"],[0.5,\"#f7f7f7\"],[0.6,\"#e6f5d0\"],[0.7,\"#b8e186\"],[0.8,\"#7fbc41\"],[0.9,\"#4d9221\"],[1,\"#276419\"]],\"sequential\":[[0.0,\"#0d0887\"],[0.1111111111111111,\"#46039f\"],[0.2222222222222222,\"#7201a8\"],[0.3333333333333333,\"#9c179e\"],[0.4444444444444444,\"#bd3786\"],[0.5555555555555556,\"#d8576b\"],[0.6666666666666666,\"#ed7953\"],[0.7777777777777778,\"#fb9f3a\"],[0.8888888888888888,\"#fdca26\"],[1.0,\"#f0f921\"]],\"sequentialminus\":[[0.0,\"#0d0887\"],[0.1111111111111111,\"#46039f\"],[0.2222222222222222,\"#7201a8\"],[0.3333333333333333,\"#9c179e\"],[0.4444444444444444,\"#bd3786\"],[0.5555555555555556,\"#d8576b\"],[0.6666666666666666,\"#ed7953\"],[0.7777777777777778,\"#fb9f3a\"],[0.8888888888888888,\"#fdca26\"],[1.0,\"#f0f921\"]]},\"colorway\":[\"#636efa\",\"#EF553B\",\"#00cc96\",\"#ab63fa\",\"#FFA15A\",\"#19d3f3\",\"#FF6692\",\"#B6E880\",\"#FF97FF\",\"#FECB52\"],\"font\":{\"color\":\"#2a3f5f\"},\"geo\":{\"bgcolor\":\"white\",\"lakecolor\":\"white\",\"landcolor\":\"#E5ECF6\",\"showlakes\":true,\"showland\":true,\"subunitcolor\":\"white\"},\"hoverlabel\":{\"align\":\"left\"},\"hovermode\":\"closest\",\"mapbox\":{\"style\":\"light\"},\"paper_bgcolor\":\"white\",\"plot_bgcolor\":\"#E5ECF6\",\"polar\":{\"angularaxis\":{\"gridcolor\":\"white\",\"linecolor\":\"white\",\"ticks\":\"\"},\"bgcolor\":\"#E5ECF6\",\"radialaxis\":{\"gridcolor\":\"white\",\"linecolor\":\"white\",\"ticks\":\"\"}},\"scene\":{\"xaxis\":{\"backgroundcolor\":\"#E5ECF6\",\"gridcolor\":\"white\",\"gridwidth\":2,\"linecolor\":\"white\",\"showbackground\":true,\"ticks\":\"\",\"zerolinecolor\":\"white\"},\"yaxis\":{\"backgroundcolor\":\"#E5ECF6\",\"gridcolor\":\"white\",\"gridwidth\":2,\"linecolor\":\"white\",\"showbackground\":true,\"ticks\":\"\",\"zerolinecolor\":\"white\"},\"zaxis\":{\"backgroundcolor\":\"#E5ECF6\",\"gridcolor\":\"white\",\"gridwidth\":2,\"linecolor\":\"white\",\"showbackground\":true,\"ticks\":\"\",\"zerolinecolor\":\"white\"}},\"shapedefaults\":{\"line\":{\"color\":\"#2a3f5f\"}},\"ternary\":{\"aaxis\":{\"gridcolor\":\"white\",\"linecolor\":\"white\",\"ticks\":\"\"},\"baxis\":{\"gridcolor\":\"white\",\"linecolor\":\"white\",\"ticks\":\"\"},\"bgcolor\":\"#E5ECF6\",\"caxis\":{\"gridcolor\":\"white\",\"linecolor\":\"white\",\"ticks\":\"\"}},\"title\":{\"x\":0.05},\"xaxis\":{\"automargin\":true,\"gridcolor\":\"white\",\"linecolor\":\"white\",\"ticks\":\"\",\"title\":{\"standoff\":15},\"zerolinecolor\":\"white\",\"zerolinewidth\":2},\"yaxis\":{\"automargin\":true,\"gridcolor\":\"white\",\"linecolor\":\"white\",\"ticks\":\"\",\"title\":{\"standoff\":15},\"zerolinecolor\":\"white\",\"zerolinewidth\":2}}},\"width\":700},                        {\"responsive\": true}                    ).then(function(){\n",
       "                            \n",
       "var gd = document.getElementById('a289ab84-a3e8-42b5-a40f-e989b00bfa28');\n",
       "var x = new MutationObserver(function (mutations, observer) {{\n",
       "        var display = window.getComputedStyle(gd).display;\n",
       "        if (!display || display === 'none') {{\n",
       "            console.log([gd, 'removed!']);\n",
       "            Plotly.purge(gd);\n",
       "            observer.disconnect();\n",
       "        }}\n",
       "}});\n",
       "\n",
       "// Listen for the removal of the full notebook cells\n",
       "var notebookContainer = gd.closest('#notebook-container');\n",
       "if (notebookContainer) {{\n",
       "    x.observe(notebookContainer, {childList: true});\n",
       "}}\n",
       "\n",
       "// Listen for the clearing of the current output cell\n",
       "var outputEl = gd.closest('.output');\n",
       "if (outputEl) {{\n",
       "    x.observe(outputEl, {childList: true});\n",
       "}}\n",
       "\n",
       "                        })                };                });            </script>        </div>"
      ]
     },
     "metadata": {},
     "output_type": "display_data"
    }
   ],
   "source": [
    "get_model_metrics(y_val, model_tf_idf.predict(X_val_tf_idf_tensor), full_report = 0, plot = 1)"
   ]
  }
 ],
 "metadata": {
  "kernelspec": {
   "display_name": "Python 3",
   "language": "python",
   "name": "python3"
  },
  "language_info": {
   "codemirror_mode": {
    "name": "ipython",
    "version": 3
   },
   "file_extension": ".py",
   "mimetype": "text/x-python",
   "name": "python",
   "nbconvert_exporter": "python",
   "pygments_lexer": "ipython3",
   "version": "3.8.8"
  }
 },
 "nbformat": 4,
 "nbformat_minor": 5
}
