{
 "cells": [
  {
   "cell_type": "markdown",
   "id": "46b17f3a-fc40-43d2-b026-798f26014493",
   "metadata": {},
   "source": [
    "# <center> News Classification with NLP and Neural Networks </center>"
   ]
  },
  {
   "cell_type": "markdown",
   "id": "fcb09f44-33f4-4938-aaa4-65c3df93b527",
   "metadata": {},
   "source": [
    "### Imports"
   ]
  },
  {
   "cell_type": "code",
   "execution_count": 1,
   "id": "a2a1634b-c53c-4c99-8e6e-f7759bd2856f",
   "metadata": {},
   "outputs": [],
   "source": [
    "import warnings\n",
    "import numpy as np\n",
    "import pandas as pd\n",
    "import re\n",
    "import plotly.express as px\n",
    "warnings.filterwarnings('ignore')"
   ]
  },
  {
   "cell_type": "markdown",
   "id": "e3a02e18-a47b-4179-9c28-fb2bb93cc5d6",
   "metadata": {},
   "source": [
    "### Data"
   ]
  },
  {
   "cell_type": "code",
   "execution_count": 38,
   "id": "14ebb1ae-25d6-43d9-9510-54dd2e864b10",
   "metadata": {},
   "outputs": [
    {
     "data": {
      "text/html": [
       "<div>\n",
       "<style scoped>\n",
       "    .dataframe tbody tr th:only-of-type {\n",
       "        vertical-align: middle;\n",
       "    }\n",
       "\n",
       "    .dataframe tbody tr th {\n",
       "        vertical-align: top;\n",
       "    }\n",
       "\n",
       "    .dataframe thead th {\n",
       "        text-align: right;\n",
       "    }\n",
       "</style>\n",
       "<table border=\"1\" class=\"dataframe\">\n",
       "  <thead>\n",
       "    <tr style=\"text-align: right;\">\n",
       "      <th></th>\n",
       "      <th>category</th>\n",
       "      <th>headline</th>\n",
       "      <th>authors</th>\n",
       "      <th>link</th>\n",
       "      <th>short_description</th>\n",
       "      <th>date</th>\n",
       "    </tr>\n",
       "  </thead>\n",
       "  <tbody>\n",
       "    <tr>\n",
       "      <th>74161</th>\n",
       "      <td>POLITICS</td>\n",
       "      <td>Loretta Lynch: Tone Of Refugee Debate Goes Aga...</td>\n",
       "      <td>Ryan J. Reilly</td>\n",
       "      <td>https://www.huffingtonpost.com/entry/syrian-re...</td>\n",
       "      <td>\"Our values are not secondary considerations i...</td>\n",
       "      <td>2015-11-20</td>\n",
       "    </tr>\n",
       "    <tr>\n",
       "      <th>17976</th>\n",
       "      <td>GREEN</td>\n",
       "      <td>After Harvey, Threat Of 'Dramatic Flooding' Co...</td>\n",
       "      <td>David Lohr, Kate Sheppard, Paige Lavender, Roq...</td>\n",
       "      <td>https://www.huffingtonpost.com/entry/harvey-sa...</td>\n",
       "      <td>One meteorologist estimated 20 trillion gallon...</td>\n",
       "      <td>2017-08-26</td>\n",
       "    </tr>\n",
       "    <tr>\n",
       "      <th>50697</th>\n",
       "      <td>SPORTS</td>\n",
       "      <td>Ryan Lochte Robbed At Gunpoint In Rio With 3 O...</td>\n",
       "      <td>Nina Golgowski</td>\n",
       "      <td>https://www.huffingtonpost.com/entry/ryan-loch...</td>\n",
       "      <td>Lochte, who was held up with teammates Gunnar ...</td>\n",
       "      <td>2016-08-14</td>\n",
       "    </tr>\n",
       "    <tr>\n",
       "      <th>169966</th>\n",
       "      <td>HOME &amp; LIVING</td>\n",
       "      <td>6 Weird Craigslist Ads From Across The Country...</td>\n",
       "      <td>Amy Marturana</td>\n",
       "      <td>https://www.huffingtonpost.com/entry/weird-cra...</td>\n",
       "      <td>And 5 other totally strange things you can buy...</td>\n",
       "      <td>2012-12-26</td>\n",
       "    </tr>\n",
       "    <tr>\n",
       "      <th>48847</th>\n",
       "      <td>POLITICS</td>\n",
       "      <td>Donald Trump, The Most Dangerous Salesman In T...</td>\n",
       "      <td>Sydney Cicourel, ContributorI'm a blogger, a p...</td>\n",
       "      <td>https://www.huffingtonpost.com/entry/donald-tr...</td>\n",
       "      <td>He is just throwing things out there.</td>\n",
       "      <td>2016-09-04</td>\n",
       "    </tr>\n",
       "  </tbody>\n",
       "</table>\n",
       "</div>"
      ],
      "text/plain": [
       "             category                                           headline  \\\n",
       "74161        POLITICS  Loretta Lynch: Tone Of Refugee Debate Goes Aga...   \n",
       "17976           GREEN  After Harvey, Threat Of 'Dramatic Flooding' Co...   \n",
       "50697          SPORTS  Ryan Lochte Robbed At Gunpoint In Rio With 3 O...   \n",
       "169966  HOME & LIVING  6 Weird Craigslist Ads From Across The Country...   \n",
       "48847        POLITICS  Donald Trump, The Most Dangerous Salesman In T...   \n",
       "\n",
       "                                                  authors  \\\n",
       "74161                                      Ryan J. Reilly   \n",
       "17976   David Lohr, Kate Sheppard, Paige Lavender, Roq...   \n",
       "50697                                      Nina Golgowski   \n",
       "169966                                      Amy Marturana   \n",
       "48847   Sydney Cicourel, ContributorI'm a blogger, a p...   \n",
       "\n",
       "                                                     link  \\\n",
       "74161   https://www.huffingtonpost.com/entry/syrian-re...   \n",
       "17976   https://www.huffingtonpost.com/entry/harvey-sa...   \n",
       "50697   https://www.huffingtonpost.com/entry/ryan-loch...   \n",
       "169966  https://www.huffingtonpost.com/entry/weird-cra...   \n",
       "48847   https://www.huffingtonpost.com/entry/donald-tr...   \n",
       "\n",
       "                                        short_description       date  \n",
       "74161   \"Our values are not secondary considerations i... 2015-11-20  \n",
       "17976   One meteorologist estimated 20 trillion gallon... 2017-08-26  \n",
       "50697   Lochte, who was held up with teammates Gunnar ... 2016-08-14  \n",
       "169966  And 5 other totally strange things you can buy... 2012-12-26  \n",
       "48847               He is just throwing things out there. 2016-09-04  "
      ]
     },
     "execution_count": 38,
     "metadata": {},
     "output_type": "execute_result"
    }
   ],
   "source": [
    "df = pd.read_json('News_Category_Dataset_v2.json', lines=True)\n",
    "df.sample(5)"
   ]
  },
  {
   "cell_type": "markdown",
   "id": "8dd82dfc-6153-4f97-ad75-9007960b828b",
   "metadata": {},
   "source": [
    "# Cleaning"
   ]
  },
  {
   "cell_type": "markdown",
   "id": "68ca86a7-4e67-4e77-839e-0a2ffbc6920f",
   "metadata": {},
   "source": [
    "#### Check data types"
   ]
  },
  {
   "cell_type": "raw",
   "id": "6e41005e-96ba-4cc5-b7e5-78f99bceae05",
   "metadata": {},
   "source": [
    "df.info()"
   ]
  },
  {
   "cell_type": "markdown",
   "id": "314368a0-6cfb-4d84-8e6a-53b17873c0f8",
   "metadata": {},
   "source": [
    "#### Check NaNs "
   ]
  },
  {
   "cell_type": "raw",
   "id": "5a6edbf1-c01f-4b57-a18d-5e58be8a9fb7",
   "metadata": {},
   "source": [
    "df.isna().sum()"
   ]
  },
  {
   "cell_type": "markdown",
   "id": "601100b7-6574-403b-9df5-b7009c95b3af",
   "metadata": {},
   "source": [
    "#### Check Duplicates"
   ]
  },
  {
   "cell_type": "code",
   "execution_count": 39,
   "id": "9ee4a10b-d5c2-4811-b945-5ebd596a25c2",
   "metadata": {},
   "outputs": [
    {
     "name": "stdout",
     "output_type": "stream",
     "text": [
      "13\n"
     ]
    },
    {
     "data": {
      "text/plain": [
       "0"
      ]
     },
     "execution_count": 39,
     "metadata": {},
     "output_type": "execute_result"
    }
   ],
   "source": [
    "print(df.duplicated().sum())\n",
    "df = df.drop_duplicates()\n",
    "df.duplicated().sum()"
   ]
  },
  {
   "cell_type": "markdown",
   "id": "91ba9ece-1396-4aaf-b4fe-248728420b19",
   "metadata": {},
   "source": [
    "#### Authors \n",
    "- The `authors` field is a list containing:\n",
    "    - Name(s)\n",
    "    - Titles\n",
    "    - Organizations\n",
    "    - Misc comments\n",
    "- It also contains many NaNs in the form of empty strings\n",
    "- Approach:\n",
    "    - Replace NaNs with 'unknown'\n",
    "    - Extract author names from the field, create new field named `author_names`\n",
    "    - Leave the rest of the information in a new field named `author_notes`"
   ]
  },
  {
   "cell_type": "markdown",
   "id": "d546711d-3f03-4745-b91c-4eb5ca22438b",
   "metadata": {},
   "source": [
    "### Author Names"
   ]
  },
  {
   "cell_type": "code",
   "execution_count": 40,
   "id": "b4f923fa-b7e9-41ea-99b3-1fa83c25f0a6",
   "metadata": {},
   "outputs": [],
   "source": [
    "# Replace missing authors with 'unknown'\n",
    "df['authors'] = df['authors'].apply(lambda x: x.replace('','unknown') if x == '' else x)"
   ]
  },
  {
   "cell_type": "code",
   "execution_count": 41,
   "id": "66bf3c68-2ec9-4b35-b9f8-e3ada87814cc",
   "metadata": {},
   "outputs": [],
   "source": [
    "# Get author names from list\n",
    "# Split, get first, title(), split \n",
    "df['author_names'] = df['authors'].apply(lambda x: x.replace('By','').strip().split(',')[0].title().split(' And '))"
   ]
  },
  {
   "cell_type": "code",
   "execution_count": 42,
   "id": "9ab5ee91-0e6f-4884-8e8b-351fa63bba68",
   "metadata": {},
   "outputs": [],
   "source": [
    "df['author_notes'] = df['authors'].apply(lambda x: ''.join(x.replace('By','').replace('\\n','').replace('Contributor','Contributor ').strip().split(',')[1:]).strip())"
   ]
  },
  {
   "cell_type": "markdown",
   "id": "85739996-443e-4d95-8cbc-5eb9ff0cc15c",
   "metadata": {},
   "source": [
    "### Links\n",
    "- The links are not helpful in their current form, need to extract keyworks from them"
   ]
  },
  {
   "cell_type": "code",
   "execution_count": 45,
   "id": "9e8dd769-3f83-488f-a04e-8b86eab29beb",
   "metadata": {},
   "outputs": [
    {
     "data": {
      "text/plain": [
       "14033                     [diversity, in, fashion]\n",
       "30302         [dunkin, donuts, butter, settlement]\n",
       "123403                     [john, kasich, primary]\n",
       "91105              [dont, call, it, flesheating, ]\n",
       "114276    [egypt, government, criticism, ferguson]\n",
       "Name: link_keywords, dtype: object"
      ]
     },
     "execution_count": 45,
     "metadata": {},
     "output_type": "execute_result"
    }
   ],
   "source": [
    "df['link_keywords'] = df['link'].apply(lambda x: x.replace('-',',').replace(\"_\",',').replace(\"entry/\",',').split(',')[1:-2])\n",
    "df['link_keywords'].sample(5)"
   ]
  },
  {
   "cell_type": "code",
   "execution_count": 46,
   "id": "02ba9bb9-a3b4-4265-b6ed-8871b2cbfbc9",
   "metadata": {},
   "outputs": [
    {
     "data": {
      "text/html": [
       "<div>\n",
       "<style scoped>\n",
       "    .dataframe tbody tr th:only-of-type {\n",
       "        vertical-align: middle;\n",
       "    }\n",
       "\n",
       "    .dataframe tbody tr th {\n",
       "        vertical-align: top;\n",
       "    }\n",
       "\n",
       "    .dataframe thead th {\n",
       "        text-align: right;\n",
       "    }\n",
       "</style>\n",
       "<table border=\"1\" class=\"dataframe\">\n",
       "  <thead>\n",
       "    <tr style=\"text-align: right;\">\n",
       "      <th></th>\n",
       "      <th>category</th>\n",
       "      <th>headline</th>\n",
       "      <th>short_description</th>\n",
       "      <th>date</th>\n",
       "      <th>author_names</th>\n",
       "      <th>author_notes</th>\n",
       "      <th>link_keywords</th>\n",
       "    </tr>\n",
       "  </thead>\n",
       "  <tbody>\n",
       "    <tr>\n",
       "      <th>200053</th>\n",
       "      <td>WELLNESS</td>\n",
       "      <td>A Secret to More Happiness and Energy? Give Yo...</td>\n",
       "      <td>As a result of my happiness project, I've beco...</td>\n",
       "      <td>2012-02-06</td>\n",
       "      <td>[Gretchen Rubin]</td>\n",
       "      <td>Contributor Writer The Happiness Project</td>\n",
       "      <td>[adult, bedtime]</td>\n",
       "    </tr>\n",
       "    <tr>\n",
       "      <th>196850</th>\n",
       "      <td>COMEDY</td>\n",
       "      <td>'Comedy Bang! Bang!' IFC Show 10-Minute Promo ...</td>\n",
       "      <td>The premise for the podcast is simple: Scott p...</td>\n",
       "      <td>2012-03-11</td>\n",
       "      <td>[Ross Luippold]</td>\n",
       "      <td></td>\n",
       "      <td>[comedy, bang, bang, ifc, show]</td>\n",
       "    </tr>\n",
       "    <tr>\n",
       "      <th>80137</th>\n",
       "      <td>BUSINESS</td>\n",
       "      <td>3 Tools To Make You Feel Better At Work</td>\n",
       "      <td>Because your office doesn't have to suck the l...</td>\n",
       "      <td>2015-09-15</td>\n",
       "      <td>[Alexander C. Kaufman]</td>\n",
       "      <td></td>\n",
       "      <td>[workplace, wellness, tips]</td>\n",
       "    </tr>\n",
       "    <tr>\n",
       "      <th>60939</th>\n",
       "      <td>POLITICS</td>\n",
       "      <td>With His New York Walkover, Donald Trump Takes...</td>\n",
       "      <td>The GOP primary calendar is now working to the...</td>\n",
       "      <td>2016-04-20</td>\n",
       "      <td>[Scott Conroy]</td>\n",
       "      <td></td>\n",
       "      <td>[new, york, donald, trump, gop, nomination]</td>\n",
       "    </tr>\n",
       "    <tr>\n",
       "      <th>190313</th>\n",
       "      <td>WELLNESS</td>\n",
       "      <td>Preventing Degenerative Brain Disease in Our C...</td>\n",
       "      <td>If the experts in traumatic brain injury think...</td>\n",
       "      <td>2012-05-21</td>\n",
       "      <td>[Anne Wojcicki, Linda Avey]</td>\n",
       "      <td>Contributor Contributor</td>\n",
       "      <td>[brain, injury]</td>\n",
       "    </tr>\n",
       "  </tbody>\n",
       "</table>\n",
       "</div>"
      ],
      "text/plain": [
       "        category                                           headline  \\\n",
       "200053  WELLNESS  A Secret to More Happiness and Energy? Give Yo...   \n",
       "196850    COMEDY  'Comedy Bang! Bang!' IFC Show 10-Minute Promo ...   \n",
       "80137   BUSINESS            3 Tools To Make You Feel Better At Work   \n",
       "60939   POLITICS  With His New York Walkover, Donald Trump Takes...   \n",
       "190313  WELLNESS  Preventing Degenerative Brain Disease in Our C...   \n",
       "\n",
       "                                        short_description       date  \\\n",
       "200053  As a result of my happiness project, I've beco... 2012-02-06   \n",
       "196850  The premise for the podcast is simple: Scott p... 2012-03-11   \n",
       "80137   Because your office doesn't have to suck the l... 2015-09-15   \n",
       "60939   The GOP primary calendar is now working to the... 2016-04-20   \n",
       "190313  If the experts in traumatic brain injury think... 2012-05-21   \n",
       "\n",
       "                       author_names                              author_notes  \\\n",
       "200053             [Gretchen Rubin]  Contributor Writer The Happiness Project   \n",
       "196850              [Ross Luippold]                                             \n",
       "80137        [Alexander C. Kaufman]                                             \n",
       "60939                [Scott Conroy]                                             \n",
       "190313  [Anne Wojcicki, Linda Avey]                   Contributor Contributor   \n",
       "\n",
       "                                      link_keywords  \n",
       "200053                             [adult, bedtime]  \n",
       "196850              [comedy, bang, bang, ifc, show]  \n",
       "80137                   [workplace, wellness, tips]  \n",
       "60939   [new, york, donald, trump, gop, nomination]  \n",
       "190313                              [brain, injury]  "
      ]
     },
     "execution_count": 46,
     "metadata": {},
     "output_type": "execute_result"
    }
   ],
   "source": [
    "df = df.drop(columns=[col for col in df.columns if col in ['link','authors']])\n",
    "df.sample(5)"
   ]
  },
  {
   "cell_type": "markdown",
   "id": "75d018a1-5899-4858-b61e-56ff7e756afc",
   "metadata": {},
   "source": [
    "# EDA"
   ]
  },
  {
   "cell_type": "markdown",
   "id": "18ba73be-a3c7-4dd0-9743-1053b30d65e2",
   "metadata": {},
   "source": [
    "#### View categories"
   ]
  },
  {
   "cell_type": "raw",
   "id": "de01cd1b-d408-4e21-ae58-69ca02954af1",
   "metadata": {},
   "source": [
    "print(f\"There are {len(df['category'].value_counts())} unique categories including the following:\")\n",
    "px.bar(df['category'].value_counts(), \n",
    "       title='Unique New Categories', \n",
    "       labels = {\"value\": \"Number of Articles\",\"index\": \"Category\"},\n",
    "       width = 1700, height = 600)"
   ]
  },
  {
   "cell_type": "markdown",
   "id": "20d18038-8d52-4e38-8b50-0985920ea7a2",
   "metadata": {},
   "source": [
    "#### View length of headlines"
   ]
  },
  {
   "cell_type": "raw",
   "id": "dc3a62e9-3cec-4301-9b66-65b8f46e4fbe",
   "metadata": {},
   "source": [
    "headline_lengths = df['headline'].apply(lambda x: len(x))\n",
    "px.histogram(df, \n",
    "             x = headline_lengths, \n",
    "             marginal = 'box', \n",
    "             title = 'Headline Lengths',\n",
    "             labels = {'x':'Number of Characters'},\n",
    "             height = 400, width = 700)"
   ]
  },
  {
   "cell_type": "markdown",
   "id": "72c27f96-acfd-433d-b758-6c0159e2e48f",
   "metadata": {},
   "source": [
    "### Author Activity"
   ]
  },
  {
   "cell_type": "code",
   "execution_count": null,
   "id": "e1813d78-78a5-44d6-bb4a-71345cd22352",
   "metadata": {},
   "outputs": [],
   "source": [
    "unique_authors_vc = df['author_names'].explode().value_counts()\n",
    "\n",
    "print(f\"There are {len(unique_authors_vc)} unique authors, {unique_authors_vc[0]} ({round(unique_authors_vc[0]/len(unique_authors_vc),2)}%) are unknown.\" )\n",
    "\n",
    "px.bar(unique_authors_vc[1:50], \n",
    "       title='Unique Authors', \n",
    "       labels = {\"value\": \"Number of Articles Written\",\"index\": \"Author\"},\n",
    "       width = 1700, height = 600)"
   ]
  },
  {
   "cell_type": "markdown",
   "id": "ce355676-3ea6-411a-9586-6972a61dcd44",
   "metadata": {},
   "source": [
    "### Category Prevalence Over Time"
   ]
  },
  {
   "cell_type": "code",
   "execution_count": 62,
   "id": "b1e2a386-3836-459f-8402-90c1b67dfad2",
   "metadata": {},
   "outputs": [
    {
     "data": {
      "text/plain": [
       "year  category      \n",
       "2012  BLACK VOICES      307\n",
       "      BUSINESS          679\n",
       "      COMEDY            604\n",
       "      CRIME             199\n",
       "      CULTURE & ARTS    343\n",
       "Name: category, dtype: int64"
      ]
     },
     "execution_count": 62,
     "metadata": {},
     "output_type": "execute_result"
    }
   ],
   "source": [
    "df['year'] = df['date'].dt.year\n",
    "df_year = df.groupby(['year','category'])['category'].count()\n",
    "df_year.head()"
   ]
  },
  {
   "cell_type": "code",
   "execution_count": 74,
   "id": "d280d1c8-25b5-4712-b949-fe46620c2f39",
   "metadata": {},
   "outputs": [
    {
     "name": "stdout",
     "output_type": "stream",
     "text": [
      "(2012, 'BLACK VOICES') 307\n",
      "(2012, 'BUSINESS') 679\n",
      "(2012, 'COMEDY') 604\n",
      "(2012, 'CRIME') 199\n",
      "(2012, 'CULTURE & ARTS') 343\n",
      "(2012, 'DIVORCE') 1256\n",
      "(2012, 'ENTERTAINMENT') 562\n",
      "(2012, 'ENVIRONMENT') 482\n",
      "(2012, 'FOOD & DRINK') 1823\n",
      "(2012, 'HOME & LIVING') 1620\n",
      "(2012, 'IMPACT') 332\n",
      "(2012, 'MONEY') 1434\n",
      "(2012, 'PARENTING') 3127\n",
      "(2012, 'QUEER VOICES') 474\n",
      "(2012, 'SCIENCE') 347\n",
      "(2012, 'SPORTS') 271\n",
      "(2012, 'STYLE & BEAUTY') 5190\n",
      "(2012, 'TECH') 440\n",
      "(2012, 'TRAVEL') 3229\n",
      "(2012, 'WEDDINGS') 1493\n",
      "(2012, 'WELLNESS') 7137\n",
      "(2013, 'BLACK VOICES') 320\n",
      "(2013, 'BUSINESS') 846\n",
      "(2013, 'COMEDY') 487\n",
      "(2013, 'CRIME') 236\n",
      "(2013, 'CULTURE & ARTS') 558\n",
      "(2013, 'DIVORCE') 1772\n",
      "(2013, 'ENTERTAINMENT') 1015\n",
      "(2013, 'ENVIRONMENT') 654\n",
      "(2013, 'FOOD & DRINK') 3420\n",
      "(2013, 'HOME & LIVING') 2306\n",
      "(2013, 'IMPACT') 394\n",
      "(2013, 'MONEY') 81\n",
      "(2013, 'PARENTING') 4200\n",
      "(2013, 'QUEER VOICES') 681\n",
      "(2013, 'SCIENCE') 360\n",
      "(2013, 'SPORTS') 269\n",
      "(2013, 'STYLE & BEAUTY') 3482\n",
      "(2013, 'TECH') 332\n",
      "(2013, 'TRAVEL') 3384\n",
      "(2013, 'WEDDINGS') 1755\n",
      "(2013, 'WELLNESS') 8028\n",
      "(2014, 'ARTS') 801\n",
      "(2014, 'BLACK VOICES') 424\n",
      "(2014, 'BUSINESS') 1448\n",
      "(2014, 'COLLEGE') 380\n",
      "(2014, 'COMEDY') 690\n",
      "(2014, 'CRIME') 548\n",
      "(2014, 'CULTURE & ARTS') 129\n",
      "(2014, 'DIVORCE') 398\n",
      "(2014, 'EDUCATION') 323\n",
      "(2014, 'ENTERTAINMENT') 2122\n",
      "(2014, 'ENVIRONMENT') 186\n",
      "(2014, 'FIFTY') 667\n",
      "(2014, 'FOOD & DRINK') 983\n",
      "(2014, 'GOOD NEWS') 315\n",
      "(2014, 'GREEN') 806\n",
      "(2014, 'HEALTHY LIVING') 2008\n",
      "(2014, 'HOME & LIVING') 269\n",
      "(2014, 'IMPACT') 1103\n",
      "(2014, 'LATINO VOICES') 121\n",
      "(2014, 'MEDIA') 486\n",
      "(2014, 'MONEY') 192\n",
      "(2014, 'PARENTING') 1350\n",
      "(2014, 'PARENTS') 969\n",
      "(2014, 'POLITICS') 3182\n",
      "(2014, 'QUEER VOICES') 971\n",
      "(2014, 'RELIGION') 789\n",
      "(2014, 'SCIENCE') 447\n",
      "(2014, 'SPORTS') 909\n",
      "(2014, 'STYLE') 531\n",
      "(2014, 'STYLE & BEAUTY') 974\n",
      "(2014, 'TASTE') 521\n",
      "(2014, 'TECH') 76\n",
      "(2014, 'TRAVEL') 1861\n",
      "(2014, 'WEDDINGS') 403\n",
      "(2014, 'WEIRD NEWS') 313\n",
      "(2014, 'WELLNESS') 2659\n",
      "(2014, 'WOMEN') 780\n",
      "(2014, 'WORLDPOST') 1204\n",
      "(2015, 'ARTS') 618\n",
      "(2015, 'ARTS & CULTURE') 207\n",
      "(2015, 'BLACK VOICES') 958\n",
      "(2015, 'BUSINESS') 1536\n",
      "(2015, 'COLLEGE') 524\n",
      "(2015, 'COMEDY') 811\n",
      "(2015, 'CRIME') 997\n",
      "(2015, 'EDUCATION') 320\n",
      "(2015, 'ENTERTAINMENT') 3923\n",
      "(2015, 'FIFTY') 577\n",
      "(2015, 'GOOD NEWS') 461\n",
      "(2015, 'GREEN') 738\n",
      "(2015, 'HEALTHY LIVING') 1994\n",
      "(2015, 'IMPACT') 801\n",
      "(2015, 'LATINO VOICES') 269\n",
      "(2015, 'MEDIA') 865\n",
      "(2015, 'PARENTS') 947\n",
      "(2015, 'POLITICS') 5887\n",
      "(2015, 'QUEER VOICES') 1138\n",
      "(2015, 'RELIGION') 948\n",
      "(2015, 'SCIENCE') 506\n",
      "(2015, 'SPORTS') 1337\n",
      "(2015, 'STYLE') 678\n",
      "(2015, 'TASTE') 625\n",
      "(2015, 'TECH') 471\n",
      "(2015, 'THE WORLDPOST') 512\n",
      "(2015, 'TRAVEL') 662\n",
      "(2015, 'WEIRD NEWS') 801\n",
      "(2015, 'WOMEN') 764\n",
      "(2015, 'WORLDPOST') 1131\n",
      "(2016, 'ARTS') 87\n",
      "(2016, 'ARTS & CULTURE') 596\n",
      "(2016, 'BLACK VOICES') 1150\n",
      "(2016, 'BUSINESS') 936\n",
      "(2016, 'COLLEGE') 182\n",
      "(2016, 'COMEDY') 989\n",
      "(2016, 'CRIME') 802\n",
      "(2016, 'EDUCATION') 98\n",
      "(2016, 'ENTERTAINMENT') 3526\n",
      "(2016, 'FIFTY') 155\n",
      "(2016, 'GOOD NEWS') 597\n",
      "(2016, 'GREEN') 505\n",
      "(2016, 'HEALTHY LIVING') 1241\n",
      "(2016, 'IMPACT') 435\n",
      "(2016, 'LATINO VOICES') 354\n",
      "(2016, 'MEDIA') 538\n",
      "(2016, 'PARENTS') 774\n",
      "(2016, 'POLITICS') 9989\n",
      "(2016, 'QUEER VOICES') 1165\n",
      "(2016, 'RELIGION') 424\n",
      "(2016, 'SCIENCE') 383\n",
      "(2016, 'SPORTS') 1324\n",
      "(2016, 'STYLE') 481\n",
      "(2016, 'TASTE') 409\n",
      "(2016, 'TECH') 577\n",
      "(2016, 'THE WORLDPOST') 2071\n",
      "(2016, 'TRAVEL') 433\n",
      "(2016, 'WEIRD NEWS') 870\n",
      "(2016, 'WOMEN') 778\n",
      "(2016, 'WORLDPOST') 226\n",
      "(2017, 'ARTS') 3\n",
      "(2017, 'ARTS & CULTURE') 523\n",
      "(2017, 'BLACK VOICES') 961\n",
      "(2017, 'BUSINESS') 406\n",
      "(2017, 'COLLEGE') 57\n",
      "(2017, 'COMEDY') 1151\n",
      "(2017, 'CRIME') 449\n",
      "(2017, 'EDUCATION') 231\n",
      "(2017, 'ENTERTAINMENT') 3190\n",
      "(2017, 'FIFTY') 2\n",
      "(2017, 'GOOD NEWS') 25\n",
      "(2017, 'GREEN') 544\n",
      "(2017, 'HEALTHY LIVING') 1436\n",
      "(2017, 'IMPACT') 317\n",
      "(2017, 'LATINO VOICES') 302\n",
      "(2017, 'MEDIA') 633\n",
      "(2017, 'PARENTS') 1229\n",
      "(2017, 'POLITICS') 10613\n",
      "(2017, 'QUEER VOICES') 1434\n",
      "(2017, 'RELIGION') 330\n",
      "(2017, 'SCIENCE') 95\n",
      "(2017, 'SPORTS') 410\n",
      "(2017, 'STYLE') 530\n",
      "(2017, 'TASTE') 532\n",
      "(2017, 'TECH') 127\n",
      "(2017, 'THE WORLDPOST') 1081\n",
      "(2017, 'TRAVEL') 246\n",
      "(2017, 'WEIRD NEWS') 480\n",
      "(2017, 'WOMEN') 922\n",
      "(2017, 'WORLD NEWS') 1612\n",
      "(2017, 'WORLDPOST') 18\n",
      "(2018, 'ARTS & CULTURE') 13\n",
      "(2018, 'BLACK VOICES') 408\n",
      "(2018, 'BUSINESS') 86\n",
      "(2018, 'COLLEGE') 1\n",
      "(2018, 'COMEDY') 443\n",
      "(2018, 'CRIME') 174\n",
      "(2018, 'EDUCATION') 32\n",
      "(2018, 'ENTERTAINMENT') 1720\n",
      "(2018, 'GREEN') 29\n",
      "(2018, 'HEALTHY LIVING') 15\n",
      "(2018, 'IMPACT') 77\n",
      "(2018, 'LATINO VOICES') 83\n",
      "(2018, 'MEDIA') 293\n",
      "(2018, 'PARENTS') 36\n",
      "(2018, 'POLITICS') 3067\n",
      "(2018, 'QUEER VOICES') 451\n",
      "(2018, 'RELIGION') 65\n",
      "(2018, 'SCIENCE') 40\n",
      "(2018, 'SPORTS') 364\n",
      "(2018, 'STYLE') 34\n",
      "(2018, 'TASTE') 9\n",
      "(2018, 'TECH') 55\n",
      "(2018, 'TRAVEL') 72\n",
      "(2018, 'WEIRD NEWS') 206\n",
      "(2018, 'WOMEN') 245\n",
      "(2018, 'WORLD NEWS') 565\n"
     ]
    }
   ],
   "source": [
    "for year in df_year.index:\n",
    "    print(year,df_year.loc[year])"
   ]
  }
 ],
 "metadata": {
  "kernelspec": {
   "display_name": "Python 3",
   "language": "python",
   "name": "python3"
  },
  "language_info": {
   "codemirror_mode": {
    "name": "ipython",
    "version": 3
   },
   "file_extension": ".py",
   "mimetype": "text/x-python",
   "name": "python",
   "nbconvert_exporter": "python",
   "pygments_lexer": "ipython3",
   "version": "3.8.8"
  }
 },
 "nbformat": 4,
 "nbformat_minor": 5
}
