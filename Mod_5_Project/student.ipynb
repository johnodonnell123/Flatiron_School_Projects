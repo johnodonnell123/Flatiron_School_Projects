{
 "cells": [
  {
   "cell_type": "markdown",
   "id": "46b17f3a-fc40-43d2-b026-798f26014493",
   "metadata": {},
   "source": [
    "# <center> News Classification with NLP and Neural Networks </center>"
   ]
  },
  {
   "cell_type": "markdown",
   "id": "fcb09f44-33f4-4938-aaa4-65c3df93b527",
   "metadata": {},
   "source": [
    "### Imports"
   ]
  },
  {
   "cell_type": "code",
   "execution_count": 1,
   "id": "a2a1634b-c53c-4c99-8e6e-f7759bd2856f",
   "metadata": {},
   "outputs": [],
   "source": [
    "import warnings\n",
    "import numpy as np\n",
    "import pandas as pd\n",
    "import re\n",
    "import plotly.express as px\n",
    "from sklearn import preprocessing\n",
    "import plotly.graph_objects as go\n",
    "warnings.filterwarnings('ignore')"
   ]
  },
  {
   "cell_type": "markdown",
   "id": "e3a02e18-a47b-4179-9c28-fb2bb93cc5d6",
   "metadata": {},
   "source": [
    "### Data\n",
    "- Import JSON file\n",
    "- Limit to top 5 categories"
   ]
  },
  {
   "cell_type": "code",
   "execution_count": 2,
   "id": "14ebb1ae-25d6-43d9-9510-54dd2e864b10",
   "metadata": {},
   "outputs": [
    {
     "name": "stdout",
     "output_type": "stream",
     "text": [
      "(86160, 6)\n"
     ]
    },
    {
     "data": {
      "text/html": [
       "<div>\n",
       "<style scoped>\n",
       "    .dataframe tbody tr th:only-of-type {\n",
       "        vertical-align: middle;\n",
       "    }\n",
       "\n",
       "    .dataframe tbody tr th {\n",
       "        vertical-align: top;\n",
       "    }\n",
       "\n",
       "    .dataframe thead th {\n",
       "        text-align: right;\n",
       "    }\n",
       "</style>\n",
       "<table border=\"1\" class=\"dataframe\">\n",
       "  <thead>\n",
       "    <tr style=\"text-align: right;\">\n",
       "      <th></th>\n",
       "      <th>category</th>\n",
       "      <th>headline</th>\n",
       "      <th>authors</th>\n",
       "      <th>link</th>\n",
       "      <th>short_description</th>\n",
       "      <th>date</th>\n",
       "    </tr>\n",
       "  </thead>\n",
       "  <tbody>\n",
       "    <tr>\n",
       "      <th>6825</th>\n",
       "      <td>ENTERTAINMENT</td>\n",
       "      <td>Try Not To Cry At This Surprise Military Reuni...</td>\n",
       "      <td>Lee Moran</td>\n",
       "      <td>https://www.huffingtonpost.com/entry/ellen-mil...</td>\n",
       "      <td>Seriously. This gets emotional.</td>\n",
       "      <td>2018-01-26</td>\n",
       "    </tr>\n",
       "    <tr>\n",
       "      <th>74102</th>\n",
       "      <td>ENTERTAINMENT</td>\n",
       "      <td>Kylie Jenner's Snapchats May Be A Message To T...</td>\n",
       "      <td>Bill Bradley</td>\n",
       "      <td>https://www.huffingtonpost.com/entry/kylie-jen...</td>\n",
       "      <td>Kylie is moving on, and she wants Tyga to know...</td>\n",
       "      <td>2015-11-21</td>\n",
       "    </tr>\n",
       "    <tr>\n",
       "      <th>31126</th>\n",
       "      <td>POLITICS</td>\n",
       "      <td>Senate Republicans Vote To Overturn Internet P...</td>\n",
       "      <td>David Shepardson, Reuters</td>\n",
       "      <td>https://www.huffingtonpost.com/entry/senate-re...</td>\n",
       "      <td>The vote was a victory for internet providers ...</td>\n",
       "      <td>2017-03-23</td>\n",
       "    </tr>\n",
       "    <tr>\n",
       "      <th>29566</th>\n",
       "      <td>POLITICS</td>\n",
       "      <td>Nancy Pelosi Calls For Sean Spicer's Ouster Am...</td>\n",
       "      <td>Igor Bobic</td>\n",
       "      <td>https://www.huffingtonpost.com/entry/nancy-pel...</td>\n",
       "      <td>\"Either he is speaking for the president, or t...</td>\n",
       "      <td>2017-04-11</td>\n",
       "    </tr>\n",
       "    <tr>\n",
       "      <th>60426</th>\n",
       "      <td>POLITICS</td>\n",
       "      <td>Women Claim They Were Kicked Out Of A Cafe For...</td>\n",
       "      <td>Christopher Mathias</td>\n",
       "      <td>https://www.huffingtonpost.com/entry/muslim-wo...</td>\n",
       "      <td>\"Beautiful location, mediocre boba, all served...</td>\n",
       "      <td>2016-04-26</td>\n",
       "    </tr>\n",
       "  </tbody>\n",
       "</table>\n",
       "</div>"
      ],
      "text/plain": [
       "            category                                           headline  \\\n",
       "6825   ENTERTAINMENT  Try Not To Cry At This Surprise Military Reuni...   \n",
       "74102  ENTERTAINMENT  Kylie Jenner's Snapchats May Be A Message To T...   \n",
       "31126       POLITICS  Senate Republicans Vote To Overturn Internet P...   \n",
       "29566       POLITICS  Nancy Pelosi Calls For Sean Spicer's Ouster Am...   \n",
       "60426       POLITICS  Women Claim They Were Kicked Out Of A Cafe For...   \n",
       "\n",
       "                         authors  \\\n",
       "6825                   Lee Moran   \n",
       "74102               Bill Bradley   \n",
       "31126  David Shepardson, Reuters   \n",
       "29566                 Igor Bobic   \n",
       "60426        Christopher Mathias   \n",
       "\n",
       "                                                    link  \\\n",
       "6825   https://www.huffingtonpost.com/entry/ellen-mil...   \n",
       "74102  https://www.huffingtonpost.com/entry/kylie-jen...   \n",
       "31126  https://www.huffingtonpost.com/entry/senate-re...   \n",
       "29566  https://www.huffingtonpost.com/entry/nancy-pel...   \n",
       "60426  https://www.huffingtonpost.com/entry/muslim-wo...   \n",
       "\n",
       "                                       short_description       date  \n",
       "6825                     Seriously. This gets emotional. 2018-01-26  \n",
       "74102  Kylie is moving on, and she wants Tyga to know... 2015-11-21  \n",
       "31126  The vote was a victory for internet providers ... 2017-03-23  \n",
       "29566  \"Either he is speaking for the president, or t... 2017-04-11  \n",
       "60426  \"Beautiful location, mediocre boba, all served... 2016-04-26  "
      ]
     },
     "execution_count": 2,
     "metadata": {},
     "output_type": "execute_result"
    }
   ],
   "source": [
    "# Read in json file to DataFrame\n",
    "df = pd.read_json('News_Category_Dataset_v2.json', lines=True)\n",
    "\n",
    "# Limit to the top 5 categories\n",
    "df = df[df['category'].isin(['POLITICS','WELLNESS','ENTERTAINMENT','TRAVEL','STYLE & BEAUTY'])]\n",
    "\n",
    "# View Results\n",
    "print(df.shape)\n",
    "df.sample(5)"
   ]
  },
  {
   "cell_type": "markdown",
   "id": "8dd82dfc-6153-4f97-ad75-9007960b828b",
   "metadata": {},
   "source": [
    "# Cleaning"
   ]
  },
  {
   "cell_type": "markdown",
   "id": "68ca86a7-4e67-4e77-839e-0a2ffbc6920f",
   "metadata": {},
   "source": [
    "#### Check data types"
   ]
  },
  {
   "cell_type": "raw",
   "id": "6e41005e-96ba-4cc5-b7e5-78f99bceae05",
   "metadata": {},
   "source": [
    "df.info()"
   ]
  },
  {
   "cell_type": "markdown",
   "id": "314368a0-6cfb-4d84-8e6a-53b17873c0f8",
   "metadata": {},
   "source": [
    "#### Check NaNs "
   ]
  },
  {
   "cell_type": "raw",
   "id": "5a6edbf1-c01f-4b57-a18d-5e58be8a9fb7",
   "metadata": {},
   "source": [
    "df.isna().sum()"
   ]
  },
  {
   "cell_type": "markdown",
   "id": "601100b7-6574-403b-9df5-b7009c95b3af",
   "metadata": {},
   "source": [
    "#### Check Duplicates"
   ]
  },
  {
   "cell_type": "code",
   "execution_count": 3,
   "id": "9ee4a10b-d5c2-4811-b945-5ebd596a25c2",
   "metadata": {},
   "outputs": [
    {
     "name": "stdout",
     "output_type": "stream",
     "text": [
      "7\n"
     ]
    },
    {
     "data": {
      "text/plain": [
       "0"
      ]
     },
     "execution_count": 3,
     "metadata": {},
     "output_type": "execute_result"
    }
   ],
   "source": [
    "print(df.duplicated().sum())\n",
    "df = df.drop_duplicates()\n",
    "df.duplicated().sum()"
   ]
  },
  {
   "cell_type": "markdown",
   "id": "113bb9ac-6a5a-4abc-ae61-82cc5e5282f2",
   "metadata": {},
   "source": [
    "### Dates"
   ]
  },
  {
   "cell_type": "code",
   "execution_count": 4,
   "id": "bbf4a424-ddae-4093-af0a-7b42ce4e2952",
   "metadata": {},
   "outputs": [],
   "source": [
    "df['date'] = df['date'].dt.year"
   ]
  },
  {
   "cell_type": "markdown",
   "id": "91ba9ece-1396-4aaf-b4fe-248728420b19",
   "metadata": {},
   "source": [
    "#### Authors \n",
    "- The `authors` field is a list containing:\n",
    "    - Name(s)\n",
    "    - Titles\n",
    "    - Organizations\n",
    "    - Misc comments\n",
    "- It also contains many NaNs in the form of empty strings\n",
    "- Approach:\n",
    "    - Replace NaNs with 'unknown'\n",
    "    - Extract author names from the field, create new field named `author_names` to be used as a bigram\n",
    "    - Leave the rest of the information in a new field named `author_notes`"
   ]
  },
  {
   "cell_type": "markdown",
   "id": "d546711d-3f03-4745-b91c-4eb5ca22438b",
   "metadata": {},
   "source": [
    "### Author Names"
   ]
  },
  {
   "cell_type": "code",
   "execution_count": 5,
   "id": "b4f923fa-b7e9-41ea-99b3-1fa83c25f0a6",
   "metadata": {},
   "outputs": [],
   "source": [
    "# Replace missing authors with 'unknown'\n",
    "df['authors'] = df['authors'].apply(lambda x: x.replace('','unknown') if x == '' else x)"
   ]
  },
  {
   "cell_type": "code",
   "execution_count": 6,
   "id": "66bf3c68-2ec9-4b35-b9f8-e3ada87814cc",
   "metadata": {},
   "outputs": [],
   "source": [
    "# Get author names from list\n",
    "# Split, get first, title(), split \n",
    "df['author_names'] = df['authors'].apply(lambda x: x.replace('By','').strip().split(',')[0].title().split(' And '))"
   ]
  },
  {
   "cell_type": "code",
   "execution_count": 7,
   "id": "9ab5ee91-0e6f-4884-8e8b-351fa63bba68",
   "metadata": {},
   "outputs": [],
   "source": [
    "# Store the rest of the authors field without the names into a new field\n",
    "df['author_notes'] = df['authors'].apply(lambda x: ''.join(x.replace('By','').replace('\\n','').replace('Contributor','Contributor ').strip().split(',')[1:]).strip())\n",
    "\n",
    "# Type cast from list to string\n",
    "df['author_notes'] = df['author_notes'].astype(str)"
   ]
  },
  {
   "cell_type": "markdown",
   "id": "85739996-443e-4d95-8cbc-5eb9ff0cc15c",
   "metadata": {},
   "source": [
    "### Links\n",
    "- The links are not helpful in their current form, need to extract keyworks from them"
   ]
  },
  {
   "cell_type": "code",
   "execution_count": 8,
   "id": "9e8dd769-3f83-488f-a04e-8b86eab29beb",
   "metadata": {},
   "outputs": [
    {
     "data": {
      "text/plain": [
       "47511                 donald trump skittle photo refugee\n",
       "21034       donald trump marshall mcluhan and healthcare\n",
       "165224                                             lying\n",
       "70862     benedict cumberbatch doctor strange first look\n",
       "125437                         beyonce solange coachella\n",
       "Name: link_keywords, dtype: object"
      ]
     },
     "execution_count": 8,
     "metadata": {},
     "output_type": "execute_result"
    }
   ],
   "source": [
    "# Replace charaters we want to split on with commas, then split, only get the relevant entries from the resulting list\n",
    "df['link_keywords'] = df['link'].apply(lambda x: x.replace('-',',').replace(\"_\",',').replace(\"entry/\",',').split(',')[1:-2])\n",
    "\n",
    "# Typecast from list to string\n",
    "df['link_keywords'] = df['link_keywords'].apply(lambda x: ' '.join(x))\n",
    "\n",
    "# View Sample\n",
    "df['link_keywords'].sample(5)"
   ]
  },
  {
   "cell_type": "markdown",
   "id": "5d1ff202-4315-4e44-bd04-707dd47962df",
   "metadata": {},
   "source": [
    "### Join all text columns\n",
    "- Leave `author_names` until after tokenization to preserve full name"
   ]
  },
  {
   "cell_type": "code",
   "execution_count": 10,
   "id": "77df868d-a8fb-49d2-962d-3ff44d3c11d9",
   "metadata": {},
   "outputs": [],
   "source": [
    "df['text'] = df['headline'] + ' ' + df['short_description'] + ' ' + df['link_keywords'] + ' ' + df['author_notes'] + ' ' + df['date'].astype(str)"
   ]
  },
  {
   "cell_type": "markdown",
   "id": "13c6ea61-e042-41bd-8c32-79609de50c10",
   "metadata": {},
   "source": [
    "### Drop unwanted features"
   ]
  },
  {
   "cell_type": "code",
   "execution_count": 11,
   "id": "02ba9bb9-a3b4-4265-b6ed-8871b2cbfbc9",
   "metadata": {},
   "outputs": [
    {
     "data": {
      "text/html": [
       "<div>\n",
       "<style scoped>\n",
       "    .dataframe tbody tr th:only-of-type {\n",
       "        vertical-align: middle;\n",
       "    }\n",
       "\n",
       "    .dataframe tbody tr th {\n",
       "        vertical-align: top;\n",
       "    }\n",
       "\n",
       "    .dataframe thead th {\n",
       "        text-align: right;\n",
       "    }\n",
       "</style>\n",
       "<table border=\"1\" class=\"dataframe\">\n",
       "  <thead>\n",
       "    <tr style=\"text-align: right;\">\n",
       "      <th></th>\n",
       "      <th>category</th>\n",
       "      <th>author_names</th>\n",
       "      <th>text</th>\n",
       "    </tr>\n",
       "  </thead>\n",
       "  <tbody>\n",
       "    <tr>\n",
       "      <th>140168</th>\n",
       "      <td>WELLNESS</td>\n",
       "      <td>[Dawn Jackson Blatner]</td>\n",
       "      <td>The Great Pumpkin Guide Although I am a huge f...</td>\n",
       "    </tr>\n",
       "    <tr>\n",
       "      <th>187211</th>\n",
       "      <td>WELLNESS</td>\n",
       "      <td>[Gangaji]</td>\n",
       "      <td>Freedom in Prison: Grace Is Here, Too We can e...</td>\n",
       "    </tr>\n",
       "    <tr>\n",
       "      <th>26983</th>\n",
       "      <td>POLITICS</td>\n",
       "      <td>[Lydia O'Connor]</td>\n",
       "      <td>ACLU Issues Travel Warning For Texas Amid New ...</td>\n",
       "    </tr>\n",
       "    <tr>\n",
       "      <th>115350</th>\n",
       "      <td>ENTERTAINMENT</td>\n",
       "      <td>[Leigh Blickley]</td>\n",
       "      <td>The Worst Onscreen Portrayals Of Famous Book C...</td>\n",
       "    </tr>\n",
       "    <tr>\n",
       "      <th>177325</th>\n",
       "      <td>WELLNESS</td>\n",
       "      <td>[Pavel Somov]</td>\n",
       "      <td>A Reinvented Meal: First Course -- Relaxation ...</td>\n",
       "    </tr>\n",
       "  </tbody>\n",
       "</table>\n",
       "</div>"
      ],
      "text/plain": [
       "             category            author_names  \\\n",
       "140168       WELLNESS  [Dawn Jackson Blatner]   \n",
       "187211       WELLNESS               [Gangaji]   \n",
       "26983        POLITICS        [Lydia O'Connor]   \n",
       "115350  ENTERTAINMENT        [Leigh Blickley]   \n",
       "177325       WELLNESS           [Pavel Somov]   \n",
       "\n",
       "                                                     text  \n",
       "140168  The Great Pumpkin Guide Although I am a huge f...  \n",
       "187211  Freedom in Prison: Grace Is Here, Too We can e...  \n",
       "26983   ACLU Issues Travel Warning For Texas Amid New ...  \n",
       "115350  The Worst Onscreen Portrayals Of Famous Book C...  \n",
       "177325  A Reinvented Meal: First Course -- Relaxation ...  "
      ]
     },
     "execution_count": 11,
     "metadata": {},
     "output_type": "execute_result"
    }
   ],
   "source": [
    "# Drop the feature if it appear in the colums (done this way so the cell can be re-run)\n",
    "df = df.drop(columns=[col for col in df.columns if col in ['link','authors','headline','short_description','date','link_keywords','author_notes']])\n",
    "\n",
    "# View Sample\n",
    "df.sample(5)"
   ]
  },
  {
   "cell_type": "markdown",
   "id": "1cb007b6-d2dc-4d7c-b402-c82261924282",
   "metadata": {},
   "source": [
    "# <center> -------------------------------------------------------------------- </center>"
   ]
  },
  {
   "cell_type": "markdown",
   "id": "75d018a1-5899-4858-b61e-56ff7e756afc",
   "metadata": {},
   "source": [
    "# EDA"
   ]
  },
  {
   "cell_type": "markdown",
   "id": "18ba73be-a3c7-4dd0-9743-1053b30d65e2",
   "metadata": {},
   "source": [
    "#### View categories"
   ]
  },
  {
   "cell_type": "code",
   "execution_count": null,
   "id": "87e53c65-cb0e-4380-b7f2-7694c0563a0c",
   "metadata": {},
   "outputs": [],
   "source": [
    "print(f\"There are {len(df['category'].value_counts())} unique categories including the following:\")\n",
    "px.bar(df['category'].value_counts(), \n",
    "       title='Unique New Categories', \n",
    "       labels = {\"value\": \"Number of Articles\",\"index\": \"Category\"},\n",
    "       width = 800, height = 450)"
   ]
  },
  {
   "cell_type": "markdown",
   "id": "20d18038-8d52-4e38-8b50-0985920ea7a2",
   "metadata": {},
   "source": [
    "#### View length of texts"
   ]
  },
  {
   "cell_type": "code",
   "execution_count": null,
   "id": "899c4214-7ea4-4bd1-a9f0-2a70a5e7e32a",
   "metadata": {},
   "outputs": [],
   "source": [
    "headline_lengths = df['text'].apply(lambda x: len(x))\n",
    "px.histogram(df, \n",
    "             x = headline_lengths, \n",
    "             marginal = 'box', \n",
    "             title = 'Text Lengths',\n",
    "             labels = {'x':'Number of Characters'},\n",
    "             color = 'category',\n",
    "             height = 500, width = 800)"
   ]
  },
  {
   "cell_type": "markdown",
   "id": "72c27f96-acfd-433d-b758-6c0159e2e48f",
   "metadata": {},
   "source": [
    "### Author Activity"
   ]
  },
  {
   "cell_type": "code",
   "execution_count": null,
   "id": "e1813d78-78a5-44d6-bb4a-71345cd22352",
   "metadata": {},
   "outputs": [],
   "source": [
    "unique_authors_vc = df['author_names'].explode().value_counts()\n",
    "\n",
    "print(f\"There are {len(unique_authors_vc)} unique authors, {unique_authors_vc[0]} ({round(unique_authors_vc[0]/len(unique_authors_vc),2)}%) are unknown.\" )\n",
    "\n",
    "px.bar(unique_authors_vc[1:25], \n",
    "       title='Unique Authors', \n",
    "       labels = {\"value\": \"Number of Articles Written\",\"index\": \"Author\"},\n",
    "       width = 1200, height = 600)"
   ]
  },
  {
   "cell_type": "code",
   "execution_count": 11,
   "id": "1f84494a-0de1-4f91-93a4-fe75a601c36d",
   "metadata": {},
   "outputs": [
    {
     "data": {
      "text/html": [
       "<div>\n",
       "<style scoped>\n",
       "    .dataframe tbody tr th:only-of-type {\n",
       "        vertical-align: middle;\n",
       "    }\n",
       "\n",
       "    .dataframe tbody tr th {\n",
       "        vertical-align: top;\n",
       "    }\n",
       "\n",
       "    .dataframe thead th {\n",
       "        text-align: right;\n",
       "    }\n",
       "</style>\n",
       "<table border=\"1\" class=\"dataframe\">\n",
       "  <thead>\n",
       "    <tr style=\"text-align: right;\">\n",
       "      <th></th>\n",
       "      <th>category</th>\n",
       "      <th>author_names</th>\n",
       "      <th>text</th>\n",
       "    </tr>\n",
       "  </thead>\n",
       "  <tbody>\n",
       "    <tr>\n",
       "      <th>1</th>\n",
       "      <td>ENTERTAINMENT</td>\n",
       "      <td>[Andy Mcdonald]</td>\n",
       "      <td>Will Smith Joins Diplo And Nicky Jam For The 2...</td>\n",
       "    </tr>\n",
       "    <tr>\n",
       "      <th>2</th>\n",
       "      <td>ENTERTAINMENT</td>\n",
       "      <td>[Ron Dicker]</td>\n",
       "      <td>Hugh Grant Marries For The First Time At Age 5...</td>\n",
       "    </tr>\n",
       "    <tr>\n",
       "      <th>3</th>\n",
       "      <td>ENTERTAINMENT</td>\n",
       "      <td>[Ron Dicker]</td>\n",
       "      <td>Jim Carrey Blasts 'Castrato' Adam Schiff And D...</td>\n",
       "    </tr>\n",
       "    <tr>\n",
       "      <th>4</th>\n",
       "      <td>ENTERTAINMENT</td>\n",
       "      <td>[Ron Dicker]</td>\n",
       "      <td>Julianna Margulies Uses Donald Trump Poop Bags...</td>\n",
       "    </tr>\n",
       "    <tr>\n",
       "      <th>5</th>\n",
       "      <td>ENTERTAINMENT</td>\n",
       "      <td>[Ron Dicker]</td>\n",
       "      <td>Morgan Freeman 'Devastated' That Sexual Harass...</td>\n",
       "    </tr>\n",
       "    <tr>\n",
       "      <th>...</th>\n",
       "      <td>...</td>\n",
       "      <td>...</td>\n",
       "      <td>...</td>\n",
       "    </tr>\n",
       "    <tr>\n",
       "      <th>200804</th>\n",
       "      <td>TRAVEL</td>\n",
       "      <td>[Stefani Jackenthal]</td>\n",
       "      <td>Tea Time Beneath The Western Ghats (PHOTOS) As...</td>\n",
       "    </tr>\n",
       "    <tr>\n",
       "      <th>200805</th>\n",
       "      <td>WELLNESS</td>\n",
       "      <td>[Ellie Knaus]</td>\n",
       "      <td>This Is Only the Beginning: Surprising Advice ...</td>\n",
       "    </tr>\n",
       "    <tr>\n",
       "      <th>200806</th>\n",
       "      <td>STYLE &amp; BEAUTY</td>\n",
       "      <td>[Sarah Leon]</td>\n",
       "      <td>Cheryl Tiegs In A Sauna: A Look Back \"A Look B...</td>\n",
       "    </tr>\n",
       "    <tr>\n",
       "      <th>200838</th>\n",
       "      <td>ENTERTAINMENT</td>\n",
       "      <td>[Courtney Garcia]</td>\n",
       "      <td>Sundance, Ice-T, and Shades of the American Ra...</td>\n",
       "    </tr>\n",
       "    <tr>\n",
       "      <th>200839</th>\n",
       "      <td>ENTERTAINMENT</td>\n",
       "      <td>[Unknown]</td>\n",
       "      <td>'Girl With the Dragon Tattoo' India Release Ca...</td>\n",
       "    </tr>\n",
       "  </tbody>\n",
       "</table>\n",
       "<p>86153 rows × 3 columns</p>\n",
       "</div>"
      ],
      "text/plain": [
       "              category          author_names  \\\n",
       "1        ENTERTAINMENT       [Andy Mcdonald]   \n",
       "2        ENTERTAINMENT          [Ron Dicker]   \n",
       "3        ENTERTAINMENT          [Ron Dicker]   \n",
       "4        ENTERTAINMENT          [Ron Dicker]   \n",
       "5        ENTERTAINMENT          [Ron Dicker]   \n",
       "...                ...                   ...   \n",
       "200804          TRAVEL  [Stefani Jackenthal]   \n",
       "200805        WELLNESS         [Ellie Knaus]   \n",
       "200806  STYLE & BEAUTY          [Sarah Leon]   \n",
       "200838   ENTERTAINMENT     [Courtney Garcia]   \n",
       "200839   ENTERTAINMENT             [Unknown]   \n",
       "\n",
       "                                                     text  \n",
       "1       Will Smith Joins Diplo And Nicky Jam For The 2...  \n",
       "2       Hugh Grant Marries For The First Time At Age 5...  \n",
       "3       Jim Carrey Blasts 'Castrato' Adam Schiff And D...  \n",
       "4       Julianna Margulies Uses Donald Trump Poop Bags...  \n",
       "5       Morgan Freeman 'Devastated' That Sexual Harass...  \n",
       "...                                                   ...  \n",
       "200804  Tea Time Beneath The Western Ghats (PHOTOS) As...  \n",
       "200805  This Is Only the Beginning: Surprising Advice ...  \n",
       "200806  Cheryl Tiegs In A Sauna: A Look Back \"A Look B...  \n",
       "200838  Sundance, Ice-T, and Shades of the American Ra...  \n",
       "200839  'Girl With the Dragon Tattoo' India Release Ca...  \n",
       "\n",
       "[86153 rows x 3 columns]"
      ]
     },
     "execution_count": 11,
     "metadata": {},
     "output_type": "execute_result"
    }
   ],
   "source": [
    "df"
   ]
  },
  {
   "cell_type": "markdown",
   "id": "23d17d54-13d9-48d7-85c6-a45df5510091",
   "metadata": {},
   "source": [
    "# <center> -------------------------------------------------------------------- </center>"
   ]
  },
  {
   "cell_type": "markdown",
   "id": "28573ff1-d3fe-4385-872c-13d429c28972",
   "metadata": {},
   "source": [
    "# Preprocessing Text Data\n",
    "- Lower all words\n",
    "- Handle misspellings?\n",
    "- Stop words\n",
    "- Stem / Lemmatize text\n",
    "- Tokenization or specialized regex?\n",
    "- Use all words or just most frequent?\n",
    "- Use bigrams, POS taggins, Mutual information Scores?\n",
    "- What sort of vectorization? (Boolean / Count / TF-IDF / Word2Vec)"
   ]
  },
  {
   "cell_type": "code",
   "execution_count": 15,
   "id": "71728c1f-5d52-4f52-87c6-a34dd89b5b5a",
   "metadata": {},
   "outputs": [],
   "source": [
    "import nltk\n",
    "import string\n",
    "from nltk.corpus import stopwords\n",
    "from nltk.tokenize import RegexpTokenizer\n",
    "from nltk import word_tokenize, FreqDist\n",
    "from sklearn.feature_extraction.text import TfidfVectorizer"
   ]
  },
  {
   "cell_type": "markdown",
   "id": "8c61bb42-eb7b-46c6-a310-d44f96b94738",
   "metadata": {},
   "source": [
    "### Encode Targets"
   ]
  },
  {
   "cell_type": "code",
   "execution_count": 17,
   "id": "3b7788c7-8872-4c7f-9894-07bddc823cb4",
   "metadata": {},
   "outputs": [],
   "source": [
    "le = preprocessing.LabelEncoder()\n",
    "\n",
    "df['class_label'] = le.fit_transform(df['category'])"
   ]
  },
  {
   "cell_type": "markdown",
   "id": "e8def016-e2ec-4835-ae6e-2320bd051b35",
   "metadata": {},
   "source": [
    "### Get Stopwords"
   ]
  },
  {
   "cell_type": "code",
   "execution_count": 18,
   "id": "a7c31304-040c-4970-9482-818a2a8fb304",
   "metadata": {},
   "outputs": [],
   "source": [
    "stopwords_list = stopwords.words('english') + list(string.punctuation)\n",
    "stopwords_list += [\"''\", '\"\"', '...', '``']"
   ]
  },
  {
   "cell_type": "markdown",
   "id": "b382310e-d9ce-483d-abff-4922fcf82bec",
   "metadata": {},
   "source": [
    "### Tokenize\n",
    "- Create function then use apply on DataFrame\n",
    "- The function will\n",
    "    - Accept an input text\n",
    "    - Tokenize using nltk\n",
    "    - Lower the words\n",
    "    - Remove stop words"
   ]
  },
  {
   "cell_type": "code",
   "execution_count": 19,
   "id": "fc018915-cb62-4f22-ae5c-12f1a77c5446",
   "metadata": {},
   "outputs": [],
   "source": [
    "def tokenize_text(input_text):\n",
    "    tokens = nltk.word_tokenize(input_text)\n",
    "    lower_and_stopwords_removed = [token.lower() for token in tokens if token.lower() not in stopwords_list]\n",
    "    return lower_and_stopwords_removed"
   ]
  },
  {
   "cell_type": "code",
   "execution_count": 20,
   "id": "f6f8dd2e-9583-430a-a94a-60068e0418e3",
   "metadata": {},
   "outputs": [
    {
     "name": "stdout",
     "output_type": "stream",
     "text": [
      "CPU times: user 28.4 s, sys: 63.3 ms, total: 28.5 s\n",
      "Wall time: 28.6 s\n"
     ]
    },
    {
     "data": {
      "text/html": [
       "<div>\n",
       "<style scoped>\n",
       "    .dataframe tbody tr th:only-of-type {\n",
       "        vertical-align: middle;\n",
       "    }\n",
       "\n",
       "    .dataframe tbody tr th {\n",
       "        vertical-align: top;\n",
       "    }\n",
       "\n",
       "    .dataframe thead th {\n",
       "        text-align: right;\n",
       "    }\n",
       "</style>\n",
       "<table border=\"1\" class=\"dataframe\">\n",
       "  <thead>\n",
       "    <tr style=\"text-align: right;\">\n",
       "      <th></th>\n",
       "      <th>category</th>\n",
       "      <th>author_names</th>\n",
       "      <th>text</th>\n",
       "      <th>class_label</th>\n",
       "      <th>tokens</th>\n",
       "    </tr>\n",
       "  </thead>\n",
       "  <tbody>\n",
       "    <tr>\n",
       "      <th>193502</th>\n",
       "      <td>WELLNESS</td>\n",
       "      <td>[Janice Van Dyck]</td>\n",
       "      <td>When Your Loved Ones Hold Your Life in Their Hands National Healthcare Decisions Day (NHDD) falls conveniently every April 16 so you can deal with the difficult matters of death and taxes all in one week. NHDD is one day when we're asked to put our own discomfort aside and think about the loved ones we leave behind. advanced care directive Contributor Author \"Finding Frances\" 2012</td>\n",
       "      <td>4</td>\n",
       "      <td>[loved, ones, hold, life, hands, national, healthcare, decisions, day, nhdd, falls, conveniently, every, april, 16, deal, difficult, matters, death, taxes, one, week, nhdd, one, day, 're, asked, put, discomfort, aside, think, loved, ones, leave, behind, advanced, care, directive, contributor, author, finding, frances, 2012]</td>\n",
       "    </tr>\n",
       "    <tr>\n",
       "      <th>157637</th>\n",
       "      <td>ENTERTAINMENT</td>\n",
       "      <td>[Unknown]</td>\n",
       "      <td>Mark Hamill On The 'Star Wars' Franchise At CapeTown Film Fest This year, EW celebrated May the Fourth with a full day of \"Return of the Jedi,\" screening the end of the first (and definitely wars mark hamill  2013</td>\n",
       "      <td>0</td>\n",
       "      <td>[mark, hamill, 'star, wars, franchise, capetown, film, fest, year, ew, celebrated, may, fourth, full, day, return, jedi, screening, end, first, definitely, wars, mark, hamill, 2013]</td>\n",
       "    </tr>\n",
       "    <tr>\n",
       "      <th>180458</th>\n",
       "      <td>WELLNESS</td>\n",
       "      <td>[Unknown]</td>\n",
       "      <td>Yoga At The Huffington Post's Oasis: Attendees Encouraged To Take A Class (PHOTOS) The benefits of yoga are plenty: from managing anxiety to combatting back pain, it's no wonder attendees of The Huffington yoga oasis off the mat  2012</td>\n",
       "      <td>4</td>\n",
       "      <td>[yoga, huffington, post, 's, oasis, attendees, encouraged, take, class, photos, benefits, yoga, plenty, managing, anxiety, combatting, back, pain, 's, wonder, attendees, huffington, yoga, oasis, mat, 2012]</td>\n",
       "    </tr>\n",
       "    <tr>\n",
       "      <th>77988</th>\n",
       "      <td>ENTERTAINMENT</td>\n",
       "      <td>[Carly Ledbetter]</td>\n",
       "      <td>The Backstreet Boys And The Spice Girls Might Reunite For An Epic Tour \"Oh my God, they're back again.\" backstreet boy spice girls tour  2015</td>\n",
       "      <td>0</td>\n",
       "      <td>[backstreet, boys, spice, girls, might, reunite, epic, tour, oh, god, 're, back, backstreet, boy, spice, girls, tour, 2015]</td>\n",
       "    </tr>\n",
       "    <tr>\n",
       "      <th>142625</th>\n",
       "      <td>STYLE &amp; BEAUTY</td>\n",
       "      <td>[Chris Formosa]</td>\n",
       "      <td>Add New Facets to Your Personality With Perfumes Obviously, there are plenty of perfumes characterized by an incredible versatility, but sometimes it's better to focus on the ones that do a single thing. add new facets to your pe Contributor Video Blogger FragranceTalk.com 2013</td>\n",
       "      <td>2</td>\n",
       "      <td>[add, new, facets, personality, perfumes, obviously, plenty, perfumes, characterized, incredible, versatility, sometimes, 's, better, focus, ones, single, thing, add, new, facets, pe, contributor, video, blogger, fragrancetalk.com, 2013]</td>\n",
       "    </tr>\n",
       "  </tbody>\n",
       "</table>\n",
       "</div>"
      ],
      "text/plain": [
       "              category       author_names  \\\n",
       "193502  WELLNESS        [Janice Van Dyck]   \n",
       "157637  ENTERTAINMENT   [Unknown]           \n",
       "180458  WELLNESS        [Unknown]           \n",
       "77988   ENTERTAINMENT   [Carly Ledbetter]   \n",
       "142625  STYLE & BEAUTY  [Chris Formosa]     \n",
       "\n",
       "                                                                                                                                                                                                                                                                                                                                                                                                   text  \\\n",
       "193502  When Your Loved Ones Hold Your Life in Their Hands National Healthcare Decisions Day (NHDD) falls conveniently every April 16 so you can deal with the difficult matters of death and taxes all in one week. NHDD is one day when we're asked to put our own discomfort aside and think about the loved ones we leave behind. advanced care directive Contributor Author \"Finding Frances\" 2012   \n",
       "157637  Mark Hamill On The 'Star Wars' Franchise At CapeTown Film Fest This year, EW celebrated May the Fourth with a full day of \"Return of the Jedi,\" screening the end of the first (and definitely wars mark hamill  2013                                                                                                                                                                             \n",
       "180458  Yoga At The Huffington Post's Oasis: Attendees Encouraged To Take A Class (PHOTOS) The benefits of yoga are plenty: from managing anxiety to combatting back pain, it's no wonder attendees of The Huffington yoga oasis off the mat  2012                                                                                                                                                        \n",
       "77988   The Backstreet Boys And The Spice Girls Might Reunite For An Epic Tour \"Oh my God, they're back again.\" backstreet boy spice girls tour  2015                                                                                                                                                                                                                                                     \n",
       "142625  Add New Facets to Your Personality With Perfumes Obviously, there are plenty of perfumes characterized by an incredible versatility, but sometimes it's better to focus on the ones that do a single thing. add new facets to your pe Contributor Video Blogger FragranceTalk.com 2013                                                                                                            \n",
       "\n",
       "        class_label  \\\n",
       "193502  4             \n",
       "157637  0             \n",
       "180458  4             \n",
       "77988   0             \n",
       "142625  2             \n",
       "\n",
       "                                                                                                                                                                                                                                                                                                                                       tokens  \n",
       "193502  [loved, ones, hold, life, hands, national, healthcare, decisions, day, nhdd, falls, conveniently, every, april, 16, deal, difficult, matters, death, taxes, one, week, nhdd, one, day, 're, asked, put, discomfort, aside, think, loved, ones, leave, behind, advanced, care, directive, contributor, author, finding, frances, 2012]  \n",
       "157637  [mark, hamill, 'star, wars, franchise, capetown, film, fest, year, ew, celebrated, may, fourth, full, day, return, jedi, screening, end, first, definitely, wars, mark, hamill, 2013]                                                                                                                                                  \n",
       "180458  [yoga, huffington, post, 's, oasis, attendees, encouraged, take, class, photos, benefits, yoga, plenty, managing, anxiety, combatting, back, pain, 's, wonder, attendees, huffington, yoga, oasis, mat, 2012]                                                                                                                          \n",
       "77988   [backstreet, boys, spice, girls, might, reunite, epic, tour, oh, god, 're, back, backstreet, boy, spice, girls, tour, 2015]                                                                                                                                                                                                            \n",
       "142625  [add, new, facets, personality, perfumes, obviously, plenty, perfumes, characterized, incredible, versatility, sometimes, 's, better, focus, ones, single, thing, add, new, facets, pe, contributor, video, blogger, fragrancetalk.com, 2013]                                                                                          "
      ]
     },
     "execution_count": 20,
     "metadata": {},
     "output_type": "execute_result"
    }
   ],
   "source": [
    "%%time\n",
    "df['tokens'] = df['text'].apply(tokenize_text)\n",
    "df.sample(5)"
   ]
  },
  {
   "cell_type": "markdown",
   "id": "afece063-9553-4cc9-8f8c-d3b0901ff712",
   "metadata": {},
   "source": [
    "### Add in author names to tokens"
   ]
  },
  {
   "cell_type": "code",
   "execution_count": 22,
   "id": "1e979e6f-8646-439d-a7e2-3b8770486da1",
   "metadata": {},
   "outputs": [
    {
     "data": {
      "text/html": [
       "<div>\n",
       "<style scoped>\n",
       "    .dataframe tbody tr th:only-of-type {\n",
       "        vertical-align: middle;\n",
       "    }\n",
       "\n",
       "    .dataframe tbody tr th {\n",
       "        vertical-align: top;\n",
       "    }\n",
       "\n",
       "    .dataframe thead th {\n",
       "        text-align: right;\n",
       "    }\n",
       "</style>\n",
       "<table border=\"1\" class=\"dataframe\">\n",
       "  <thead>\n",
       "    <tr style=\"text-align: right;\">\n",
       "      <th></th>\n",
       "      <th>category</th>\n",
       "      <th>class_label</th>\n",
       "      <th>text</th>\n",
       "      <th>tokens</th>\n",
       "    </tr>\n",
       "  </thead>\n",
       "  <tbody>\n",
       "    <tr>\n",
       "      <th>29862</th>\n",
       "      <td>POLITICS</td>\n",
       "      <td>1</td>\n",
       "      <td>CNN Analyst Compares Syria Strike To Kentucky Basketball Apparently they're two different things! james marks cnn syria basketball  2017</td>\n",
       "      <td>[cnn, analyst, compares, syria, strike, kentucky, basketball, apparently, 're, two, different, things, james, marks, cnn, syria, basketball, 2017, Sebastian Murdock]</td>\n",
       "    </tr>\n",
       "    <tr>\n",
       "      <th>5940</th>\n",
       "      <td>ENTERTAINMENT</td>\n",
       "      <td>0</td>\n",
       "      <td>What Exactly Is 'The Bachelor Winter Games'? Contestant Lesley Murphy gives the inside scoop on this mysterious new \"Bachelor\" spinoff. the bachelor winter games Emma Gray and Nick Offenberg 2018</td>\n",
       "      <td>[exactly, 'the, bachelor, winter, games, contestant, lesley, murphy, gives, inside, scoop, mysterious, new, bachelor, spinoff, bachelor, winter, games, emma, gray, nick, offenberg, 2018, Claire Fallon]</td>\n",
       "    </tr>\n",
       "    <tr>\n",
       "      <th>48590</th>\n",
       "      <td>POLITICS</td>\n",
       "      <td>1</td>\n",
       "      <td>Harry Reid: 'Donald Trump Is An American Nightmare' \"He’s a bigot, he’s a scam artist, he won’t show us his tax return, and Sen. Grassley is holding the Supreme Court vacant for this man,\" Reid said. harry reid donald trump american nightmare  2016</td>\n",
       "      <td>[harry, reid, 'donald, trump, american, nightmare, ’, bigot, ’, scam, artist, ’, show, us, tax, return, sen., grassley, holding, supreme, court, vacant, man, reid, said, harry, reid, donald, trump, american, nightmare, 2016, Michael Mcauliff]</td>\n",
       "    </tr>\n",
       "    <tr>\n",
       "      <th>87216</th>\n",
       "      <td>POLITICS</td>\n",
       "      <td>1</td>\n",
       "      <td>Even Ralph Nader And Grover Norquist Agree On Open Government  open government  2015</td>\n",
       "      <td>[even, ralph, nader, grover, norquist, agree, open, government, open, government, 2015, Alexander Howard]</td>\n",
       "    </tr>\n",
       "    <tr>\n",
       "      <th>40380</th>\n",
       "      <td>POLITICS</td>\n",
       "      <td>1</td>\n",
       "      <td>Senate Democrats Give Up On Coal Miner Health Benefits, Averting Government Shutdown (UPDATE) Sen. Joe Manchin said he hopes to enlist President-elect Donald Trump's help for the miners. government shutdown coal miners  2016</td>\n",
       "      <td>[senate, democrats, give, coal, miner, health, benefits, averting, government, shutdown, update, sen., joe, manchin, said, hopes, enlist, president-elect, donald, trump, 's, help, miners, government, shutdown, coal, miners, 2016, Laura Barrón-López]</td>\n",
       "    </tr>\n",
       "  </tbody>\n",
       "</table>\n",
       "</div>"
      ],
      "text/plain": [
       "            category  class_label  \\\n",
       "29862  POLITICS       1             \n",
       "5940   ENTERTAINMENT  0             \n",
       "48590  POLITICS       1             \n",
       "87216  POLITICS       1             \n",
       "40380  POLITICS       1             \n",
       "\n",
       "                                                                                                                                                                                                                                                           text  \\\n",
       "29862  CNN Analyst Compares Syria Strike To Kentucky Basketball Apparently they're two different things! james marks cnn syria basketball  2017                                                                                                                   \n",
       "5940   What Exactly Is 'The Bachelor Winter Games'? Contestant Lesley Murphy gives the inside scoop on this mysterious new \"Bachelor\" spinoff. the bachelor winter games Emma Gray and Nick Offenberg 2018                                                        \n",
       "48590  Harry Reid: 'Donald Trump Is An American Nightmare' \"He’s a bigot, he’s a scam artist, he won’t show us his tax return, and Sen. Grassley is holding the Supreme Court vacant for this man,\" Reid said. harry reid donald trump american nightmare  2016   \n",
       "87216  Even Ralph Nader And Grover Norquist Agree On Open Government  open government  2015                                                                                                                                                                       \n",
       "40380  Senate Democrats Give Up On Coal Miner Health Benefits, Averting Government Shutdown (UPDATE) Sen. Joe Manchin said he hopes to enlist President-elect Donald Trump's help for the miners. government shutdown coal miners  2016                           \n",
       "\n",
       "                                                                                                                                                                                                                                                          tokens  \n",
       "29862  [cnn, analyst, compares, syria, strike, kentucky, basketball, apparently, 're, two, different, things, james, marks, cnn, syria, basketball, 2017, Sebastian Murdock]                                                                                      \n",
       "5940   [exactly, 'the, bachelor, winter, games, contestant, lesley, murphy, gives, inside, scoop, mysterious, new, bachelor, spinoff, bachelor, winter, games, emma, gray, nick, offenberg, 2018, Claire Fallon]                                                  \n",
       "48590  [harry, reid, 'donald, trump, american, nightmare, ’, bigot, ’, scam, artist, ’, show, us, tax, return, sen., grassley, holding, supreme, court, vacant, man, reid, said, harry, reid, donald, trump, american, nightmare, 2016, Michael Mcauliff]         \n",
       "87216  [even, ralph, nader, grover, norquist, agree, open, government, open, government, 2015, Alexander Howard]                                                                                                                                                  \n",
       "40380  [senate, democrats, give, coal, miner, health, benefits, averting, government, shutdown, update, sen., joe, manchin, said, hopes, enlist, president-elect, donald, trump, 's, help, miners, government, shutdown, coal, miners, 2016, Laura Barrón-López]  "
      ]
     },
     "execution_count": 22,
     "metadata": {},
     "output_type": "execute_result"
    }
   ],
   "source": [
    "df['tokens'] = df['tokens'] + df['author_names']\n",
    "df = df.drop(columns=['author_names'])\n",
    "df = df[['category','class_label','text','tokens']]\n",
    "df.sample(5)"
   ]
  },
  {
   "cell_type": "markdown",
   "id": "fdc496f2-6d33-4b98-a5c4-9ce88be10e0a",
   "metadata": {},
   "source": [
    "### View total vocabulary"
   ]
  },
  {
   "cell_type": "code",
   "execution_count": 31,
   "id": "784a1d4f-81d6-4b37-8fe3-22560a58ae5d",
   "metadata": {},
   "outputs": [
    {
     "name": "stdout",
     "output_type": "stream",
     "text": [
      "There are 2249440 total words and 91787 unique words\n"
     ]
    }
   ],
   "source": [
    "all_words = [item for sublist in df['tokens'] for item in sublist]\n",
    "unique_words = set(all_words)\n",
    "print(f'There are {len(all_words)} total words and {len(unique_words)} unique words')"
   ]
  },
  {
   "cell_type": "markdown",
   "id": "cab124d3-76b7-402d-ac9c-05cec344da53",
   "metadata": {},
   "source": [
    "### Frequencies"
   ]
  },
  {
   "cell_type": "code",
   "execution_count": 34,
   "id": "055ae2a3-e5f2-4fce-9235-7891bec6b56e",
   "metadata": {},
   "outputs": [
    {
     "data": {
      "text/plain": [
       "[('contributor', 29753),\n",
       " ('trump', 21792),\n",
       " ('2012', 17807),\n",
       " ('2013', 17117),\n",
       " ('2016', 15152),\n",
       " ('2017', 14457),\n",
       " ('Unknown', 14204),\n",
       " ('2014', 11742),\n",
       " ('new', 10994),\n",
       " ('2015', 10895),\n",
       " ('photos', 8325),\n",
       " ('donald', 8096),\n",
       " ('one', 7004),\n",
       " ('author', 6154),\n",
       " ('health', 5716),\n",
       " ('time', 5561),\n",
       " ('people', 5402),\n",
       " ('travel', 5160),\n",
       " ('2018', 5104),\n",
       " ('us', 5090),\n",
       " ('like', 5084),\n",
       " ('life', 5067),\n",
       " ('president', 4847),\n",
       " ('day', 4810),\n",
       " ('world', 4630)]"
      ]
     },
     "execution_count": 34,
     "metadata": {},
     "output_type": "execute_result"
    }
   ],
   "source": [
    "articles_freqdist = FreqDist(all_words)\n",
    "articles_freqdist.most_common(25)"
   ]
  },
  {
   "cell_type": "markdown",
   "id": "815ce33e-e376-44b9-beb1-92c8e0ee7ea4",
   "metadata": {},
   "source": [
    "- Many of these tokens such as \"'s\" are not meaningful\n",
    "- Create a function to remove them"
   ]
  },
  {
   "cell_type": "markdown",
   "id": "ec14fc87-ef75-4222-8627-a5e8e14e574b",
   "metadata": {},
   "source": [
    "### Create Function to remove meaningless tokens"
   ]
  },
  {
   "cell_type": "code",
   "execution_count": 29,
   "id": "edfdf4d2-d209-4e01-b498-bef90adf3f40",
   "metadata": {},
   "outputs": [],
   "source": [
    "tokens_to_remove = [\"'s\",\"n't\",\"’\",\"--\",\"'re\",\"“\",\"'ve\"]\n",
    "\n",
    "df['tokens'] = df['tokens'].apply(lambda x: [i for i in x if i not in tokens_to_remove])"
   ]
  },
  {
   "cell_type": "markdown",
   "id": "26da3b01-4919-411b-b7fa-4cb5671c3f9a",
   "metadata": {},
   "source": [
    "### Bag of Words Counts (Count Vectorization)\n",
    "- The count vectorizer performs tokenization on its own (why do we do it also?)"
   ]
  },
  {
   "cell_type": "code",
   "execution_count": 35,
   "id": "fd1c25d8-5546-40d3-87a9-80812c967086",
   "metadata": {},
   "outputs": [],
   "source": [
    "from sklearn.model_selection import train_test_split\n",
    "from sklearn.feature_extraction.text import CountVectorizer, TfidfVectorizer\n",
    "\n",
    "def c_vectorize(tokens):\n",
    "    count_vectorizer = CountVectorizer()\n",
    "\n",
    "    results = count_vectorizer.fit_transform(tokens)\n",
    "\n",
    "    return results, count_vectorizer\n",
    "\n",
    "X = df[\"text\"].tolist()\n",
    "y = df[\"class_label\"].tolist()\n",
    "\n",
    "X_train, X_test, y_train, y_test = train_test_split(X, y, test_size=0.2, random_state=8)\n",
    "\n",
    "X_train_counts, count_vectorizer = c_vectorize(X_train)\n",
    "X_test_counts = count_vectorizer.transform(X_test)"
   ]
  },
  {
   "cell_type": "markdown",
   "id": "1c4e9f8b-cb2b-4c41-9ad3-979aa05b48ad",
   "metadata": {},
   "source": [
    "### Model: Multinomial Bayes"
   ]
  },
  {
   "cell_type": "markdown",
   "id": "cf87a626-3253-4716-b056-42b89651703c",
   "metadata": {},
   "source": [
    "### Evaluation"
   ]
  },
  {
   "cell_type": "code",
   "execution_count": 69,
   "id": "22321209-30b3-468f-a53a-2ac23e2ccf9b",
   "metadata": {},
   "outputs": [],
   "source": [
    "from sklearn.naive_bayes import MultinomialNB\n",
    "clf = MultinomialNB()\n",
    "clf.fit(X_train_counts, y_train)\n",
    "y_predicted_counts = clf.predict(X_test_counts)"
   ]
  },
  {
   "cell_type": "code",
   "execution_count": 70,
   "id": "515a225a-49ac-4053-873c-c649941c468c",
   "metadata": {},
   "outputs": [
    {
     "name": "stdout",
     "output_type": "stream",
     "text": [
      "accuracy = 0.936, precision = 0.936, recall = 0.936, f1 = 0.936\n"
     ]
    }
   ],
   "source": [
    "from sklearn.metrics import accuracy_score, f1_score, precision_score, recall_score, classification_report\n",
    "\n",
    "def get_metrics(y_test, y_predicted):  \n",
    "    # true positives / (true positives+false positives)\n",
    "    precision = precision_score(y_test, y_predicted, pos_label=None,\n",
    "                                    average='weighted')             \n",
    "    # true positives / (true positives + false negatives)\n",
    "    recall = recall_score(y_test, y_predicted, pos_label=None,\n",
    "                              average='weighted')\n",
    "    \n",
    "    # harmonic mean of precision and recall\n",
    "    f1 = f1_score(y_test, y_predicted, pos_label=None, average='weighted')\n",
    "    \n",
    "    # true positives + true negatives/ total\n",
    "    accuracy = accuracy_score(y_test, y_predicted)\n",
    "    return accuracy, precision, recall, f1\n",
    "\n",
    "accuracy, precision, recall, f1 = get_metrics(y_test, y_predicted_counts)\n",
    "print(\"accuracy = %.3f, precision = %.3f, recall = %.3f, f1 = %.3f\" % (accuracy, precision, recall, f1))"
   ]
  }
 ],
 "metadata": {
  "kernelspec": {
   "display_name": "Python 3",
   "language": "python",
   "name": "python3"
  },
  "language_info": {
   "codemirror_mode": {
    "name": "ipython",
    "version": 3
   },
   "file_extension": ".py",
   "mimetype": "text/x-python",
   "name": "python",
   "nbconvert_exporter": "python",
   "pygments_lexer": "ipython3",
   "version": "3.8.8"
  }
 },
 "nbformat": 4,
 "nbformat_minor": 5
}
