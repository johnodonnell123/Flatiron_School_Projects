{
 "cells": [
  {
   "cell_type": "markdown",
   "id": "46b17f3a-fc40-43d2-b026-798f26014493",
   "metadata": {},
   "source": [
    "# <center> News Classification with NLP and Neural Networks </center>"
   ]
  },
  {
   "cell_type": "markdown",
   "id": "fcb09f44-33f4-4938-aaa4-65c3df93b527",
   "metadata": {},
   "source": [
    "### Imports"
   ]
  },
  {
   "cell_type": "code",
   "execution_count": 1,
   "id": "a2a1634b-c53c-4c99-8e6e-f7759bd2856f",
   "metadata": {},
   "outputs": [],
   "source": [
    "import warnings\n",
    "import numpy as np\n",
    "import pandas as pd\n",
    "import re\n",
    "import plotly.express as px\n",
    "import plotly.graph_objects as go\n",
    "warnings.filterwarnings('ignore')"
   ]
  },
  {
   "cell_type": "markdown",
   "id": "e3a02e18-a47b-4179-9c28-fb2bb93cc5d6",
   "metadata": {},
   "source": [
    "### Data"
   ]
  },
  {
   "cell_type": "code",
   "execution_count": 2,
   "id": "14ebb1ae-25d6-43d9-9510-54dd2e864b10",
   "metadata": {},
   "outputs": [
    {
     "data": {
      "text/html": [
       "<div>\n",
       "<style scoped>\n",
       "    .dataframe tbody tr th:only-of-type {\n",
       "        vertical-align: middle;\n",
       "    }\n",
       "\n",
       "    .dataframe tbody tr th {\n",
       "        vertical-align: top;\n",
       "    }\n",
       "\n",
       "    .dataframe thead th {\n",
       "        text-align: right;\n",
       "    }\n",
       "</style>\n",
       "<table border=\"1\" class=\"dataframe\">\n",
       "  <thead>\n",
       "    <tr style=\"text-align: right;\">\n",
       "      <th></th>\n",
       "      <th>category</th>\n",
       "      <th>headline</th>\n",
       "      <th>authors</th>\n",
       "      <th>link</th>\n",
       "      <th>short_description</th>\n",
       "      <th>date</th>\n",
       "    </tr>\n",
       "  </thead>\n",
       "  <tbody>\n",
       "    <tr>\n",
       "      <th>27988</th>\n",
       "      <td>PARENTS</td>\n",
       "      <td>Why I Called 911 On My Autistic Son (And I’d D...</td>\n",
       "      <td>Teresa Cooper, ContributorTeresa is a wife,  m...</td>\n",
       "      <td>https://www.huffingtonpost.com/entry/why-i-cal...</td>\n",
       "      <td>It was not a beautiful day in the neighborhood...</td>\n",
       "      <td>2017-04-29</td>\n",
       "    </tr>\n",
       "    <tr>\n",
       "      <th>41044</th>\n",
       "      <td>LATINO VOICES</td>\n",
       "      <td>What Mexicans Have To Say To Americans Worried...</td>\n",
       "      <td>Carolina Moreno</td>\n",
       "      <td>https://www.huffingtonpost.com/entry/what-mexi...</td>\n",
       "      <td>Vox's Liz Plank visited Puebla to get some fre...</td>\n",
       "      <td>2016-12-01</td>\n",
       "    </tr>\n",
       "    <tr>\n",
       "      <th>30169</th>\n",
       "      <td>HEALTHY LIVING</td>\n",
       "      <td>Online Therapy Necessary To Address Growing Me...</td>\n",
       "      <td></td>\n",
       "      <td>https://www.huffingtonpost.comhttp://www.reute...</td>\n",
       "      <td>As of now, the global mental health system is ...</td>\n",
       "      <td>2017-04-04</td>\n",
       "    </tr>\n",
       "    <tr>\n",
       "      <th>110154</th>\n",
       "      <td>GOOD NEWS</td>\n",
       "      <td>Hong Kong Protester Proposes To Girlfriend Ami...</td>\n",
       "      <td>Sarah Barness</td>\n",
       "      <td>https://www.huffingtonpost.com/entry/hong-kong...</td>\n",
       "      <td></td>\n",
       "      <td>2014-10-06</td>\n",
       "    </tr>\n",
       "    <tr>\n",
       "      <th>152267</th>\n",
       "      <td>HOME &amp; LIVING</td>\n",
       "      <td>Weekly Roundup of eBay Vintage Home Finds (PHO...</td>\n",
       "      <td>Mary Kincaid, Contributor\\nFounder and Editor ...</td>\n",
       "      <td>https://www.huffingtonpost.com/entry/weekly-ro...</td>\n",
       "      <td>Want to add some fab eco-friendly style to you...</td>\n",
       "      <td>2013-07-01</td>\n",
       "    </tr>\n",
       "  </tbody>\n",
       "</table>\n",
       "</div>"
      ],
      "text/plain": [
       "              category                                           headline  \\\n",
       "27988          PARENTS  Why I Called 911 On My Autistic Son (And I’d D...   \n",
       "41044    LATINO VOICES  What Mexicans Have To Say To Americans Worried...   \n",
       "30169   HEALTHY LIVING  Online Therapy Necessary To Address Growing Me...   \n",
       "110154       GOOD NEWS  Hong Kong Protester Proposes To Girlfriend Ami...   \n",
       "152267   HOME & LIVING  Weekly Roundup of eBay Vintage Home Finds (PHO...   \n",
       "\n",
       "                                                  authors  \\\n",
       "27988   Teresa Cooper, ContributorTeresa is a wife,  m...   \n",
       "41044                                     Carolina Moreno   \n",
       "30169                                                       \n",
       "110154                                      Sarah Barness   \n",
       "152267  Mary Kincaid, Contributor\\nFounder and Editor ...   \n",
       "\n",
       "                                                     link  \\\n",
       "27988   https://www.huffingtonpost.com/entry/why-i-cal...   \n",
       "41044   https://www.huffingtonpost.com/entry/what-mexi...   \n",
       "30169   https://www.huffingtonpost.comhttp://www.reute...   \n",
       "110154  https://www.huffingtonpost.com/entry/hong-kong...   \n",
       "152267  https://www.huffingtonpost.com/entry/weekly-ro...   \n",
       "\n",
       "                                        short_description       date  \n",
       "27988   It was not a beautiful day in the neighborhood... 2017-04-29  \n",
       "41044   Vox's Liz Plank visited Puebla to get some fre... 2016-12-01  \n",
       "30169   As of now, the global mental health system is ... 2017-04-04  \n",
       "110154                                                    2014-10-06  \n",
       "152267  Want to add some fab eco-friendly style to you... 2013-07-01  "
      ]
     },
     "execution_count": 2,
     "metadata": {},
     "output_type": "execute_result"
    }
   ],
   "source": [
    "df = pd.read_json('News_Category_Dataset_v2.json', lines=True)\n",
    "df.sample(5)"
   ]
  },
  {
   "cell_type": "markdown",
   "id": "8cb564b9-c718-4ac4-af71-2e5c3083268e",
   "metadata": {},
   "source": [
    "### --- Data Thoughts ---\n",
    "- Should I combine the headline + authors + short_description?\n",
    "    - If not, built 3 different models and combine probabilities? \n",
    "- Should I use date?"
   ]
  },
  {
   "cell_type": "markdown",
   "id": "8dd82dfc-6153-4f97-ad75-9007960b828b",
   "metadata": {},
   "source": [
    "# Cleaning"
   ]
  },
  {
   "cell_type": "markdown",
   "id": "68ca86a7-4e67-4e77-839e-0a2ffbc6920f",
   "metadata": {},
   "source": [
    "#### Check data types"
   ]
  },
  {
   "cell_type": "raw",
   "id": "6e41005e-96ba-4cc5-b7e5-78f99bceae05",
   "metadata": {},
   "source": [
    "df.info()"
   ]
  },
  {
   "cell_type": "markdown",
   "id": "314368a0-6cfb-4d84-8e6a-53b17873c0f8",
   "metadata": {},
   "source": [
    "#### Check NaNs "
   ]
  },
  {
   "cell_type": "raw",
   "id": "5a6edbf1-c01f-4b57-a18d-5e58be8a9fb7",
   "metadata": {},
   "source": [
    "df.isna().sum()"
   ]
  },
  {
   "cell_type": "markdown",
   "id": "601100b7-6574-403b-9df5-b7009c95b3af",
   "metadata": {},
   "source": [
    "#### Check Duplicates"
   ]
  },
  {
   "cell_type": "code",
   "execution_count": 3,
   "id": "9ee4a10b-d5c2-4811-b945-5ebd596a25c2",
   "metadata": {},
   "outputs": [
    {
     "name": "stdout",
     "output_type": "stream",
     "text": [
      "13\n"
     ]
    },
    {
     "data": {
      "text/plain": [
       "0"
      ]
     },
     "execution_count": 3,
     "metadata": {},
     "output_type": "execute_result"
    }
   ],
   "source": [
    "print(df.duplicated().sum())\n",
    "df = df.drop_duplicates()\n",
    "df.duplicated().sum()"
   ]
  },
  {
   "cell_type": "markdown",
   "id": "113bb9ac-6a5a-4abc-ae61-82cc5e5282f2",
   "metadata": {},
   "source": [
    "### Dates"
   ]
  },
  {
   "cell_type": "code",
   "execution_count": null,
   "id": "bbf4a424-ddae-4093-af0a-7b42ce4e2952",
   "metadata": {},
   "outputs": [],
   "source": [
    "df['date'] = df['date'].dt.year"
   ]
  },
  {
   "cell_type": "markdown",
   "id": "91ba9ece-1396-4aaf-b4fe-248728420b19",
   "metadata": {},
   "source": [
    "#### Authors \n",
    "- The `authors` field is a list containing:\n",
    "    - Name(s)\n",
    "    - Titles\n",
    "    - Organizations\n",
    "    - Misc comments\n",
    "- It also contains many NaNs in the form of empty strings\n",
    "- Approach:\n",
    "    - Replace NaNs with 'unknown'\n",
    "    - Extract author names from the field, create new field named `author_names`\n",
    "    - Leave the rest of the information in a new field named `author_notes`"
   ]
  },
  {
   "cell_type": "markdown",
   "id": "d546711d-3f03-4745-b91c-4eb5ca22438b",
   "metadata": {},
   "source": [
    "### Author Names"
   ]
  },
  {
   "cell_type": "code",
   "execution_count": 6,
   "id": "b4f923fa-b7e9-41ea-99b3-1fa83c25f0a6",
   "metadata": {},
   "outputs": [],
   "source": [
    "# Replace missing authors with 'unknown'\n",
    "df['authors'] = df['authors'].apply(lambda x: x.replace('','unknown') if x == '' else x)"
   ]
  },
  {
   "cell_type": "code",
   "execution_count": 7,
   "id": "66bf3c68-2ec9-4b35-b9f8-e3ada87814cc",
   "metadata": {},
   "outputs": [],
   "source": [
    "# Get author names from list\n",
    "# Split, get first, title(), split \n",
    "df['author_names'] = df['authors'].apply(lambda x: x.replace('By','').strip().split(',')[0].title().split(' And '))"
   ]
  },
  {
   "cell_type": "code",
   "execution_count": 8,
   "id": "9ab5ee91-0e6f-4884-8e8b-351fa63bba68",
   "metadata": {},
   "outputs": [],
   "source": [
    "df['author_notes'] = df['authors'].apply(lambda x: ''.join(x.replace('By','').replace('\\n','').replace('Contributor','Contributor ').strip().split(',')[1:]).strip())"
   ]
  },
  {
   "cell_type": "markdown",
   "id": "85739996-443e-4d95-8cbc-5eb9ff0cc15c",
   "metadata": {},
   "source": [
    "### Links\n",
    "- The links are not helpful in their current form, need to extract keyworks from them"
   ]
  },
  {
   "cell_type": "code",
   "execution_count": 9,
   "id": "9e8dd769-3f83-488f-a04e-8b86eab29beb",
   "metadata": {},
   "outputs": [
    {
     "data": {
      "text/plain": [
       "72551     [police, officer, comforts, dying, horse]\n",
       "35404                      [drunk, feminist, films]\n",
       "31696         [donald, trump, refugee, ban, ruling]\n",
       "185711                 [princess, names, fictional]\n",
       "192188                      [technology, parenting]\n",
       "Name: link_keywords, dtype: object"
      ]
     },
     "execution_count": 9,
     "metadata": {},
     "output_type": "execute_result"
    }
   ],
   "source": [
    "df['link_keywords'] = df['link'].apply(lambda x: x.replace('-',',').replace(\"_\",',').replace(\"entry/\",',').split(',')[1:-2])\n",
    "df['link_keywords'].sample(5)"
   ]
  },
  {
   "cell_type": "markdown",
   "id": "13c6ea61-e042-41bd-8c32-79609de50c10",
   "metadata": {},
   "source": [
    "### Drop unwanted features"
   ]
  },
  {
   "cell_type": "code",
   "execution_count": 10,
   "id": "02ba9bb9-a3b4-4265-b6ed-8871b2cbfbc9",
   "metadata": {},
   "outputs": [
    {
     "data": {
      "text/html": [
       "<div>\n",
       "<style scoped>\n",
       "    .dataframe tbody tr th:only-of-type {\n",
       "        vertical-align: middle;\n",
       "    }\n",
       "\n",
       "    .dataframe tbody tr th {\n",
       "        vertical-align: top;\n",
       "    }\n",
       "\n",
       "    .dataframe thead th {\n",
       "        text-align: right;\n",
       "    }\n",
       "</style>\n",
       "<table border=\"1\" class=\"dataframe\">\n",
       "  <thead>\n",
       "    <tr style=\"text-align: right;\">\n",
       "      <th></th>\n",
       "      <th>category</th>\n",
       "      <th>headline</th>\n",
       "      <th>short_description</th>\n",
       "      <th>date</th>\n",
       "      <th>author_names</th>\n",
       "      <th>author_notes</th>\n",
       "      <th>link_keywords</th>\n",
       "    </tr>\n",
       "  </thead>\n",
       "  <tbody>\n",
       "    <tr>\n",
       "      <th>167925</th>\n",
       "      <td>WELLNESS</td>\n",
       "      <td>Mental Illness, Patient Confidentiality and Gu...</td>\n",
       "      <td>The requirement to discretely disclose individ...</td>\n",
       "      <td>2013</td>\n",
       "      <td>[Dj Jaffe]</td>\n",
       "      <td>Contributor Exec. Dir. Mental Illness Policy O...</td>\n",
       "      <td>[mental, illness, gun, control]</td>\n",
       "    </tr>\n",
       "    <tr>\n",
       "      <th>98600</th>\n",
       "      <td>RELIGION</td>\n",
       "      <td>Episcopal Church Takes A Hard Look At Alcohol ...</td>\n",
       "      <td></td>\n",
       "      <td>2015</td>\n",
       "      <td>[Unknown]</td>\n",
       "      <td></td>\n",
       "      <td>[episcopal, church, alcohol]</td>\n",
       "    </tr>\n",
       "    <tr>\n",
       "      <th>150441</th>\n",
       "      <td>TECH</td>\n",
       "      <td>Sprint and IBM Create Platform for Car Apps</td>\n",
       "      <td>If you hate the idea of red-light cameras, wai...</td>\n",
       "      <td>2013</td>\n",
       "      <td>[Larry Magid]</td>\n",
       "      <td>Contributor Technology journalist</td>\n",
       "      <td>[sprint, and, ibm, create, pla]</td>\n",
       "    </tr>\n",
       "    <tr>\n",
       "      <th>113171</th>\n",
       "      <td>ARTS</td>\n",
       "      <td>Conor Walton: Contemplating Higher Things</td>\n",
       "      <td>Conor Walton, one of Ireland's leading represe...</td>\n",
       "      <td>2014</td>\n",
       "      <td>[John Seed]</td>\n",
       "      <td>Contributor Professor of Art and Art History M...</td>\n",
       "      <td>[conor, walton, contemplatin]</td>\n",
       "    </tr>\n",
       "    <tr>\n",
       "      <th>132044</th>\n",
       "      <td>DIVORCE</td>\n",
       "      <td>8 Cocktails To Toast Your Terrible Ex (NSFW)</td>\n",
       "      <td>Keep in touch! Check out HuffPost Divorce on F...</td>\n",
       "      <td>2014</td>\n",
       "      <td>[Unknown]</td>\n",
       "      <td></td>\n",
       "      <td>[divorce, party]</td>\n",
       "    </tr>\n",
       "  </tbody>\n",
       "</table>\n",
       "</div>"
      ],
      "text/plain": [
       "        category                                           headline  \\\n",
       "167925  WELLNESS  Mental Illness, Patient Confidentiality and Gu...   \n",
       "98600   RELIGION  Episcopal Church Takes A Hard Look At Alcohol ...   \n",
       "150441      TECH        Sprint and IBM Create Platform for Car Apps   \n",
       "113171      ARTS          Conor Walton: Contemplating Higher Things   \n",
       "132044   DIVORCE       8 Cocktails To Toast Your Terrible Ex (NSFW)   \n",
       "\n",
       "                                        short_description  date  \\\n",
       "167925  The requirement to discretely disclose individ...  2013   \n",
       "98600                                                      2015   \n",
       "150441  If you hate the idea of red-light cameras, wai...  2013   \n",
       "113171  Conor Walton, one of Ireland's leading represe...  2014   \n",
       "132044  Keep in touch! Check out HuffPost Divorce on F...  2014   \n",
       "\n",
       "         author_names                                       author_notes  \\\n",
       "167925     [Dj Jaffe]  Contributor Exec. Dir. Mental Illness Policy O...   \n",
       "98600       [Unknown]                                                      \n",
       "150441  [Larry Magid]                  Contributor Technology journalist   \n",
       "113171    [John Seed]  Contributor Professor of Art and Art History M...   \n",
       "132044      [Unknown]                                                      \n",
       "\n",
       "                          link_keywords  \n",
       "167925  [mental, illness, gun, control]  \n",
       "98600      [episcopal, church, alcohol]  \n",
       "150441  [sprint, and, ibm, create, pla]  \n",
       "113171    [conor, walton, contemplatin]  \n",
       "132044                 [divorce, party]  "
      ]
     },
     "execution_count": 10,
     "metadata": {},
     "output_type": "execute_result"
    }
   ],
   "source": [
    "df = df.drop(columns=[col for col in df.columns if col in ['link','authors']])\n",
    "df.sample(5)"
   ]
  },
  {
   "cell_type": "markdown",
   "id": "1cb007b6-d2dc-4d7c-b402-c82261924282",
   "metadata": {},
   "source": [
    "# <center> -------------------------------------------------------------------- </center>"
   ]
  },
  {
   "cell_type": "markdown",
   "id": "75d018a1-5899-4858-b61e-56ff7e756afc",
   "metadata": {},
   "source": [
    "# EDA"
   ]
  },
  {
   "cell_type": "markdown",
   "id": "18ba73be-a3c7-4dd0-9743-1053b30d65e2",
   "metadata": {},
   "source": [
    "#### View categories"
   ]
  },
  {
   "cell_type": "code",
   "execution_count": null,
   "id": "87e53c65-cb0e-4380-b7f2-7694c0563a0c",
   "metadata": {},
   "outputs": [],
   "source": [
    "print(f\"There are {len(df['category'].value_counts())} unique categories including the following:\")\n",
    "px.bar(df['category'].value_counts(), \n",
    "       title='Unique New Categories', \n",
    "       labels = {\"value\": \"Number of Articles\",\"index\": \"Category\"},\n",
    "       width = 1700, height = 600)"
   ]
  },
  {
   "cell_type": "markdown",
   "id": "20d18038-8d52-4e38-8b50-0985920ea7a2",
   "metadata": {},
   "source": [
    "#### View length of headlines"
   ]
  },
  {
   "cell_type": "code",
   "execution_count": null,
   "id": "899c4214-7ea4-4bd1-a9f0-2a70a5e7e32a",
   "metadata": {},
   "outputs": [],
   "source": [
    "headline_lengths = df['headline'].apply(lambda x: len(x))\n",
    "px.histogram(df, \n",
    "             x = headline_lengths, \n",
    "             marginal = 'box', \n",
    "             title = 'Headline Lengths',\n",
    "             labels = {'x':'Number of Characters'},\n",
    "             height = 400, width = 700)"
   ]
  },
  {
   "cell_type": "markdown",
   "id": "72c27f96-acfd-433d-b758-6c0159e2e48f",
   "metadata": {},
   "source": [
    "### Author Activity"
   ]
  },
  {
   "cell_type": "code",
   "execution_count": null,
   "id": "e1813d78-78a5-44d6-bb4a-71345cd22352",
   "metadata": {},
   "outputs": [],
   "source": [
    "unique_authors_vc = df['author_names'].explode().value_counts()\n",
    "\n",
    "print(f\"There are {len(unique_authors_vc)} unique authors, {unique_authors_vc[0]} ({round(unique_authors_vc[0]/len(unique_authors_vc),2)}%) are unknown.\" )\n",
    "\n",
    "px.bar(unique_authors_vc[1:25], \n",
    "       title='Unique Authors', \n",
    "       labels = {\"value\": \"Number of Articles Written\",\"index\": \"Author\"},\n",
    "       width = 1200, height = 600)"
   ]
  },
  {
   "cell_type": "markdown",
   "id": "23d17d54-13d9-48d7-85c6-a45df5510091",
   "metadata": {},
   "source": [
    "# <center> -------------------------------------------------------------------- </center>"
   ]
  },
  {
   "cell_type": "markdown",
   "id": "28573ff1-d3fe-4385-872c-13d429c28972",
   "metadata": {},
   "source": [
    "# Preprocessing Text Data\n",
    "- Lower all words\n",
    "- Handle misspellings?\n",
    "- Stop words\n",
    "- Stem / Lemmatize text\n",
    "- Tokenization or specialized regex?\n",
    "- Use all words or just most frequent?\n",
    "- Use bigrams, POS taggins, Mutual information Scores?\n",
    "- What sort of vectorization? (Boolean / Count / TF-IDF / Word2Vec)"
   ]
  },
  {
   "cell_type": "code",
   "execution_count": 11,
   "id": "71728c1f-5d52-4f52-87c6-a34dd89b5b5a",
   "metadata": {},
   "outputs": [],
   "source": [
    "import nltk\n",
    "#nltk.download('stopwords')\n",
    "#nltk.download('punkt')\n",
    "from nltk.corpus import stopwords\n",
    "import string\n",
    "from nltk import word_tokenize, FreqDist\n",
    "from sklearn.feature_extraction.text import TfidfVectorizer"
   ]
  },
  {
   "cell_type": "markdown",
   "id": "d5dbd10b-22a4-4f99-b8ae-ae652024983a",
   "metadata": {},
   "source": [
    "### Copy DataFrame to Preserve Original"
   ]
  },
  {
   "cell_type": "code",
   "execution_count": 12,
   "id": "69833ddc-2072-4d7b-b364-a95fa509ceda",
   "metadata": {},
   "outputs": [
    {
     "data": {
      "text/html": [
       "<div>\n",
       "<style scoped>\n",
       "    .dataframe tbody tr th:only-of-type {\n",
       "        vertical-align: middle;\n",
       "    }\n",
       "\n",
       "    .dataframe tbody tr th {\n",
       "        vertical-align: top;\n",
       "    }\n",
       "\n",
       "    .dataframe thead th {\n",
       "        text-align: right;\n",
       "    }\n",
       "</style>\n",
       "<table border=\"1\" class=\"dataframe\">\n",
       "  <thead>\n",
       "    <tr style=\"text-align: right;\">\n",
       "      <th></th>\n",
       "      <th>category</th>\n",
       "      <th>headline</th>\n",
       "      <th>short_description</th>\n",
       "      <th>date</th>\n",
       "      <th>author_names</th>\n",
       "      <th>author_notes</th>\n",
       "      <th>link_keywords</th>\n",
       "    </tr>\n",
       "  </thead>\n",
       "  <tbody>\n",
       "    <tr>\n",
       "      <th>0</th>\n",
       "      <td>CRIME</td>\n",
       "      <td>There Were 2 Mass Shootings In Texas Last Week...</td>\n",
       "      <td>She left her husband. He killed their children...</td>\n",
       "      <td>2018</td>\n",
       "      <td>[Melissa Jeltsen]</td>\n",
       "      <td></td>\n",
       "      <td>[texas, amanda, painter, mass, shooting]</td>\n",
       "    </tr>\n",
       "    <tr>\n",
       "      <th>1</th>\n",
       "      <td>ENTERTAINMENT</td>\n",
       "      <td>Will Smith Joins Diplo And Nicky Jam For The 2...</td>\n",
       "      <td>Of course it has a song.</td>\n",
       "      <td>2018</td>\n",
       "      <td>[Andy Mcdonald]</td>\n",
       "      <td></td>\n",
       "      <td>[will, smith, joins, diplo, and, nicky, jam, f...</td>\n",
       "    </tr>\n",
       "    <tr>\n",
       "      <th>2</th>\n",
       "      <td>ENTERTAINMENT</td>\n",
       "      <td>Hugh Grant Marries For The First Time At Age 57</td>\n",
       "      <td>The actor and his longtime girlfriend Anna Ebe...</td>\n",
       "      <td>2018</td>\n",
       "      <td>[Ron Dicker]</td>\n",
       "      <td></td>\n",
       "      <td>[hugh, grant, marries]</td>\n",
       "    </tr>\n",
       "    <tr>\n",
       "      <th>3</th>\n",
       "      <td>ENTERTAINMENT</td>\n",
       "      <td>Jim Carrey Blasts 'Castrato' Adam Schiff And D...</td>\n",
       "      <td>The actor gives Dems an ass-kicking for not fi...</td>\n",
       "      <td>2018</td>\n",
       "      <td>[Ron Dicker]</td>\n",
       "      <td></td>\n",
       "      <td>[jim, carrey, adam, schiff, democrats]</td>\n",
       "    </tr>\n",
       "    <tr>\n",
       "      <th>4</th>\n",
       "      <td>ENTERTAINMENT</td>\n",
       "      <td>Julianna Margulies Uses Donald Trump Poop Bags...</td>\n",
       "      <td>The \"Dietland\" actress said using the bags is ...</td>\n",
       "      <td>2018</td>\n",
       "      <td>[Ron Dicker]</td>\n",
       "      <td></td>\n",
       "      <td>[julianna, margulies, trump, poop, bag]</td>\n",
       "    </tr>\n",
       "  </tbody>\n",
       "</table>\n",
       "</div>"
      ],
      "text/plain": [
       "        category                                           headline  \\\n",
       "0          CRIME  There Were 2 Mass Shootings In Texas Last Week...   \n",
       "1  ENTERTAINMENT  Will Smith Joins Diplo And Nicky Jam For The 2...   \n",
       "2  ENTERTAINMENT    Hugh Grant Marries For The First Time At Age 57   \n",
       "3  ENTERTAINMENT  Jim Carrey Blasts 'Castrato' Adam Schiff And D...   \n",
       "4  ENTERTAINMENT  Julianna Margulies Uses Donald Trump Poop Bags...   \n",
       "\n",
       "                                   short_description  date       author_names  \\\n",
       "0  She left her husband. He killed their children...  2018  [Melissa Jeltsen]   \n",
       "1                           Of course it has a song.  2018    [Andy Mcdonald]   \n",
       "2  The actor and his longtime girlfriend Anna Ebe...  2018       [Ron Dicker]   \n",
       "3  The actor gives Dems an ass-kicking for not fi...  2018       [Ron Dicker]   \n",
       "4  The \"Dietland\" actress said using the bags is ...  2018       [Ron Dicker]   \n",
       "\n",
       "  author_notes                                      link_keywords  \n",
       "0                        [texas, amanda, painter, mass, shooting]  \n",
       "1               [will, smith, joins, diplo, and, nicky, jam, f...  \n",
       "2                                          [hugh, grant, marries]  \n",
       "3                          [jim, carrey, adam, schiff, democrats]  \n",
       "4                         [julianna, margulies, trump, poop, bag]  "
      ]
     },
     "execution_count": 12,
     "metadata": {},
     "output_type": "execute_result"
    }
   ],
   "source": [
    "df = df.copy()\n",
    "df2.head()"
   ]
  },
  {
   "cell_type": "markdown",
   "id": "e8def016-e2ec-4835-ae6e-2320bd051b35",
   "metadata": {},
   "source": [
    "### Get Stopwords"
   ]
  },
  {
   "cell_type": "code",
   "execution_count": 13,
   "id": "a7c31304-040c-4970-9482-818a2a8fb304",
   "metadata": {},
   "outputs": [],
   "source": [
    "stopwords_list = stopwords.words('english') + list(string.punctuation)\n",
    "stopwords_list += [\"''\", '\"\"', '...', '``']"
   ]
  },
  {
   "cell_type": "markdown",
   "id": "b382310e-d9ce-483d-abff-4922fcf82bec",
   "metadata": {},
   "source": [
    "### Tokenize\n",
    "- Create function then use apply on DataFrame"
   ]
  },
  {
   "cell_type": "code",
   "execution_count": 14,
   "id": "fc018915-cb62-4f22-ae5c-12f1a77c5446",
   "metadata": {},
   "outputs": [],
   "source": [
    "def tokenize_text(input_text):\n",
    "    tokens = nltk.word_tokenize(input_text)\n",
    "    stopwords_removed = [token.lower() for token in tokens if token.lower() not in stopwords_list]\n",
    "    return stopwords_removed"
   ]
  },
  {
   "cell_type": "code",
   "execution_count": 15,
   "id": "f6f8dd2e-9583-430a-a94a-60068e0418e3",
   "metadata": {},
   "outputs": [
    {
     "name": "stdout",
     "output_type": "stream",
     "text": [
      "CPU times: user 1min 7s, sys: 394 ms, total: 1min 7s\n",
      "Wall time: 1min 8s\n"
     ]
    },
    {
     "data": {
      "text/html": [
       "<div>\n",
       "<style scoped>\n",
       "    .dataframe tbody tr th:only-of-type {\n",
       "        vertical-align: middle;\n",
       "    }\n",
       "\n",
       "    .dataframe tbody tr th {\n",
       "        vertical-align: top;\n",
       "    }\n",
       "\n",
       "    .dataframe thead th {\n",
       "        text-align: right;\n",
       "    }\n",
       "</style>\n",
       "<table border=\"1\" class=\"dataframe\">\n",
       "  <thead>\n",
       "    <tr style=\"text-align: right;\">\n",
       "      <th></th>\n",
       "      <th>category</th>\n",
       "      <th>headline</th>\n",
       "      <th>short_description</th>\n",
       "      <th>date</th>\n",
       "      <th>author_names</th>\n",
       "      <th>author_notes</th>\n",
       "      <th>link_keywords</th>\n",
       "    </tr>\n",
       "  </thead>\n",
       "  <tbody>\n",
       "    <tr>\n",
       "      <th>0</th>\n",
       "      <td>CRIME</td>\n",
       "      <td>[2, mass, shootings, texas, last, week, 1, tv]</td>\n",
       "      <td>[left, husband, killed, children, another, day...</td>\n",
       "      <td>2018</td>\n",
       "      <td>[Melissa Jeltsen]</td>\n",
       "      <td>[]</td>\n",
       "      <td>[texas, amanda, painter, mass, shooting]</td>\n",
       "    </tr>\n",
       "    <tr>\n",
       "      <th>1</th>\n",
       "      <td>ENTERTAINMENT</td>\n",
       "      <td>[smith, joins, diplo, nicky, jam, 2018, world,...</td>\n",
       "      <td>[course, song]</td>\n",
       "      <td>2018</td>\n",
       "      <td>[Andy Mcdonald]</td>\n",
       "      <td>[]</td>\n",
       "      <td>[will, smith, joins, diplo, and, nicky, jam, f...</td>\n",
       "    </tr>\n",
       "    <tr>\n",
       "      <th>2</th>\n",
       "      <td>ENTERTAINMENT</td>\n",
       "      <td>[hugh, grant, marries, first, time, age, 57]</td>\n",
       "      <td>[actor, longtime, girlfriend, anna, eberstein,...</td>\n",
       "      <td>2018</td>\n",
       "      <td>[Ron Dicker]</td>\n",
       "      <td>[]</td>\n",
       "      <td>[hugh, grant, marries]</td>\n",
       "    </tr>\n",
       "    <tr>\n",
       "      <th>3</th>\n",
       "      <td>ENTERTAINMENT</td>\n",
       "      <td>[jim, carrey, blasts, 'castrato, adam, schiff,...</td>\n",
       "      <td>[actor, gives, dems, ass-kicking, fighting, ha...</td>\n",
       "      <td>2018</td>\n",
       "      <td>[Ron Dicker]</td>\n",
       "      <td>[]</td>\n",
       "      <td>[jim, carrey, adam, schiff, democrats]</td>\n",
       "    </tr>\n",
       "    <tr>\n",
       "      <th>4</th>\n",
       "      <td>ENTERTAINMENT</td>\n",
       "      <td>[julianna, margulies, uses, donald, trump, poo...</td>\n",
       "      <td>[dietland, actress, said, using, bags, really,...</td>\n",
       "      <td>2018</td>\n",
       "      <td>[Ron Dicker]</td>\n",
       "      <td>[]</td>\n",
       "      <td>[julianna, margulies, trump, poop, bag]</td>\n",
       "    </tr>\n",
       "  </tbody>\n",
       "</table>\n",
       "</div>"
      ],
      "text/plain": [
       "        category                                           headline  \\\n",
       "0          CRIME     [2, mass, shootings, texas, last, week, 1, tv]   \n",
       "1  ENTERTAINMENT  [smith, joins, diplo, nicky, jam, 2018, world,...   \n",
       "2  ENTERTAINMENT       [hugh, grant, marries, first, time, age, 57]   \n",
       "3  ENTERTAINMENT  [jim, carrey, blasts, 'castrato, adam, schiff,...   \n",
       "4  ENTERTAINMENT  [julianna, margulies, uses, donald, trump, poo...   \n",
       "\n",
       "                                   short_description  date       author_names  \\\n",
       "0  [left, husband, killed, children, another, day...  2018  [Melissa Jeltsen]   \n",
       "1                                     [course, song]  2018    [Andy Mcdonald]   \n",
       "2  [actor, longtime, girlfriend, anna, eberstein,...  2018       [Ron Dicker]   \n",
       "3  [actor, gives, dems, ass-kicking, fighting, ha...  2018       [Ron Dicker]   \n",
       "4  [dietland, actress, said, using, bags, really,...  2018       [Ron Dicker]   \n",
       "\n",
       "  author_notes                                      link_keywords  \n",
       "0           []           [texas, amanda, painter, mass, shooting]  \n",
       "1           []  [will, smith, joins, diplo, and, nicky, jam, f...  \n",
       "2           []                             [hugh, grant, marries]  \n",
       "3           []             [jim, carrey, adam, schiff, democrats]  \n",
       "4           []            [julianna, margulies, trump, poop, bag]  "
      ]
     },
     "execution_count": 15,
     "metadata": {},
     "output_type": "execute_result"
    }
   ],
   "source": [
    "%%time\n",
    "df2['headline'] = df['headline'].apply(tokenize_text)\n",
    "df2['short_description'] = df['short_description'].apply(tokenize_text)\n",
    "df2['author_notes'] = df['author_notes'].apply(tokenize_text)\n",
    "df2.head()"
   ]
  },
  {
   "cell_type": "markdown",
   "id": "fdc496f2-6d33-4b98-a5c4-9ce88be10e0a",
   "metadata": {},
   "source": [
    "### View total vocabulary"
   ]
  },
  {
   "cell_type": "code",
   "execution_count": 16,
   "id": "784a1d4f-81d6-4b37-8fe3-22560a58ae5d",
   "metadata": {},
   "outputs": [
    {
     "name": "stdout",
     "output_type": "stream",
     "text": [
      "There are 1396311 total words and 71377 unique words\n"
     ]
    }
   ],
   "source": [
    "all_words = [item for sublist in df2['headline'] for item in sublist]\n",
    "unique_words = set(all_words)\n",
    "print(f'There are {len(all_words)} total words and {len(unique_words)} unique words')"
   ]
  },
  {
   "cell_type": "code",
   "execution_count": 17,
   "id": "ebe5c8c9-788d-4d36-b7c8-84d699a374e6",
   "metadata": {},
   "outputs": [
    {
     "data": {
      "text/html": [
       "<div>\n",
       "<style scoped>\n",
       "    .dataframe tbody tr th:only-of-type {\n",
       "        vertical-align: middle;\n",
       "    }\n",
       "\n",
       "    .dataframe tbody tr th {\n",
       "        vertical-align: top;\n",
       "    }\n",
       "\n",
       "    .dataframe thead th {\n",
       "        text-align: right;\n",
       "    }\n",
       "</style>\n",
       "<table border=\"1\" class=\"dataframe\">\n",
       "  <thead>\n",
       "    <tr style=\"text-align: right;\">\n",
       "      <th></th>\n",
       "      <th>category</th>\n",
       "      <th>text</th>\n",
       "    </tr>\n",
       "  </thead>\n",
       "  <tbody>\n",
       "    <tr>\n",
       "      <th>153955</th>\n",
       "      <td>WELLNESS</td>\n",
       "      <td>[statins, cancer, questions, answers, present,...</td>\n",
       "    </tr>\n",
       "    <tr>\n",
       "      <th>59312</th>\n",
       "      <td>POLITICS</td>\n",
       "      <td>[trump, ’, think, republican, party, ‘, unifie...</td>\n",
       "    </tr>\n",
       "    <tr>\n",
       "      <th>145580</th>\n",
       "      <td>PARENTING</td>\n",
       "      <td>[study, shows, dangers, teens, face, using, te...</td>\n",
       "    </tr>\n",
       "    <tr>\n",
       "      <th>38735</th>\n",
       "      <td>TASTE</td>\n",
       "      <td>[one, resolution, could, help, save, money, ea...</td>\n",
       "    </tr>\n",
       "    <tr>\n",
       "      <th>145011</th>\n",
       "      <td>WELLNESS</td>\n",
       "      <td>[knocking, heaven, 's, door, near-death, exper...</td>\n",
       "    </tr>\n",
       "  </tbody>\n",
       "</table>\n",
       "</div>"
      ],
      "text/plain": [
       "         category                                               text\n",
       "153955   WELLNESS  [statins, cancer, questions, answers, present,...\n",
       "59312    POLITICS  [trump, ’, think, republican, party, ‘, unifie...\n",
       "145580  PARENTING  [study, shows, dangers, teens, face, using, te...\n",
       "38735       TASTE  [one, resolution, could, help, save, money, ea...\n",
       "145011   WELLNESS  [knocking, heaven, 's, door, near-death, exper..."
      ]
     },
     "execution_count": 17,
     "metadata": {},
     "output_type": "execute_result"
    }
   ],
   "source": [
    "df3 = df2.copy()\n",
    "df3['text'] = df3['headline'] + df3['short_description'] + df3['author_names'] + df3['author_notes'] + df3['link_keywords']\n",
    "df3 = df3[['category','text']]\n",
    "df3.sample(5)"
   ]
  }
 ],
 "metadata": {
  "kernelspec": {
   "display_name": "Python 3",
   "language": "python",
   "name": "python3"
  },
  "language_info": {
   "codemirror_mode": {
    "name": "ipython",
    "version": 3
   },
   "file_extension": ".py",
   "mimetype": "text/x-python",
   "name": "python",
   "nbconvert_exporter": "python",
   "pygments_lexer": "ipython3",
   "version": "3.8.8"
  }
 },
 "nbformat": 4,
 "nbformat_minor": 5
}
