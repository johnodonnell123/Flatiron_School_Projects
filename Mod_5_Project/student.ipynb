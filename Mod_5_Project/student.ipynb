{
 "cells": [
  {
   "cell_type": "markdown",
   "id": "46b17f3a-fc40-43d2-b026-798f26014493",
   "metadata": {},
   "source": [
    "# <center> News Classification with NLP and Neural Networks</center>"
   ]
  },
  {
   "cell_type": "markdown",
   "id": "fcb09f44-33f4-4938-aaa4-65c3df93b527",
   "metadata": {},
   "source": [
    "### Imports"
   ]
  },
  {
   "cell_type": "code",
   "execution_count": 1,
   "id": "a2a1634b-c53c-4c99-8e6e-f7759bd2856f",
   "metadata": {},
   "outputs": [],
   "source": [
    "import warnings\n",
    "import numpy as np\n",
    "import pandas as pd\n",
    "import plotly.express as px\n",
    "from sklearn import preprocessing\n",
    "import plotly.graph_objects as go\n",
    "warnings.filterwarnings('ignore')"
   ]
  },
  {
   "cell_type": "markdown",
   "id": "e3a02e18-a47b-4179-9c28-fb2bb93cc5d6",
   "metadata": {},
   "source": [
    "### Data\n",
    "- Import JSON file\n",
    "- Limit to top categories"
   ]
  },
  {
   "cell_type": "code",
   "execution_count": 2,
   "id": "14ebb1ae-25d6-43d9-9510-54dd2e864b10",
   "metadata": {},
   "outputs": [
    {
     "name": "stdout",
     "output_type": "stream",
     "text": [
      "(200853, 6)\n"
     ]
    },
    {
     "data": {
      "text/html": [
       "<div>\n",
       "<style scoped>\n",
       "    .dataframe tbody tr th:only-of-type {\n",
       "        vertical-align: middle;\n",
       "    }\n",
       "\n",
       "    .dataframe tbody tr th {\n",
       "        vertical-align: top;\n",
       "    }\n",
       "\n",
       "    .dataframe thead th {\n",
       "        text-align: right;\n",
       "    }\n",
       "</style>\n",
       "<table border=\"1\" class=\"dataframe\">\n",
       "  <thead>\n",
       "    <tr style=\"text-align: right;\">\n",
       "      <th></th>\n",
       "      <th>category</th>\n",
       "      <th>headline</th>\n",
       "      <th>authors</th>\n",
       "      <th>link</th>\n",
       "      <th>short_description</th>\n",
       "      <th>date</th>\n",
       "    </tr>\n",
       "  </thead>\n",
       "  <tbody>\n",
       "    <tr>\n",
       "      <th>195206</th>\n",
       "      <td>WELLNESS</td>\n",
       "      <td>Farming 101: Growing Pains</td>\n",
       "      <td>Leona Palmer, Contributor\\nEx-model, current f...</td>\n",
       "      <td>https://www.huffingtonpost.com/entry/farming_u...</td>\n",
       "      <td>Farming, I'm learning, is one part obstacle co...</td>\n",
       "      <td>2012-03-29</td>\n",
       "    </tr>\n",
       "    <tr>\n",
       "      <th>37669</th>\n",
       "      <td>WEIRD NEWS</td>\n",
       "      <td>Man Who Says He Changed 'Hollywood' Sign To 'H...</td>\n",
       "      <td>David Moye</td>\n",
       "      <td>https://www.huffingtonpost.com/entry/zachary-c...</td>\n",
       "      <td>“It was something to smile and laugh out loud ...</td>\n",
       "      <td>2017-01-10</td>\n",
       "    </tr>\n",
       "    <tr>\n",
       "      <th>23544</th>\n",
       "      <td>WORLD NEWS</td>\n",
       "      <td>On Day One Of The Brexit Talks, EU Reminds Bri...</td>\n",
       "      <td></td>\n",
       "      <td>https://www.huffingtonpost.com/entry/brexit-ta...</td>\n",
       "      <td>“I am neither optimistic nor pessimistic. I am...</td>\n",
       "      <td>2017-06-19</td>\n",
       "    </tr>\n",
       "    <tr>\n",
       "      <th>200508</th>\n",
       "      <td>WEDDINGS</td>\n",
       "      <td>6 Creative Ways To Cut Wedding Costs</td>\n",
       "      <td></td>\n",
       "      <td>https://www.huffingtonpost.comhttp://money.usn...</td>\n",
       "      <td>Brides may dream of a wedding with an endless ...</td>\n",
       "      <td>2012-02-01</td>\n",
       "    </tr>\n",
       "    <tr>\n",
       "      <th>59814</th>\n",
       "      <td>TRAVEL</td>\n",
       "      <td>Japan's Huis Ten Bosch Theme Park Is Opening A...</td>\n",
       "      <td>Suzy Strutner</td>\n",
       "      <td>https://www.huffingtonpost.com/entry/huis-ten-...</td>\n",
       "      <td>...and that's not even the weirdest part.</td>\n",
       "      <td>2016-05-03</td>\n",
       "    </tr>\n",
       "  </tbody>\n",
       "</table>\n",
       "</div>"
      ],
      "text/plain": [
       "          category                                           headline  \\\n",
       "195206    WELLNESS                         Farming 101: Growing Pains   \n",
       "37669   WEIRD NEWS  Man Who Says He Changed 'Hollywood' Sign To 'H...   \n",
       "23544   WORLD NEWS  On Day One Of The Brexit Talks, EU Reminds Bri...   \n",
       "200508    WEDDINGS               6 Creative Ways To Cut Wedding Costs   \n",
       "59814       TRAVEL  Japan's Huis Ten Bosch Theme Park Is Opening A...   \n",
       "\n",
       "                                                  authors  \\\n",
       "195206  Leona Palmer, Contributor\\nEx-model, current f...   \n",
       "37669                                          David Moye   \n",
       "23544                                                       \n",
       "200508                                                      \n",
       "59814                                       Suzy Strutner   \n",
       "\n",
       "                                                     link  \\\n",
       "195206  https://www.huffingtonpost.com/entry/farming_u...   \n",
       "37669   https://www.huffingtonpost.com/entry/zachary-c...   \n",
       "23544   https://www.huffingtonpost.com/entry/brexit-ta...   \n",
       "200508  https://www.huffingtonpost.comhttp://money.usn...   \n",
       "59814   https://www.huffingtonpost.com/entry/huis-ten-...   \n",
       "\n",
       "                                        short_description       date  \n",
       "195206  Farming, I'm learning, is one part obstacle co... 2012-03-29  \n",
       "37669   “It was something to smile and laugh out loud ... 2017-01-10  \n",
       "23544   “I am neither optimistic nor pessimistic. I am... 2017-06-19  \n",
       "200508  Brides may dream of a wedding with an endless ... 2012-02-01  \n",
       "59814           ...and that's not even the weirdest part. 2016-05-03  "
      ]
     },
     "execution_count": 2,
     "metadata": {},
     "output_type": "execute_result"
    }
   ],
   "source": [
    "# Read in json file to DataFrame\n",
    "df = pd.read_json('News_Category_Dataset_v2.json', lines=True)\n",
    "\n",
    "# View Results\n",
    "print(df.shape)\n",
    "df.sample(5)"
   ]
  },
  {
   "cell_type": "markdown",
   "id": "8dd82dfc-6153-4f97-ad75-9007960b828b",
   "metadata": {},
   "source": [
    "# Cleaning"
   ]
  },
  {
   "cell_type": "markdown",
   "id": "68ca86a7-4e67-4e77-839e-0a2ffbc6920f",
   "metadata": {},
   "source": [
    "#### Check data types"
   ]
  },
  {
   "cell_type": "raw",
   "id": "6e41005e-96ba-4cc5-b7e5-78f99bceae05",
   "metadata": {},
   "source": [
    "df.info()"
   ]
  },
  {
   "cell_type": "markdown",
   "id": "314368a0-6cfb-4d84-8e6a-53b17873c0f8",
   "metadata": {},
   "source": [
    "#### Check NaNs "
   ]
  },
  {
   "cell_type": "raw",
   "id": "5a6edbf1-c01f-4b57-a18d-5e58be8a9fb7",
   "metadata": {},
   "source": [
    "df.isna().sum()"
   ]
  },
  {
   "cell_type": "markdown",
   "id": "601100b7-6574-403b-9df5-b7009c95b3af",
   "metadata": {},
   "source": [
    "#### Check Duplicates"
   ]
  },
  {
   "cell_type": "code",
   "execution_count": 3,
   "id": "9ee4a10b-d5c2-4811-b945-5ebd596a25c2",
   "metadata": {},
   "outputs": [
    {
     "name": "stdout",
     "output_type": "stream",
     "text": [
      "There are 13 duplicated rows\n",
      "There are now 0 duplicated rows\n"
     ]
    }
   ],
   "source": [
    "print(f\"There are {df.duplicated().sum()} duplicated rows\")\n",
    "\n",
    "# Drop duplicates\n",
    "df = df.drop_duplicates()\n",
    "\n",
    "print(f\"There are now {df.duplicated().sum()} duplicated rows\")"
   ]
  },
  {
   "cell_type": "markdown",
   "id": "113bb9ac-6a5a-4abc-ae61-82cc5e5282f2",
   "metadata": {},
   "source": [
    "### Dates"
   ]
  },
  {
   "cell_type": "code",
   "execution_count": 4,
   "id": "0922624b-8ddb-44c4-8648-00f0e807c4f2",
   "metadata": {},
   "outputs": [],
   "source": [
    "df['date'] = df['date'].dt.year"
   ]
  },
  {
   "cell_type": "markdown",
   "id": "91ba9ece-1396-4aaf-b4fe-248728420b19",
   "metadata": {},
   "source": [
    "#### Authors \n",
    "- The `authors` field is a list containing:\n",
    "    - Name(s)\n",
    "    - Titles\n",
    "    - Organizations\n",
    "    - Misc comments\n",
    "- It also contains many NaNs in the form of empty strings\n",
    "- Approach:\n",
    "    - Replace NaNs with 'unknown'\n",
    "    - Extract author names from the field, create new field named `author_names` to be used as a bigram\n",
    "    - Leave the rest of the information in a new field named `author_notes`"
   ]
  },
  {
   "cell_type": "markdown",
   "id": "d546711d-3f03-4745-b91c-4eb5ca22438b",
   "metadata": {},
   "source": [
    "### Author Names\n",
    "- Replace missing\n",
    "- Get Names\n",
    "- Clean non-name details\n",
    "- Cast as strings"
   ]
  },
  {
   "cell_type": "code",
   "execution_count": 5,
   "id": "b4f923fa-b7e9-41ea-99b3-1fa83c25f0a6",
   "metadata": {},
   "outputs": [],
   "source": [
    "# Replace missing authors with 'unknown'\n",
    "df['authors'] = df['authors'].apply(lambda x: x.replace('','unknown') if x == '' else x)"
   ]
  },
  {
   "cell_type": "code",
   "execution_count": 6,
   "id": "b5277caf-7482-47ad-a150-8f78b701fb21",
   "metadata": {},
   "outputs": [],
   "source": [
    "# Get author names from list\n",
    "df['author_names'] = df['authors'].apply(lambda x: x.replace('By','').strip().split(',')[0].lower().split(' And '))"
   ]
  },
  {
   "cell_type": "code",
   "execution_count": 7,
   "id": "cfeb2e53-c1e0-4d56-a942-4ae27986b680",
   "metadata": {},
   "outputs": [],
   "source": [
    "# Clean up common formatting issues\n",
    "df['authors'] = df['authors'].apply(lambda x: x.replace('By','').replace('\\n','').replace('Contributor','Contributor ').strip())"
   ]
  },
  {
   "cell_type": "markdown",
   "id": "85739996-443e-4d95-8cbc-5eb9ff0cc15c",
   "metadata": {},
   "source": [
    "### Links\n",
    "- The links are not helpful in their current form, need to extract keyworks from them"
   ]
  },
  {
   "cell_type": "code",
   "execution_count": 16,
   "id": "9e8dd769-3f83-488f-a04e-8b86eab29beb",
   "metadata": {},
   "outputs": [],
   "source": [
    "# Replace charaters we want to split on with commas, then split, only get the relevant entries from the resulting list\n",
    "df['link_keywords'] = df['link'].apply(lambda x: x.replace('-',',').replace(\"_\",',').replace(\"entry/\",',').split(',')[1:-2])\n",
    "\n",
    "# Typecast from list to string\n",
    "df['link_keywords'] = df['link_keywords'].apply(lambda x: ' '.join(x))"
   ]
  },
  {
   "cell_type": "markdown",
   "id": "5d1ff202-4315-4e44-bd04-707dd47962df",
   "metadata": {},
   "source": [
    "### Join all text columns"
   ]
  },
  {
   "cell_type": "code",
   "execution_count": 17,
   "id": "77df868d-a8fb-49d2-962d-3ff44d3c11d9",
   "metadata": {},
   "outputs": [],
   "source": [
    "df['text'] = df['headline'] + ' ' + df['short_description'] + ' ' + df['link_keywords'] + ' ' + df['authors'] + ' ' + df['date'].astype(str)"
   ]
  },
  {
   "cell_type": "markdown",
   "id": "13c6ea61-e042-41bd-8c32-79609de50c10",
   "metadata": {},
   "source": [
    "### Drop unwanted features"
   ]
  },
  {
   "cell_type": "code",
   "execution_count": 18,
   "id": "02ba9bb9-a3b4-4265-b6ed-8871b2cbfbc9",
   "metadata": {},
   "outputs": [
    {
     "data": {
      "text/html": [
       "<div>\n",
       "<style scoped>\n",
       "    .dataframe tbody tr th:only-of-type {\n",
       "        vertical-align: middle;\n",
       "    }\n",
       "\n",
       "    .dataframe tbody tr th {\n",
       "        vertical-align: top;\n",
       "    }\n",
       "\n",
       "    .dataframe thead th {\n",
       "        text-align: right;\n",
       "    }\n",
       "</style>\n",
       "<table border=\"1\" class=\"dataframe\">\n",
       "  <thead>\n",
       "    <tr style=\"text-align: right;\">\n",
       "      <th></th>\n",
       "      <th>category</th>\n",
       "      <th>text</th>\n",
       "    </tr>\n",
       "  </thead>\n",
       "  <tbody>\n",
       "    <tr>\n",
       "      <th>134521</th>\n",
       "      <td>COMEDY</td>\n",
       "      <td>The Best Dogs-With-Human-Hands Music Video You'll See Today This music video by Brussels-based band Recorders is from early 2013, but it just caught our attention today on Reddit. Since dogs human hands music videos unknown 2014</td>\n",
       "    </tr>\n",
       "    <tr>\n",
       "      <th>93486</th>\n",
       "      <td>HEALTHY LIVING</td>\n",
       "      <td>From Dormitory to Culinary With the many followers and the attention that her website has garnered, Emily realizes the impact that college eating has during one's college years and beyond and has already had a very positive impact on public health. from dormitory to culinar Bruce Y. Lee, Contributor Director of the Global Obesity Prevention Center (GOPC) and As... 2015</td>\n",
       "    </tr>\n",
       "    <tr>\n",
       "      <th>126723</th>\n",
       "      <td>SPORTS</td>\n",
       "      <td>Bo Ryan Cutting Down The Nets To Celebrate His First Final Four Trip Is What Sports Is All About (PHOTOS) \"Today would have been my dad's 90th birthday,\" Ryan reminded reporters after his team's win over Arizona in the Elite Eight bo ryan final four cutting down nets Chris Greenberg 2014</td>\n",
       "    </tr>\n",
       "    <tr>\n",
       "      <th>80710</th>\n",
       "      <td>BLACK VOICES</td>\n",
       "      <td>Is Reality TV Ready To Embrace Gay Black Men? There's potential to break down stereotypes -- but also reinforce them. is reality tv ready to embrace black gay men Zeba Blay 2015</td>\n",
       "    </tr>\n",
       "    <tr>\n",
       "      <th>146570</th>\n",
       "      <td>TRAVEL</td>\n",
       "      <td>September Getaways for the Vino Lover Summer might be coming to an end but Californians are excited because September equals wine, and lots of it. september getaways for th FlipKey, Contributor Vacation rental marketplace 2013</td>\n",
       "    </tr>\n",
       "  </tbody>\n",
       "</table>\n",
       "</div>"
      ],
      "text/plain": [
       "              category  \\\n",
       "134521  COMEDY           \n",
       "93486   HEALTHY LIVING   \n",
       "126723  SPORTS           \n",
       "80710   BLACK VOICES     \n",
       "146570  TRAVEL           \n",
       "\n",
       "                                                                                                                                                                                                                                                                                                                                                                                       text  \n",
       "134521  The Best Dogs-With-Human-Hands Music Video You'll See Today This music video by Brussels-based band Recorders is from early 2013, but it just caught our attention today on Reddit. Since dogs human hands music videos unknown 2014                                                                                                                                                 \n",
       "93486   From Dormitory to Culinary With the many followers and the attention that her website has garnered, Emily realizes the impact that college eating has during one's college years and beyond and has already had a very positive impact on public health. from dormitory to culinar Bruce Y. Lee, Contributor Director of the Global Obesity Prevention Center (GOPC) and As... 2015  \n",
       "126723  Bo Ryan Cutting Down The Nets To Celebrate His First Final Four Trip Is What Sports Is All About (PHOTOS) \"Today would have been my dad's 90th birthday,\" Ryan reminded reporters after his team's win over Arizona in the Elite Eight bo ryan final four cutting down nets Chris Greenberg 2014                                                                                     \n",
       "80710   Is Reality TV Ready To Embrace Gay Black Men? There's potential to break down stereotypes -- but also reinforce them. is reality tv ready to embrace black gay men Zeba Blay 2015                                                                                                                                                                                                    \n",
       "146570  September Getaways for the Vino Lover Summer might be coming to an end but Californians are excited because September equals wine, and lots of it. september getaways for th FlipKey, Contributor Vacation rental marketplace 2013                                                                                                                                                   "
      ]
     },
     "execution_count": 18,
     "metadata": {},
     "output_type": "execute_result"
    }
   ],
   "source": [
    "# Drop the feature if it appear in the colums (done this way so the cell can be re-run)\n",
    "df = df.drop(columns=[col for col in df.columns if col in ['link','authors','headline','short_description','date','link_keywords','author_notes','author_names']])\n",
    "\n",
    "# View Sample\n",
    "df.sample(5)"
   ]
  },
  {
   "cell_type": "markdown",
   "id": "1cb007b6-d2dc-4d7c-b402-c82261924282",
   "metadata": {},
   "source": [
    "# <center> -------------------------------------------------------------------- </center>"
   ]
  },
  {
   "cell_type": "markdown",
   "id": "75d018a1-5899-4858-b61e-56ff7e756afc",
   "metadata": {},
   "source": [
    "# EDA"
   ]
  },
  {
   "cell_type": "markdown",
   "id": "18ba73be-a3c7-4dd0-9743-1053b30d65e2",
   "metadata": {},
   "source": [
    "#### View categories"
   ]
  },
  {
   "cell_type": "raw",
   "id": "cbe5b261-a6fc-45e6-a74b-9aa23c4f4f7d",
   "metadata": {},
   "source": [
    "print(f\"There are {len(df['category'].value_counts())} unique categories including the following:\")\n",
    "px.bar(df['category'].value_counts(), \n",
    "       title='Unique New Categories', \n",
    "       labels = {\"value\": \"Number of Articles\",\"index\": \"Category\"},\n",
    "       width = 800, height = 450)"
   ]
  },
  {
   "cell_type": "markdown",
   "id": "20d18038-8d52-4e38-8b50-0985920ea7a2",
   "metadata": {},
   "source": [
    "#### View length of texts"
   ]
  },
  {
   "cell_type": "raw",
   "id": "f41dda5d-1cf5-4053-82bd-af4c69d0a770",
   "metadata": {},
   "source": [
    "headline_lengths = df['text'].apply(lambda x: len(x))\n",
    "px.histogram(df, \n",
    "             x = headline_lengths, \n",
    "             marginal = 'box', \n",
    "             title = 'Text Lengths',\n",
    "             labels = {'x':'Number of Characters'},\n",
    "             color = 'category',\n",
    "             height = 500, width = 800)"
   ]
  },
  {
   "cell_type": "markdown",
   "id": "72c27f96-acfd-433d-b758-6c0159e2e48f",
   "metadata": {},
   "source": [
    "### Author Activity"
   ]
  },
  {
   "cell_type": "raw",
   "id": "fff23eef-0738-4aed-9562-6795cc5908c9",
   "metadata": {},
   "source": [
    "unique_authors_vc = df['author_names'].explode().value_counts()\n",
    "\n",
    "print(f\"There are {len(unique_authors_vc)} unique authors, {unique_authors_vc[0]} ({round(unique_authors_vc[0]/len(unique_authors_vc),2)}%) are unknown.\" )\n",
    "\n",
    "px.bar(unique_authors_vc[1:25], \n",
    "       title='Unique Authors', \n",
    "       labels = {\"value\": \"Number of Articles Written\",\"index\": \"Author\"},\n",
    "       width = 1200, height = 600)"
   ]
  },
  {
   "cell_type": "markdown",
   "id": "23d17d54-13d9-48d7-85c6-a45df5510091",
   "metadata": {},
   "source": [
    "# <center> -------------------------------------------------------------------- </center>"
   ]
  },
  {
   "cell_type": "markdown",
   "id": "28573ff1-d3fe-4385-872c-13d429c28972",
   "metadata": {},
   "source": [
    "# Preprocessing Text Data\n",
    "- Lower all words\n",
    "- Handle misspellings?\n",
    "- Stop words\n",
    "- Stem / Lemmatize text\n",
    "- Tokenization or specialized regex?\n",
    "- Use all words or just most frequent?\n",
    "- Use bigrams, POS taggins, Mutual information Scores?\n",
    "- What sort of vectorization? (Boolean / Count / TF-IDF / Word2Vec)"
   ]
  },
  {
   "cell_type": "code",
   "execution_count": 19,
   "id": "71728c1f-5d52-4f52-87c6-a34dd89b5b5a",
   "metadata": {},
   "outputs": [],
   "source": [
    "import nltk\n",
    "import string\n",
    "from nltk.corpus import stopwords\n",
    "from nltk.tokenize import RegexpTokenizer\n",
    "from nltk import word_tokenize, FreqDist\n",
    "from sklearn.feature_extraction.text import TfidfVectorizer"
   ]
  },
  {
   "cell_type": "markdown",
   "id": "8c61bb42-eb7b-46c6-a310-d44f96b94738",
   "metadata": {},
   "source": [
    "### Encode Target Variable\n",
    "- Assign a unique value to each categories"
   ]
  },
  {
   "cell_type": "code",
   "execution_count": 20,
   "id": "3b7788c7-8872-4c7f-9894-07bddc823cb4",
   "metadata": {},
   "outputs": [],
   "source": [
    "# Instantiate label encoder \n",
    "le = preprocessing.LabelEncoder()\n",
    "\n",
    "# Label Encode categories\n",
    "df['class_label'] = le.fit_transform(df['category'])\n",
    "\n",
    "# Create dictionary to map labels to categories\n",
    "label_to_category = dict(df.groupby('class_label')['category'].first())"
   ]
  },
  {
   "cell_type": "markdown",
   "id": "e8def016-e2ec-4835-ae6e-2320bd051b35",
   "metadata": {},
   "source": [
    "### Get Stopwords"
   ]
  },
  {
   "cell_type": "code",
   "execution_count": 21,
   "id": "a7c31304-040c-4970-9482-818a2a8fb304",
   "metadata": {},
   "outputs": [],
   "source": [
    "stopwords_list = stopwords.words('english') + list(string.punctuation)\n",
    "stopwords_list += [\"''\", '\"\"', '...', '``']"
   ]
  },
  {
   "cell_type": "markdown",
   "id": "c7c14a8a-2002-41f9-93c7-c58d2ce6b7e9",
   "metadata": {},
   "source": [
    "### Test Train Split"
   ]
  },
  {
   "cell_type": "code",
   "execution_count": 22,
   "id": "755edad4-1701-46ef-bbbf-335613479515",
   "metadata": {},
   "outputs": [],
   "source": [
    "from sklearn.model_selection import train_test_split\n",
    "\n",
    "# Define dependent and independent variables\n",
    "X = df[\"text\"]\n",
    "y = df[\"class_label\"]\n",
    "\n",
    "# Perform Test Train Split\n",
    "X_train, X_test, y_train, y_test = train_test_split(X, y, test_size=0.2, random_state=8)"
   ]
  },
  {
   "cell_type": "markdown",
   "id": "26da3b01-4919-411b-b7fa-4cb5671c3f9a",
   "metadata": {},
   "source": [
    "### Count Vectorization"
   ]
  },
  {
   "cell_type": "code",
   "execution_count": 28,
   "id": "fd1c25d8-5546-40d3-87a9-80812c967086",
   "metadata": {},
   "outputs": [
    {
     "name": "stdout",
     "output_type": "stream",
     "text": [
      "There are 160672 observations and 102965 features\n"
     ]
    }
   ],
   "source": [
    "from sklearn.feature_extraction.text import CountVectorizer\n",
    "\n",
    "# Instantiate CountVectorizer with custom list of stop words\n",
    "count_vectorizer = CountVectorizer(stop_words= stopwords_list)\n",
    "\n",
    "# Fit the tokenizer on the training data\n",
    "count_vectorizer.fit(X_train)\n",
    "\n",
    "# Apply the tokenizer to the training and testing data\n",
    "X_train_counts = count_vectorizer.transform(X_train)\n",
    "X_test_counts = count_vectorizer.transform(X_test)\n",
    "\n",
    "# View Results\n",
    "print(f'There are {X_train_counts.shape[0]} observations and {X_train_counts.shape[1]} features')"
   ]
  },
  {
   "cell_type": "markdown",
   "id": "2aeb0370-57f3-4dd8-8fa6-f6513458070e",
   "metadata": {},
   "source": [
    "## Model: Neural Network"
   ]
  },
  {
   "cell_type": "code",
   "execution_count": 29,
   "id": "2996917c-12b6-4ee1-a20c-d176252d206f",
   "metadata": {},
   "outputs": [],
   "source": [
    "from keras import models\n",
    "from keras import layers\n",
    "from keras import optimizers\n",
    "from keras.utils.np_utils import to_categorical"
   ]
  },
  {
   "cell_type": "markdown",
   "id": "6f333256-39d7-470a-8e27-7ba35151f19a",
   "metadata": {},
   "source": [
    "### OHE target"
   ]
  },
  {
   "cell_type": "code",
   "execution_count": 30,
   "id": "cf1164e5-684c-44e0-98b6-dd064ff52aa3",
   "metadata": {},
   "outputs": [],
   "source": [
    "from keras.utils.np_utils import to_categorical\n",
    "\n",
    "# OHE for netural network\n",
    "y_train_ohe = to_categorical(y_train)"
   ]
  },
  {
   "cell_type": "markdown",
   "id": "23067729-838a-46e0-8927-533142ff8157",
   "metadata": {},
   "source": [
    "### Create model\n",
    "- Fully connected (dense) layer network with relu activation\n",
    "- 2 hidden layers with 50 units in 1st and 25 in second\n",
    "- Softmax classifier for nulticlass problem"
   ]
  },
  {
   "cell_type": "code",
   "execution_count": 31,
   "id": "167d0525-ac0a-4242-946c-d970618aad90",
   "metadata": {},
   "outputs": [],
   "source": [
    "# Initialize a sequential model\n",
    "model = models.Sequential()\n",
    "\n",
    "# Two layers with relu activation\n",
    "model.add(layers.Dense(50, activation='relu'))\n",
    "model.add(layers.Dense(25, activation='relu'))\n",
    "\n",
    "# One layer with softmax activation \n",
    "model.add(layers.Dense(41, activation='softmax'))"
   ]
  },
  {
   "cell_type": "markdown",
   "id": "4d315a6b-bb33-4caf-ac75-ab889cab5673",
   "metadata": {},
   "source": [
    "### Compiling the model\n",
    "- Loss function = categorical crossentropy\n",
    "- Optimizer = stochastic gradient descent"
   ]
  },
  {
   "cell_type": "code",
   "execution_count": 32,
   "id": "cf285352-5a66-4d9e-a7bb-6b36af673c60",
   "metadata": {},
   "outputs": [],
   "source": [
    "model.compile(optimizer='SGD',\n",
    "              loss='categorical_crossentropy',\n",
    "              metrics=['acc'])"
   ]
  },
  {
   "cell_type": "code",
   "execution_count": 33,
   "id": "1ef68727-0ba3-4ca0-bf57-144eee96cadb",
   "metadata": {
    "collapsed": true,
    "jupyter": {
     "outputs_hidden": true
    },
    "tags": []
   },
   "outputs": [
    {
     "name": "stdout",
     "output_type": "stream",
     "text": [
      "Epoch 1/20\n",
      "5021/5021 [==============================] - 7s 1ms/step - loss: 2.7445 - acc: 0.3083\n",
      "Epoch 2/20\n",
      "5021/5021 [==============================] - 6s 1ms/step - loss: 1.7388 - acc: 0.5563\n",
      "Epoch 3/20\n",
      "5021/5021 [==============================] - 6s 1ms/step - loss: 1.3122 - acc: 0.6524\n",
      "Epoch 4/20\n",
      "5021/5021 [==============================] - 6s 1ms/step - loss: 1.0689 - acc: 0.7115\n",
      "Epoch 5/20\n",
      "5021/5021 [==============================] - 7s 1ms/step - loss: 0.9054 - acc: 0.7532\n",
      "Epoch 6/20\n",
      "5021/5021 [==============================] - 6s 1ms/step - loss: 0.7852 - acc: 0.7826\n",
      "Epoch 7/20\n",
      "5021/5021 [==============================] - 6s 1ms/step - loss: 0.6908 - acc: 0.8062\n",
      "Epoch 8/20\n",
      "5021/5021 [==============================] - 6s 1ms/step - loss: 0.6121 - acc: 0.8274\n",
      "Epoch 9/20\n",
      "5021/5021 [==============================] - 6s 1ms/step - loss: 0.5440 - acc: 0.8461\n",
      "Epoch 10/20\n",
      "5021/5021 [==============================] - 6s 1ms/step - loss: 0.4834 - acc: 0.8639\n",
      "Epoch 11/20\n",
      "5021/5021 [==============================] - 6s 1ms/step - loss: 0.4291 - acc: 0.8796\n",
      "Epoch 12/20\n",
      "5021/5021 [==============================] - 6s 1ms/step - loss: 0.3794 - acc: 0.8950\n",
      "Epoch 13/20\n",
      "5021/5021 [==============================] - 6s 1ms/step - loss: 0.3361 - acc: 0.9082\n",
      "Epoch 14/20\n",
      "5021/5021 [==============================] - 6s 1ms/step - loss: 0.2957 - acc: 0.9212\n",
      "Epoch 15/20\n",
      "5021/5021 [==============================] - 6s 1ms/step - loss: 0.2602 - acc: 0.9320\n",
      "Epoch 16/20\n",
      "5021/5021 [==============================] - 6s 1ms/step - loss: 0.2271 - acc: 0.9427\n",
      "Epoch 17/20\n",
      "5021/5021 [==============================] - 6s 1ms/step - loss: 0.1980 - acc: 0.9527\n",
      "Epoch 18/20\n",
      "5021/5021 [==============================] - 6s 1ms/step - loss: 0.1721 - acc: 0.9606\n",
      "Epoch 19/20\n",
      "5021/5021 [==============================] - 6s 1ms/step - loss: 0.1488 - acc: 0.9679\n",
      "Epoch 20/20\n",
      "5021/5021 [==============================] - 6s 1ms/step - loss: 0.1284 - acc: 0.9741\n"
     ]
    }
   ],
   "source": [
    "# Train the model \n",
    "history = model.fit(X_train_counts, y_train_ohe, epochs=20)"
   ]
  },
  {
   "cell_type": "markdown",
   "id": "c9ca0c7c-9b25-41e3-bcac-3cf7c61aca01",
   "metadata": {},
   "source": [
    "### Evaluation"
   ]
  },
  {
   "cell_type": "code",
   "execution_count": 34,
   "id": "99933323-5e79-4b08-b536-84da04aa0b9c",
   "metadata": {
    "tags": []
   },
   "outputs": [],
   "source": [
    "from sklearn.metrics import accuracy_score, f1_score, precision_score, recall_score, classification_report\n",
    "\n",
    "def get_model_metrics(y_test, y_predicted, full_report = False):  \n",
    "\n",
    "    y_pred_bool = np.argmax(y_predicted, axis=1)\n",
    "    \n",
    "    precision = round(precision_score(y_test, y_pred_bool, average='weighted'),3)\n",
    "    recall = round(recall_score(y_test, y_pred_bool, average='weighted'),3)\n",
    "    f1 = round(f1_score(y_test, y_pred_bool, average='weighted'),3)\n",
    "    accuracy = round(accuracy_score(y_test, y_pred_bool),3)\n",
    "    \n",
    "    if full_report == False:\n",
    "        print(f\"Accuracy = {accuracy} \\nPrecision = {precision} \\nRecall = {recall} \\nf1 = {f1}\")\n",
    "    else:\n",
    "        print(classification_report(y_test, y_pred_bool))"
   ]
  },
  {
   "cell_type": "code",
   "execution_count": 37,
   "id": "1a342fc8-3e01-402f-9e72-dcb1a2f0e635",
   "metadata": {},
   "outputs": [
    {
     "name": "stdout",
     "output_type": "stream",
     "text": [
      "              precision    recall  f1-score   support\n",
      "\n",
      "           0       0.69      0.60      0.64       315\n",
      "           1       0.76      0.61      0.68       283\n",
      "           2       0.61      0.52      0.56       909\n",
      "           3       0.60      0.61      0.61      1242\n",
      "           4       0.57      0.48      0.53       227\n",
      "           5       0.66      0.65      0.65      1037\n",
      "           6       0.58      0.57      0.58       676\n",
      "           7       0.66      0.54      0.60       189\n",
      "           8       0.82      0.81      0.81       637\n",
      "           9       0.61      0.50      0.55       206\n",
      "          10       0.74      0.81      0.77      3205\n",
      "          11       0.63      0.54      0.58       283\n",
      "          12       0.53      0.47      0.50       290\n",
      "          13       0.84      0.84      0.84      1239\n",
      "          14       0.57      0.48      0.52       275\n",
      "          15       0.50      0.56      0.53       498\n",
      "          16       0.59      0.69      0.64      1327\n",
      "          17       0.83      0.85      0.84       848\n",
      "          18       0.45      0.45      0.45       661\n",
      "          19       0.76      0.53      0.63       262\n",
      "          20       0.57      0.59      0.58       563\n",
      "          21       0.65      0.69      0.67       334\n",
      "          22       0.74      0.78      0.76      1716\n",
      "          23       0.63      0.65      0.64       790\n",
      "          24       0.82      0.84      0.83      6430\n",
      "          25       0.82      0.78      0.80      1270\n",
      "          26       0.68      0.56      0.62       521\n",
      "          27       0.69      0.54      0.61       440\n",
      "          28       0.79      0.78      0.78       986\n",
      "          29       0.71      0.69      0.70       468\n",
      "          30       0.86      0.89      0.88      1963\n",
      "          31       0.74      0.69      0.71       414\n",
      "          32       0.62      0.62      0.62       417\n",
      "          33       0.63      0.66      0.65       741\n",
      "          34       0.81      0.83      0.82      1902\n",
      "          35       0.84      0.78      0.81       743\n",
      "          36       0.59      0.46      0.52       557\n",
      "          37       0.83      0.84      0.84      3629\n",
      "          38       0.53      0.46      0.49       694\n",
      "          39       0.56      0.53      0.55       441\n",
      "          40       0.64      0.60      0.62       540\n",
      "\n",
      "    accuracy                           0.73     40168\n",
      "   macro avg       0.68      0.64      0.66     40168\n",
      "weighted avg       0.73      0.73      0.73     40168\n",
      "\n"
     ]
    }
   ],
   "source": [
    "get_model_metrics(y_test, model.predict(X_test_counts), full_report = 1)"
   ]
  }
 ],
 "metadata": {
  "kernelspec": {
   "display_name": "Python 3",
   "language": "python",
   "name": "python3"
  },
  "language_info": {
   "codemirror_mode": {
    "name": "ipython",
    "version": 3
   },
   "file_extension": ".py",
   "mimetype": "text/x-python",
   "name": "python",
   "nbconvert_exporter": "python",
   "pygments_lexer": "ipython3",
   "version": "3.8.8"
  }
 },
 "nbformat": 4,
 "nbformat_minor": 5
}
