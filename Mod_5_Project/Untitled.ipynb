{
 "cells": [
  {
   "cell_type": "code",
   "execution_count": 43,
   "id": "d3a7e8b6-a4d7-4c5a-a969-b0abb350e68e",
   "metadata": {},
   "outputs": [],
   "source": [
    "import numpy as np"
   ]
  },
  {
   "cell_type": "code",
   "execution_count": 75,
   "id": "38ab2d0c-a52f-4538-8e45-fbd3a86ecc98",
   "metadata": {},
   "outputs": [],
   "source": [
    "x1 = np.random.rand(1000)\n",
    "x2 = np.random.rand(1000)\n",
    "x3 = np.random.rand(1000)\n",
    "x4 = np.random.rand(1000)\n",
    "\n",
    "noise = np.random.normal(0,25,1000)\n",
    "\n",
    "y = 100*x1 + 75*x2 + 50*x3 + 25*x4 + 10 + noise"
   ]
  },
  {
   "cell_type": "code",
   "execution_count": 76,
   "id": "84e384aa-4b31-4457-8fd7-c08161f48c18",
   "metadata": {},
   "outputs": [
    {
     "data": {
      "text/plain": [
       "(1000, 4)"
      ]
     },
     "execution_count": 76,
     "metadata": {},
     "output_type": "execute_result"
    }
   ],
   "source": [
    "X = np.array([x1,x2,x3,x4]).T\n",
    "X.shape"
   ]
  },
  {
   "cell_type": "code",
   "execution_count": 77,
   "id": "d12a26f7-740c-475e-8b73-3d7847625c88",
   "metadata": {},
   "outputs": [],
   "source": [
    "class LinearRegression:\n",
    "    \n",
    "    def fit(self, X, y, alpha= 0.01, iterations= 10000):\n",
    "        self.n = len(X)\n",
    "        self.m = X.shape[1]\n",
    "        self.weights = np.ones(self.m)\n",
    "        self.bias = 0\n",
    "        \n",
    "        for _ in range(iterations):\n",
    "            y_hat = np.dot(X, self.weights) + self.bias\n",
    "            error_vector = y - y_hat\n",
    "            \n",
    "            grad_wrt_weights = -(1/self.n) * np.dot(X.T, error_vector)\n",
    "            grad_wrt_bias = -(1/self.n) * np.sum(error_vector)\n",
    "            \n",
    "            self.weights -= alpha * grad_wrt_weights\n",
    "            self.bias -= alpha * grad_wrt_bias\n",
    "    \n",
    "    def predict(self, data):\n",
    "        return np.dot(data, self.weights) + self.bias"
   ]
  },
  {
   "cell_type": "code",
   "execution_count": 78,
   "id": "5c34cd73-79b5-47e8-8bd1-b3beb22c794b",
   "metadata": {},
   "outputs": [],
   "source": [
    "model = LinearRegression()\n",
    "model.fit(X,y)\n",
    "predictions = model.predict(X)"
   ]
  },
  {
   "cell_type": "code",
   "execution_count": 79,
   "id": "c69d72b6-a472-408e-a5ab-2d6dc002a140",
   "metadata": {},
   "outputs": [
    {
     "data": {
      "text/plain": [
       "0.7400133451606442"
      ]
     },
     "execution_count": 79,
     "metadata": {},
     "output_type": "execute_result"
    }
   ],
   "source": [
    "SSE = np.sum( (y - predictions)**2)\n",
    "SSSE = np.sum( (y - y.mean())**2)\n",
    "1 - (SSE / SSSE)"
   ]
  },
  {
   "cell_type": "code",
   "execution_count": 80,
   "id": "c9228ff8-e043-4c75-a5f8-5748f7c6e412",
   "metadata": {},
   "outputs": [],
   "source": [
    "def sigmoid(z):\n",
    "    return 1 / (1 + np.exp(-z))"
   ]
  },
  {
   "cell_type": "code",
   "execution_count": 86,
   "id": "a4691745-0afb-4628-a2be-a5d4db90477b",
   "metadata": {},
   "outputs": [],
   "source": [
    "x = np.random.normal(0,100,10000)"
   ]
  },
  {
   "cell_type": "code",
   "execution_count": 87,
   "id": "ca9d0575-7475-46d1-8213-18f39e6438bd",
   "metadata": {},
   "outputs": [
    {
     "data": {
      "text/plain": [
       "array([3.45045004e-14, 7.54057434e-59, 1.00000000e+00, ...,\n",
       "       1.00000000e+00, 2.10835332e-06, 1.21275299e-14])"
      ]
     },
     "execution_count": 87,
     "metadata": {},
     "output_type": "execute_result"
    }
   ],
   "source": [
    "sigmoid(x)"
   ]
  }
 ],
 "metadata": {
  "kernelspec": {
   "display_name": "Python 3",
   "language": "python",
   "name": "python3"
  },
  "language_info": {
   "codemirror_mode": {
    "name": "ipython",
    "version": 3
   },
   "file_extension": ".py",
   "mimetype": "text/x-python",
   "name": "python",
   "nbconvert_exporter": "python",
   "pygments_lexer": "ipython3",
   "version": "3.8.8"
  }
 },
 "nbformat": 4,
 "nbformat_minor": 5
}
